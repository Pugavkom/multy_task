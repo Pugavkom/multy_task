{
 "cells": [
  {
   "cell_type": "markdown",
   "source": [
    "# Two task network \n",
    "\n",
    "## Network has some inputs\n",
    "\n",
    "1. The fixation. \n",
    "1. The first context mod. \n",
    "1. The second ontext mod. \n",
    "\n",
    "## Network has five outputs\n",
    "1. The fixation. \n",
    "1. The first output.\n",
    "1. The second output\n",
    "\n",
    "\n",
    "\n",
    "\n",
    "<div>\n",
    "<img src=\"./images/Sheme.png\" width=\"300\"/>\n",
    "</div>\n",
    "\n",
    "> Learning rule: superspike\n",
    "\n",
    "> Neuron type: LifAdex + refrac\n",
    "\n",
    "> Task: romo\n"
   ],
   "metadata": {}
  },
  {
   "cell_type": "code",
   "execution_count": 4,
   "source": [
    "import torch\n",
    "import numpy as np\n",
    "import torch.nn as nn\n",
    "import matplotlib.pyplot as plt  # for analys\n",
    "from cgtasknet.net.lifadexrefrac import SNNlifadexrefrac\n",
    "from cgtasknet.tasks.reduce import RomoTask, RomoTaskParameters\n",
    "from norse.torch.functional.lif_adex_refrac import LIFAdExRefracParameters\n",
    "from norse.torch.functional.lif_adex import LIFAdExParameters\n",
    "\n",
    "# from norse.torch import LIF"
   ],
   "outputs": [],
   "metadata": {}
  },
  {
   "cell_type": "code",
   "execution_count": 1,
   "outputs": [],
   "source": [],
   "metadata": {
    "collapsed": false,
    "pycharm": {
     "name": "#%%\n"
    }
   }
  },
  {
   "cell_type": "markdown",
   "source": [
    "## Step -1: Create dataset"
   ],
   "metadata": {}
  },
  {
   "cell_type": "code",
   "execution_count": 5,
   "source": [
    "device = torch.device(\"cuda:0\" if torch.cuda.is_available() else \"cpu\")\n",
    "# device = torch.device('cpu')\n",
    "print(f'Device: {(\"gpu (cuda)\" if device.type==\"cuda\" else \"cpu\")}')"
   ],
   "outputs": [
    {
     "name": "stdout",
     "output_type": "stream",
     "text": [
      "Device: gpu (cuda)\n"
     ]
    }
   ],
   "metadata": {}
  },
  {
   "cell_type": "code",
   "execution_count": 7,
   "source": [
    "%matplotlib widget\n",
    "batch_size = 50\n",
    "number_of_tasks = 1\n",
    "task_parameters = RomoTaskParameters(\n",
    "    delay=0.1,\n",
    "    positive_shift_delay_time=0.5,\n",
    "    trial_time=0.1,\n",
    "    positive_shift_trial_time=0.2,\n",
    ")\n",
    "# task_parameters = RomoTaskParameters(delay=0.1, positive_shift_delay_time=.0, trial_time = 0.2, positive_shift_trial_time=.0)\n",
    "Task = RomoTask(\n",
    "    params=task_parameters,\n",
    "    batch_size=batch_size,\n",
    "    uniq_batch=False,\n",
    "    enable_fixation_delay=True,\n",
    ")\n",
    "Task_test = RomoTask(params=task_parameters, batch_size=1)\n",
    "print(\"Task params:\")\n",
    "\n",
    "demonstrate_in, demonstrate_out = Task.dataset(1, delay_between=0)\n",
    "plt.figure()\n",
    "plt.plot(demonstrate_in[:, 0, 0])\n",
    "plt.plot(demonstrate_in[:, 0, 1])\n",
    "\n",
    "plt.show()"
   ],
   "outputs": [
    {
     "name": "stdout",
     "output_type": "stream",
     "text": [
      "Task params:\n"
     ]
    },
    {
     "ename": "IndexError",
     "evalue": "index 2 is out of bounds for axis 2 with size 2",
     "output_type": "error",
     "traceback": [
      "\u001B[1;31m---------------------------------------------------------------------------\u001B[0m",
      "\u001B[1;31mIndexError\u001B[0m                                Traceback (most recent call last)",
      "\u001B[1;32m~\\AppData\\Local\\Temp/ipykernel_12976/1638807797.py\u001B[0m in \u001B[0;36m<module>\u001B[1;34m\u001B[0m\n\u001B[0;32m     22\u001B[0m \u001B[0mplt\u001B[0m\u001B[1;33m.\u001B[0m\u001B[0mplot\u001B[0m\u001B[1;33m(\u001B[0m\u001B[0mdemonstrate_in\u001B[0m\u001B[1;33m[\u001B[0m\u001B[1;33m:\u001B[0m\u001B[1;33m,\u001B[0m \u001B[1;36m0\u001B[0m\u001B[1;33m,\u001B[0m \u001B[1;36m0\u001B[0m\u001B[1;33m]\u001B[0m\u001B[1;33m)\u001B[0m\u001B[1;33m\u001B[0m\u001B[1;33m\u001B[0m\u001B[0m\n\u001B[0;32m     23\u001B[0m \u001B[0mplt\u001B[0m\u001B[1;33m.\u001B[0m\u001B[0mplot\u001B[0m\u001B[1;33m(\u001B[0m\u001B[0mdemonstrate_in\u001B[0m\u001B[1;33m[\u001B[0m\u001B[1;33m:\u001B[0m\u001B[1;33m,\u001B[0m \u001B[1;36m0\u001B[0m\u001B[1;33m,\u001B[0m \u001B[1;36m1\u001B[0m\u001B[1;33m]\u001B[0m\u001B[1;33m)\u001B[0m\u001B[1;33m\u001B[0m\u001B[1;33m\u001B[0m\u001B[0m\n\u001B[1;32m---> 24\u001B[1;33m \u001B[0mplt\u001B[0m\u001B[1;33m.\u001B[0m\u001B[0mplot\u001B[0m\u001B[1;33m(\u001B[0m\u001B[0mdemonstrate_in\u001B[0m\u001B[1;33m[\u001B[0m\u001B[1;33m:\u001B[0m\u001B[1;33m,\u001B[0m \u001B[1;36m0\u001B[0m\u001B[1;33m,\u001B[0m \u001B[1;36m2\u001B[0m\u001B[1;33m]\u001B[0m\u001B[1;33m)\u001B[0m\u001B[1;33m\u001B[0m\u001B[1;33m\u001B[0m\u001B[0m\n\u001B[0m\u001B[0;32m     25\u001B[0m \u001B[0mplt\u001B[0m\u001B[1;33m.\u001B[0m\u001B[0mplot\u001B[0m\u001B[1;33m(\u001B[0m\u001B[0mdemonstrate_in\u001B[0m\u001B[1;33m[\u001B[0m\u001B[1;33m:\u001B[0m\u001B[1;33m,\u001B[0m \u001B[1;36m0\u001B[0m\u001B[1;33m,\u001B[0m \u001B[1;36m3\u001B[0m\u001B[1;33m]\u001B[0m\u001B[1;33m)\u001B[0m\u001B[1;33m\u001B[0m\u001B[1;33m\u001B[0m\u001B[0m\n\u001B[0;32m     26\u001B[0m \u001B[0mplt\u001B[0m\u001B[1;33m.\u001B[0m\u001B[0mplot\u001B[0m\u001B[1;33m(\u001B[0m\u001B[0mdemonstrate_in\u001B[0m\u001B[1;33m[\u001B[0m\u001B[1;33m:\u001B[0m\u001B[1;33m,\u001B[0m \u001B[1;36m0\u001B[0m\u001B[1;33m,\u001B[0m \u001B[1;36m4\u001B[0m\u001B[1;33m]\u001B[0m\u001B[1;33m)\u001B[0m\u001B[1;33m\u001B[0m\u001B[1;33m\u001B[0m\u001B[0m\n",
      "\u001B[1;31mIndexError\u001B[0m: index 2 is out of bounds for axis 2 with size 2"
     ]
    },
    {
     "data": {
      "text/plain": "Canvas(toolbar=Toolbar(toolitems=[('Home', 'Reset original view', 'home', 'home'), ('Back', 'Back to previous …",
      "image/png": "[encoded data removed]",
      "text/html": "\n            <div style=\"display: inline-block;\">\n                <div class=\"jupyter-widgets widget-label\" style=\"text-align: center;\">\n                    Figure\n                </div>\n                <img src='data:image/png;base64,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' width=640.0/>\n            </div>\n        ",
      "application/vnd.jupyter.widget-view+json": {
       "version_major": 2,
       "version_minor": 0,
       "model_id": "7c21995bb2d44ff4a5ddcd66ae9e3df2"
      }
     },
     "metadata": {},
     "output_type": "display_data"
    }
   ],
   "metadata": {}
  },
  {
   "cell_type": "markdown",
   "source": [
    "## Step 1.1: Create model"
   ],
   "metadata": {}
  },
  {
   "cell_type": "code",
   "execution_count": 4,
   "source": [
    "feature_size, output_size = Task.feature_and_act_size\n",
    "hidden_size = 400\n",
    "\n",
    "neuron_parameters = LIFAdExRefracParameters(\n",
    "    LIFAdExParameters(\n",
    "        v_th=torch.as_tensor(0.65),\n",
    "        tau_ada_inv=torch.as_tensor(2),\n",
    "        alpha=100,\n",
    "    ),\n",
    "    rho_reset=torch.as_tensor(1),\n",
    "    # rho_reset = torch.as_tensor(5)\n",
    ")\n",
    "model = SNNlifadexrefrac(\n",
    "    feature_size,\n",
    "    hidden_size,\n",
    "    output_size,\n",
    "    neuron_parameters=neuron_parameters,\n",
    "    tau_filter_inv=500,\n",
    ").to(device)\n",
    "# model = torch.nn.DataParallel(model, device_ids=[0]).to(device)"
   ],
   "outputs": [],
   "metadata": {}
  },
  {
   "cell_type": "markdown",
   "source": [
    "## Step 1.2: Save pre-learning weights"
   ],
   "metadata": {}
  },
  {
   "cell_type": "code",
   "execution_count": 5,
   "source": [
    "weights_pre_l = []\n",
    "with torch.no_grad():\n",
    "    for name, param in model.named_parameters():\n",
    "        print(f\"name = {name}\")\n",
    "        if param.requires_grad:\n",
    "            weights_pre_l.append((param).cpu().numpy())"
   ],
   "outputs": [
    {
     "name": "stdout",
     "output_type": "stream",
     "text": [
      "name = adexrefrac.input_weights\n",
      "name = adexrefrac.recurrent_weights\n",
      "name = exp_f.linear.weight\n",
      "name = exp_f.linear.bias\n"
     ]
    }
   ],
   "metadata": {}
  },
  {
   "cell_type": "markdown",
   "source": [
    "## Step 2: loss and creterion "
   ],
   "metadata": {}
  },
  {
   "cell_type": "code",
   "execution_count": 6,
   "source": [
    "learning_rate = 1e-3\n",
    "\n",
    "\n",
    "class RMSELoss(nn.Module):\n",
    "    def __init__(self):\n",
    "        super().__init__()\n",
    "        self.mse = nn.MSELoss()\n",
    "\n",
    "    def forward(self, yhat, y):\n",
    "        return torch.sqrt(self.mse(yhat, y))\n",
    "\n",
    "\n",
    "criterion = nn.MSELoss()\n",
    "optimizer = torch.optim.Adam(model.parameters(), lr=learning_rate)\n",
    "# optimizer = torch.optim.SGD(model.parameters(), lr=learning_rate)"
   ],
   "outputs": [],
   "metadata": {}
  },
  {
   "cell_type": "code",
   "execution_count": 7,
   "source": [
    "name = f\"Train_only_romo_task_reduce_lif_adex_random_delay_long_a{hidden_size}\""
   ],
   "outputs": [],
   "metadata": {}
  },
  {
   "cell_type": "markdown",
   "source": [
    "#Precreate data"
   ],
   "metadata": {}
  },
  {
   "cell_type": "code",
   "execution_count": 8,
   "source": [
    "l_inputs = []\n",
    "l_outputs = []\n",
    "from tqdm import tqdm\n",
    "\n",
    "for i in tqdm(range(1000)):\n",
    "    tmp_inputs, tmp_target_outputs = Task.dataset(number_of_tasks, delay_between=0)\n",
    "    tmp_inputs += np.random.normal(0, 0.01, size=tmp_inputs.shape)\n",
    "    l_inputs.append(tmp_inputs)\n",
    "    l_outputs.append(tmp_target_outputs)"
   ],
   "outputs": [
    {
     "name": "stderr",
     "output_type": "stream",
     "text": [
      "100%|██████████| 1000/1000 [00:07<00:00, 142.84it/s]\n"
     ]
    }
   ],
   "metadata": {}
  },
  {
   "cell_type": "markdown",
   "source": [
    "## Step 3: Train loop"
   ],
   "metadata": {}
  },
  {
   "cell_type": "code",
   "execution_count": 9,
   "source": [
    "from cgtasknet.net.states import LIFAdExRefracInitState\n",
    "from cgtasknet.instruments.instrument_accuracy_network import correct_answer\n",
    "\n",
    "init_state = LIFAdExRefracInitState(batch_size, hidden_size, device=device)\n",
    "\n",
    "#\n",
    "\n",
    "running_loss = 0\n",
    "from tqdm import tqdm\n",
    "\n",
    "for i in tqdm(range(1000)):\n",
    "    inputs = torch.from_numpy(l_inputs[i]).type(torch.float).to(device)\n",
    "    target_outputs = torch.from_numpy(l_outputs[i]).type(torch.float).to(device)\n",
    "    optimizer.zero_grad()\n",
    "\n",
    "    # forward + backward + optimize\n",
    "    outputs, _ = model(inputs)\n",
    "\n",
    "    loss = criterion(outputs, target_outputs)\n",
    "    loss.backward()\n",
    "    optimizer.step()\n",
    "\n",
    "    # print statistics\n",
    "    running_loss += loss.item()\n",
    "    if i % 10 == 9:\n",
    "        with open(\"log.txt\", \"a\") as f:\n",
    "            f.write(\"epoch: {:d} loss: {:0.5f}\\n\".format(i + 1, running_loss / 10))\n",
    "        running_loss = 0.0\n",
    "        with torch.no_grad():\n",
    "            torch.save(\n",
    "                model.state_dict(),\n",
    "                name,\n",
    "            )\n",
    "    if i % 50 == 49:\n",
    "        Task_test = RomoTask(\n",
    "            params=task_parameters,\n",
    "            batch_size=batch_size,\n",
    "            uniq_batch=False,\n",
    "            enable_fixation_delay=True,\n",
    "        )\n",
    "        result = 0\n",
    "        for j in range(10):\n",
    "            inputs, target_outputs = Task_test.dataset(1, delay_between=0)\n",
    "            inputs += np.random.normal(0, 0.01, size=(inputs.shape))\n",
    "            inputs = torch.from_numpy(inputs).type(torch.float).to(device)\n",
    "            target_outputs = (\n",
    "                torch.from_numpy(target_outputs).type(torch.float).to(device)\n",
    "            )\n",
    "            outputs = model(inputs)[0]\n",
    "            answers = correct_answer(\n",
    "                outputs[:, :, 1:], target_outputs[:, :, 1:], target_outputs[:, :, 0]\n",
    "            )\n",
    "            result += torch.sum(answers).item()\n",
    "        accuracy = result / batch_size / 10 * 100\n",
    "        with open(\"accuracy.txt\", \"a\") as f:\n",
    "            f.write(f\"ecpoch = {i}; correct/all = {accuracy}\\n\")\n",
    "print(\"Finished Training\")"
   ],
   "outputs": [
    {
     "name": "stderr",
     "output_type": "stream",
     "text": [
      "100%|██████████| 1000/1000 [1:11:47<00:00,  4.31s/it]"
     ]
    },
    {
     "name": "stdout",
     "output_type": "stream",
     "text": [
      "Finished Training\n"
     ]
    },
    {
     "name": "stderr",
     "output_type": "stream",
     "text": [
      "\n"
     ]
    }
   ],
   "metadata": {}
  },
  {
   "cell_type": "code",
   "execution_count": 10,
   "outputs": [],
   "source": [
    "inputs = torch.from_numpy(l_inputs[i]).type(torch.float).to(device)"
   ],
   "metadata": {
    "collapsed": false,
    "pycharm": {
     "name": "#%%\n"
    }
   }
  },
  {
   "cell_type": "code",
   "execution_count": 11,
   "outputs": [],
   "source": [
    "inputs = 0"
   ],
   "metadata": {
    "collapsed": false,
    "pycharm": {
     "name": "#%%\n"
    }
   }
  },
  {
   "cell_type": "code",
   "execution_count": 3,
   "outputs": [
    {
     "ename": "NameError",
     "evalue": "name 'RomoTaskParameters' is not defined",
     "output_type": "error",
     "traceback": [
      "\u001B[1;31m---------------------------------------------------------------------------\u001B[0m",
      "\u001B[1;31mNameError\u001B[0m                                 Traceback (most recent call last)",
      "\u001B[1;32m~\\AppData\\Local\\Temp/ipykernel_12976/593125569.py\u001B[0m in \u001B[0;36m<module>\u001B[1;34m\u001B[0m\n\u001B[0;32m      3\u001B[0m \u001B[1;32mfrom\u001B[0m \u001B[0mtqdm\u001B[0m \u001B[1;32mimport\u001B[0m \u001B[0mtqdm\u001B[0m\u001B[1;33m\u001B[0m\u001B[1;33m\u001B[0m\u001B[0m\n\u001B[0;32m      4\u001B[0m \u001B[1;33m\u001B[0m\u001B[0m\n\u001B[1;32m----> 5\u001B[1;33m task_parameters_test = RomoTaskParameters(\n\u001B[0m\u001B[0;32m      6\u001B[0m     \u001B[0mdelay\u001B[0m\u001B[1;33m=\u001B[0m\u001B[1;36m0.5\u001B[0m\u001B[1;33m,\u001B[0m\u001B[1;33m\u001B[0m\u001B[1;33m\u001B[0m\u001B[0m\n\u001B[0;32m      7\u001B[0m     \u001B[0mpositive_shift_delay_time\u001B[0m\u001B[1;33m=\u001B[0m\u001B[1;36m0\u001B[0m\u001B[1;33m,\u001B[0m\u001B[1;33m\u001B[0m\u001B[1;33m\u001B[0m\u001B[0m\n",
      "\u001B[1;31mNameError\u001B[0m: name 'RomoTaskParameters' is not defined"
     ]
    }
   ],
   "source": [
    "from cgtasknet.net.states import LIFAdExRefracInitState\n",
    "from cgtasknet.instruments.instrument_accuracy_network import correct_answer\n",
    "from tqdm import tqdm\n",
    "\n",
    "task_parameters_test = RomoTaskParameters(\n",
    "    delay=0.5,\n",
    "    positive_shift_delay_time=0,\n",
    "    trial_time=0.1,\n",
    "    positive_shift_trial_time=0.2,\n",
    ")\n",
    "Task_test = RomoTask(params=task_parameters_test, batch_size=batch_size)\n",
    "result = 0\n",
    "model = model.to(torch.device(\"cpu\"))\n",
    "for i in tqdm(range(10)):\n",
    "    inputs, target_outputs = Task_test.dataset(1, delay_between=0)\n",
    "    inputs += np.random.normal(0, 0.01, size=inputs.shape)\n",
    "    inputs = torch.from_numpy(inputs).type(torch.float)\n",
    "    target_outputs = torch.from_numpy(target_outputs).type(torch.float)\n",
    "    outputs = model(inputs)[0]\n",
    "    answers = correct_answer(\n",
    "        outputs[:, :, 1:], target_outputs[:, :, 1:], target_outputs[:, :, 0]\n",
    "    )\n",
    "    result += torch.sum(answers).item()\n",
    "round(result / batch_size / 10 * 100, 2)"
   ],
   "metadata": {
    "collapsed": false,
    "pycharm": {
     "name": "#%%\n"
    }
   }
  },
  {
   "cell_type": "code",
   "execution_count": 2,
   "source": [
    "fig = plt.figure(figsize=(15, 10))\n",
    "\n",
    "for batch in range(9):\n",
    "    fig.add_subplot(520 + batch + 1)\n",
    "    plt.plot(outputs[:, batch, 1].detach().cpu())\n",
    "    plt.plot(outputs[:, batch, 2].detach().cpu())\n",
    "    plt.plot(target_outputs.detach().cpu()[:, batch, 1], label=f\"t_out{2}\")\n",
    "    plt.plot(target_outputs.detach().cpu()[:, batch, 2], label=f\"t_out{3}\")\n",
    "    plt.plot(inputs[:, batch, 1].detach().cpu())\n",
    "    plt.legend()\n",
    "    # plt.plot(inputs[:, 0, 0].detach().cpu())\n",
    "plt.tight_layout()\n",
    "plt.show()\n",
    "plt.close()"
   ],
   "outputs": [
    {
     "ename": "NameError",
     "evalue": "name 'outputs' is not defined",
     "output_type": "error",
     "traceback": [
      "\u001B[1;31m---------------------------------------------------------------------------\u001B[0m",
      "\u001B[1;31mNameError\u001B[0m                                 Traceback (most recent call last)",
      "\u001B[1;32m~\\AppData\\Local\\Temp/ipykernel_12976/3079331561.py\u001B[0m in \u001B[0;36m<module>\u001B[1;34m\u001B[0m\n\u001B[0;32m      3\u001B[0m \u001B[1;32mfor\u001B[0m \u001B[0mbatch\u001B[0m \u001B[1;32min\u001B[0m \u001B[0mrange\u001B[0m\u001B[1;33m(\u001B[0m\u001B[1;36m9\u001B[0m\u001B[1;33m)\u001B[0m\u001B[1;33m:\u001B[0m\u001B[1;33m\u001B[0m\u001B[1;33m\u001B[0m\u001B[0m\n\u001B[0;32m      4\u001B[0m     \u001B[0mfig\u001B[0m\u001B[1;33m.\u001B[0m\u001B[0madd_subplot\u001B[0m\u001B[1;33m(\u001B[0m\u001B[1;36m520\u001B[0m \u001B[1;33m+\u001B[0m \u001B[0mbatch\u001B[0m \u001B[1;33m+\u001B[0m \u001B[1;36m1\u001B[0m\u001B[1;33m)\u001B[0m\u001B[1;33m\u001B[0m\u001B[1;33m\u001B[0m\u001B[0m\n\u001B[1;32m----> 5\u001B[1;33m     \u001B[0mplt\u001B[0m\u001B[1;33m.\u001B[0m\u001B[0mplot\u001B[0m\u001B[1;33m(\u001B[0m\u001B[0moutputs\u001B[0m\u001B[1;33m[\u001B[0m\u001B[1;33m:\u001B[0m\u001B[1;33m,\u001B[0m \u001B[0mbatch\u001B[0m\u001B[1;33m,\u001B[0m \u001B[1;36m1\u001B[0m\u001B[1;33m]\u001B[0m\u001B[1;33m.\u001B[0m\u001B[0mdetach\u001B[0m\u001B[1;33m(\u001B[0m\u001B[1;33m)\u001B[0m\u001B[1;33m.\u001B[0m\u001B[0mcpu\u001B[0m\u001B[1;33m(\u001B[0m\u001B[1;33m)\u001B[0m\u001B[1;33m)\u001B[0m\u001B[1;33m\u001B[0m\u001B[1;33m\u001B[0m\u001B[0m\n\u001B[0m\u001B[0;32m      6\u001B[0m     \u001B[0mplt\u001B[0m\u001B[1;33m.\u001B[0m\u001B[0mplot\u001B[0m\u001B[1;33m(\u001B[0m\u001B[0moutputs\u001B[0m\u001B[1;33m[\u001B[0m\u001B[1;33m:\u001B[0m\u001B[1;33m,\u001B[0m \u001B[0mbatch\u001B[0m\u001B[1;33m,\u001B[0m \u001B[1;36m2\u001B[0m\u001B[1;33m]\u001B[0m\u001B[1;33m.\u001B[0m\u001B[0mdetach\u001B[0m\u001B[1;33m(\u001B[0m\u001B[1;33m)\u001B[0m\u001B[1;33m.\u001B[0m\u001B[0mcpu\u001B[0m\u001B[1;33m(\u001B[0m\u001B[1;33m)\u001B[0m\u001B[1;33m)\u001B[0m\u001B[1;33m\u001B[0m\u001B[1;33m\u001B[0m\u001B[0m\n\u001B[0;32m      7\u001B[0m     \u001B[0mplt\u001B[0m\u001B[1;33m.\u001B[0m\u001B[0mplot\u001B[0m\u001B[1;33m(\u001B[0m\u001B[0mtarget_outputs\u001B[0m\u001B[1;33m.\u001B[0m\u001B[0mdetach\u001B[0m\u001B[1;33m(\u001B[0m\u001B[1;33m)\u001B[0m\u001B[1;33m.\u001B[0m\u001B[0mcpu\u001B[0m\u001B[1;33m(\u001B[0m\u001B[1;33m)\u001B[0m\u001B[1;33m[\u001B[0m\u001B[1;33m:\u001B[0m\u001B[1;33m,\u001B[0m \u001B[0mbatch\u001B[0m\u001B[1;33m,\u001B[0m \u001B[1;36m1\u001B[0m\u001B[1;33m]\u001B[0m\u001B[1;33m,\u001B[0m \u001B[0mlabel\u001B[0m\u001B[1;33m=\u001B[0m\u001B[1;34mf\"t_out{2}\"\u001B[0m\u001B[1;33m)\u001B[0m\u001B[1;33m\u001B[0m\u001B[1;33m\u001B[0m\u001B[0m\n",
      "\u001B[1;31mNameError\u001B[0m: name 'outputs' is not defined"
     ]
    },
    {
     "data": {
      "text/plain": "<Figure size 1080x720 with 1 Axes>",
      "image/png": "[encoded data removed]"
     },
     "metadata": {
      "needs_background": "light"
     },
     "output_type": "display_data"
    }
   ],
   "metadata": {}
  },
  {
   "cell_type": "code",
   "execution_count": 14,
   "outputs": [
    {
     "data": {
      "text/plain": "[<matplotlib.lines.Line2D at 0x19eb350b8e0>]"
     },
     "execution_count": 14,
     "metadata": {},
     "output_type": "execute_result"
    },
    {
     "data": {
      "text/plain": "Canvas(toolbar=Toolbar(toolitems=[('Home', 'Reset original view', 'home', 'home'), ('Back', 'Back to previous …",
      "image/png": "[encoded data removed]",
      "text/html": "\n            <div style=\"display: inline-block;\">\n                <div class=\"jupyter-widgets widget-label\" style=\"text-align: center;\">\n                    Figure\n                </div>\n                <img src='data:image/png;base64,iVBORw0KGgoAAAANSUhEUgAAAoAAAAHgCAYAAAA10dzkAAAAOXRFWHRTb2Z0d2FyZQBNYXRwbG90bGliIHZlcnNpb24zLjQuMywgaHR0cHM6Ly9tYXRwbG90bGliLm9yZy/MnkTPAAAACXBIWXMAAA9hAAAPYQGoP6dpAABQuElEQVR4nO3dd3wUdeLG8WfTaUmAQAIhdKR3BEM5WwQRsXOIKByn3g8PPDV3KqiAHmo4TxELyoFiV7A3FIUgChIIvfcWBBIIkEIgdef3R8gmSzZlN0s2u/t5v15odnZm9ruzyewz3zYmwzAMAQAAwGv4uLoAAAAAqF4EQAAAAC9DAAQAAPAyBEAAAAAvQwAEAADwMgRAAAAAL0MABAAA8DIEQAAAAC9DAAQAAPAyBEAAAAAvQwAEAADwMgRAAAAAL0MABAAA8DIEQAAAAC9DAAQAAPAyBEAAAAAvQwAEAADwMgRAAAAAL0MABAAA8DIEQAAAAC9DAAQAAPAyBEAAAAAvQwAEAADwMgRAAAAAL0MABAAA8DIEQAAAAC9DAAQAAPAyBEAAAAAvQwAEAADwMgRAAAAAL0MABAAA8DIEQAAAAC9DAAQAAPAyBEAAAAAvQwAEAADwMgRAAAAAL0MABAAA8DIEQAAAAC9DAAQAAPAyBEAAAAAvQwAEAADwMgRAAAAAL0MABAAA8DIEQAAAAC9DAAQAAPAyBEAAAAAvQwAEAADwMgRAAAAAL0MABAAA8DIEQAAAAC9DAAQAAPAyBEAAAAAvQwAEAADwMgRAAAAAL0MABAAA8DIEQAAAAC/j5+oCuDOz2axjx46pXr16MplMri4OAACoBMMwlJmZqaZNm8rHxzvrwgiAVXDs2DFFRUW5uhgAAMABR44cUbNmzVxdDJcgAFZBvXr1JBX+AgUHB7u4NAAAoDIyMjIUFRVl+R73RgTAKihq9g0ODiYAAgDgZry5+5Z3NnwDAAB4MQIgAACAlyEAAgAAeBkCIAAAgJchAAIAAHgZAiAAAICXIQACAAB4GQIgAACAlyEAAgAAeBmPCYC//fabhg8frqZNm8pkMunrr7+ucJvly5erV69eCgwMVNu2bfXuu+9e8nICAAC4mscEwKysLHXv3l2zZ8+u1PoHDx7UsGHDdPXVV2vTpk16+OGHdd999+mnn366xCUFAABwLY+5F/DQoUM1dOjQSq8/Z84ctWrVSi+99JIkqWPHjlq5cqVefvllDRky5FIVEwAAwOU8JgDaKyEhQTExMVbLhgwZoocffrjMbXJycpSTk2N5nJGRcamKBwBApSw6sEgrjq5wdTEumZjmMYppEVPxirCL1wbA5ORkhYeHWy0LDw9XRkaGzp8/r1q1apXaJi4uTs8880x1FREAgAo9k/CMzuefd3UxLpkW9VoQAC8Brw2Ajpg8ebJiY2MtjzMyMhQVFeXCEgEAvF12frYk6e/d/646/nVcXBrn69aom6uL4JG8NgBGREQoJSXFallKSoqCg4Nt1v5JUmBgoAIDA6ujeAAA2GVE+xEKqxXm6mLATXjMKGB7RUdHKz4+3mrZkiVLFB0d7aISAQBgP0OGq4sAN+QxAfDs2bPatGmTNm3aJKlwmpdNmzYpKSlJUmHz7ZgxYyzrjx8/XgcOHNBjjz2mXbt26Y033tCnn36qRx55xBXFBwAAqDYeEwDXrVunnj17qmfPnpKk2NhY9ezZU1OnTpUkHT9+3BIGJalVq1ZatGiRlixZou7du+ull17SW2+9xRQwAAC3ZJLJ1UWAGzEZhkHdsYMyMjIUEhKi9PR0BQcHu7o4AAAv1PW9rpKk5X9eroa1Grq4NO6B728PqgEEAABA5RAAAQAAvAwBEAAAD2Ay0QcQlUcABADATdGNH44iALqRzUfS9Njnm3UyM8dqWdq53Gorw3urDum2N35X+rm8antNR1yqk+L6w2d00+srte7Q6UuyfwAAqgMB0I3cPPt3fbruDz319VZJ0uoDp3Tz7N/V499LNP6D9WWGku+3HNP4D9brbE5+pV7HbDa0+sApZWSXDnnTvt2uDUlpmrfigONv5BI7n1uga1/6VbGfbnL6vv/yTqK2/JGuO+YkOH3fAFAVTAMDexAA3cTprOJavr0nzkqSFm9LtixbvD25zFAy8eONWrw9WXN/3W/z+TNZufrnp5u15sApSdLnG/7QnXNXa9Tc1WWWp7Jhsiwla+j+9dlm3fP2GpnNzqm1W7kvVQdSs/TlhqM6dTan4g3skJld/L63/JGmBz/ZqCOnzzn1NQAAuNQIgDXQkdPn9NP2ZG07mi6pMOj1mr7E8rzvhY6+uQXmcvdzPP28Rr9VHOJSs2w3FT/3w059seEPjbwQ+BYkFk6Yvf1Yhs5k5Sph/ylLWSxl8DHpw9WHtelImiRp1f5UfbPpaKXe35Y/0jTwP7/ohcW7lJNfoM/X/6EVe1O1/+TZMrcxmw0VlBEQDcPQ+wmHtGp/qiSpToCv5bnezy51anOwv2/xFfZNr/+u7zYf0z8WbHTa/gHAHtwGDo7yc3UBUNqHqw/rf78d0LgBLZWTb9b4D9dbPe/rUxhC8vJLB8DYTzfpsSEdFBESpLvmrdHB1CzLcyZJ+05k6rlFO/WPa9upZ/P6kmS1jmRdy9WzRPBs2bC25edfdp3Q2xe2OzRjmO6at0aS1DUyRK0b1dWxtPNqVC9Q/r6F1xhZOfn6YPVhdW4arKnfbNfRtPN6Y/l+jb6ihWWf7ycc1rZj6Zo/9nLVrxMgs9nQlqPpCg8O1LBXVyq6dUO9fldPfbnhqHq1qK/G9QI1+5d9alwvUE9/t8NSlouNnLtaM27rqtaN6lqWGYZhGTGXk1+g+SsP6ZddJ/T8bV31SWKS1h8+o//c3k3tI+rJMAztSs5U28Z1VcvfV3kF1rWfO49nlHpNAABqMgJgDRTVoDBoHTl9TgvXJpV6fldypvamZCrPRg3glxuOKmH/KSVMvrZUsDOZpH99tkWbjqTpl90nNeXGThrRp5l8SnQbyc03W5qYL3boVHFT54ES+/5w9WHLzzOX7NEPW4/LbEgxHcP13K1dtOlImlbuTdUHJdYrklpiQEvR8y8v3aPOTYM1/fudOpuTL18fkwrMhhZtPa7WS+rotWX71KBOgG7rGam3Vh602t+IOavUqYn1rO6JB09r2KsrtXP69Zb3ePPs39U+vK4ejrlMV7243LJuzMxfLT/fOTdBs+/qpZX7UvXG8v26rWekagf4KSPbOgCWVTMJANWJPoCwBwGwBmp+IQAu3XmizHWue/k3DWoXZvO54+nZNpebZNLx9POWx9O/36FZS/coMrSWZdmRM/b3Z3vq622Wn7/fctzy89KdKVq6M6Xcbb/Y8EepZe8nWAfFkgHrtWX7JBX2ibw4/EnS2kNntPbQmVLLz+cV6NvNx3RT96Ya/tpK7U7J1M7jGVp9oOzRvGfO5emut9ZYHn+58ahah9UptV5eAQEQgGswDQwcRQCsgVo2LB0ybFmxN7Wc506WWuZjksLqBiolo7jWLTM7X7uSMy2Pc/LK71fobBeHvUvpo9WHdSIjW7tTit9vcobtsFyWAxfVqgIA4I4IgDVQVINauiy8rvaklD0ooiL3vJ1Yatmy3Sd05PR5G2sXu+HVFQ6/Zk235uBprTnI/H0APBN3AoE9GAVcA5lMJo3oHeX0/VYU/uC4XBsDcgAAqKkIgDXUmP4tNKpvc0lS/dr+l+Q1bu0ZeUn2Wxm3ufC1L4W9JzIrXgkAnIxpYOAoAmANFejnq7jbuurQjGFa+2SM0/c/onczvTSie6XXrxfonN4C4wa01PRbuuiFO7pVuG6rsDr6buLAMp9/4Ko22nVhZK+rmakABAC4EQKgG/Dz9VGHiHo2n5t6YyeH9jn+qjby8alcf5Fbe0Zq6zNDKr3vbycOsHr84DVtLT9PG95Z91zRQn6+xb96Qf4+ViORi2TnFahrsxD1iApVwzoB6tYsRJL02fhovfOXy/XQte0U5O9b5rGRZHPUbsM6ATbXjekYrnaN69p8rqQ6Ab7q1Ty0wvUAAKipCIBuwr9EYCoZqG7o2sTys5+PSfWCimvqPrqvX5n7KwpGD1zVpsLXDqlluwn66eGlw+f/Xdla3ZqFWh6/NqqnYq+7TG+M7qXfHr3aat1X7uyhWv6+euKGjnro2nal9nU+r0CS9On/ReuXR6/SFw/0V8Lka3R5ywa6ukNjBfkX3vHj8wf62yzf87d21bJ/XaUFf7vCsuzlkd217J9X6ar2jTSkc7jm3N3b8txbY/to0T8G6ceHBpVxJAr5+/lYJuMuQjMMAFfg3ANHMQrYTUy4uo3Gf7hBN3SN0JDOEZb58IJrFX+EE69pq17N62vM/MIRwAPahmnZP69U4+AgdZn2k2W99//a1zJa7OGYdlq1/5Tq1/bXmOgW+u9Pe9SwToBW7iueYqbBhRqzeWP6aPG2ZMvcfbf3bqZ3Vh3S4QsTRP/75s6Wfovv/bWvjqWd1/DuTSVZB9UiN/eI1LCuTeTn66P4EvMFhtUNVOrZHPVp0UCSFODnowC/wgDcJKR0TWHdQD9d3zlCi7cX3ht5z7NDdT63QCEX+k5e0bphqTuEvDuur6TCObSeu7WLOl6YPDrAz0dtG9eVv6+pzPn9/n1zF839zfZ9lQEAcAcEQDcxpHOElsZeqeYNaut0iXv61vIvvu9tgdnQwLZhuvPyKLW/0CxadPuzD+7tq3veTtT1nSP0p8saWbYJ9PPVNxOKm2yv6RCu7LwCdZiyuMSyxpKk6zqFa1C7MH2x4Q+ZTFKdAD999+BAvbJ0r7pEBuvWns0s21xZ4jXKU9QUfFX7xhraJUIdmwTrpu5NtWDtEd07sFWlj8/dV7TQTzuS9fj1HawCY0VMJpNG92thtczf10eJT8RY3QavyAu3d9NN3ZsqO69Aj32+pdLlA4BLjWlgYA8CoJswmUxqe6F/WkRIkN4a00f1gvys/uDzzYZ8fEyacXvpARaD2jXS0tg/qVn92qWeu1hgifA0qF2YukSGWB4H+ftq89TB8vGRfHxMCg7y1xQH+yGW5Otj0pslmmMnDe1g1/YD24Vp57+vtzQLV1X9OgG6o3czfb6+sLbzhdu7qXNksOU2cyN6N1NY3QCN/2CDcm3ckg8AgJqMAOimYjqFW36+rWekvt18THdf0aKcLaS2jcseLFGSyWTSJ/dfoey8Al3VvnRNXsglmpamqpwV/oq8OKK7dhzL0I7jGbquU7jqlxg8YjKZdE2HcDWqF6ijaefF3ZgAuATnHjiIAOgBXvpzdz1/W1enBqDoNg2dti939u3EAcrON6uuk6bBAQCgJuBbzQOYTCan136hkJ+vj+r6MlgeQM1nEn0AUXl8swFOQCsMAFdgGhg4igAIVAGD7gAA7ogACACAB6AJGPYgAAJOYDAMGADgRgiAQBXQBAzAlegDCEcRAAEAALwMARAAAA/AreBgDwIg4AQ0wgBwBfofw1EEQKAKGHUHAHBHBEAAAAAvQwAEnIBWGACuRosE7EEABKqAPtcAXIlpYOAoAiAAAICXIQACTsFVOADAfRAAgSqgBRiAKzENDBxFAAQAAPAyBEAAAAAvQwAEnIBWGACuxq3gYA8CIFAFnHABAO6IAAgAAOBlCICAE9ACDMDVuBMI7EEABKqA0y0AV+JOIHAUARAAAMDLEAABJ2AUMADAnRAAgaqgDRhADcGsBLAHARAAADfFreDgKAIgAACAlyEAAk7AVTgAV2MaGNiDAAhUAadbAIA7IgACAOCmmAcQjvKoADh79my1bNlSQUFB6tevnxITE8tdf9asWWrfvr1q1aqlqKgoPfLII8rOzq6m0sKTcAoGALgTjwmACxcuVGxsrKZNm6YNGzaoe/fuGjJkiE6cOGFz/Y8//liTJk3StGnTtHPnTr399ttauHChnnjiiWouOdwZ0y4AqCnoAwh7eEwAnDlzpu6//36NGzdOnTp10pw5c1S7dm3Nnz/f5vqrVq3SgAEDdNddd6lly5YaPHiwRo0aVWGtIQAANQVNwHCURwTA3NxcrV+/XjExMZZlPj4+iomJUUJCgs1t+vfvr/Xr11sC34EDB/TDDz/ohhtuqJYyw7MwCBgA4E78XF0AZ0hNTVVBQYHCw8OtloeHh2vXrl02t7nrrruUmpqqgQMHyjAM5efna/z48eU2Aefk5CgnJ8fyOCMjwzlvAG6LBhcANQYnJNjBI2oAHbF8+XI9//zzeuONN7RhwwZ9+eWXWrRokaZPn17mNnFxcQoJCbH8i4qKqsYSAwAAOIdH1ACGhYXJ19dXKSkpVstTUlIUERFhc5spU6bonnvu0X333SdJ6tq1q7KysvS3v/1NTz75pHx8SmfjyZMnKzY21vI4IyODEAgAcBkmoYejPKIGMCAgQL1791Z8fLxlmdlsVnx8vKKjo21uc+7cuVIhz9fXV1LZf1CBgYEKDg62+gdIdMQGALgXj6gBlKTY2FiNHTtWffr0Ud++fTVr1ixlZWVp3LhxkqQxY8YoMjJScXFxkqThw4dr5syZ6tmzp/r166d9+/ZpypQpGj58uCUIAhVhFhgANQXTwMAeHhMAR44cqZMnT2rq1KlKTk5Wjx49tHjxYsvAkKSkJKsav6eeekomk0lPPfWUjh49qkaNGmn48OF67rnnXPUWAAAAqoXJoAOBwzIyMhQSEqL09HSag73U4Jd/1Z6Us/r4vn7q3zbM1cUB4GXSc9I1cMFASdLGezbKz8dj6nUuKb6/PaQPIOAqNLkAqCk4H8EeBEAAAAAvQwAEnIB+FABcgV5ccBQBEKgCRgEDANwRARAAAA9g4ooUdiAAAgDgppiEHo4iAAJOQDccAIA7IQACAOABmAYG9iAAAgAAeBkCIOAE9MMB4Aqce+AoAiBQBYy6AwC4IwIgAAAegAtS2IMACDgBo4ABuAJ3AoGjCIBAFXC9DQBwRwRAAAAAL0MABAAA8DIEQMAJ6IUDwBWYBgaOIgACVcCgOwCAOyIAAgDg5rgNHOxFAAScgKkYAADuhAAIVAFNwAAAd0QABADAzXEXENiLAAg4AQ3AAAB3QgAEqoCO1wBcif7HcBQBEAAAwMsQAAEAcHO0RsBeBEDAGWiFAeAC3AkEjiIAAlXAwDsAgDsiAAIA4OZoAoa9CICAE9AMAwBwJwRAoAq45gbgSkwDA0cRAAEAALwMARBwAi7CAbgUzRGwEwEQqAqGAQNwIfofw1EEQAAAAC9DAAQAwM0xDQzsRQAEnIA+gAAAd0IABKqAa24AgDsiAAIAAHgZAiDgBLQAA3Al+gDCXgRAoAqYBQaAK3EnEDiKAAgAAOBlCIAAALg5E80RsBMBEHACmmEAAO6EAAhUAdfcAFyJW8HBUQRAAAAAL0MABJyAa3AArsQ0MLAXARCoAjpeA3AlmoDhKAIgAACAlyEAAk7AIGAArkRrBOxFAASqgFMuAMAdEQABAHBTzEEKRxEAAQAAvAwBEHAKrsIBAO6DAAhUAf2uAbgS08DAUR4VAGfPnq2WLVsqKChI/fr1U2JiYrnrp6WlacKECWrSpIkCAwN12WWX6Ycffqim0gIAALiGn6sL4CwLFy5UbGys5syZo379+mnWrFkaMmSIdu/ercaNG5daPzc3V9ddd50aN26szz//XJGRkTp8+LBCQ0Orv/Bwe/TDBuBK3AkE9vKYADhz5kzdf//9GjdunCRpzpw5WrRokebPn69JkyaVWn/+/Pk6ffq0Vq1aJX9/f0lSy5Ytq7PI8ACcdAEA7sgjmoBzc3O1fv16xcTEWJb5+PgoJiZGCQkJNrf59ttvFR0drQkTJig8PFxdunTR888/r4KCgjJfJycnRxkZGVb/AABwGVof4CCPCICpqakqKChQeHi41fLw8HAlJyfb3ObAgQP6/PPPVVBQoB9++EFTpkzRSy+9pGeffbbM14mLi1NISIjlX1RUlFPfB9wX52AAgDvxiADoCLPZrMaNG2vu3Lnq3bu3Ro4cqSeffFJz5swpc5vJkycrPT3d8u/IkSPVWGLUSLQAA6gBuBUc7OURfQDDwsLk6+urlJQUq+UpKSmKiIiwuU2TJk3k7+8vX19fy7KOHTsqOTlZubm5CggIKLVNYGCgAgMDnVt4AAAcxDQwcJRH1AAGBASod+/eio+Ptywzm82Kj49XdHS0zW0GDBigffv2yWw2W5bt2bNHTZo0sRn+AAAAPIVHBEBJio2N1bx58/Tee+9p586deuCBB5SVlWUZFTxmzBhNnjzZsv4DDzyg06dP66GHHtKePXu0aNEiPf/885owYYKr3gLcGNPAAHAlZiSAvTyiCViSRo4cqZMnT2rq1KlKTk5Wjx49tHjxYsvAkKSkJPn4FOfdqKgo/fTTT3rkkUfUrVs3RUZG6qGHHtLjjz/uqrcAN8QpFwDgjjwmAErSxIkTNXHiRJvPLV++vNSy6OhorV69+hKXCgCAS4M+gHCUxzQBA67ESRgA4E4IgEAVMPMCgJqAPoCwFwEQAAA3ZTACDQ4iAAJOwDkYAOBOCIBAFdDsAqBG4FQEOxEAAQAAvAwBEAAAN8UMBHAUARBwAk7BAAB3QgAEqoBpYADUBPRHhr0IgAAAuCmagOEoAiDgBMzFBQBwJwRAoApoAgZQE5g4GcFOBEAAAAAvQwAEAMBd0fsEDiIAAlXAyDsAgDsiAAIA4Oa4GIW9CIAAALgppoGBowiAgBMwCwwAwJ0QAIEqYOYFADUBTcCwFwEQAADAyxAAASegHw4AV+AuRHAUARAAAMDLEAABAHBz3AoO9iIAAk5AKwwAV6D7CRxFAASqgKtuAIA7IgACAAB4GQIgAACAlyEAAk5AH0AArkAfQDiKAAhUAT0AAQDuiAAIAICb41ZwsBcBEHACGmEAuAJ3AoGjCIBAFTALDADAHREAAQBwc8xJCnsRAAEnoBkGAOBOCIBAFXDNDQBwRwRAAAAAL0MABADAzTENDOxFAAScgB6AAFyBO4HAUQRAoAoYeQcAcEcEQAAA3BxNwLAXARBwBlphAABuhAAIVAHX3ABciTlI4SgCIAAAgJchAAJOwEg8AC5FcwTsRAAEqoBBwABciYtPOIoACAAA4GUIgAAAuDmmgYG9CICAEzAQDwDgTgiAQJVw1Q3AdegDCEcRAAEAALwMARBwAq7BAbgS9yWHvQiAQBVwzgXgUlx9wkEEQAAAAC9DAAQAwM0xDQzs5VEBcPbs2WrZsqWCgoLUr18/JSYmVmq7BQsWyGQy6ZZbbrm0BYTHYhoYAIA78ZgAuHDhQsXGxmratGnasGGDunfvriFDhujEiRPlbnfo0CH961//0qBBg6qppPAkXHMDcCWmgYGjPCYAzpw5U/fff7/GjRunTp06ac6cOapdu7bmz59f5jYFBQUaPXq0nnnmGbVu3boaSwsAAOA6HhEAc3NztX79esXExFiW+fj4KCYmRgkJCWVu9+9//1uNGzfWvffeWx3FhAfjKhyAK9EHEPbyc3UBnCE1NVUFBQUKDw+3Wh4eHq5du3bZ3GblypV6++23tWnTpkq/Tk5OjnJyciyPMzIyHCovPAfTwABwJYMOyHCQR9QA2iszM1P33HOP5s2bp7CwsEpvFxcXp5CQEMu/qKioS1hKAACAS8MjagDDwsLk6+urlJQUq+UpKSmKiIgotf7+/ft16NAhDR8+3LLMbDZLkvz8/LR79261adOm1HaTJ09WbGys5XFGRgYhEJIYBQzAtbgTCOzlEQEwICBAvXv3Vnx8vGUqF7PZrPj4eE2cOLHU+h06dNDWrVutlj311FPKzMzUK6+8UmaoCwwMVGBgoNPLD/dFvxsAgDvyiAAoSbGxsRo7dqz69Omjvn37atasWcrKytK4ceMkSWPGjFFkZKTi4uIUFBSkLl26WG0fGhoqSaWWAwBQUzEADY7ymAA4cuRInTx5UlOnTlVycrJ69OihxYsXWwaGJCUlycfHK7s8AgAAWPGYAChJEydOtNnkK0nLly8vd9t3333X+QWC1+AaHADgTqgSA6qAftcAXIkmYDiKAAgAAOBlCICAMzAPDAAXYkYC2IsACFQBTcAAAHdEAAQAwE1xKzg4igAIOAGnYACAOyEAAlVAvxsANQG3goO9CIAAAABehgAIAADgZQiAgBPQDxuAK9EdBfYiAAJVwTkXAOCGCIAAALgpbgUHRxEAASdgLi4AgDshAAJVQAswgJqAaWBgLwIgAABuitYHOIoACDgBp2AAgDshAAJVQLMLgJqAaWBgLwIgAACAlyEAAgDgppgGBo4iAAJOQD9sAIA7IQACVUCvGwCAOyIAAgDgppgGBo4iAAJOwCkYAOBOCIBAFTALDICagCmpYC8CIAAAgJchAAJOQD8cAK7ANDBwFAEQqAIaXQAA7ogACACAm+NWcLAXARAAAMDLEAABAAC8DAEQqAKmXgBQE9AEDHsRAAEAALwMARBwAmaBAeAKTEEFRxEAgSqg0QUA4I4IgAAAuDn6I8NeBEDACZiNH4ArcO6BowiAQFVw0Q0AcEMEQAAAAC9DAAQAAPAyBEDACZiJAYAr0AcQjiIAAlXA7PsAAHdEAAQAwM0xDQzsRQAEnIBGGACuwJ1A4CgCIFAFXHQDANwRARAAADdHf2TYiwAIOAGtMAAAd0IABKqAa24ArsQ0MHAUARAAAMDLEAABAHBz9AGEvQiAgBPQDAPAJTj1wEEEQKAKmAYGAOCOCIAAALg57gQCexEAASdgGhgAgDshAAJVQMdrAK5E/2M4igAIAHBYgdnQ8t0ndCYr16n73Xk8Qw8v2Kjtx9Kdut+a7GBqln7ZfcLVxYCX8KgAOHv2bLVs2VJBQUHq16+fEhMTy1x33rx5GjRokOrXr6/69esrJiam3PUBAKV9tOaw/vLOWo34X4JD26dkZOval5Zr7m/7lZ1XoA8SDmndodMa+soKfb3pmIa9utJq/bdXHtTMn3dXat+ns3J1y+zf9dGaww6VzRbDMPT451v0xvJ9TttnkatfXK5x76zV+sNn7N6W1gjYy2MC4MKFCxUbG6tp06Zpw4YN6t69u4YMGaITJ2xfTS1fvlyjRo3SL7/8ooSEBEVFRWnw4ME6evRoNZcc7ox+1/B2X20sPGfuO3G20ttsPpKm3/aclFQY6PafzNLzP+zSG8v3a8o323XHHNth8nRWrqZ/v0OvLtunExnZFb7Oy0v2aNORND351TbLsiOnzynuh51KTq94e0k6k5Wr/AKz5fGGpDNauO6IXlhcuRBansXbjmvGj7tkNls34279I60S2ybr9WV7ZTbMFa4L2OIxAXDmzJm6//77NW7cOHXq1Elz5sxR7dq1NX/+fJvrf/TRR/r73/+uHj16qEOHDnrrrbdkNpsVHx9fzSUHgJrPbDb0ytK9+nTtERklRj3lF9jXBy05PVs3z/5dY+Yn6ljaeR1LO2957vd9qeVuu+7QacvPy/ec1JHT5yQVBsM9KZml1j+RWTrkjZmfqP/9dkAxM3+1KlPiwdOl1j2YmqWe05do/IcbLMvO5RZYfi4wl37v+06c1ai5q7Vqf6q+3XxMB1OzrJ5PTs/WrKV79O7vBzX+ww2a8+t+xe86YXVMj5Y4JhdLTs/W4m3HNf7D9Xrx5z3alVz6fQOV4efqAjhDbm6u1q9fr8mTJ1uW+fj4KCYmRgkJlWuWOHfunPLy8tSgQYMy18nJyVFOTo7lcUZGhuOFBgA3suVoul5eukeS1KlpsLpEhsgwDG09WtxH79c9J3XlZY3K3U9iiRB3/azflJGdb3lcVtPnhI826PHrO+jlpXstyx77fIsk6eGYdpp1YfkXD/RXr+ahmv/7IXVpGqzzecW1Ywn7Tym6TUNLIDubk6/NR9LUPSpU/1iwUYkHT2vWyB66pWekZZv3Ew5JkpbuTNGNr61Q43pByjifZ3l+2rfb9MxNXeTrU9gUcD63QOM/XK99J84q4cApSZKfj0kD24WpQe0AdWoarGcX7Sz1/pIzspVdoqzzVhzUFa0bKiM7T4M7RahOYPFX9RNfbdWyXcUtW6ed3PcS3sMjAmBqaqoKCgoUHh5utTw8PFy7du2q1D4ef/xxNW3aVDExMWWuExcXp2eeeaZKZYVnMpgHBh6u5CCP295cpTWTr1XP6Uus1hk7P1E/PjRI7cPrKbfArNvfXKUeUaF67tau2nwkTc3q19LSHSmW9UuGv/Is2npc24+l69Cpc6Wem1UiFN7+5qoy9zFq3mp1iKhntez2N1dp97NDLbV/7646ZBUAU88Wv+dtRzMkWV/0f7g6SR+uTtKu6dcrJSNbQ2b9ZhXkJCnfbGj57sLm7i83lt3FKDM7z+rxve+tkySN7HNa/7mjmyRp1f5Uq/AnSVk5lTuGwMU8IgBW1YwZM7RgwQItX75cQUFBZa43efJkxcbGWh5nZGQoKiqqOoqIGoo+gPB0ZrOhO+as0oakNMuy3HxzqfBXZOgrK9SreajuG9Ra249laPuxDN3eu5lue6PscFYZtsKfvS5uLs03G7rvvbWWx3UD/bRi70lN+mKrptzYUafO5ly8C5uufnG56gT6lQp/lTXl622a99sBm88tXHdEaedz9cLt3XXXvDWlnv9oTZJqN5cyKxmmgSIeEQDDwsLk6+urlJQUq+UpKSmKiIgod9sXX3xRM2bM0NKlS9WtW7dy1w0MDFRgYGCVywsA7uLLjUetwl9lbEhK09kSgaSq4e9S+uVC7ZwkrdyXqpUX+iGW7PdXkeOVHFBSnqTTZQfcn7anqEXD8kcdn6UmEHbyiEEgAQEB6t27t9UAjqIBHdHR0WVu98ILL2j69OlavHix+vTpUx1FhYeiBRieKCsnX//6bLND264+eMrJpfEMg9qFObTd3DJqCIvk5jMaGPbxiBpASYqNjdXYsWPVp08f9e3bV7NmzVJWVpbGjRsnSRozZowiIyMVFxcnSfrPf/6jqVOn6uOPP1bLli2VnJwsSapbt67q1q3rsvcBd0MbMDzXlG+2VbxSGb7cwJRatjQNqeXkPRZefXIRCnt5RA2gJI0cOVIvvviipk6dqh49emjTpk1avHixZWBIUlKSjh8/bln/zTffVG5uru644w41adLE8u/FF1901VsAgBpj/eHT1RLigvx99M/rLlOjepXrXhPg595fW2dz8x2uBSwP+Q/28pgaQEmaOHGiJk6caPO55cuXWz0+dOjQpS8QvAYnX3iai/vALY29Uiv3ntTT3+2QJF0WXld7Uio/+XNZ3ry7t65u31jvrDrk8D6GdolQeHCQ3rVzH1de1ki/7inuA/jokPZqH15P972/rtL7CPTzUY4dza8Bvj56bVRPbTySpqsua6RX4/dZpteprB5Rodp0JM2ubYCLufelFOBijAKGpzqZaT0CtnVYHf1lQKsSjx3vKnN1+0b64oFoPXtLF111Yd7AR4e0t7luj6hQq8cl+7r945q2mja8k968u7eevqmzZXnsdZdp7ZMxurXElC4lRTWopZF9olQn0Ndq+YSr26ph3QDL42nDO2nfc0PLfS+7pl9f4dyH4wa0tPz86JD2Cq0doKvbN5bJZNKD17TV/13ZWpLUKqyO/nndZeXuS1Kla0uB8nhUDSAAwDn8fEzKv3Cni74tG8jnwmTHd14epQVrj2jiNW21eHuyQ/vu2by+erdooN4tiifev/PyKF3esoGiGtTS/32w3jJ33h29m1nVdtUJ8FXWhbtxPHLdZTKVuAr7duIAfbPpmMb2b6mQWv56eWQPBfn76pPEJKvXibutq0wmk9UAl79f1UZSYeC8d2ArtY+opz/3KZzmy9/XpLwy7nhiMpl0vsTdQWI6NlbdQD99vemYTCZp29NDZDYM5RWYdVP3SDUNte4D6ONj0uShHTV5aEdJ0omMbL20pLhGsFVYnVJ3E7ksvK6WXJhP8dqOjZRg/TRQKQRAAEAp5gujCn579Go1DS2eHzXutq6afENHhdTyV8/modqYlKar2jfS8t0nVTvAVy0a1tHO46XvktSgToBm3NZVK/amWmq8SjKZTGrbuLBW8fW7eun7zcfUsUmwwoOD9NTXhYNRIkNr6bpO4ZamXtNFVfDdmoWqW7NQq2VP39RJJzOzFd0mTIPahalVWB3Ldp2bBuvz9YXr/XNwe8s+p9zYyWofN3WP1Bcb/ijzWN3ZN8pyh5MCs6FZd/bUs7d2VYHZsNzF49lbupa5fUmNg4N0/6BWmrfioP7Sv6V2HMsoFQAfuKqtth/L0NAuETqWu0EJ5c8QA9hEAAScgBF48DRFv9K1Anzl51vcW8hkMimklr8k6dP/i1bG+Tw1rBuofSfOqmGdAK07fEb3v79OA9uG6bVRPXXP/DWq7e+nD+/rpwA/Hw3uXP7crFLhhMx39m0uScovKG7ynX5LZ605UPqeveUJ9PPVW2Mvt/nc3Ve0UEpGjv7ULsxyOzdbnrm5s1o2rG2pmasX6KfMEvPu3dozUmsOnNbyPSc06UJNXt1Ax79enxzWSf8c3F5B/r6l7m4yaWgH1Q3007vj+kqSXv59oyTJMOiPAvsQAIEq4JQLT2QYhuWippxcJH9fHzWsW9gfraj2LqZjY307cYDaNKqrOoF++nbCQJlMpWvrKqtk+GzbqJ7WHLQvAJbH39dHk4Z2qHC9uoF+evDadhrVr7nO5xZo7PxEqwBoMpkst2tzliD/wv6Jo/o21/rDZ9S3ZQO9cEc3tWhY+6I1jYv+D1QOARAAYKVkjba9wc1kMlk1w/qUlyAraeXjV+t0Vq6aN6wtkwsvu8IuhN3yagud7fZekWrXuK7ahddV7YDSX9mOBmuAUcCAExhcfcODlPxtrsasU6Zm9WtbQmWv5qEuLYskdWoaXG2vZTKZ1D0q1Gb4k0q2QtSADwpuhRpAoAq4+IYnMpeoAnRljZst13UK16ujeqpzNYawiz09vLPqBPppRO9mLitDEc5BcBQBEABgxSoA1rB2IpPJpJu6N3VpGerXCdDzt1ZuVO+lZ5T4L1B5NexPGwDgaiX7APpQxVSj8fHAUQRAwAmYBgaexGoQiOuKgUqwNNFzDoKdCIBAFdS0/lGAM5Qc1EQNYE1H8oNjCIAAACtmq2lgXFcOVKxoGhhiIOxFAAScgJMvPInVIBACYI3GNDBwFAEQqAK+HOGJGATiPoo/Hi5DYR8CIADAimHQB9DtkP9gJwIg4AwMA4YHMTMK2G2YGAQMBxEAgSrgyxGeyKAPoNsonomADwr2IQACAKwU1QCaTMWjTFFDmaj7g2MIgAAAK0U1gES/mq/4MyIIwj4EQMAJOPXCkxT9PjMAxB1cmAfQ4LOCfQiAQBXQPAZPVDQPIAGw5vPhI4KDCIAAACuWUcCEi5qPzwgOIgACTsAsMPAkhqUG0MUFQYX4iOAoAiAAwErRBY2JeFHjFX1CXITCXgRAAIAVMzWA7oPPCA4iAAJOYDAOGB6kqDaJQSA1H58QHEUABKqA70d4InNxGzDcBJegsBcBEABghXkA3YcP3+JwEL86AAArjAJ2I8ZF/wcqiQAIOAEj8OBJiu8FTAKs8fiI4CACIFAFTJMBT1Q8CMS15UDFij4jg3MR7EQABABYKRoEQg1gzUfrAxxFAAScgHMwPIklALq4HKhYcUbnLAT7EACBKqCCBJ6IeQDdh6WW1uCzgn0IgAAAK/QBdB+WW8G5tBRwRwRAwAnohwNPQh9AwPMRAIEq4OsRnqjoeob8V/PxGcFRBEAAgBWzZSJo0kVNZ+kCSCsE7EQABABYMSxNwC4uCCqB5AfHEAABJzA4CcODMArYffARwVEEQKAKOPnCE1luBefaYqASiu5GxCUo7EUABABYMdME7Db4iOAoAiDgDFx+w4PQBOw+DFPhh8UgENiLAAhUAfOkwRMxCMR9mKgDhIMIgAAAK2ZqAN1GyU/IoBoQdiAAAk7AaReepGhUOzXcbqDER0T+gz0IgEAV8PUIW3LyC/TbnpPKzitwdVEcwihg92FVA+iyUsAdEQCBaha/M0VrD512dTFwCf3nx90aMz9Rk77Y4uqiOKSoKdGHb4gar2QfQHMNqALMLzC7ugioJP68gWp0NO287n1vnUbMSXB1UXAJzf/9oCTp603HquX1cvPNMpud9+XPKGD3YbJ8i5tc3gR85PQ59Zy+RM//sNO1BUGlEAABJ6hs5+sjp89Zfi6w8YXtbp2431pxQC/+tNvVxSjTukOn9b9f9zstHH2/5ZjGzk/UmazcctcLqeXvlNerjPO5Beo/Y5nuemt1pbdJP5dX7vOWeQCrVDJUh5LnDFfXAL6xfJ8ys/M197cDpZ7LLzDru83HlJKR7YKSwRYCIFAVdn5D5uabbf4sSf/8dLOuenG5MrPL/3KurEsdJg3D0LOLdur1X/bpUGqW1XOnzuboqa+3ausf6VV+nSOnz+nLDX8o7Vzp0JVXYC73fd4xJ0FxP+7Sd1tK18St2HtSlz+3VPE7U2xua2u/Ez/eqF/3nNR/fy4/9NavXRwAk06dK2dNx239I107jmVozcFTSj2bo9UHSncryMrJL7Xsx63H1f3fP+vV+L1l7rvorTMIpOaz5yM6lnZeY+YnasmOFJ3LLfzdePf3g+o8dbE2JJ2RVPg39fwPO7Vi70m7ynEmK1efJB4p8/kPVh/Wg59s1A2vrLBrv7h0CIDAJZSbb9Zn647ornmrFTPzV42Zn2h57uIBAl9s+EOHT53TJ4lJVQ5vJzNzdPWLy/WvzzZbLc/KydeUr7dp9YFTVdq/JOWUCLBnLwoa//1ptz5cnaThr6/U0h0pevb7Hbp59u9KPZtj12ucyMjWoBd+UeynmzV2fqJSz+botfi9Sk7P1snMHPV9bqn++enmCvez6UiajqWdt1p2z9uJOpmZo3vfW1dq/W82HVW3Z37Wyr2pNvd39EzxvjYmnVHCfuvj2Tg4yPLzY1+UXb4Cs6F3fz+oncczKnwPJaWfz9Pw11fqhldXWHX8L3lRMfPn3eo87SeNmrtap87maM2BU7r1jd/1wEcbCp9fsqfM37OimiQf8l+NZyrxU0WnjZeX7NFve07q/vfXqevTPysjO09Pf7dDWbkFmvHjLknSm8v3a+5vB3TP24nl7utQapZeX7ZX320+pozsPH205nC568fvPCFJOpWVq/idKZr2zTbl5JceJGWrZQSXBgEQcIL8C1/ke1MydTA1S7e+8bsWb0vWrKV79OjnW7Rq/yntO3HWapue05do3YXBICczi4PR0p0ndPlzS/XG8n1lvl52XoEyyqkpnPHjLh06dU6fr//DavmTX23VB6sP6865ZTcXXlwzacvJzBz9tqe4hqDopG02G3p92V4tWFtcE3Df++v01sqD2nwkTS8v2WNzf2+tOKDouPhSNYmJJQbLbP4jXf3jlumlJXs04n+r9H7CIZ05l6cvNx61uc+SXy7v/H5I/Wcs0w9bj1f43iTpoQWblJmdr/vfLx0OJenXPSf19sqDMpsN3frGKo2at1qnSzQLN6gdYPl5Q1Ka1bZnc/J1x5ur9MrSvfp4zWE9/d0O3fBqYa2IYRgVNi9n5eRbhdmNJfZfVKsjSa8uK/z9SThwSo9+vkUj5662WleSnvhqm83XMFMD6JbKawI+nZWrTUfSLI8LzIamfbPd8jjjfJ5WHzilmWX8jR5MzdI3m45aLhquenG5Xvx5jx78ZKNGz1uji3NbfoFZP29Ptlz0lfxVuve9dXov4bC+32z993jqbOFF3eQvCwdPncvNt/q7gnN5VACcPXu2WrZsqaCgIPXr10+JieVfwXz22Wfq0KGDgoKC1LVrV/3www/VVFJ4iqIReO/8fkhPf7dDI+eu1uh5hV+04z9crzeW7y93+zvmJOim11fq8ueWWpYlHjyt1LO5emHxbh05fU4j5qzS098Wnqhz8gsuLEvQ5c8u1eYSJ/T9J8/q1Nkcmc2Gvtjwx8UvpbRzuVaDEj5JTNJzi3ZY1T4dSs1S92d+1n3vrbNZO/Tz9mTdfKG8f/tgvWV5UW3gd1uO6cWfbX+BSNJP2wtHQJ/Ptb7yf3bRTh1Pz9ZVLy7XxqQzennJHh1MzdJbKw5arZd7YYThkdPn9dqysgOyJP3v19L9kIpqOS72vY0mYknKNxe+3tY/0kuFwenf79DmP9Isj/efPKvsvAJ9vv4PHUgtDvvtGte1/Dx/5UF1mfaT1h0+o5eX7tGUC1/ARYd6xuJd6jl9iRZvS9YX6/+wujAoMBvqHxevztN+0lclQm/JptzvNh+zWYOybNcJm+/vk8QkZeXk2xi5SQ2guygZrIo++RV7T2rYqyu07WhxF4zBL/+mvRddhJb8PdqVnFnuheHgl3/VQws26bstpS+ith4t3dXj+y3H9bcP1uuK5+NVYDZsXkxkX7hIO5uTr4Vrk/Rq/F6dutCUbBiGbn79d0XHxWuRjddE1fm5ugDOsnDhQsXGxmrOnDnq16+fZs2apSFDhmj37t1q3LhxqfVXrVqlUaNGKS4uTjfeeKM+/vhj3XLLLdqwYYO6dOnigncAT+DI1eqWcvrJDXrhF0nS2kNnNPGatvrHJxu1qkRz482zf1fcbV316+6TWrw9WZLUIaKe1T5y8gsU6OerFy4arDH5y62SpHkrDurQjGGSpA9XH9b5vAIt3ZmibzYd0y09I622KRn6Sno/4ZDWHjqt/1YwICT1bI5lBPTIPlEa2TdKzerXslrn1jdWSZJeKaeP2sUKzIYWb0vWo59v1v/u6a1B7Rpp4drS/ZFqB/ja3H7ixxt1Y7empZYXBfzb3vxdeQWlg1XJDu1ljexOKzHg4t/f7yjzPby36pAltI7/sPA4+/mYtPe5oTKZTPpiwx86ll74erY62UvSlG+263xegf72pzbW78NU9iTB0XHx6hIZoidu6Kj5Kw/qX0Pal5gHkARY05X8hO6cm6BdxzOVf+EDvPG1lbrnihbq1izE7u4XUuHv95xf9yuqfm3L7//SHSm6qXvpv5VzF13UFV1Y5psNDfzPslJ/55L05Ffb1LBOoOb/flCJB637sG5IOmMJrJv/SNOwbk3sLj/K5zEBcObMmbr//vs1btw4SdKcOXO0aNEizZ8/X5MmTSq1/iuvvKLrr79ejz76qCRp+vTpWrJkiV5//XXNmTOnWssO93Uis/pGtB04mWUV/ooUBbkiu5IzrR63f2qx2jWuW+rqv6T1h8+oZ1SoAvyKGwUeXrhJtQN8NefX/Zo0tKO6RoaUuf33W47rezuv0heuO6KF68ruNG6Pszn5mvBxYd+2or5Lvjaqr8obgfjgJxt1NjtPc+7pbVlmMhX2B7QV/qTCZumKHE07rx+2HteQzhHlrjft2+2lluWbDc34cZcm39CxVBeCssz4cVep34Hy+oZlZOdr1f5TGjEnQefzCrTm4GkdvdDEHFzLY74iPJalZs2Qth0t3Zf0g9Xl980rT7/n40stSztfuuuJv6+pVJ/m/5W4SDmenq3j6bb/9ooudi4WW6Jv76TrO1SqvLCPyXC3eSdsyM3NVe3atfX555/rlltusSwfO3as0tLS9M0335Tapnnz5oqNjdXDDz9sWTZt2jR9/fXX2ry54k7lkpSRkaGQkBClp6crODi4qm/DYs2GuVpzaGnFK8Llth/L0PlquttDiwa1dfj0pRlRaou/r6nM4OPOujcLkb+vj9YdPmPzeR+TSvVncrXaAb6qE+Crk2ertz9UeL1ARTWoXa2vCfvsy0vXL9nHFHmunoYdbeeSMgT6+qhN47raYedgpsq4oWuE2lx+g9T6Sqfu91J9f7sTj7i8S01NVUFBgcLDw62Wh4eHa9cu231+kpOTba6fnJxc5uvk5OQoJ6e4Gj0jw/m/7JK0IWm55mUykaZbqFfxKs6yUZIaVN/reaqN5y78jbvjsXRFmTMrXgWu195I0YN+pWuRq81J6dpLkSh2Sgqv7/QACA8JgNUlLi5OzzzzzCV/na5NozU6l7OuO9h/8qxyXHS/Vz9fH2675KbqBPrJx8ek83kFMknKq8TIa1doGVZHtQP4mqjJDBnafSxTURmt9U5+oKuLox5RoVajjatqbP+W8ons47T9oZhH/GWHhYXJ19dXKSnWE7qmpKQoIsJ2v5uIiAi71pekyZMnKzY21vI4IyNDUVFRVSi5bQP7PqiBfR90+n7hfNFx8WX2bbnUfnxokIbaOanqMzd1ttnX7GKdmgTb3ZzTOqyODlw0jcvFAv18rOYPtFeHiHpKPZtrV4f2ewe20rurDqlpaJCOnD5f6vkZt3XVpIv6UV5K/7imrWIHt7c8Pp5+XtFxy6rt9Surd4v6evquaPkwFLjGazlpkZY7YT8dmwTbPSflxWZe3l3PHKxcN6rKGHfDMKftC9Y8YhqYgIAA9e7dW/HxxR1WzWaz4uPjFR0dbXOb6Ohoq/UlacmSJWWuL0mBgYEKDg62+gfvdvEEyEVm39VL3z84sFL7uPWikbaVMahdmNqHV779+c3RvbTisas1JrqF/nRZowrXv7xlfcvPY6JbWD13W69I3dYzUv++ubMk6bLwutr97PUa2rX44umBq9qobeO62jDlOsuyv1/VRrumX6+6gaWvOxvUCdAH9/bVW2NsX+n/6bJG2vHvIVr88J/07cQBluVPD+9U4Xt5alhHbZp6na66rPRsAIF+ProsovRxHNG7md4ea7sso/o2r/A1i3x8fz/d1jNSXzxQfF4pGf4kWdWw1Quy75r8voGt1LySffT6tKivVZOuKbX81VE9ba7/xQP9CX9eIrp1Q7VpVEdf/b2/Jg3tIF8fkx4d0r7iDW0Ire2vOmWMti/yxA3Fgzq+mzhQc0sMvEL18YgaQEmKjY3V2LFj1adPH/Xt21ezZs1SVlaWZVTwmDFjFBkZqbi4OEnSQw89pCuvvFIvvfSShg0bpgULFmjdunWaO3euK98G3IytAFg30M8yZcGvj16lWUv3atGW43p1VA+9n3BYq/af0sC2YVq5r/AuEy+P7KEtf6Rp/8mya89ev6unQmsFqEXD2lad8sdGt9B7CYfVulEd1a8doPUXBjZ8PWGAbpn9u2W9IZ0jLF/mb4zupS7Tfir3ffVoHqr3EgpHD5acGPqvA1pp6oXQZTYbahpSSz2ahyrQz1fpJUYHPn59Bz1+YeTef27vqrWHzugf17aTyWTSiseu1tG087osvJ4ue+pHSdLofs01qF1hMJ17T29FhATpptcLyz+saxPNHt3Lsu86JQLkHX2idFe/Fpb92GIymVQvyN/m/XlDavkr1Mby527tqgA/H22eOljd//2zZXmXyGDF3dZVnyQmldrmwWva6lRWrj5eU/jcvDF91L9NmPq3CZMkvTWmjxrVK91EV/LLsm6gnzKzbV9UFHn+1q564qvCGsvHru+gp27sVDhH4Ix4pWSUXTPauWmwmobW0qpJ16j/jMIax5t7NNVN3ZsqN99sddeYx6537MsfrnFH72Y6nZWrG7o2KXX3nyJf/b2/zubka2/KWavpiAa1C9MH9/aTYRTO1Tf+yjYaG91SR9POW6Z1mnB1G83+Zb8euradZXqmV0f11PurDlkNpvrrgFYa1K6Rlv3rKqsRxI8Oaa+moUG6tWczSYWTRK87dEYhtfzVtVmIujYre4YBXDoeEwBHjhypkydPaurUqUpOTlaPHj20ePFiy0CPpKQk+fgUV3j2799fH3/8sZ566ik98cQTateunb7++mvmAIRd+rZsoDUXzV91VfviGrYWDeto5p+76/lbu6pWgK8Gd4rQ+bwCvfTzHksAlCQ/n9KV8bf2jLRM1NqiQR2bJ8nJN3RU09BaGtw5Qn4+Jv33p926b1ArdWsWqvsHtdK8FQdVL8jPqianZA3ctOGdFL/zhJJOn1PShRHGdQJ8dWO3ptqVnKkPEw7rvkGtLXf2KHmPWx8fk2I6FQ+kyjhvO7iMvLy5Rl5eXGtWv06A6tcpvFPGdZ3CtfN4hv46oJXl+cEXpku5+4rmOpGRo1l39rDaX0gtf/375s7y9TFZ3svtvZrZnPy6pKgGpechG9A2TKEl7tohFX5+RdPhhNT2152XR1ne/5cPDCi1D6mwhvKfF2r2zmbnK/VsjtXvgSSrY1WSn2/xZz+saxOZTIVzM9oS4OtjVUtYVE5fH5OWxl6prk8XhtVRfZvrk8Qkqyb3IP/CoNk0tPg4+F6YQuTGbsXBYc7dvTS4U/lT1qBmeXFEd8vPN3Zrog5TFpdap2fzwlr9Qe0aWQXAD+7tJ8n6ri+1AnxVq8SFyYPXtNPY6JYKqxtoCYA9moXqpgf664XFuywT3j81rKN8fEwKDw6yXCi9PLKH2jQqngxdKvydn3tRbf9Twzrq2UUMfqxOHhMAJWnixImaOHGizeeWL19eatmIESM0YsSIS1wqeLLXRvUsvLVa3+byMUlfbzymUX2t+4WaTCbLydTHx6Q6gX66+4rmmv/7QQ2+EApCSgSrSUM7qE6gn3o1D7UEwPY2mimlwi/1/7uyeNLfks15D8VcptoBfhrRp1mZ5S9qei0wG2r7ZGEt2t/+1Eb+vj6aPLSj/jW4vfx9ffR/f2qtRVuP6+4rWpS5r/+7srW+3XxMd/Qu+/UuNm9MH5nNhs2mxmdv6VrmdmOiW1o9LjnBs6+PyXI3jDl3F9cc3tQ9Uh+tSdKWP9J1c4+matmwjsYNaGkViBvUCSjVJFpyoqyS8ySWVLL4ZTWpVkbtAF/FDm6vm3tE6uuNR/XdlmPq06KBFl24hd34K1uX+jItUqdEU/K1HRrrxm5NZJJ011trJEmtG9UptU3eheMU5O+rUX2jlJKRo8GdImj6dWOBJX5HY6+7TDOX7NHdV1h3W7i8ZX2tPXRGw7qWPblyZGgt/f2qNgqu5a8gf1/LBcTbY/voVFaumjcsbInwL3EBU/L3ZlTf5nZ1l7hvUGv9dUAr+fiYtGp/qu6at0b/uKZtpbeH/TwqAALVrXFwkKXmRyrs+1YZrRvV1danB1u+tEs2DY6/EOgMw9Df/tRabRrVKTN4lKduoJ8eue4ym89Nv7mz5QvAZDLJz9ekOXf31vdbjumvA1ta1is6uU++oaMmDe1Q7r1hOzcN0eZpgxVsZz82Z4SNB69pq5X7UvXnPlEa27+FOk0tbOLuUmLy6loBvvp2ou1+mUO7RGhPSqbm3N1bwUHWTcJdIoO10PYtgS1s3UXEEUXHoktkiLpEhujJYR1lMpk0q8Csw6ey1KZRXZlMJs2+q5eahAbZ3FaSOl1o7pUKm9QTDpzS7b1KB/OSo8jjbuvmlPcA1zKZTPrX4Mt0PD1bD17TVndeHlWq68H/7umjn7YnV3h3jcdsTMB8bUfrmmxHzk1lKfod7t8mTNueGWKzvzCcxyMmgnYVJpKEs7yxfJ9eWFzY36botmxw3BNfbdX53ALN/HP3ckNrZeQXmPXWyoMa0CbM0gw/6YstWrD2iG7q3lQj+jTTgDZhVQqysQs36ecdKVr2zyvVODio4g3KcOT0OaWfz7MKvra0nLRIkhTTMVxvlTHYBaiM7cfSNezVlaoX5KetTw9xdXEqje9vAmCV8AsEZ8nJL9ATX27T1R0aOa02CZdOTn6BNialqVfz+k6pATEMQ7kFZgX6lT960lm6P/Oz0s/nafotXXRPOc36QGVsP5auiOAgNazr+nkIK4vvbwJglfALBMAdpWRka/3hMxrSOcLmPZMBT8f3N30AAcDrhAcH6YZyBgAA8HweMRE0AAAAKo8ACAAA4GUIgAAAAF6GAAgAAOBlCIAAAABehgAIAADgZQiAAAAAXoYACAAA4GUIgAAAAF6GAAgAAOBlCIAAAABehgAIAADgZQiAAAAAXsbP1QVwZ4ZhSJIyMjJcXBIAAFBZRd/bRd/j3ogAWAWZmZmSpKioKBeXBAAA2CszM1MhISGuLoZLmAxvjr9VZDabdezYMdWrV08mk8mp+87IyFBUVJSOHDmi4OBgp+7bU3CMKsYxqhjHqGIco4pxjCpWk46RYRjKzMxU06ZN5ePjnb3hqAGsAh8fHzVr1uySvkZwcLDL/1BqOo5RxThGFeMYVYxjVDGOUcVqyjHy1pq/It4ZewEAALwYARAAAMDLEABrqMDAQE2bNk2BgYGuLkqNxTGqGMeoYhyjinGMKsYxqhjHqGZhEAgAAICXoQYQAADAyxAAAQAAvAwBEAAAwMsQAAEAALwMAbAGmj17tlq2bKmgoCD169dPiYmJri5StYiLi9Pll1+uevXqqXHjxrrlllu0e/duq3Wys7M1YcIENWzYUHXr1tXtt9+ulJQUq3WSkpI0bNgw1a5dW40bN9ajjz6q/Pz86nwr1WbGjBkymUx6+OGHLcs4RtLRo0d19913q2HDhqpVq5a6du2qdevWWZ43DENTp05VkyZNVKtWLcXExGjv3r1W+zh9+rRGjx6t4OBghYaG6t5779XZs2er+61cEgUFBZoyZYpatWqlWrVqqU2bNpo+fbrVfVG98Rj99ttvGj58uJo2bSqTyaSvv/7a6nlnHZMtW7Zo0KBBCgoKUlRUlF544YVL/dacprxjlJeXp8cff1xdu3ZVnTp11LRpU40ZM0bHjh2z2oenHyO3YaBGWbBggREQEGDMnz/f2L59u3H//fcboaGhRkpKiquLdskNGTLEeOedd4xt27YZmzZtMm644QajefPmxtmzZy3rjB8/3oiKijLi4+ONdevWGVdccYXRv39/y/P5+flGly5djJiYGGPjxo3GDz/8YISFhRmTJ092xVu6pBITE42WLVsa3bp1Mx566CHLcm8/RqdPnzZatGhh/OUvfzHWrFljHDhwwPjpp5+Mffv2WdaZMWOGERISYnz99dfG5s2bjZtuuslo1aqVcf78ecs6119/vdG9e3dj9erVxooVK4y2bdsao0aNcsVbcrrnnnvOaNiwofH9998bBw8eND777DOjbt26xiuvvGJZxxuP0Q8//GA8+eSTxpdffmlIMr766iur551xTNLT043w8HBj9OjRxrZt24xPPvnEqFWrlvG///2vut5mlZR3jNLS0oyYmBhj4cKFxq5du4yEhASjb9++Ru/eva324enHyF0QAGuYvn37GhMmTLA8LigoMJo2bWrExcW5sFSuceLECUOS8euvvxqGUXhy8ff3Nz777DPLOjt37jQkGQkJCYZhFJ6cfHx8jOTkZMs6b775phEcHGzk5ORU7xu4hDIzM4127doZS5YsMa688kpLAOQYGcbjjz9uDBw4sMznzWazERERYfz3v/+1LEtLSzMCAwONTz75xDAMw9ixY4chyVi7dq1lnR9//NEwmUzG0aNHL13hq8mwYcOMv/71r1bLbrvtNmP06NGGYXCMDMMoFW6cdUzeeOMNo379+lZ/a48//rjRvn37S/yOnM9WSL5YYmKiIck4fPiwYRjed4xqMpqAa5Dc3FytX79eMTExlmU+Pj6KiYlRQkKCC0vmGunp6ZKkBg0aSJLWr1+vvLw8q+PToUMHNW/e3HJ8EhIS1LVrV4WHh1vWGTJkiDIyMrR9+/ZqLP2lNWHCBA0bNszqWEgcI0n69ttv1adPH40YMUKNGzdWz549NW/ePMvzBw8eVHJystUxCgkJUb9+/ayOUWhoqPr06WNZJyYmRj4+PlqzZk31vZlLpH///oqPj9eePXskSZs3b9bKlSs1dOhQSRwjW5x1TBISEvSnP/1JAQEBlnWGDBmi3bt368yZM9X0bqpPenq6TCaTQkNDJXGMahI/VxcAxVJTU1VQUGD1xSxJ4eHh2rVrl4tK5Rpms1kPP/ywBgwYoC5dukiSkpOTFRAQYDmRFAkPD1dycrJlHVvHr+g5T7BgwQJt2LBBa9euLfUcx0g6cOCA3nzzTcXGxuqJJ57Q2rVr9Y9//EMBAQEaO3as5T3aOgYlj1Hjxo2tnvfz81ODBg084hhNmjRJGRkZ6tChg3x9fVVQUKDnnntOo0ePliSOkQ3OOibJyclq1apVqX0UPVe/fv1LUn5XyM7O1uOPP65Ro0YpODhYEseoJiEAokaaMGGCtm3bppUrV7q6KDXKkSNH9NBDD2nJkiUKCgpydXFqJLPZrD59+uj555+XJPXs2VPbtm3TnDlzNHbsWBeXrmb49NNP9dFHH+njjz9W586dtWnTJj388MNq2rQpxwhOkZeXpz//+c8yDENvvvmmq4sDG2gCrkHCwsLk6+tbasRmSkqKIiIiXFSq6jdx4kR9//33+uWXX9SsWTPL8oiICOXm5iotLc1q/ZLHJyIiwubxK3rO3a1fv14nTpxQr1695OfnJz8/P/3666969dVX5efnp/DwcK8/Rk2aNFGnTp2slnXs2FFJSUmSit9jeX9nEREROnHihNXz+fn5On36tEcco0cffVSTJk3SnXfeqa5du+qee+7RI488ori4OEkcI1ucdUw8/e9PKg5/hw8f1pIlSyy1fxLHqCYhANYgAQEB6t27t+Lj4y3LzGaz4uPjFR0d7cKSVQ/DMDRx4kR99dVXWrZsWakmgN69e8vf39/q+OzevVtJSUmW4xMdHa2tW7danWCKTkAXhwJ3dO2112rr1q3atGmT5V+fPn00evRoy8/efowGDBhQavqgPXv2qEWLFpKkVq1aKSIiwuoYZWRkaM2aNVbHKC0tTevXr7ess2zZMpnNZvXr168a3sWlde7cOfn4WJ/+fX19ZTabJXGMbHHWMYmOjtZvv/2mvLw8yzpLlixR+/btPaJpsyj87d27V0uXLlXDhg2tnucY1SCuHoUCawsWLDACAwONd99919ixY4fxt7/9zQgNDbUasempHnjgASMkJMRYvny5cfz4ccu/c+fOWdYZP3680bx5c2PZsmXGunXrjOjoaCM6OtryfNEUJ4MHDzY2bdpkLF682GjUqJHHTHFiS8lRwIbBMUpMTDT8/PyM5557zti7d6/x0UcfGbVr1zY+/PBDyzozZswwQkNDjW+++cbYsmWLcfPNN9uczqNnz57GmjVrjJUrVxrt2rVz6ylOSho7dqwRGRlpmQbmyy+/NMLCwozHHnvMso43HqPMzExj48aNxsaNGw1JxsyZM42NGzdaRrA645ikpaUZ4eHhxj333GNs27bNWLBggVG7dm23meKkvGOUm5tr3HTTTUazZs2MTZs2WZ3HS47o9fRj5C4IgDXQa6+9ZjRv3twICAgw+vbta6xevdrVRaoWkmz+e+eddyzrnD9/3vj73/9u1K9f36hdu7Zx6623GsePH7faz6FDh4yhQ4catWrVMsLCwox//vOfRl5eXjW/m+pzcQDkGBnGd999Z3Tp0sUIDAw0OnToYMydO9fqebPZbEyZMsUIDw83AgMDjWuvvdbYvXu31TqnTp0yRo0aZdStW9cIDg42xo0bZ2RmZlbn27hkMjIyjIceesho3ry5ERQUZLRu3dp48sknrb6kvfEY/fLLLzbPQWPHjjUMw3nHZPPmzcbAgQONwMBAIzIy0pgxY0Z1vcUqK+8YHTx4sMzz+C+//GLZh6cfI3dhMowSU78DAADA49EHEAAAwMsQAAEAALwMARAAAMDLEAABAAC8DAEQAADAyxAAAQAAvAwBEAAAwMsQAAEAALwMARAAAMDLEAABAAC8DAEQAADAyxAAAQAAvAwBEAAAwMsQAAEAALwMARAAAMDLEAABAAC8DAEQAADAyxAAAQAAvAwBEAAAwMsQAAEAALwMARAAAMDLEAABAAC8DAEQAADAyxAAAQAAvAwBEAAAwMsQAAEAALwMARAAAMDLEAABAAC8DAEQAADAyxAAAQAAvAwBEAAAwMv8P2NpVkio4EEEAAAAAElFTkSuQmCC' width=640.0/>\n            </div>\n        ",
      "application/vnd.jupyter.widget-view+json": {
       "version_major": 2,
       "version_minor": 0,
       "model_id": "08a45839b10941b1977cc7262eb15603"
      }
     },
     "metadata": {},
     "output_type": "display_data"
    }
   ],
   "source": [
    "plt.figure()\n",
    "plt.plot(inputs[:, batch, 1].detach().cpu())\n",
    "\n",
    "plt.plot(target_outputs.detach().cpu()[:, batch, 1])\n",
    "plt.plot(target_outputs.detach().cpu()[:, batch, 2])"
   ],
   "metadata": {
    "collapsed": false,
    "pycharm": {
     "name": "#%%\n"
    }
   }
  },
  {
   "cell_type": "code",
   "execution_count": 14,
   "source": [],
   "outputs": [],
   "metadata": {}
  },
  {
   "cell_type": "code",
   "execution_count": 15,
   "source": [
    "torch.save(model.state_dict(), name)"
   ],
   "outputs": [],
   "metadata": {}
  },
  {
   "cell_type": "code",
   "execution_count": 16,
   "source": [
    "if True:\n",
    "    model.load_state_dict(torch.load(name))"
   ],
   "outputs": [],
   "metadata": {}
  },
  {
   "cell_type": "code",
   "execution_count": 17,
   "source": [
    "dmparamsv = dmparams1\n",
    "Taskplot = RomoTask(params=dmparamsv, batch_size=1, delay_beetween=100)\n",
    "inputs, target_outputs = Taskplot.dataset(10)\n",
    "inputs += np.random.normal(0, 0.01, size=(inputs.shape))\n",
    "inputs = torch.from_numpy(inputs).type(torch.float).to(device)\n",
    "target_outputs = torch.from_numpy(target_outputs).type(torch.float).to(device)\n",
    "outputs, states = model(inputs)"
   ],
   "outputs": [
    {
     "ename": "NameError",
     "evalue": "name 'dmparams1' is not defined",
     "output_type": "error",
     "traceback": [
      "\u001B[1;31m---------------------------------------------------------------------------\u001B[0m",
      "\u001B[1;31mNameError\u001B[0m                                 Traceback (most recent call last)",
      "\u001B[1;32m~\\AppData\\Local\\Temp/ipykernel_36524/1066633790.py\u001B[0m in \u001B[0;36m<module>\u001B[1;34m\u001B[0m\n\u001B[1;32m----> 1\u001B[1;33m \u001B[0mdmparamsv\u001B[0m \u001B[1;33m=\u001B[0m \u001B[0mdmparams1\u001B[0m\u001B[1;33m\u001B[0m\u001B[1;33m\u001B[0m\u001B[0m\n\u001B[0m\u001B[0;32m      2\u001B[0m \u001B[0mTaskplot\u001B[0m \u001B[1;33m=\u001B[0m \u001B[0mRomoTask\u001B[0m\u001B[1;33m(\u001B[0m\u001B[0mparams\u001B[0m\u001B[1;33m=\u001B[0m\u001B[0mdmparamsv\u001B[0m\u001B[1;33m,\u001B[0m \u001B[0mbatch_size\u001B[0m\u001B[1;33m=\u001B[0m\u001B[1;36m1\u001B[0m\u001B[1;33m,\u001B[0m \u001B[0mdelay_beetween\u001B[0m\u001B[1;33m=\u001B[0m\u001B[1;36m100\u001B[0m\u001B[1;33m)\u001B[0m\u001B[1;33m\u001B[0m\u001B[1;33m\u001B[0m\u001B[0m\n\u001B[0;32m      3\u001B[0m \u001B[0minputs\u001B[0m\u001B[1;33m,\u001B[0m \u001B[0mtarget_outputs\u001B[0m \u001B[1;33m=\u001B[0m \u001B[0mTaskplot\u001B[0m\u001B[1;33m.\u001B[0m\u001B[0mdataset\u001B[0m\u001B[1;33m(\u001B[0m\u001B[1;36m10\u001B[0m\u001B[1;33m)\u001B[0m\u001B[1;33m\u001B[0m\u001B[1;33m\u001B[0m\u001B[0m\n\u001B[0;32m      4\u001B[0m \u001B[0minputs\u001B[0m \u001B[1;33m+=\u001B[0m \u001B[0mnp\u001B[0m\u001B[1;33m.\u001B[0m\u001B[0mrandom\u001B[0m\u001B[1;33m.\u001B[0m\u001B[0mnormal\u001B[0m\u001B[1;33m(\u001B[0m\u001B[1;36m0\u001B[0m\u001B[1;33m,\u001B[0m \u001B[1;36m0.01\u001B[0m\u001B[1;33m,\u001B[0m \u001B[0msize\u001B[0m\u001B[1;33m=\u001B[0m\u001B[1;33m(\u001B[0m\u001B[0minputs\u001B[0m\u001B[1;33m.\u001B[0m\u001B[0mshape\u001B[0m\u001B[1;33m)\u001B[0m\u001B[1;33m)\u001B[0m\u001B[1;33m\u001B[0m\u001B[1;33m\u001B[0m\u001B[0m\n\u001B[0;32m      5\u001B[0m \u001B[0minputs\u001B[0m \u001B[1;33m=\u001B[0m \u001B[0mtorch\u001B[0m\u001B[1;33m.\u001B[0m\u001B[0mfrom_numpy\u001B[0m\u001B[1;33m(\u001B[0m\u001B[0minputs\u001B[0m\u001B[1;33m)\u001B[0m\u001B[1;33m.\u001B[0m\u001B[0mtype\u001B[0m\u001B[1;33m(\u001B[0m\u001B[0mtorch\u001B[0m\u001B[1;33m.\u001B[0m\u001B[0mfloat\u001B[0m\u001B[1;33m)\u001B[0m\u001B[1;33m.\u001B[0m\u001B[0mto\u001B[0m\u001B[1;33m(\u001B[0m\u001B[0mdevice\u001B[0m\u001B[1;33m)\u001B[0m\u001B[1;33m\u001B[0m\u001B[1;33m\u001B[0m\u001B[0m\n",
      "\u001B[1;31mNameError\u001B[0m: name 'dmparams1' is not defined"
     ]
    }
   ],
   "metadata": {}
  },
  {
   "cell_type": "code",
   "execution_count": null,
   "source": [
    "%matplotlib inline\n",
    "for i in range(inputs.shape[2]):\n",
    "    plt.plot(inputs[:, 0, i].detach().cpu().numpy(), label=fr\"$u_{i + 1}$\")\n",
    "    plt.legend()\n",
    "    plt.show()\n",
    "    plt.close()\n",
    "for i in range(outputs.shape[2]):\n",
    "    plt.plot(outputs[:, 0, i].detach().cpu().numpy(), label=fr\"$u_{i + 1}$\")\n",
    "    plt.plot(\n",
    "        target_outputs[:, 0, i].detach().cpu().numpy(), label=fr\"$u^{{target}}_{i + 1}$\"\n",
    "    )\n",
    "    plt.legend()\n",
    "    plt.show()\n",
    "    plt.close()\n",
    "\n",
    "plt.plot(\n",
    "    outputs[:, 0, -2].detach().cpu().numpy() - outputs[:, 0, -1].detach().cpu().numpy(),\n",
    "    label=fr\"$u_2 - u_3$\",\n",
    ")\n",
    "plt.plot(target_outputs[:, 0, -2].detach().cpu().numpy(), label=fr\"$u^{{target}}_{2}$\")\n",
    "plt.plot(target_outputs[:, 0, -1].detach().cpu().numpy(), label=fr\"$u^{{target}}_{3}$\")\n",
    "plt.legend()\n",
    "plt.show()\n",
    "plt.close()"
   ],
   "outputs": [],
   "metadata": {}
  },
  {
   "cell_type": "code",
   "execution_count": null,
   "source": [
    "%matplotlib inline\n",
    "for i in range(inputs.shape[2]):\n",
    "    plt.plot(inputs[:, 0, i].detach().cpu().numpy(), label=fr\"$u_{i + 1}$\")\n",
    "\n",
    "plt.legend()\n",
    "plt.show()\n",
    "plt.close()\n",
    "plt.plot(target_outputs[:, 0, 1].detach().cpu().numpy(), label=fr\"$y_{2}$\")\n",
    "plt.plot(target_outputs[:, 0, 2].detach().cpu().numpy(), label=fr\"$y_{3}$\")"
   ],
   "outputs": [],
   "metadata": {}
  },
  {
   "cell_type": "code",
   "execution_count": null,
   "source": [
    "weights_post_l = []\n",
    "with torch.no_grad():\n",
    "    for name, param in model.named_parameters():\n",
    "        if param.requires_grad:\n",
    "            weights_post_l.append((param).cpu().numpy())"
   ],
   "outputs": [],
   "metadata": {}
  },
  {
   "cell_type": "code",
   "execution_count": null,
   "source": [
    "%matplotlib inline\n",
    "for i in range(len(weights_pre_l) - 1):\n",
    "    plt.imshow((weights_pre_l[i]), aspect=\"auto\", cmap=\"jet\")\n",
    "    plt.colorbar()\n",
    "    plt.show()"
   ],
   "outputs": [],
   "metadata": {}
  },
  {
   "cell_type": "code",
   "execution_count": null,
   "source": [
    "%matplotlib inline\n",
    "for i in range(len(weights_pre_l) - 1):\n",
    "    plt.imshow(\n",
    "        (weights_post_l[i]),\n",
    "        aspect=\"auto\",\n",
    "        cmap=\"jet\",\n",
    "    )\n",
    "    plt.colorbar()\n",
    "    plt.show()"
   ],
   "outputs": [],
   "metadata": {}
  },
  {
   "cell_type": "code",
   "execution_count": null,
   "source": [
    "%matplotlib inline\n",
    "for i in range(len(weights_pre_l) - 1):\n",
    "    plt.imshow(\n",
    "        (weights_post_l[i] - weights_pre_l[i]),\n",
    "        aspect=\"auto\",\n",
    "        cmap=\"jet\",\n",
    "        vmin=-0.2,\n",
    "        vmax=0.4,\n",
    "    )\n",
    "    plt.colorbar()\n",
    "    plt.show()"
   ],
   "outputs": [],
   "metadata": {}
  },
  {
   "cell_type": "code",
   "execution_count": null,
   "source": [],
   "outputs": [],
   "metadata": {}
  }
 ],
 "metadata": {
  "interpreter": {
   "hash": "305609147ade9861f62c37f84739a2a79a1a74536f27d129a7c8364bcef8fb28"
  },
  "kernelspec": {
   "name": "python3",
   "display_name": "Python 3.7.9 64-bit ('env': venv)"
  },
  "language_info": {
   "name": "python",
   "version": "3.7.11",
   "mimetype": "text/x-python",
   "codemirror_mode": {
    "name": "ipython",
    "version": 3
   },
   "pygments_lexer": "ipython3",
   "nbconvert_exporter": "python",
   "file_extension": ".py"
  },
  "orig_nbformat": 4
 },
 "nbformat": 4,
 "nbformat_minor": 2
}