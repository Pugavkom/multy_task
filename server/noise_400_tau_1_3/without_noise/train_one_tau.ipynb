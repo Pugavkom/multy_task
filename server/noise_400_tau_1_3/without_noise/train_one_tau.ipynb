{
 "cells": [
  {
   "cell_type": "markdown",
   "metadata": {},
   "source": [
    "# Описание\n",
    "\n",
    "## Задачи\n",
    "_Испольуется три задачи:_\n",
    "- DM -- двухальтернативный выбор\n",
    "- Romo -- сравнение двух сигнало через задержку\n",
    "- CtxDM -- DM с контекстом\n",
    "Вход состоит из одного контекстного входа, одного стимула, 6 входов, кодирующих задачи. Выход как и раньше состоит из трех частей: контекстный выход, выходы принятия решения.\n",
    "\n",
    "## Сеть\n",
    " Сеть состоит из lif AdEx нейронов"
   ]
  },
  {
   "cell_type": "markdown",
   "metadata": {},
   "source": [
    "# Импорт всех необходимых библиотек"
   ]
  },
  {
   "cell_type": "code",
   "execution_count": 1,
   "metadata": {
    "pycharm": {
     "is_executing": true
    }
   },
   "outputs": [],
   "source": [
    "import matplotlib.pyplot as plt\n",
    "import numpy as np\n",
    "import torch\n",
    "import torch.nn as nn\n",
    "from cgtasknet.instruments.instrument_accuracy_network import CorrectAnswerNetwork\n",
    "from cgtasknet.tasks.reduce import (\n",
    "    CtxDMTaskParameters,\n",
    "    DMTaskParameters,\n",
    "    DMTaskRandomModParameters,\n",
    "    GoDlTaskParameters,\n",
    "    GoDlTaskRandomModParameters,\n",
    "    GoRtTaskParameters,\n",
    "    GoRtTaskRandomModParameters,\n",
    "    GoTaskParameters,\n",
    "    GoTaskRandomModParameters,\n",
    "    MultyReduceTasks,\n",
    "    RomoTaskParameters,\n",
    "    RomoTaskRandomModParameters,\n",
    ")\n",
    "from tqdm import tqdm\n"
   ]
  },
  {
   "cell_type": "code",
   "execution_count": 2,
   "metadata": {
    "pycharm": {
     "name": "#%%\n"
    }
   },
   "outputs": [],
   "source": [
    "go_task_list_values = np.linspace(0, 1, 8)"
   ]
  },
  {
   "cell_type": "markdown",
   "metadata": {},
   "source": [
    "# Определяем устройство"
   ]
  },
  {
   "cell_type": "code",
   "execution_count": 3,
   "metadata": {
    "pycharm": {
     "name": "#%%\n"
    }
   },
   "outputs": [
    {
     "name": "stdout",
     "output_type": "stream",
     "text": [
      "cuda:0\n"
     ]
    }
   ],
   "source": [
    "device = torch.device(\"cuda:0\" if torch.cuda.is_available() else \"cpu\")\n",
    "print(f\"{device}\")"
   ]
  },
  {
   "cell_type": "markdown",
   "metadata": {},
   "source": [
    "# Функция построения входов и выходов"
   ]
  },
  {
   "cell_type": "code",
   "execution_count": 4,
   "metadata": {
    "pycharm": {
     "name": "#%%\n"
    }
   },
   "outputs": [],
   "source": [
    "import os\n",
    "\n",
    "\n",
    "def plot_results(inputs, target_outputs, outputs):\n",
    "    if isinstance(inputs, torch.Tensor) and isinstance(target_outputs, torch.Tensor):\n",
    "        inputs, t_outputs = (\n",
    "            inputs.detach().cpu().numpy(),\n",
    "            target_outputs.detach().cpu().numpy(),\n",
    "        )\n",
    "    for bath in range(min(batch_size, 20)):\n",
    "        fig = plt.figure(figsize=(15, 3))\n",
    "        ax1 = fig.add_subplot(141)\n",
    "        plt.title(\"Inputs\")\n",
    "        plt.xlabel(\"$time, ms$\")\n",
    "        plt.ylabel(\"$Magnitude$\")\n",
    "        for i in range(3):\n",
    "            plt.plot(inputs[:, bath, i].T, label=rf\"$in_{i + 1}$\")\n",
    "        plt.legend()\n",
    "        plt.tight_layout()\n",
    "\n",
    "        ax2 = fig.add_subplot(142)\n",
    "        plt.title(\"Task code (context)\")\n",
    "        plt.xticks(np.arange(1, len(tasks) + 1), sorted(tasks), rotation=90)\n",
    "        plt.yticks([])\n",
    "        for i in range(3, inputs.shape[-1]):\n",
    "            plt.plot([i - 2] * 2, [0, inputs[0, bath, i]])\n",
    "        plt.tight_layout()\n",
    "\n",
    "        ax3 = fig.add_subplot(143)\n",
    "        plt.title(\"Target output\")\n",
    "        plt.xlabel(\"$time, ms$\")\n",
    "        for i in range(t_outputs.shape[-1]):\n",
    "            plt.plot(t_outputs[:, bath, i], label=rf\"$out_{i + 1}$\")\n",
    "        plt.legend()\n",
    "        plt.tight_layout()\n",
    "\n",
    "        ax4 = fig.add_subplot(144)\n",
    "        plt.title(\"Real output\")\n",
    "        plt.xlabel(\"$time, ms$\")\n",
    "        for i in range(outputs.shape[-1]):\n",
    "            plt.plot(\n",
    "                outputs.detach().cpu().numpy()[:, bath, i], label=rf\"$out_{i + 1}$\"\n",
    "            )\n",
    "        plt.legend()\n",
    "        plt.tight_layout()\n",
    "        if not os.path.exists(\"figures\"):\n",
    "            os.mkdir(\"figures\")\n",
    "        plt.savefig(f\"figures{os.sep}network_outputs_{name}_batch_{bath}.pdf\")\n",
    "        plt.show()\n",
    "        plt.close()"
   ]
  },
  {
   "cell_type": "markdown",
   "metadata": {
    "pycharm": {
     "name": "#%% md\n"
    }
   },
   "source": [
    "# Определяем датасет\n",
    "Датасет будет состоять из трех типов задач:\n",
    "- DM задача;\n",
    "- Romo задача;\n",
    "- CtxDM задача.\n",
    "_Параметры для последней задачи аналогичны DM задаче_\n",
    "***\n",
    "## Параметры датасета:"
   ]
  },
  {
   "cell_type": "code",
   "execution_count": 5,
   "metadata": {
    "pycharm": {
     "name": "#%%\n"
    }
   },
   "outputs": [],
   "source": [
    "batch_size = 50\n",
    "number_of_epochs = 3000\n",
    "number_of_tasks = 2\n",
    "romo_parameters = RomoTaskRandomModParameters(\n",
    "    romo=RomoTaskParameters(\n",
    "        delay=0.2,\n",
    "        positive_shift_delay_time=1.5,\n",
    "        trial_time=0.2,\n",
    "        positive_shift_trial_time=0.4,\n",
    "        answer_time=.25\n",
    "    ),\n",
    ")\n",
    "dm_parameters = DMTaskRandomModParameters(\n",
    "    dm=DMTaskParameters(trial_time=0.3, positive_shift_trial_time=1.5, answer_time=.25)\n",
    ")\n",
    "ctx_parameters = CtxDMTaskParameters(dm=dm_parameters.dm)\n",
    "go_parameters = GoTaskRandomModParameters(\n",
    "    go=GoTaskParameters(\n",
    "        trial_time=0.3,\n",
    "        positive_shift_trial_time=1.5,\n",
    "        value=go_task_list_values,\n",
    "        answer_time=.25\n",
    "    )\n",
    ")\n",
    "gort_parameters = GoRtTaskRandomModParameters(\n",
    "    go_rt=GoRtTaskParameters(\n",
    "        trial_time=0.3,\n",
    "        positive_shift_trial_time=1.5,\n",
    "        answer_time=1,\n",
    "        value=go_task_list_values,\n",
    "    )\n",
    ")\n",
    "godl_parameters = GoDlTaskRandomModParameters(\n",
    "    go_dl=GoDlTaskParameters(\n",
    "        go=GoTaskParameters(trial_time=0.2, positive_shift_trial_time=0.4, answer_time=.25, value=go_task_list_values),\n",
    "        delay=0.2,\n",
    "        positive_shift_delay_time=1.5,\n",
    "\n",
    "    )\n",
    ")"
   ]
  },
  {
   "cell_type": "markdown",
   "metadata": {},
   "source": [
    "## Датасет"
   ]
  },
  {
   "cell_type": "code",
   "execution_count": 6,
   "metadata": {
    "pycharm": {
     "name": "#%%\n"
    }
   },
   "outputs": [
    {
     "name": "stdout",
     "output_type": "stream",
     "text": [
      "Task parameters:\n",
      "RomoTask1:\n",
      "RomoTaskRandomModParameters(romo=RomoTaskParameters(dt=0.001, trial_time=0.2, answer_time=0.25, value=(None, None), delay=0.2, negative_shift_trial_time=0, positive_shift_trial_time=0.4, negative_shift_delay_time=0, positive_shift_delay_time=1.5), n_mods=2)\n",
      "\n",
      "RomoTask2:\n",
      "RomoTaskRandomModParameters(romo=RomoTaskParameters(dt=0.001, trial_time=0.2, answer_time=0.25, value=(None, None), delay=0.2, negative_shift_trial_time=0, positive_shift_trial_time=0.4, negative_shift_delay_time=0, positive_shift_delay_time=1.5), n_mods=2)\n",
      "\n",
      "DMTask1:\n",
      "DMTaskRandomModParameters(dm=DMTaskParameters(dt=0.001, trial_time=0.3, answer_time=0.25, value=None, negative_shift_trial_time=0, positive_shift_trial_time=1.5), n_mods=2)\n",
      "\n",
      "DMTask2:\n",
      "DMTaskRandomModParameters(dm=DMTaskParameters(dt=0.001, trial_time=0.3, answer_time=0.25, value=None, negative_shift_trial_time=0, positive_shift_trial_time=1.5), n_mods=2)\n",
      "\n",
      "CtxDMTask1:\n",
      "CtxDMTaskParameters(dm=DMTaskParameters(dt=0.001, trial_time=0.3, answer_time=0.25, value=None, negative_shift_trial_time=0, positive_shift_trial_time=1.5), context=None, value=(None, None))\n",
      "\n",
      "CtxDMTask2:\n",
      "CtxDMTaskParameters(dm=DMTaskParameters(dt=0.001, trial_time=0.3, answer_time=0.25, value=None, negative_shift_trial_time=0, positive_shift_trial_time=1.5), context=None, value=(None, None))\n",
      "\n",
      "GoTask1:\n",
      "GoTaskRandomModParameters(go=GoTaskParameters(dt=0.001, trial_time=0.3, answer_time=0.25, value=array([0.        , 0.14285714, 0.28571429, 0.42857143, 0.57142857,\n",
      "       0.71428571, 0.85714286, 1.        ]), negative_shift_trial_time=0, positive_shift_trial_time=1.5), n_mods=2)\n",
      "\n",
      "GoTask2:\n",
      "GoTaskRandomModParameters(go=GoTaskParameters(dt=0.001, trial_time=0.3, answer_time=0.25, value=array([0.        , 0.14285714, 0.28571429, 0.42857143, 0.57142857,\n",
      "       0.71428571, 0.85714286, 1.        ]), negative_shift_trial_time=0, positive_shift_trial_time=1.5), n_mods=2)\n",
      "\n",
      "GoRtTask1:\n",
      "GoRtTaskRandomModParameters(go_rt=GoRtTaskParameters(dt=0.001, trial_time=0.3, answer_time=1, negative_shift_answer_time=0.0, positive_shift_answer_time=0.0, value=array([0.        , 0.14285714, 0.28571429, 0.42857143, 0.57142857,\n",
      "       0.71428571, 0.85714286, 1.        ]), negative_shift_trial_time=0, positive_shift_trial_time=1.5), n_mods=2)\n",
      "\n",
      "GoRtTask2:\n",
      "GoRtTaskRandomModParameters(go_rt=GoRtTaskParameters(dt=0.001, trial_time=0.3, answer_time=1, negative_shift_answer_time=0.0, positive_shift_answer_time=0.0, value=array([0.        , 0.14285714, 0.28571429, 0.42857143, 0.57142857,\n",
      "       0.71428571, 0.85714286, 1.        ]), negative_shift_trial_time=0, positive_shift_trial_time=1.5), n_mods=2)\n",
      "\n",
      "GoDlTask1:\n",
      "GoDlTaskRandomModParameters(go_dl=GoDlTaskParameters(go=GoTaskParameters(dt=0.001, trial_time=0.2, answer_time=0.25, value=array([0.        , 0.14285714, 0.28571429, 0.42857143, 0.57142857,\n",
      "       0.71428571, 0.85714286, 1.        ]), negative_shift_trial_time=0, positive_shift_trial_time=0.4), delay=0.2, negative_shift_delay_time=0.0, positive_shift_delay_time=1.5), n_mods=2)\n",
      "\n",
      "GoDlTask2:\n",
      "GoDlTaskRandomModParameters(go_dl=GoDlTaskParameters(go=GoTaskParameters(dt=0.001, trial_time=0.2, answer_time=0.25, value=array([0.        , 0.14285714, 0.28571429, 0.42857143, 0.57142857,\n",
      "       0.71428571, 0.85714286, 1.        ]), negative_shift_trial_time=0, positive_shift_trial_time=0.4), delay=0.2, negative_shift_delay_time=0.0, positive_shift_delay_time=1.5), n_mods=2)\n",
      "\n",
      "inputs/outputs: 15/3\n"
     ]
    }
   ],
   "source": [
    "sigma = 0.5\n",
    "tasks = [\n",
    "    \"RomoTask1\",\n",
    "    \"RomoTask2\",\n",
    "    \"DMTask1\",\n",
    "    \"DMTask2\",\n",
    "    \"CtxDMTask1\",\n",
    "    \"CtxDMTask2\",\n",
    "    \"GoTask1\",\n",
    "    \"GoTask2\",\n",
    "    \"GoRtTask1\",\n",
    "    \"GoRtTask2\",\n",
    "    \"GoDlTask1\",\n",
    "    \"GoDlTask2\",\n",
    "]\n",
    "task_dict = {\n",
    "    tasks[0]: romo_parameters,\n",
    "    tasks[1]: romo_parameters,\n",
    "    tasks[2]: dm_parameters,\n",
    "    tasks[3]: dm_parameters,\n",
    "    tasks[4]: ctx_parameters,\n",
    "    tasks[5]: ctx_parameters,\n",
    "    tasks[6]: go_parameters,\n",
    "    tasks[7]: go_parameters,\n",
    "    tasks[8]: gort_parameters,\n",
    "    tasks[9]: gort_parameters,\n",
    "    tasks[10]: godl_parameters,\n",
    "    tasks[11]: godl_parameters,\n",
    "}\n",
    "Task = MultyReduceTasks(\n",
    "    tasks=task_dict,\n",
    "    batch_size=batch_size,\n",
    "    delay_between=0,\n",
    "    enable_fixation_delay=True,\n",
    "    mode=\"random\",\n",
    ")\n",
    "\n",
    "print(\"Task parameters:\")\n",
    "for key in task_dict:\n",
    "    print(f\"{key}:\\n{task_dict[key]}\\n\")\n",
    "\n",
    "print(f\"inputs/outputs: {Task.feature_and_act_size[0]}/{Task.feature_and_act_size[1]}\")"
   ]
  },
  {
   "cell_type": "markdown",
   "metadata": {},
   "source": [
    "## Пример генерации датасета"
   ]
  },
  {
   "cell_type": "code",
   "execution_count": 7,
   "metadata": {
    "pycharm": {
     "name": "#%%\n"
    }
   },
   "outputs": [
    {
     "data": {
      "image/png": "[encoded data removed]",
      "text/plain": [
       "<Figure size 1080x216 with 3 Axes>"
      ]
     },
     "metadata": {
      "needs_background": "light"
     },
     "output_type": "display_data"
    },
    {
     "data": {
      "image/png": "[encoded data removed]",
      "text/plain": [
       "<Figure size 1080x216 with 3 Axes>"
      ]
     },
     "metadata": {
      "needs_background": "light"
     },
     "output_type": "display_data"
    },
    {
     "data": {
      "image/png": "[encoded data removed]",
      "text/plain": [
       "<Figure size 1080x216 with 3 Axes>"
      ]
     },
     "metadata": {
      "needs_background": "light"
     },
     "output_type": "display_data"
    },
    {
     "data": {
      "image/png": "[encoded data removed]",
      "text/plain": [
       "<Figure size 1080x216 with 3 Axes>"
      ]
     },
     "metadata": {
      "needs_background": "light"
     },
     "output_type": "display_data"
    },
    {
     "data": {
      "image/png": "[encoded data removed]",
      "text/plain": [
       "<Figure size 1080x216 with 3 Axes>"
      ]
     },
     "metadata": {
      "needs_background": "light"
     },
     "output_type": "display_data"
    },
    {
     "data": {
      "image/png": "[encoded data removed]",
      "text/plain": [
       "<Figure size 1080x216 with 3 Axes>"
      ]
     },
     "metadata": {
      "needs_background": "light"
     },
     "output_type": "display_data"
    },
    {
     "data": {
      "image/png": "[encoded data removed]",
      "text/plain": [
       "<Figure size 1080x216 with 3 Axes>"
      ]
     },
     "metadata": {
      "needs_background": "light"
     },
     "output_type": "display_data"
    },
    {
     "data": {
      "image/png": "[encoded data removed]",
      "text/plain": [
       "<Figure size 1080x216 with 3 Axes>"
      ]
     },
     "metadata": {
      "needs_background": "light"
     },
     "output_type": "display_data"
    },
    {
     "data": {
      "image/png": "[encoded data removed]",
      "text/plain": [
       "<Figure size 1080x216 with 3 Axes>"
      ]
     },
     "metadata": {
      "needs_background": "light"
     },
     "output_type": "display_data"
    },
    {
     "data": {
      "image/png": "[encoded data removed]",
      "text/plain": [
       "<Figure size 1080x216 with 3 Axes>"
      ]
     },
     "metadata": {
      "needs_background": "light"
     },
     "output_type": "display_data"
    }
   ],
   "source": [
    "inputs, t_outputs = Task.dataset(n_trials=1, delay_between=0)\n",
    "for bath in range(min(batch_size, 10)):\n",
    "    fig = plt.figure(figsize=(15, 3))\n",
    "    ax1 = fig.add_subplot(131)\n",
    "    plt.title(\"Inputs\")\n",
    "    plt.xlabel(\"$time, ms$\")\n",
    "    plt.ylabel(\"$Magnitude$\")\n",
    "    for i in range(3):\n",
    "        plt.plot(inputs[:, bath, i], label=rf\"$in_{i + 1}$\")\n",
    "    plt.legend()\n",
    "    plt.tight_layout()\n",
    "\n",
    "    ax2 = fig.add_subplot(132)\n",
    "    plt.title(\"Task code (context)\")\n",
    "    plt.xticks(np.arange(1, len(tasks) + 1), sorted(tasks), rotation=90)\n",
    "    plt.yticks([])\n",
    "    for i in range(3, inputs.shape[-1]):\n",
    "        plt.plot([i - 2] * 2, [0, inputs[0, bath, i]], c=\"b\")\n",
    "    # plt.legend()\n",
    "    plt.tight_layout()\n",
    "\n",
    "    ax3 = fig.add_subplot(133)\n",
    "    plt.title(\"Target output\")\n",
    "    plt.xlabel(\"$time, ms$\")\n",
    "    for i in range(t_outputs.shape[-1]):\n",
    "        plt.plot(t_outputs[:, bath, i], label=rf\"$out_{i + 1}$\")\n",
    "    plt.legend()\n",
    "    plt.tight_layout()\n",
    "    plt.show()\n",
    "    plt.close()\n",
    "del inputs\n",
    "del t_outputs"
   ]
  },
  {
   "cell_type": "code",
   "execution_count": 8,
   "metadata": {
    "pycharm": {
     "name": "#%%\n"
    }
   },
   "outputs": [],
   "source": [
    "sorted_tasks = sorted(tasks)\n",
    "re_word = 'Go'\n",
    "choices_tasks = []\n",
    "values_tasks = []\n",
    "for i in range(len(sorted_tasks)):\n",
    "    if re_word in sorted_tasks[i]:\n",
    "        values_tasks.append(i)\n",
    "    else:\n",
    "        choices_tasks.append(i)\n",
    "can = CorrectAnswerNetwork(choices_tasks, values_tasks, 0.15)"
   ]
  },
  {
   "cell_type": "code",
   "execution_count": 9,
   "metadata": {
    "pycharm": {
     "name": "#%%\n"
    }
   },
   "outputs": [
    {
     "data": {
      "text/plain": [
       "[4, 5, 6, 7, 8, 9]"
      ]
     },
     "execution_count": 9,
     "metadata": {},
     "output_type": "execute_result"
    }
   ],
   "source": [
    "values_tasks"
   ]
  },
  {
   "cell_type": "markdown",
   "metadata": {},
   "source": [
    "# Инициализация сети и выгрузка на device"
   ]
  },
  {
   "cell_type": "code",
   "execution_count": 10,
   "metadata": {
    "pycharm": {
     "name": "#%%\n"
    }
   },
   "outputs": [
    {
     "data": {
      "text/plain": [
       "<All keys matched successfully>"
      ]
     },
     "execution_count": 10,
     "metadata": {},
     "output_type": "execute_result"
    }
   ],
   "source": [
    "from cgtasknet.net import SNNlifadex\n",
    "from norse.torch import LIFAdExParameters\n",
    "\n",
    "feature_size, output_size = Task.feature_and_act_size\n",
    "hidden_size = 400\n",
    "\n",
    "neuron_parameters = LIFAdExParameters(\n",
    "    v_th=torch.as_tensor(0.65),\n",
    "    tau_ada_inv=torch.as_tensor(1 / 3.),\n",
    "    alpha=100,\n",
    "    method=\"super\",\n",
    "    # rho_reset = torch.as_tensor(5)\n",
    ")\n",
    "model = SNNlifadex(\n",
    "    feature_size,\n",
    "    hidden_size,\n",
    "    output_size,\n",
    "    neuron_parameters=neuron_parameters,\n",
    "    tau_filter_inv=500,\n",
    ").to(device)\n"
   ]
  },
  {
   "cell_type": "markdown",
   "metadata": {},
   "source": [
    "# Критерий и функция ошибки"
   ]
  },
  {
   "cell_type": "code",
   "execution_count": 11,
   "metadata": {
    "pycharm": {
     "name": "#%%\n"
    }
   },
   "outputs": [],
   "source": [
    "learning_rate = 5e-3\n",
    "\n",
    "\n",
    "class RMSELoss(nn.Module):\n",
    "    def __init__(self):\n",
    "        super().__init__()\n",
    "        self.mse = nn.MSELoss()\n",
    "\n",
    "    def forward(self, yhat, y):\n",
    "        return torch.sqrt(self.mse(yhat, y))\n",
    "\n",
    "\n",
    "class MaskedMSELoss(torch.nn.Module):\n",
    "    def __init__(self):\n",
    "        super(MaskedMSELoss, self).__init__()\n",
    "\n",
    "    def forward(self, input, target, mask):\n",
    "        diff2 = (torch.flatten(input) - torch.flatten(target)) ** 2.0 * torch.flatten(mask)\n",
    "        result = torch.sum(diff2) / torch.sum(mask)\n",
    "        return result\n",
    "\n",
    "\n",
    "criterion = MaskedMSELoss()\n",
    "optimizer = torch.optim.Adam(model.parameters(), lr=learning_rate)"
   ]
  },
  {
   "cell_type": "markdown",
   "metadata": {},
   "source": [
    "## Генерация всех эпох\n",
    "> Если память не позволяет, то необходимо генерировать каждую эпоху в основном цикле обучения"
   ]
  },
  {
   "cell_type": "code",
   "execution_count": 12,
   "metadata": {
    "pycharm": {
     "name": "#%%\n"
    }
   },
   "outputs": [],
   "source": [
    "if False:\n",
    "    list_inputs = []\n",
    "    list_t_outputs = []\n",
    "    for i in tqdm(range(number_of_epochs)):\n",
    "        temp_input, temp_t_output = Task.dataset()\n",
    "        temp_input.astype(dtype=np.float16)\n",
    "        temp_t_output.astype(dtype=np.float16)\n",
    "        temp_input[:, :, :] += np.random.normal(0, sigma, size=temp_input.shape)\n",
    "        list_inputs.append(temp_input)\n",
    "        list_t_outputs.append(temp_t_output)"
   ]
  },
  {
   "cell_type": "markdown",
   "metadata": {},
   "source": [
    "# JIT numba generator (test)\n",
    "TODO: Необходимо добавить в cgtasknet и вызывать оттуда"
   ]
  },
  {
   "cell_type": "code",
   "execution_count": 13,
   "metadata": {
    "pycharm": {
     "name": "#%%\n"
    }
   },
   "outputs": [],
   "source": [
    "#from numba import njit, prange\n",
    "\n",
    "\n",
    "#@njit(cache=True, parallel=True)\n",
    "def every_bath_generator(\n",
    "        start_sigma: float,\n",
    "        stop_sigma: float,\n",
    "        times: int = 1,\n",
    "        batches: int = 1,\n",
    "        actions: int = 1,\n",
    "):\n",
    "    data = np.zeros((times, batches, actions))\n",
    "    for i in range(batches):\n",
    "        data[:, i, :] = np.random.normal(\n",
    "            0, np.random.uniform(start_sigma, stop_sigma), size=(times, actions)\n",
    "        )\n",
    "    return data"
   ]
  },
  {
   "cell_type": "markdown",
   "metadata": {},
   "source": [
    "# Основной цикл обучения"
   ]
  },
  {
   "cell_type": "code",
   "execution_count": 15,
   "metadata": {
    "pycharm": {
     "name": "#%%\n"
    }
   },
   "outputs": [
    {
     "name": "stderr",
     "output_type": "stream",
     "text": [
      "100%|████████████████████████████████████████████████████████████████████████████████████████████████████████████████████████████████████████████████████████████████████████████████████████████████████████████████████████████████████████████████████████████████████████████████████████████████████████████████████████████████████████████████████████████████████████████████████████| 3000/3000 [16:14:13<00:00, 19.48s/it]"
     ]
    },
    {
     "name": "stdout",
     "output_type": "stream",
     "text": [
      "Finished Training\n"
     ]
    },
    {
     "name": "stderr",
     "output_type": "stream",
     "text": [
      "\n"
     ]
    }
   ],
   "source": [
    "from cgtasknet.instruments.instrument_accuracy_network import correct_answer\n",
    "from cgtasknet.net.states import LIFAdExInitState\n",
    "from norse.torch import LIFAdExState\n",
    "\n",
    "name = f\"Train_dm_and_romo_task_reduce_lif_adex_without_refrac_random_delay_long_a_alpha_{neuron_parameters.alpha}_N_{hidden_size}\"\n",
    "init_state = LIFAdExInitState(batch_size, hidden_size, device=device)\n",
    "running_loss = 0\n",
    "sigma = 0\n",
    "for i in tqdm(range(number_of_epochs)):\n",
    "    inputs, target_outputs = Task.dataset(number_of_tasks)\n",
    "    inputs = torch.from_numpy(inputs).type(torch.float).to(device)\n",
    "    target_outputs = torch.from_numpy(target_outputs).type(torch.float).to(device)\n",
    "    loss_mask = torch.zeros_like(target_outputs)\n",
    "    mask_indexes_signes = torch.where(target_outputs[:, :, 0] == 1)\n",
    "    mask_indexes_zeros = torch.where(target_outputs[:, :, 0] == 0)\n",
    "    loss_mask[mask_indexes_signes[0], mask_indexes_signes[1], :] = 1\n",
    "    loss_mask[mask_indexes_zeros[0], mask_indexes_zeros[1], :] = 5\n",
    "    optimizer.zero_grad()\n",
    "    init_state = LIFAdExState(\n",
    "        torch.zeros(batch_size, hidden_size).to(device),\n",
    "        torch.rand(batch_size, hidden_size).to(device),\n",
    "        torch.zeros(batch_size, hidden_size).to(device),\n",
    "        torch.zeros(batch_size, hidden_size).to(device),\n",
    "    )\n",
    "    # forward + backward + optimize\n",
    "    outputs, _ = model(inputs, init_state)\n",
    "\n",
    "    loss = criterion(outputs, target_outputs, loss_mask)\n",
    "    loss.backward()\n",
    "    optimizer.step()\n",
    "\n",
    "    # print statistics\n",
    "    running_loss += loss.item()\n",
    "    if i % 50 == 49:\n",
    "        with open(\"log_multy.txt\", \"a\") as f:\n",
    "            f.write(\"epoch: {:d} loss: {:0.5f}\\n\".format(i + 1, running_loss / 10))\n",
    "        running_loss = 0.0\n",
    "        with torch.no_grad():\n",
    "            torch.save(\n",
    "                model.state_dict(),\n",
    "                name,\n",
    "            )\n",
    "    if i % 50 == 49:\n",
    "\n",
    "        result = 0\n",
    "        for j in range(10):\n",
    "            try:\n",
    "                del inputs\n",
    "            except:\n",
    "                pass\n",
    "            try:\n",
    "                del target_outputs\n",
    "            except:\n",
    "                pass\n",
    "            try:\n",
    "                del outputs\n",
    "            except:\n",
    "                pass\n",
    "            torch.cuda.empty_cache()\n",
    "            inputs, target_outputs = Task.dataset(1, delay_between=0)\n",
    "            inputs[:, :, 1:3] += every_bath_generator(\n",
    "                0, 0.01, inputs.shape[0], inputs.shape[1], 2\n",
    "            )\n",
    "            inputs = torch.from_numpy(inputs).type(torch.float).to(device)\n",
    "            target_outputs = (\n",
    "                torch.from_numpy(target_outputs).type(torch.float).to(device)\n",
    "            )\n",
    "            outputs = model(inputs)[0]\n",
    "            type_tasks = list(np.where(inputs[-1, :, 3:].detach().cpu().numpy() == 1)[1])\n",
    "            answers = can.run(target_outputs[50:, :, 0].cpu(), outputs[50:, :, 0].cpu(),\n",
    "                              target_outputs[50:, :, 1:].cpu(), outputs[50:, :, 1:].cpu(), type_tasks)\n",
    "            result += answers\n",
    "\n",
    "        accuracy = result / batch_size / 10 * 100\n",
    "        with open(\"accuracy_multy.txt\", \"a\") as f:\n",
    "            f.write(f\"ecpoch = {i}; correct/all = {accuracy}\\n\")\n",
    "    try:\n",
    "        del inputs\n",
    "    except:\n",
    "        pass\n",
    "    try:\n",
    "        del target_outputs\n",
    "    except:\n",
    "        pass\n",
    "    try:\n",
    "        del outputs\n",
    "    except:\n",
    "        pass\n",
    "    torch.cuda.empty_cache()\n",
    "print(\"Finished Training\")"
   ]
  },
  {
   "cell_type": "code",
   "execution_count": 16,
   "metadata": {
    "pycharm": {
     "name": "#%%\n"
    }
   },
   "outputs": [],
   "source": [
    "sorted_tasks = sorted(tasks)\n",
    "re_word = 'Go'\n",
    "choices_tasks = []\n",
    "values_tasks = []\n",
    "for i in range(len(sorted_tasks)):\n",
    "    if re_word in sorted_tasks[i]:\n",
    "        values_tasks.append(i)\n",
    "    else:\n",
    "        choices_tasks.append(i)\n",
    "can = CorrectAnswerNetwork(choices_tasks, values_tasks, 0.15)\n",
    "inputs, target_outputs = Task.dataset(1, delay_between=0)\n",
    "inputs[:, :, 1:3] += every_bath_generator(\n",
    "    0, 0.01, inputs.shape[0], inputs.shape[1], 2\n",
    ")\n",
    "inputs = torch.from_numpy(inputs).type(torch.float).to(device)\n",
    "target_outputs = (\n",
    "    torch.from_numpy(target_outputs).type(torch.float).to(device)\n",
    ")\n",
    "outputs = model(inputs)[0]\n",
    "type_tasks = list(np.where(inputs[-1, :, 3:].detach().cpu().numpy() == 1)[1])\n",
    "answers = can.run(target_outputs[:, :, 0].cpu(), outputs[:, :, 0].cpu(), target_outputs[:, :, 1:].cpu(),\n",
    "                  outputs[:, :, 1:].cpu(), type_tasks)\n",
    "result += answers"
   ]
  },
  {
   "cell_type": "code",
   "execution_count": null,
   "metadata": {
    "pycharm": {
     "name": "#%%\n"
    }
   },
   "outputs": [],
   "source": [
    "values_tasks"
   ]
  },
  {
   "cell_type": "code",
   "execution_count": null,
   "metadata": {
    "pycharm": {
     "name": "#%%\n"
    }
   },
   "outputs": [],
   "source": [
    "result"
   ]
  },
  {
   "cell_type": "code",
   "execution_count": null,
   "metadata": {
    "pycharm": {
     "name": "#%%\n"
    }
   },
   "outputs": [],
   "source": [
    "list(np.where(inputs[-1, :, 3:].detach().cpu().numpy() == 1)[1])"
   ]
  },
  {
   "cell_type": "markdown",
   "metadata": {},
   "source": [
    "# Тестовая функция"
   ]
  },
  {
   "cell_type": "code",
   "execution_count": null,
   "metadata": {
    "pycharm": {
     "name": "#%%\n"
    }
   },
   "outputs": [],
   "source": [
    "def test_network(\n",
    "        test_sigma: float, number_of_trials: int = 100, plot_data: bool = True\n",
    "):\n",
    "    result = 0\n",
    "    for j in tqdm(range(number_of_trials)):\n",
    "        try:\n",
    "            del inputs\n",
    "        except:\n",
    "            pass\n",
    "        try:\n",
    "            del target_outputs\n",
    "        except:\n",
    "            pass\n",
    "        try:\n",
    "            del outputs\n",
    "        except:\n",
    "            pass\n",
    "        torch.cuda.empty_cache()\n",
    "        inputs, target_outputs = Task.dataset(1, delay_between=0)\n",
    "        inputs[:, :, :3] += every_bath_generator(\n",
    "            0, test_sigma, inputs.shape[0], inputs.shape[1], 3\n",
    "        )\n",
    "        inputs = torch.from_numpy(inputs).type(torch.float).to(device)\n",
    "        target_outputs = torch.from_numpy(target_outputs).type(torch.float).to(device)\n",
    "        outputs = model(inputs)[0]\n",
    "        answers = correct_answer(\n",
    "            outputs[:, :, 1:], target_outputs[:, :, 1:], target_outputs[:, :, 0]\n",
    "        )\n",
    "        result += torch.sum(answers).item()\n",
    "\n",
    "    accuracy = result / batch_size / number_of_trials * 100\n",
    "    if plot_data:\n",
    "        plot_results(inputs, target_outputs, outputs)\n",
    "    try:\n",
    "        del inputs\n",
    "    except:\n",
    "        pass\n",
    "    try:\n",
    "        del target_outputs\n",
    "    except:\n",
    "        pass\n",
    "    try:\n",
    "        del outputs\n",
    "    except:\n",
    "        pass\n",
    "    torch.cuda.empty_cache()\n",
    "    return accuracy"
   ]
  },
  {
   "cell_type": "markdown",
   "metadata": {},
   "source": [
    "# Тестирование\n",
    "```  np.random.normal(0, 0.01, size=(inputs.shape)) ```"
   ]
  },
  {
   "cell_type": "code",
   "execution_count": null,
   "metadata": {
    "pycharm": {
     "name": "#%%\n"
    }
   },
   "outputs": [],
   "source": [
    "accuracy = test_network(0.01, 1)\n",
    "print(accuracy)"
   ]
  },
  {
   "cell_type": "markdown",
   "metadata": {},
   "source": [
    "# Тестирование\n",
    "```  np.random.normal(0, 0.05, size=(inputs.shape)) ```"
   ]
  },
  {
   "cell_type": "code",
   "execution_count": null,
   "metadata": {
    "pycharm": {
     "name": "#%%\n"
    }
   },
   "outputs": [],
   "source": [
    "accuracy = test_network(0.05, 10)\n",
    "print(accuracy)"
   ]
  },
  {
   "cell_type": "code",
   "execution_count": null,
   "metadata": {
    "pycharm": {
     "name": "#%%\n"
    }
   },
   "outputs": [],
   "source": []
  },
  {
   "cell_type": "markdown",
   "metadata": {},
   "source": [
    "# Тестирование\n",
    "```  np.random.normal(0, 0.1, size=(inputs.shape)) ```"
   ]
  },
  {
   "cell_type": "code",
   "execution_count": null,
   "metadata": {
    "pycharm": {
     "name": "#%%\n"
    }
   },
   "outputs": [],
   "source": [
    "accuracy = test_network(0.1)\n",
    "print(accuracy)"
   ]
  },
  {
   "cell_type": "markdown",
   "metadata": {},
   "source": [
    "# Тестирование\n",
    "```  np.random.normal(0, 0.5, size=(inputs.shape)) ```"
   ]
  },
  {
   "cell_type": "code",
   "execution_count": null,
   "metadata": {
    "pycharm": {
     "name": "#%%\n"
    }
   },
   "outputs": [],
   "source": [
    "accuracy = test_network(0.5)\n",
    "print(accuracy)"
   ]
  },
  {
   "cell_type": "code",
   "execution_count": null,
   "metadata": {
    "pycharm": {
     "name": "#%%\n"
    }
   },
   "outputs": [],
   "source": [
    "result = 0\n",
    "for j in tqdm(range(1)):\n",
    "    try:\n",
    "        del inputs\n",
    "    except:\n",
    "        pass\n",
    "    try:\n",
    "        del target_outputs\n",
    "    except:\n",
    "        pass\n",
    "    try:\n",
    "        del outputs\n",
    "    except:\n",
    "        pass\n",
    "    torch.cuda.empty_cache()\n",
    "    inputs, target_outputs = Task.dataset(1, delay_between=0)\n",
    "    inputs[:, :, :3] += np.random.normal(0, 0.5, size=inputs[:, :, :3].shape)\n",
    "    inputs = torch.from_numpy(inputs).type(torch.float).to(device)\n",
    "    target_outputs = torch.from_numpy(target_outputs).type(torch.float).to(device)\n",
    "    \n",
    "    outputs = model(inputs)[0]\n",
    "    answers = correct_answer(\n",
    "        outputs[:, :, 1:], target_outputs[:, :, 1:], target_outputs[:, :, 0]\n",
    "    )\n",
    "    result += torch.sum(answers).item()\n",
    "\n",
    "accuracy = result / batch_size / 100 * 100\n",
    "print(accuracy)\n",
    "plot_results(inputs, target_outputs, outputs)\n",
    "try:\n",
    "    del inputs\n",
    "except:\n",
    "    pass\n",
    "try:\n",
    "    del target_outputs\n",
    "except:\n",
    "    pass\n",
    "try:\n",
    "    del outputs\n",
    "except:\n",
    "    pass\n",
    "torch.cuda.empty_cache()"
   ]
  },
  {
   "cell_type": "code",
   "execution_count": null,
   "metadata": {
    "pycharm": {
     "name": "#%%\n"
    }
   },
   "outputs": [],
   "source": [
    "result = 0\n",
    "for j in tqdm(range(1)):\n",
    "    try:\n",
    "        del inputs\n",
    "    except:\n",
    "        pass\n",
    "    try:\n",
    "        del target_outputs\n",
    "    except:\n",
    "        pass\n",
    "    try:\n",
    "        del outputs\n",
    "    except:\n",
    "        pass\n",
    "    torch.cuda.empty_cache()\n",
    "    inputs, target_outputs = Task.dataset(1, delay_between=0)\n",
    "    inputs[:, :, :3] += np.random.normal(0, 0.7, size=inputs[:, :, :3].shape)\n",
    "    inputs = torch.from_numpy(inputs).type(torch.float).to(device)\n",
    "    target_outputs = torch.from_numpy(target_outputs).type(torch.float).to(device)\n",
    "    outputs = model(inputs)[0]\n",
    "    answers = correct_answer(\n",
    "        outputs[:, :, 1:], target_outputs[:, :, 1:], target_outputs[:, :, 0]\n",
    "    )\n",
    "    result += torch.sum(answers).item()\n",
    "\n",
    "accuracy = result / batch_size / 100 * 100\n",
    "print(accuracy)\n",
    "plot_results(inputs, target_outputs, outputs)\n",
    "try:\n",
    "    del inputs\n",
    "except:\n",
    "    pass\n",
    "try:\n",
    "    del target_outputs\n",
    "except:\n",
    "    pass\n",
    "try:\n",
    "    del outputs\n",
    "except:\n",
    "    pass\n",
    "torch.cuda.empty_cache()"
   ]
  },
  {
   "cell_type": "code",
   "execution_count": null,
   "metadata": {
    "pycharm": {
     "name": "#%%\n"
    }
   },
   "outputs": [],
   "source": [
    "inputs = 0\n",
    "outputs = 0"
   ]
  },
  {
   "cell_type": "code",
   "execution_count": null,
   "metadata": {
    "pycharm": {
     "name": "#%%\n"
    }
   },
   "outputs": [],
   "source": [
    "lines = []\n",
    "with open(\"accuracy_multy.txt\", \"r\") as f:\n",
    "    while line := f.readline():\n",
    "        lines.append(float(line.split(\"=\")[2]))"
   ]
  },
  {
   "cell_type": "code",
   "execution_count": null,
   "metadata": {
    "pycharm": {
     "name": "#%%\n"
    }
   },
   "outputs": [],
   "source": [
    "import matplotlib.pyplot as plt\n",
    "\n",
    "plt.figure(figsize=(8, 5))\n",
    "plt.plot([*range(9, 3000, 50)], lines, \".\", linestyle=\"--\", markersize=5)\n",
    "plt.ylabel(r\"Accuracy%\")\n",
    "plt.xlabel(r\"Epochs\")"
   ]
  },
  {
   "cell_type": "code",
   "execution_count": 15,
   "metadata": {
    "pycharm": {
     "name": "#%%\n"
    }
   },
   "outputs": [
    {
     "name": "stderr",
     "output_type": "stream",
     "text": [
      "100%|████████████████████████████████████████████████████████████████████████████████████████████████████████████████████████████████████████████████████████████████████████████████████████████████████████████████████████████████████████████████████████████████████████████████████████████████████████████████████████████████████████████████████████████████████████████████████████████| 40/40 [1:10:13<00:00, 105.35s/it]\n"
     ]
    }
   ],
   "source": [
    "from norse.torch import LIFAdExState\n",
    "go_accuracy = 0.15\n",
    "can = CorrectAnswerNetwork(choices_tasks, values_tasks, go_accuracy)\n",
    "start_sigma = 0\n",
    "stop_sigma = 2\n",
    "step_sigma = 0.05\n",
    "sigma_array = np.arange(start_sigma, stop_sigma, step_sigma)\n",
    "for test_sigma in tqdm(sigma_array):\n",
    "    result = 0\n",
    "    for j in range(20):\n",
    "        try:\n",
    "            del inputs\n",
    "        except:\n",
    "            pass\n",
    "        try:\n",
    "            del target_outputs\n",
    "        except:\n",
    "            pass\n",
    "        try:\n",
    "            del outputs\n",
    "        except:\n",
    "            pass\n",
    "        torch.cuda.empty_cache()\n",
    "        inputs, target_outputs = Task.dataset(1, delay_between=0)\n",
    "        inputs[:, :, 1:3] += np.random.normal(0, test_sigma, size=inputs[:, :, 1:3].shape)\n",
    "        inputs = torch.from_numpy(inputs).type(torch.float).to(device)\n",
    "        target_outputs = torch.from_numpy(target_outputs).type(torch.float).to(device)\n",
    "        init_state = LIFAdExState(\n",
    "        torch.zeros(batch_size, hidden_size).to(device),\n",
    "        torch.rand(batch_size, hidden_size).to(device),\n",
    "        torch.zeros(batch_size, hidden_size).to(device),\n",
    "        torch.zeros(batch_size, hidden_size).to(device),\n",
    "    )\n",
    "        outputs = model(inputs, init_state)[0]\n",
    "        type_tasks = list(np.where(inputs[-1, :, 3:].detach().cpu().numpy() == 1)[1])\n",
    "        answers = can.run(target_outputs[50:, :, 0].cpu(), outputs[50:, :, 0].cpu(), target_outputs[50:, :, 1:].cpu(),\n",
    "                          outputs[50:, :, 1:].cpu(), type_tasks)\n",
    "        result += answers\n",
    "    accuracy = result / batch_size / 20 * 100\n",
    "    with open(f\"accuracy_vs_noise_{go_accuracy}_init_state.txt\", \"a\") as f:\n",
    "        f.write(f\"noise={test_sigma}:accuracy={accuracy}\\n\")"
   ]
  },
  {
   "cell_type": "code",
   "execution_count": 18,
   "metadata": {},
   "outputs": [
    {
     "name": "stderr",
     "output_type": "stream",
     "text": [
      "100%|████████████████████████████████████████████████████████████████████████████████████████████████████████████████████████████████████████████████████████████████████████████████████████████████████████████████████████████████████████████████████████████████████████████████████████████████████████████████████████████████████████████████████████████████████████████████████████████| 40/40 [1:10:29<00:00, 105.74s/it]\n"
     ]
    }
   ],
   "source": [
    "go_accuracy = 0.07\n",
    "can = CorrectAnswerNetwork(choices_tasks, values_tasks, go_accuracy)\n",
    "start_sigma = 0\n",
    "stop_sigma = 2\n",
    "step_sigma = 0.05\n",
    "sigma_array = np.arange(start_sigma, stop_sigma, step_sigma)\n",
    "for test_sigma in tqdm(sigma_array):\n",
    "    result = 0\n",
    "    for j in range(20):\n",
    "        try:\n",
    "            del inputs\n",
    "        except:\n",
    "            pass\n",
    "        try:\n",
    "            del target_outputs\n",
    "        except:\n",
    "            pass\n",
    "        try:\n",
    "            del outputs\n",
    "        except:\n",
    "            pass\n",
    "        torch.cuda.empty_cache()\n",
    "        inputs, target_outputs = Task.dataset(1, delay_between=0)\n",
    "        inputs[:, :, 1:3] += np.random.normal(0, test_sigma, size=inputs[:, :, 1:3].shape)\n",
    "        inputs = torch.from_numpy(inputs).type(torch.float).to(device)\n",
    "        target_outputs = torch.from_numpy(target_outputs).type(torch.float).to(device)\n",
    "        outputs = model(inputs)[0]\n",
    "        type_tasks = list(np.where(inputs[-1, :, 3:].detach().cpu().numpy() == 1)[1])\n",
    "        answers = can.run(target_outputs[50:, :, 0].cpu(), outputs[50:, :, 0].cpu(), target_outputs[50:, :, 1:].cpu(),\n",
    "                          outputs[50:, :, 1:].cpu(), type_tasks)\n",
    "        result += answers\n",
    "    accuracy = result / batch_size / 20 * 100\n",
    "    with open(f\"accuracy_vs_noise_{go_accuracy}.txt\", \"a\") as f:\n",
    "        f.write(f\"noise={test_sigma}:accuracy={accuracy}\\n\")"
   ]
  },
  {
   "cell_type": "code",
   "execution_count": null,
   "metadata": {
    "pycharm": {
     "name": "#%%\n"
    }
   },
   "outputs": [],
   "source": [
    "import matplotlib.patches as patches\n",
    "\n",
    "plt.style.use(\"ggplot\")\n",
    "\n",
    "\n",
    "def parser(line_text: str) -> tuple:\n",
    "    \"\"\"\n",
    "    Function parses text in form:\n",
    "    ```v_name_1=v1:v_name_2:v2```\n",
    "    and return (v1, v2)\n",
    "    :param line_text:\n",
    "    :return: (v1, v2)\n",
    "    \"\"\"\n",
    "    line_text = line_text.split(\":\")\n",
    "    print(line_text)\n",
    "    v1 = line_text[0].split(\"=\")[1]\n",
    "    v2 = line_text[1].split(\"=\")[1]\n",
    "    return float(v1), float(v2)\n",
    "\n",
    "\n",
    "x, y = [], []\n",
    "# with open('accuracy_vs_noise.txt', 'r') as f:\n",
    "with open(\n",
    "        r\"accuracy_vs_noise.txt\",\n",
    "        \"r\",\n",
    ") as f:\n",
    "    while line := f.readline():\n",
    "        t_x, t_y = parser(line)\n",
    "        x.append(t_x)\n",
    "        y.append(t_y)\n",
    "\n",
    "fig, ax = plt.subplots()\n",
    "ax.plot(x, y, \".\", linestyle=\"--\")\n",
    "# ax.plot([.5]*2, [50, 100])\n",
    "ax.set_ylabel(\"Accuracy,%\")\n",
    "ax.set_xlabel(r\"$\\sigma$\")\n",
    "ax.add_patch(\n",
    "    patches.Rectangle(\n",
    "        (0, 50), 0.5, 50, edgecolor=\"grey\", facecolor=\"grey\", alpha=0.5, fill=True\n",
    "    )\n",
    ")\n",
    "\n",
    "plt.show()\n",
    "plt.close()"
   ]
  },
  {
   "cell_type": "code",
   "execution_count": null,
   "metadata": {
    "pycharm": {
     "name": "#%%\n"
    }
   },
   "outputs": [],
   "source": [
    "batch_size = 1\n",
    "number_of_tasks = 1\n",
    "romo_parameters = RomoTaskRandomModParameters(\n",
    "    romo=RomoTaskParameters(\n",
    "        delay=0.6,\n",
    "        positive_shift_delay_time=0.0,\n",
    "        trial_time=0.1,\n",
    "        positive_shift_trial_time=0.2,\n",
    "    ),\n",
    ")\n",
    "dm_parameters = DMTaskRandomModParameters(\n",
    "    dm=DMTaskParameters(trial_time=0.6, positive_shift_trial_time=0.0)\n",
    ")\n",
    "ctx_parameters = CtxDMTaskParameters(dm=dm_parameters.dm)\n",
    "go_parameters = GoTaskRandomModParameters(\n",
    "    go=GoTaskParameters(\n",
    "        trial_time=0.1,\n",
    "        positive_shift_trial_time=0.8,\n",
    "    )\n",
    ")\n",
    "gort_parameters = GoRtTaskRandomModParameters(\n",
    "    go=GoRtTaskParameters(\n",
    "        trial_time=0.1,\n",
    "        positive_shift_trial_time=0.8,\n",
    "    )\n",
    ")\n",
    "godl_parameters = GoDlTaskRandomModParameters(\n",
    "    go_dl=GoDlTaskParameters(\n",
    "        go=GoTaskParameters(trial_time=0.1, positive_shift_trial_time=0.2),\n",
    "        delay=0.1,\n",
    "        positive_shift_delay_time=1.4,\n",
    "    )\n",
    ")\n",
    "sigma = 0.5\n",
    "tasks = [\n",
    "    \"RomoTask1\",\n",
    "    \"RomoTask2\",\n",
    "    \"DMTask1\",\n",
    "    \"DMTask2\",\n",
    "    \"CtxDMTask1\",\n",
    "    \"CtxDMTask2\",\n",
    "    \"GoTask1\",\n",
    "    \"GoTask2\",\n",
    "    \"GoRtTask1\",\n",
    "    \"GoRtTask2\",\n",
    "    \"GoDlTask1\",\n",
    "    \"GoDlTask2\",\n",
    "]\n",
    "task_dict = {\n",
    "    tasks[0]: romo_parameters,\n",
    "    tasks[1]: romo_parameters,\n",
    "    tasks[2]: dm_parameters,\n",
    "    tasks[3]: dm_parameters,\n",
    "    tasks[4]: ctx_parameters,\n",
    "    tasks[5]: ctx_parameters,\n",
    "    tasks[6]: go_parameters,\n",
    "    tasks[7]: go_parameters,\n",
    "    tasks[8]: gort_parameters,\n",
    "    tasks[9]: gort_parameters,\n",
    "    tasks[10]: godl_parameters,\n",
    "    tasks[11]: godl_parameters,\n",
    "}\n",
    "\n",
    "tasks_sequence = [\n",
    "    MultyReduceTasks(\n",
    "        tasks=task_dict,\n",
    "        batch_size=batch_size,\n",
    "        delay_between=0,\n",
    "        enable_fixation_delay=True,\n",
    "        task_number=i,\n",
    "    )\n",
    "    for i in range(len(tasks))\n",
    "]"
   ]
  },
  {
   "cell_type": "code",
   "execution_count": null,
   "metadata": {
    "pycharm": {
     "name": "#%%\n"
    }
   },
   "outputs": [],
   "source": [
    "tasks_and_names = dict([*zip(sorted(tasks), tasks_sequence)])\n",
    "chosed_tasks = [\"CtxDMTask1\", \"GoTask1\", \"GoRtTask1\", \"GoDlTask1\", \"RomoTask1\"]\n",
    "chosed_tasks_dict = {}\n",
    "for key, item in tasks_and_names.items():\n",
    "    if key in chosed_tasks:\n",
    "        chosed_tasks_dict[key] = item\n",
    "print(\"Tasks for PCA\")\n",
    "print(chosed_tasks_dict)"
   ]
  },
  {
   "cell_type": "code",
   "execution_count": null,
   "metadata": {
    "pycharm": {
     "name": "#%%\n"
    }
   },
   "outputs": [],
   "source": [
    "import matplotlib.pyplot as plt\n",
    "from cgtasknet.instruments.instrument_accuracy_network import correct_answer\n",
    "from cgtasknet.net.states import LIFAdExInitState\n",
    "\n",
    "name = f\"Train_dm_and_romo_task_reduce_lif_adex_without_refrac_random_delay_long_a_alpha_{neuron_parameters.alpha}_N_{hidden_size}\"\n",
    "init_state = LIFAdExInitState(batch_size, hidden_size, device=device)\n",
    "data, t_outputs = tasks_and_names[\"DMTask1\"].dataset(2, delay_between=0)\n",
    "data[:, :, 1:3] += every_bath_generator(\n",
    "    0, sigma, data.shape[0], data.shape[1], 2\n",
    ")\n",
    "data = torch.from_numpy(data).type(torch.float).to(device)\n",
    "out, states = model(data, init_state.random_state())\n",
    "out = out.detach().cpu().numpy()\n",
    "plt.figure()\n",
    "plt.plot(t_outputs[:, 0, 0])\n",
    "plt.plot(t_outputs[:, 0, 1])\n",
    "plt.plot(t_outputs[:, 0, 2])\n",
    "\n",
    "plt.figure()\n",
    "plt.plot(out[:, 0, 0])\n",
    "plt.plot(out[:, 0, 1])\n",
    "plt.plot(out[:, 0, 2])"
   ]
  },
  {
   "cell_type": "code",
   "execution_count": null,
   "metadata": {
    "pycharm": {
     "name": "#%%\n"
    }
   },
   "outputs": [],
   "source": []
  }
 ],
 "metadata": {
  "kernelspec": {
   "display_name": "Python 3",
   "language": "python",
   "name": "python3"
  },
  "language_info": {
   "codemirror_mode": {
    "name": "ipython",
    "version": 3
   },
   "file_extension": ".py",
   "mimetype": "text/x-python",
   "name": "python",
   "nbconvert_exporter": "python",
   "pygments_lexer": "ipython3",
   "version": "3.7.11"
  }
 },
 "nbformat": 4,
 "nbformat_minor": 1
}
