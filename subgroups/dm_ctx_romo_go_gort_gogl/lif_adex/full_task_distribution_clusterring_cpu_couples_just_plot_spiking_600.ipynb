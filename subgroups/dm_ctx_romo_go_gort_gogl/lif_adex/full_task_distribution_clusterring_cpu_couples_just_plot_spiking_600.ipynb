{
 "cells": [
  {
   "cell_type": "code",
   "execution_count": null,
   "metadata": {
    "collapsed": true
   },
   "outputs": [],
   "source": []
  },
  {
   "cell_type": "code",
   "execution_count": 1,
   "metadata": {
    "pycharm": {
     "name": "#%%\n"
    }
   },
   "outputs": [],
   "source": [
    "import time\n",
    "from typing import Iterable\n",
    "\n",
    "import np as np\n",
    "import torch\n",
    "from cgtasknet.instruments.instrument_subgroups import (\n",
    "    sort_elemnts_by_another,\n",
    "    SubgroupFinder,\n",
    ")\n",
    "from cgtasknet.tasks.reduce import ReduceTaskCognitive\n",
    "from norse.torch import LIFAdExState\n",
    "\n",
    "\n",
    "class EveryTaskSubgroups:\n",
    "    device = torch.device(\"cpu\")\n",
    "\n",
    "    def __init__(\n",
    "        self,\n",
    "        model: torch.nn.Module,\n",
    "        tasks: Iterable[ReduceTaskCognitive],\n",
    "        type_tasks=list,\n",
    "    ) -> None:\n",
    "        self._tasks = tasks\n",
    "        self._model = model\n",
    "        self._subgroups_finder = None\n",
    "        self._type_tasks = type_tasks\n",
    "\n",
    "    def run(self, number_of_trials: int, dt: float = 1e-3):\n",
    "        self._subgroups_finder = []\n",
    "        number_of_trials = int(number_of_trials)\n",
    "        dt = float(dt)\n",
    "        print(\"*\" * 20, \"Start\")\n",
    "        for k in range(len(self._tasks)):\n",
    "            current_task = self._tasks[k]\n",
    "            t0 = time.perf_counter()\n",
    "            self._subgroups_finder.append(SubgroupFinder(dt))\n",
    "            trigger = self._type_tasks[k]\n",
    "            for i in range(number_of_trials):\n",
    "                status = False\n",
    "                while not status:\n",
    "                    inputs, t_outputs, s, out = self._run_trial(current_task, trigger)\n",
    "\n",
    "                    status = self._subgroups_finder[-1].compute_average_freq(\n",
    "                        [s.to(torch.device(\"cpu\"))],\n",
    "                        [inputs[:, 0, 0].to(torch.device(\"cpu\"))],\n",
    "                        [out.to(torch.device(\"cpu\"))],\n",
    "                        [t_outputs.to(torch.device(\"cpu\"))],\n",
    "                    )\n",
    "            print(\n",
    "                f\"Complete task: {current_task.task_number}, time: {time.perf_counter() - t0}s\"\n",
    "            )\n",
    "            # print(t_outputs[-1, 0, 1])\n",
    "\n",
    "    def _run_trial(self, task: ReduceTaskCognitive, trigger):\n",
    "        inputs, t_outputs = task.dataset()\n",
    "\n",
    "        if trigger != 0:\n",
    "            while t_outputs[-1, 0, 1] != 2 - trigger:\n",
    "                inputs, t_outputs = task.dataset()\n",
    "        inputs = torch.from_numpy(inputs).type(torch.float).to(self.device)\n",
    "        t_outputs = torch.from_numpy(t_outputs).type(torch.float).to(self.device)\n",
    "        init_state = LIFAdExState(\n",
    "            torch.zeros(batch_size, hidden_size).to(device),\n",
    "            torch.rand(batch_size, hidden_size).to(device) * 1,\n",
    "            torch.zeros(batch_size, hidden_size).to(device),\n",
    "            torch.rand(batch_size, hidden_size).to(device) * 0.0,\n",
    "        )\n",
    "        out, _, s = self._model(inputs, init_state)\n",
    "        s = torch.stack(s).detach()\n",
    "        s = s.reshape((s.shape[0], s.shape[2]))\n",
    "        return inputs, t_outputs, s, out\n",
    "\n",
    "    def get_frequencies(self):\n",
    "        fixation = []\n",
    "        answer = []\n",
    "        for subgoup_finder in self._subgroups_finder:\n",
    "            t_fixation, t_answer = subgoup_finder.get_average_freq()\n",
    "            fixation.append(t_fixation)\n",
    "            answer.append(t_answer)\n",
    "        return fixation, answer"
   ]
  },
  {
   "cell_type": "code",
   "execution_count": 2,
   "metadata": {
    "pycharm": {
     "name": "#%%\n"
    }
   },
   "outputs": [],
   "source": [
    "import torch\n",
    "from cgtasknet.tasks.reduce import (\n",
    "    CtxDMTaskParameters,\n",
    "    DMTaskParameters,\n",
    "    DMTaskRandomModParameters,\n",
    "    MultyReduceTasks,\n",
    "    RomoTaskParameters,\n",
    "    RomoTaskRandomModParameters,\n",
    "    GoTaskParameters,\n",
    "    GoTaskRandomModParameters,\n",
    "    GoRtTaskParameters,\n",
    "    GoRtTaskRandomModParameters,\n",
    "    GoDlTaskParameters,\n",
    "    GoDlTaskRandomModParameters,\n",
    ")\n",
    "import matplotlib.pyplot as plt"
   ]
  },
  {
   "cell_type": "code",
   "execution_count": 3,
   "metadata": {
    "pycharm": {
     "name": "#%%\n"
    }
   },
   "outputs": [],
   "source": [
    "go_task_list_values = np.linspace(0, 1, 8)\n",
    "batch_size = 1\n",
    "number_of_tasks = 1\n",
    "romo_parameters = RomoTaskRandomModParameters(\n",
    "    romo=RomoTaskParameters(\n",
    "        delay=0.2,\n",
    "        positive_shift_delay_time=1.5,\n",
    "        trial_time=0.2,\n",
    "        positive_shift_trial_time=0.4,\n",
    "        answer_time=0.5,\n",
    "    ),\n",
    ")\n",
    "dm_parameters = DMTaskRandomModParameters(\n",
    "    dm=DMTaskParameters(trial_time=0.3, positive_shift_trial_time=1.5, answer_time=0.5)\n",
    ")\n",
    "ctx_parameters = CtxDMTaskParameters(dm=dm_parameters.dm)\n",
    "go_parameters = GoTaskRandomModParameters(\n",
    "    go=GoTaskParameters(\n",
    "        trial_time=0.3,\n",
    "        positive_shift_trial_time=1.5,\n",
    "        value=go_task_list_values,\n",
    "        answer_time=0.5,\n",
    "    )\n",
    ")\n",
    "gort_parameters = GoRtTaskRandomModParameters(\n",
    "    go_rt=GoRtTaskParameters(\n",
    "        trial_time=0.3,\n",
    "        positive_shift_trial_time=1.5,\n",
    "        answer_time=1.5,\n",
    "        value=go_task_list_values,\n",
    "    )\n",
    ")\n",
    "godl_parameters = GoDlTaskRandomModParameters(\n",
    "    go_dl=GoDlTaskParameters(\n",
    "        go=GoTaskParameters(\n",
    "            trial_time=0.2,\n",
    "            positive_shift_trial_time=0.4,\n",
    "            answer_time=1.5,\n",
    "            value=go_task_list_values,\n",
    "        ),\n",
    "        delay=0.2,\n",
    "        positive_shift_delay_time=1.5,\n",
    "    )\n",
    ")\n",
    "sigma = 0.5\n",
    "tasks = [\n",
    "    \"RomoTask1\",\n",
    "    \"RomoTask2\",\n",
    "    \"DMTask1\",\n",
    "    \"DMTask2\",\n",
    "    \"CtxDMTask1\",\n",
    "    \"CtxDMTask2\",\n",
    "    \"GoTask1\",\n",
    "    \"GoTask2\",\n",
    "    \"GoRtTask1\",\n",
    "    \"GoRtTask2\",\n",
    "    \"GoDlTask1\",\n",
    "    \"GoDlTask2\",\n",
    "]\n",
    "task_dict = {\n",
    "    tasks[0]: romo_parameters,\n",
    "    tasks[1]: romo_parameters,\n",
    "    tasks[2]: dm_parameters,\n",
    "    tasks[3]: dm_parameters,\n",
    "    tasks[4]: ctx_parameters,\n",
    "    tasks[5]: ctx_parameters,\n",
    "    tasks[6]: go_parameters,\n",
    "    tasks[7]: go_parameters,\n",
    "    tasks[8]: gort_parameters,\n",
    "    tasks[9]: gort_parameters,\n",
    "    tasks[10]: godl_parameters,\n",
    "    tasks[11]: godl_parameters,\n",
    "}\n",
    "tasks_sequence = []\n",
    "sorted_tasks = sorted(tasks)\n",
    "i = 0\n",
    "while i < len(tasks):\n",
    "    tasks_sequence.append(\n",
    "        MultyReduceTasks(\n",
    "            tasks=task_dict,\n",
    "            batch_size=batch_size,\n",
    "            delay_between=0,\n",
    "            enable_fixation_delay=True,\n",
    "            task_number=i,\n",
    "        )\n",
    "    )\n",
    "    if \"DM\" in sorted_tasks[i] or \"Romo\" in sorted_tasks[i]:\n",
    "        tasks_sequence.append(\n",
    "            MultyReduceTasks(\n",
    "                tasks=task_dict,\n",
    "                batch_size=batch_size,\n",
    "                delay_between=0,\n",
    "                enable_fixation_delay=True,\n",
    "                task_number=i,\n",
    "            )\n",
    "        )\n",
    "    i += 1"
   ]
  },
  {
   "cell_type": "code",
   "execution_count": 4,
   "metadata": {
    "pycharm": {
     "name": "#%%\n"
    }
   },
   "outputs": [
    {
     "data": {
      "text/plain": [
       "18"
      ]
     },
     "execution_count": 4,
     "metadata": {},
     "output_type": "execute_result"
    }
   ],
   "source": [
    "len(tasks_sequence)"
   ]
  },
  {
   "cell_type": "code",
   "execution_count": 5,
   "metadata": {
    "pycharm": {
     "name": "#%%\n"
    }
   },
   "outputs": [
    {
     "name": "stdout",
     "output_type": "stream",
     "text": [
      "['CtxDMTask1: 1', 'CtxDMTask1: 2', 'CtxDMTask2: 1', 'CtxDMTask2: 2', 'DMTask1: 1', 'DMTask1: 2', 'DMTask2: 1', 'DMTask2: 2', 'GoDlTask1', 'GoDlTask2', 'GoRtTask1', 'GoRtTask2', 'GoTask1', 'GoTask2', 'RomoTask1: 1', 'RomoTask1: 2', 'RomoTask2: 1', 'RomoTask2: 2'] 18\n"
     ]
    }
   ],
   "source": [
    "tasks_couples = [\n",
    "    \"RomoTask1: 1\",\n",
    "    \"RomoTask1: 2\",\n",
    "    \"RomoTask2: 1\",\n",
    "    \"RomoTask2: 2\",\n",
    "    \"DMTask1: 1\",\n",
    "    \"DMTask1: 2\",\n",
    "    \"DMTask2: 1\",\n",
    "    \"DMTask2: 2\",\n",
    "    \"CtxDMTask1: 1\",\n",
    "    \"CtxDMTask1: 2\",\n",
    "    \"CtxDMTask2: 1\",\n",
    "    \"CtxDMTask2: 2\",\n",
    "    \"GoTask1\",\n",
    "    \"GoTask2\",\n",
    "    \"GoRtTask1\",\n",
    "    \"GoRtTask2\",\n",
    "    \"GoDlTask1\",\n",
    "    \"GoDlTask2\",\n",
    "]\n",
    "print(sorted(tasks_couples), len(tasks_couples))"
   ]
  },
  {
   "cell_type": "code",
   "execution_count": 6,
   "metadata": {
    "pycharm": {
     "name": "#%%\n"
    }
   },
   "outputs": [
    {
     "data": {
      "text/plain": [
       "<All keys matched successfully>"
      ]
     },
     "execution_count": 6,
     "metadata": {},
     "output_type": "execute_result"
    }
   ],
   "source": [
    "from cgtasknet.net import SNNlifadex\n",
    "from norse.torch import LIFAdExParameters\n",
    "\n",
    "device = torch.device(\"cuda\" if torch.cuda.is_available() else \"cpu\")\n",
    "device = torch.device(\"cpu\")\n",
    "feature_size, output_size = tasks_sequence[0].feature_and_act_size\n",
    "hidden_size = 600\n",
    "tau_a = \"1/2\"\n",
    "neuron_parameters = LIFAdExParameters(\n",
    "    v_th=torch.as_tensor(0.65),\n",
    "    tau_ada_inv=float(eval(tau_a)),\n",
    "    alpha=100,\n",
    "    method=\"super\",\n",
    ")\n",
    "model = SNNlifadex(\n",
    "    feature_size,\n",
    "    hidden_size,\n",
    "    output_size,\n",
    "    neuron_parameters=neuron_parameters,\n",
    "    tau_filter_inv=500,\n",
    "    save_states=True,\n",
    "    return_spiking=True,\n",
    ").to(device)\n",
    "model.load_state_dict(\n",
    "    torch.load(\n",
    "        rf\"A:\\src\\600\\1_2\\Train_dm_and_romo_task_reduce_lif_adex_without_refrac_random_delay_long_a_alpha_100_N_600\",\n",
    "        # r\"A:\\src\\multy_task\\notebooks\\train\\reduce\\lif_adex\\romo_dm_ct_go_gort_godl\\long_intervals_list_go_task_improve_correct_functions_two_trials\\Train_dm_and_romo_task_reduce_lif_adex_without_refrac_random_delay_long_a_alpha_100_N_450\",\n",
    "        map_location=device,\n",
    "    )\n",
    ")\n",
    "# tau_a = neuron_parameters.tau_ada_inv"
   ]
  },
  {
   "cell_type": "code",
   "execution_count": 206,
   "metadata": {
    "pycharm": {
     "name": "#%%\n"
    }
   },
   "outputs": [
    {
     "name": "stdout",
     "output_type": "stream",
     "text": [
      "['CtxDMTask1: 1', 'CtxDMTask1: 2', 'CtxDMTask2: 1', 'CtxDMTask2: 2', 'DMTask1: 1', 'DMTask1: 2', 'DMTask2: 1', 'DMTask2: 2', 'GoDlTask1', 'GoDlTask2', 'GoRtTask1', 'GoRtTask2', 'GoTask1', 'GoTask2', 'RomoTask1: 1', 'RomoTask1: 2', 'RomoTask2: 1', 'RomoTask2: 2']\n",
      "i=0\n",
      "******************** Start\n",
      "Complete task: 0, time: 51.3985802000002s\n",
      "Complete task: 0, time: 54.7200684999998s\n",
      "Complete task: 1, time: 49.215122300000075s\n",
      "Complete task: 1, time: 55.59053339999991s\n",
      "Complete task: 2, time: 52.102712399999746s\n",
      "Complete task: 2, time: 57.21701770000027s\n",
      "Complete task: 3, time: 49.98679740000034s\n",
      "Complete task: 3, time: 53.7352877000003s\n",
      "Complete task: 4, time: 104.66116019999981s\n",
      "Complete task: 5, time: 109.22714879999967s\n",
      "Complete task: 6, time: 110.33565980000003s\n",
      "Complete task: 7, time: 109.8230564999999s\n",
      "Complete task: 8, time: 51.59161979999999s\n",
      "Complete task: 9, time: 54.00578899999982s\n",
      "Complete task: 10, time: 79.85532539999986s\n",
      "Complete task: 10, time: 125.51375449999978s\n",
      "Complete task: 11, time: 80.01772389999996s\n",
      "Complete task: 11, time: 96.58108510000011s\n"
     ]
    }
   ],
   "source": [
    "from sklearn.cluster import KMeans\n",
    "\n",
    "type_tasks = []\n",
    "tasks_couples.sort()\n",
    "print(tasks_couples)\n",
    "for i in range(len(tasks_couples)):\n",
    "    if \": 1\" in tasks_couples[i]:\n",
    "        type_tasks.append(1)\n",
    "    elif \": 2\" in tasks_couples[i]:\n",
    "        type_tasks.append(2)\n",
    "    else:\n",
    "        type_tasks.append(0)\n",
    "\n",
    "subgroups = EveryTaskSubgroups(model, tasks_sequence, type_tasks)\n",
    "\n",
    "subgroups.device = device\n",
    "fixations, answers = [], []\n",
    "for i in range(1):\n",
    "    print(f\"{i=}\")\n",
    "    subgroups.run(100)\n",
    "    fixations, answers = subgroups.get_frequencies()\n",
    "    # fixations.append([el.detach().cpu().numpy() if el is not None else None for el in fix])\n",
    "    # answers.append([el.detach().cpu().numpy() for el in ans])"
   ]
  },
  {
   "cell_type": "code",
   "execution_count": 77,
   "metadata": {
    "pycharm": {
     "name": "#%%\n"
    }
   },
   "outputs": [
    {
     "data": {
      "text/plain": [
       "[424,\n",
       " 425,\n",
       " 427,\n",
       " 428,\n",
       " 429,\n",
       " 430,\n",
       " 431,\n",
       " 432,\n",
       " 433,\n",
       " 434,\n",
       " 435,\n",
       " 436,\n",
       " 437,\n",
       " 438,\n",
       " 439,\n",
       " 441,\n",
       " 442,\n",
       " 443,\n",
       " 444,\n",
       " 445,\n",
       " 447,\n",
       " 448,\n",
       " 449,\n",
       " 450,\n",
       " 451,\n",
       " 452,\n",
       " 454,\n",
       " 455,\n",
       " 456,\n",
       " 460,\n",
       " 461,\n",
       " 462,\n",
       " 464,\n",
       " 465,\n",
       " 466,\n",
       " 467,\n",
       " 469,\n",
       " 470,\n",
       " 471,\n",
       " 472,\n",
       " 473,\n",
       " 474,\n",
       " 476,\n",
       " 478,\n",
       " 479,\n",
       " 481,\n",
       " 482,\n",
       " 483,\n",
       " 486,\n",
       " 487,\n",
       " 490,\n",
       " 491,\n",
       " 492,\n",
       " 493,\n",
       " 494,\n",
       " 495,\n",
       " 496,\n",
       " 497,\n",
       " 498,\n",
       " 500,\n",
       " 501,\n",
       " 502,\n",
       " 503,\n",
       " 505,\n",
       " 506,\n",
       " 507,\n",
       " 508,\n",
       " 509,\n",
       " 510,\n",
       " 512,\n",
       " 513,\n",
       " 514,\n",
       " 516,\n",
       " 517,\n",
       " 518,\n",
       " 519,\n",
       " 521,\n",
       " 524,\n",
       " 525,\n",
       " 526,\n",
       " 527,\n",
       " 528,\n",
       " 529,\n",
       " 530,\n",
       " 531,\n",
       " 533,\n",
       " 534,\n",
       " 535,\n",
       " 537,\n",
       " 538,\n",
       " 539,\n",
       " 540,\n",
       " 541,\n",
       " 542,\n",
       " 543,\n",
       " 544,\n",
       " 546,\n",
       " 547,\n",
       " 548,\n",
       " 549,\n",
       " 550,\n",
       " 552,\n",
       " 555,\n",
       " 556,\n",
       " 557,\n",
       " 561,\n",
       " 562,\n",
       " 563,\n",
       " 565,\n",
       " 567,\n",
       " 569,\n",
       " 570,\n",
       " 571,\n",
       " 572,\n",
       " 573,\n",
       " 575,\n",
       " 576,\n",
       " 577,\n",
       " 579,\n",
       " 580,\n",
       " 581,\n",
       " 582,\n",
       " 584,\n",
       " 585,\n",
       " 586,\n",
       " 588,\n",
       " 590,\n",
       " 592,\n",
       " 593,\n",
       " 594,\n",
       " 595,\n",
       " 597,\n",
       " 599,\n",
       " 46,\n",
       " 52,\n",
       " 54,\n",
       " 58,\n",
       " 64,\n",
       " 76,\n",
       " 104,\n",
       " 116,\n",
       " 130,\n",
       " 131,\n",
       " 161,\n",
       " 190,\n",
       " 203,\n",
       " 222,\n",
       " 223,\n",
       " 229,\n",
       " 254,\n",
       " 299,\n",
       " 300,\n",
       " 305,\n",
       " 344,\n",
       " 357,\n",
       " 394,\n",
       " 412,\n",
       " 417,\n",
       " 475,\n",
       " 504,\n",
       " 545,\n",
       " 559,\n",
       " 583,\n",
       " 596,\n",
       " 36,\n",
       " 88,\n",
       " 108,\n",
       " 124,\n",
       " 196,\n",
       " 202,\n",
       " 232,\n",
       " 233,\n",
       " 242,\n",
       " 287,\n",
       " 303,\n",
       " 309,\n",
       " 313,\n",
       " 343,\n",
       " 359,\n",
       " 364,\n",
       " 400,\n",
       " 415,\n",
       " 416,\n",
       " 426,\n",
       " 499,\n",
       " 520,\n",
       " 574,\n",
       " 29,\n",
       " 92,\n",
       " 93,\n",
       " 100,\n",
       " 153,\n",
       " 250,\n",
       " 293,\n",
       " 301,\n",
       " 311,\n",
       " 380,\n",
       " 458,\n",
       " 459,\n",
       " 564,\n",
       " 566,\n",
       " 587,\n",
       " 591,\n",
       " 35,\n",
       " 43,\n",
       " 102,\n",
       " 126,\n",
       " 150,\n",
       " 272,\n",
       " 285,\n",
       " 289,\n",
       " 323,\n",
       " 332,\n",
       " 350,\n",
       " 419,\n",
       " 511,\n",
       " 551,\n",
       " 74,\n",
       " 144,\n",
       " 162,\n",
       " 255,\n",
       " 446,\n",
       " 9,\n",
       " 302,\n",
       " 409,\n",
       " 67,\n",
       " 107,\n",
       " 221,\n",
       " 325,\n",
       " 484,\n",
       " 22,\n",
       " 317,\n",
       " 146,\n",
       " 186,\n",
       " 59,\n",
       " 532,\n",
       " 279,\n",
       " 280,\n",
       " 306,\n",
       " 440,\n",
       " 156,\n",
       " 297,\n",
       " 217,\n",
       " 453,\n",
       " 376,\n",
       " 397,\n",
       " 522,\n",
       " 553,\n",
       " 578,\n",
       " 81,\n",
       " 329,\n",
       " 381,\n",
       " 398,\n",
       " 480,\n",
       " 468,\n",
       " 129,\n",
       " 211,\n",
       " 358,\n",
       " 411,\n",
       " 589,\n",
       " 598,\n",
       " 72,\n",
       " 86,\n",
       " 536,\n",
       " 132,\n",
       " 48,\n",
       " 568,\n",
       " 386,\n",
       " 197,\n",
       " 346,\n",
       " 204,\n",
       " 110,\n",
       " 395,\n",
       " 298,\n",
       " 477,\n",
       " 225,\n",
       " 248,\n",
       " 114,\n",
       " 247,\n",
       " 266,\n",
       " 389,\n",
       " 554,\n",
       " 68,\n",
       " 7,\n",
       " 489,\n",
       " 369,\n",
       " 560,\n",
       " 16,\n",
       " 485,\n",
       " 457,\n",
       " 171,\n",
       " 523,\n",
       " 515,\n",
       " 488,\n",
       " 463,\n",
       " 212,\n",
       " 558,\n",
       " 27,\n",
       " 179,\n",
       " 321]"
      ]
     },
     "execution_count": 77,
     "metadata": {},
     "output_type": "execute_result"
    }
   ],
   "source": [
    "list(list_for_sort.numpy())"
   ]
  },
  {
   "cell_type": "code",
   "execution_count": 207,
   "metadata": {},
   "outputs": [],
   "source": [
    "inputs, _ = tasks_sequence[0].dataset()\n",
    "inputs = np.concatenate((inputs, tasks_sequence[1].dataset()[0]))\n",
    "inputs = torch.from_numpy(inputs).type(torch.float).to(device)\n",
    "result = model(inputs)\n",
    "list_for_sort = list(\n",
    "    sort_elemnts_by_another(answers[0], [*range(hidden_size)])[\n",
    "        hidden_size // 2 :\n",
    "    ].numpy()\n",
    ")\n",
    "list_for_sort.extend(\n",
    "    (\n",
    "        list(\n",
    "            sort_elemnts_by_another(answers[1], [*range(hidden_size)])[\n",
    "                hidden_size // 2 :\n",
    "            ].numpy()\n",
    "        )\n",
    "    )[::-1]\n",
    ")\n",
    "s = result[-1]\n",
    "s = torch.stack(s).detach()\n",
    "new_s = torch.zeros_like(s)\n",
    "for i in range(hidden_size):\n",
    "    new_s[:, 0, i] = s[:, 0, list_for_sort[i]]"
   ]
  },
  {
   "cell_type": "code",
   "execution_count": 215,
   "metadata": {},
   "outputs": [
    {
     "data": {
      "text/plain": [
       "[<matplotlib.lines.Line2D at 0x1db96c3e5b0>,\n",
       " <matplotlib.lines.Line2D at 0x1db96c3e610>,\n",
       " <matplotlib.lines.Line2D at 0x1db96c183d0>]"
      ]
     },
     "execution_count": 215,
     "metadata": {},
     "output_type": "execute_result"
    },
    {
     "data": {
      "image/png": "[encoded data removed]",
      "text/plain": [
       "<Figure size 432x288 with 2 Axes>"
      ]
     },
     "metadata": {
      "needs_background": "light"
     },
     "output_type": "display_data"
    }
   ],
   "source": [
    "fig = plt.figure()\n",
    "ax1 = plt.subplot(211)\n",
    "plt.imshow(\n",
    "    new_s[:, 0, :].T,\n",
    "    origin=\"lower\",\n",
    "    aspect=\"auto\",\n",
    "    vmax=0.1,\n",
    "    interpolation=\"none\",\n",
    "    cmap=\"Greys_r\",\n",
    ")\n",
    "plt.plot(inputs.cpu().numpy()[:, 0, 0] * hidden_size / 8 + hidden_size // 4 + 100)\n",
    "plt.plot(inputs.cpu().numpy()[:, 0, 1] * hidden_size / 8 + hidden_size // 4 + 100)\n",
    "plt.plot(\n",
    "    [0, len(inputs)], [0.5 * hidden_size / 2 + hidden_size / 4] * 2, linestyle=\"--\"\n",
    ")\n",
    "plt.ylim(250, 350)\n",
    "plt.xlim(0, len(inputs))\n",
    "ax2 = plt.subplot(212)\n",
    "plt.plot(result[0][:, 0, :].detach().cpu())"
   ]
  },
  {
   "cell_type": "code",
   "execution_count": 264,
   "metadata": {},
   "outputs": [],
   "source": []
  },
  {
   "cell_type": "code",
   "execution_count": 276,
   "metadata": {},
   "outputs": [
    {
     "data": {
      "image/png": "[encoded data removed]",
      "text/plain": [
       "<Figure size 720x648 with 2 Axes>"
      ]
     },
     "metadata": {},
     "output_type": "display_data"
    }
   ],
   "source": [
    "import seaborn as sns\n",
    "\n",
    "sns.set_theme()\n",
    "import pandas as pd\n",
    "\n",
    "inputs = inputs.detach()\n",
    "inputs_pd = pd.DataFrame(\n",
    "    {\n",
    "        \"Data\": torch.concat((inputs[:, 0, 0], inputs[:, 0, 1], inputs[:, 0, 2]))\n",
    "        * hidden_size\n",
    "        / 2\n",
    "        + hidden_size / 4,\n",
    "        \"Type\": [\"$u_{fix}$\"] * len(inputs)\n",
    "        + [\"$u_{mod_1}$\"] * len(inputs)\n",
    "        + [\"$u_{mod_2}$\"] * len(inputs),\n",
    "        \"x\": [*range(len(inputs))] * 3,\n",
    "    }\n",
    ")\n",
    "\n",
    "outputs = result[0].detach()\n",
    "outputs_pd = pd.DataFrame(\n",
    "    {\n",
    "        \"Magnitude\": torch.concat(\n",
    "            (outputs[:, 0, 0], outputs[:, 0, 1], outputs[:, 0, 2])\n",
    "        ),\n",
    "        \"Type\": [\"$y_{fix}$\"] * len(outputs)\n",
    "        + [\"$y_1$\"] * len(outputs)\n",
    "        + [\"$y_2$\"] * len(outputs),\n",
    "        \"Time, ms\": [*range(len(outputs))] * 3,\n",
    "    }\n",
    ")\n",
    "\n",
    "\n",
    "fig, axes = plt.subplots(2, 1, figsize=(10, 9))\n",
    "ax = sns.heatmap(new_s[:, 0, :].detach().T, cbar=False, cmap=\"YlGnBu\", ax=axes[0])\n",
    "sns.lineplot(data=inputs_pd, x=\"x\", y=\"Data\", hue=\"Type\", ax=axes[0])\n",
    "sns.lineplot(\n",
    "    x=[0, len(inputs)],\n",
    "    y=[0.5 * hidden_size / 2 + hidden_size / 4] * 2,\n",
    "    ax=axes[0],\n",
    "    linestyle=\"--\",\n",
    ")\n",
    "sns.lineplot(data=outputs_pd, x=\"Time, ms\", y=\"Magnitude\", hue=\"Type\", ax=axes[1])\n",
    "axes[0].set(\n",
    "    xlabel=\"Time, ms\",\n",
    "    ylabel=\"Neuron number\",\n",
    "    ylim=(0, hidden_size),\n",
    "    # yticks=(0, 100, 200, 300, 400, 500, 600)\n",
    ")\n",
    "axes[1].set(\n",
    "    xlim=(\n",
    "        0,\n",
    "        len(outputs),\n",
    "    )\n",
    ")\n",
    "plt.legend(loc=\"upper right\")\n",
    "plt.tight_layout()\n",
    "plt.savefig(\"Spikes_and_out_and_in.png\", dpi=1500)"
   ]
  },
  {
   "cell_type": "code",
   "execution_count": 273,
   "metadata": {},
   "outputs": [
    {
     "data": {
      "text/plain": [
       "[[<matplotlib.axis.YTick at 0x1dcd9cdb1f0>,\n",
       "  <matplotlib.axis.YTick at 0x1dcd9ce4ee0>,\n",
       "  <matplotlib.axis.YTick at 0x1dcd9efa610>]]"
      ]
     },
     "execution_count": 273,
     "metadata": {},
     "output_type": "execute_result"
    }
   ],
   "source": [
    "ax.set(yticks=(0, 1, 2))"
   ]
  },
  {
   "cell_type": "code",
   "execution_count": 269,
   "metadata": {},
   "outputs": [
    {
     "data": {
      "text/plain": [
       "[(0.0, 1.0)]"
      ]
     },
     "execution_count": 269,
     "metadata": {},
     "output_type": "execute_result"
    }
   ],
   "source": [
    "axes[0].set(xlim=(0, 1))"
   ]
  },
  {
   "cell_type": "code",
   "execution_count": 268,
   "metadata": {},
   "outputs": [
    {
     "data": {
      "text/plain": [
       "[0, 100, 200, 300, 400, 500, 600]"
      ]
     },
     "execution_count": 268,
     "metadata": {},
     "output_type": "execute_result"
    }
   ],
   "source": [
    "[*range(0, 700, 100)]"
   ]
  },
  {
   "cell_type": "code",
   "execution_count": 253,
   "metadata": {},
   "outputs": [
    {
     "data": {
      "text/plain": [
       "<AxesSubplot:xlabel='x', ylabel='Data'>"
      ]
     },
     "execution_count": 253,
     "metadata": {},
     "output_type": "execute_result"
    },
    {
     "data": {
      "image/png": "[encoded data removed]",
      "text/plain": [
       "<Figure size 432x288 with 1 Axes>"
      ]
     },
     "metadata": {},
     "output_type": "display_data"
    }
   ],
   "source": [
    "sns.lineplot(data=inputs_pd, x=\"x\", y=\"Data\", hue=\"Type\")"
   ]
  },
  {
   "cell_type": "code",
   "execution_count": null,
   "metadata": {
    "pycharm": {
     "name": "#%%\n"
    }
   },
   "outputs": [],
   "source": [
    "outputs"
   ]
  },
  {
   "cell_type": "code",
   "execution_count": 9,
   "metadata": {
    "pycharm": {
     "name": "#%%\n"
    }
   },
   "outputs": [
    {
     "data": {
      "text/plain": [
       "['CtxDMTask1: 1',\n",
       " 'CtxDMTask1: 2',\n",
       " 'CtxDMTask2: 1',\n",
       " 'CtxDMTask2: 2',\n",
       " 'DMTask1: 1',\n",
       " 'DMTask1: 2',\n",
       " 'DMTask2: 1',\n",
       " 'DMTask2: 2',\n",
       " 'GoDlTask1',\n",
       " 'GoDlTask2',\n",
       " 'GoRtTask1',\n",
       " 'GoRtTask2',\n",
       " 'GoTask1',\n",
       " 'GoTask2',\n",
       " 'RomoTask1: 1',\n",
       " 'RomoTask1: 2',\n",
       " 'RomoTask2: 1',\n",
       " 'RomoTask2: 2']"
      ]
     },
     "execution_count": 9,
     "metadata": {},
     "output_type": "execute_result"
    }
   ],
   "source": []
  },
  {
   "cell_type": "code",
   "execution_count": 5,
   "metadata": {
    "pycharm": {
     "name": "#%%\n"
    }
   },
   "outputs": [
    {
     "ename": "NameError",
     "evalue": "name 'np' is not defined",
     "output_type": "error",
     "traceback": [
      "\u001b[1;31m---------------------------------------------------------------------------\u001b[0m",
      "\u001b[1;31mNameError\u001b[0m                                 Traceback (most recent call last)",
      "Input \u001b[1;32mIn [5]\u001b[0m, in \u001b[0;36m<module>\u001b[1;34m\u001b[0m\n\u001b[1;32m----> 1\u001b[0m answers_np \u001b[38;5;241m=\u001b[39m \u001b[43mnp\u001b[49m\u001b[38;5;241m.\u001b[39marray(answers)\u001b[38;5;241m.\u001b[39mT\n\u001b[0;32m      2\u001b[0m answers_np \u001b[38;5;241m=\u001b[39m answers_np\u001b[38;5;241m.\u001b[39mreshape(answers_np\u001b[38;5;241m.\u001b[39mshape[\u001b[38;5;241m-\u001b[39m\u001b[38;5;241m1\u001b[39m] \u001b[38;5;241m*\u001b[39m answers_np\u001b[38;5;241m.\u001b[39mshape[\u001b[38;5;241m-\u001b[39m\u001b[38;5;241m2\u001b[39m], answers_np\u001b[38;5;241m.\u001b[39mshape[\u001b[38;5;241m0\u001b[39m])\u001b[38;5;241m.\u001b[39mT\n\u001b[0;32m      3\u001b[0m \u001b[38;5;66;03m#indexes = np.where(answers_np.mean(axis=1) > 25)[0]\u001b[39;00m\n",
      "\u001b[1;31mNameError\u001b[0m: name 'np' is not defined"
     ]
    }
   ],
   "source": [
    "answers_np = np.array(answers).T\n",
    "answers_np = answers_np.reshape(\n",
    "    answers_np.shape[-1] * answers_np.shape[-2], answers_np.shape[0]\n",
    ").T\n",
    "# indexes = np.where(answers_np.mean(axis=1) > 25)[0]\n",
    "answers_np = np.concatenate(answers).T + 1\n",
    "# answers_np = answers_np[indexes, :]\n",
    "answers_np = (answers_np.T / np.sum(answers_np, axis=1)).T\n",
    "print(answers_np.shape)"
   ]
  },
  {
   "cell_type": "code",
   "execution_count": 8,
   "metadata": {
    "pycharm": {
     "name": "#%%\n"
    }
   },
   "outputs": [
    {
     "data": {
      "image/png": "[encoded data removed]",
      "text/plain": [
       "<Figure size 432x288 with 1 Axes>"
      ]
     },
     "metadata": {
      "needs_background": "light"
     },
     "output_type": "display_data"
    },
    {
     "data": {
      "image/png": "[encoded data removed]",
      "text/plain": [
       "<Figure size 432x288 with 1 Axes>"
      ]
     },
     "metadata": {
      "needs_background": "light"
     },
     "output_type": "display_data"
    }
   ],
   "source": [
    "X = np.concatenate(fixations, axis=0).T\n",
    "\n",
    "# X = X[np.where(X.sum(axis=1) > 0)[0], :]\n",
    "X = (X.T / X.max()).T\n",
    "sse_fixation = []\n",
    "for k in range(1, 15):\n",
    "    kmeans = KMeans(k, algorithm=\"full\", n_init=20, random_state=0)\n",
    "    kmeans.fit_predict(X)\n",
    "    sse_fixation.append(kmeans.inertia_)\n",
    "plt.plot(sse_fixation, \".\")\n",
    "plt.show()\n",
    "plt.close()\n",
    "n_clusters = 2\n",
    "km = KMeans(n_clusters, algorithm=\"full\", n_init=20, random_state=0)\n",
    "y_km = km.fit_predict(X)\n",
    "for i in range(n_clusters):\n",
    "    plt.scatter(\n",
    "        X[y_km == i, 0],\n",
    "        X[y_km == i, 1],\n",
    "        s=50,\n",
    "        marker=\"s\",\n",
    "        edgecolor=\"black\",\n",
    "        label=f\"cluster {i}\",\n",
    "        alpha=0.8,\n",
    "    )\n",
    "# plt.xlim([0, 0.00005])\n",
    "# plot the centroids\n",
    "plt.scatter(\n",
    "    km.cluster_centers_[:, 0],\n",
    "    km.cluster_centers_[:, 1],\n",
    "    s=350,\n",
    "    marker=\"*\",\n",
    "    c=\"green\",\n",
    "    edgecolor=\"black\",\n",
    "    label=\"centroids\",\n",
    ")\n",
    "plt.legend(scatterpoints=1)\n",
    "plt.grid()\n",
    "plt.show()"
   ]
  },
  {
   "cell_type": "code",
   "execution_count": 9,
   "metadata": {
    "pycharm": {
     "name": "#%%\n"
    }
   },
   "outputs": [
    {
     "data": {
      "image/png": "[encoded data removed]",
      "text/plain": [
       "<Figure size 432x288 with 1 Axes>"
      ]
     },
     "metadata": {
      "needs_background": "light"
     },
     "output_type": "display_data"
    },
    {
     "data": {
      "image/png": "[encoded data removed]",
      "text/plain": [
       "<Figure size 432x288 with 1 Axes>"
      ]
     },
     "metadata": {
      "needs_background": "light"
     },
     "output_type": "display_data"
    }
   ],
   "source": [
    "X = np.concatenate(answers, axis=0).T\n",
    "\n",
    "# X = X[np.where(X.sum(axis=1) > 0)[0], :]\n",
    "X = (X.T / X.max()).T\n",
    "sse_answer = []\n",
    "\n",
    "for k in range(1, 15):\n",
    "    kmeans = KMeans(k, algorithm=\"full\", n_init=20, random_state=0)\n",
    "    kmeans.fit_predict(X)\n",
    "    sse_answer.append(kmeans.inertia_)\n",
    "plt.plot(sse_fixation, \".\")\n",
    "plt.show()\n",
    "plt.close()\n",
    "n_clusters = 2\n",
    "km = KMeans(n_clusters, algorithm=\"full\", n_init=20, random_state=0)\n",
    "y_km = km.fit_predict(X)\n",
    "for i in range(n_clusters):\n",
    "    plt.scatter(\n",
    "        X[y_km == i, 0],\n",
    "        X[y_km == i, 1],\n",
    "        s=50,\n",
    "        marker=\"s\",\n",
    "        edgecolor=\"black\",\n",
    "        label=f\"cluster {i}\",\n",
    "        alpha=0.8,\n",
    "    )\n",
    "# plt.xlim([0, 0.00005])\n",
    "# plot the centroids\n",
    "plt.scatter(\n",
    "    km.cluster_centers_[:, 0],\n",
    "    km.cluster_centers_[:, 1],\n",
    "    s=350,\n",
    "    marker=\"*\",\n",
    "    c=\"green\",\n",
    "    edgecolor=\"black\",\n",
    "    label=\"centroids\",\n",
    ")\n",
    "plt.legend(scatterpoints=1)\n",
    "plt.grid()\n",
    "plt.show()"
   ]
  },
  {
   "cell_type": "code",
   "execution_count": 8,
   "metadata": {
    "pycharm": {
     "name": "#%%\n"
    }
   },
   "outputs": [
    {
     "ename": "NameError",
     "evalue": "name 'sse_fixation' is not defined",
     "output_type": "error",
     "traceback": [
      "\u001b[1;31m---------------------------------------------------------------------------\u001b[0m",
      "\u001b[1;31mNameError\u001b[0m                                 Traceback (most recent call last)",
      "Input \u001b[1;32mIn [8]\u001b[0m, in \u001b[0;36m<module>\u001b[1;34m\u001b[0m\n\u001b[0;32m      2\u001b[0m fig \u001b[38;5;241m=\u001b[39m plt\u001b[38;5;241m.\u001b[39mfigure(figsize\u001b[38;5;241m=\u001b[39m(\u001b[38;5;241m6\u001b[39m, \u001b[38;5;241m4\u001b[39m))\n\u001b[0;32m      3\u001b[0m ax1 \u001b[38;5;241m=\u001b[39m fig\u001b[38;5;241m.\u001b[39madd_subplot(\u001b[38;5;241m111\u001b[39m)\n\u001b[1;32m----> 5\u001b[0m ax1\u001b[38;5;241m.\u001b[39mplot(\u001b[38;5;28mrange\u001b[39m(\u001b[38;5;241m1\u001b[39m, \u001b[38;5;28mlen\u001b[39m(\u001b[43msse_fixation\u001b[49m) \u001b[38;5;241m+\u001b[39m \u001b[38;5;241m1\u001b[39m), sse_fixation, \u001b[38;5;124m'\u001b[39m\u001b[38;5;124m.\u001b[39m\u001b[38;5;124m'\u001b[39m, linestyle\u001b[38;5;241m=\u001b[39m\u001b[38;5;124m'\u001b[39m\u001b[38;5;124m--\u001b[39m\u001b[38;5;124m'\u001b[39m, label\u001b[38;5;241m=\u001b[39m\u001b[38;5;124m'\u001b[39m\u001b[38;5;124mFixation stage\u001b[39m\u001b[38;5;124m'\u001b[39m)\n\u001b[0;32m      6\u001b[0m ax1\u001b[38;5;241m.\u001b[39mset_ylabel(\u001b[38;5;124m'\u001b[39m\u001b[38;5;124m$J(C_k)$\u001b[39m\u001b[38;5;124m'\u001b[39m)\n\u001b[0;32m      7\u001b[0m ax1\u001b[38;5;241m.\u001b[39mplot(\u001b[38;5;28mrange\u001b[39m(\u001b[38;5;241m1\u001b[39m, \u001b[38;5;28mlen\u001b[39m(sse_fixation) \u001b[38;5;241m+\u001b[39m \u001b[38;5;241m1\u001b[39m), sse_answer, \u001b[38;5;124m'\u001b[39m\u001b[38;5;124m.\u001b[39m\u001b[38;5;124m'\u001b[39m, linestyle\u001b[38;5;241m=\u001b[39m\u001b[38;5;124m'\u001b[39m\u001b[38;5;124m--\u001b[39m\u001b[38;5;124m'\u001b[39m, label\u001b[38;5;241m=\u001b[39m\u001b[38;5;124m'\u001b[39m\u001b[38;5;124mAnswer stage\u001b[39m\u001b[38;5;124m'\u001b[39m)\n",
      "\u001b[1;31mNameError\u001b[0m: name 'sse_fixation' is not defined"
     ]
    },
    {
     "data": {
      "image/png": "[encoded data removed]",
      "text/plain": [
       "<Figure size 432x288 with 1 Axes>"
      ]
     },
     "metadata": {
      "needs_background": "light"
     },
     "output_type": "display_data"
    }
   ],
   "source": [
    "plt.rcParams[\"font.size\"] = 10\n",
    "fig = plt.figure(figsize=(6, 4))\n",
    "ax1 = fig.add_subplot(111)\n",
    "\n",
    "ax1.plot(\n",
    "    range(1, len(sse_fixation) + 1),\n",
    "    sse_fixation,\n",
    "    \".\",\n",
    "    linestyle=\"--\",\n",
    "    label=\"Fixation stage\",\n",
    ")\n",
    "ax1.set_ylabel(\"$J(C_k)$\")\n",
    "ax1.plot(\n",
    "    range(1, len(sse_fixation) + 1),\n",
    "    sse_answer,\n",
    "    \".\",\n",
    "    linestyle=\"--\",\n",
    "    label=\"Answer stage\",\n",
    ")\n",
    "ax1.set_xlim([1, len(sse_fixation)])\n",
    "ax1.set_xticks(range(1, len(sse_fixation) + 1))\n",
    "ax1.set_ylim([min(sse_fixation), max(sse_fixation)])\n",
    "\n",
    "ax1.minorticks_on()\n",
    "ax1.grid(True)\n",
    "ax1.grid(which=\"minor\", linestyle=\"--\", alpha=0.8)\n",
    "ax1.set_xlabel(\"$k$\")\n",
    "plt.legend()\n",
    "plt.savefig(\"J_vs_k.eps\")\n",
    "plt.show()\n",
    "plt.close()"
   ]
  },
  {
   "cell_type": "code",
   "execution_count": 16,
   "metadata": {
    "pycharm": {
     "name": "#%%\n"
    }
   },
   "outputs": [
    {
     "data": {
      "image/png": "[encoded data removed]",
      "text/plain": [
       "<Figure size 432x288 with 1 Axes>"
      ]
     },
     "metadata": {
      "needs_background": "light"
     },
     "output_type": "display_data"
    },
    {
     "data": {
      "image/png": "[encoded data removed]",
      "text/plain": [
       "<Figure size 432x288 with 1 Axes>"
      ]
     },
     "metadata": {
      "needs_background": "light"
     },
     "output_type": "display_data"
    }
   ],
   "source": [
    "X = np.concatenate(answers, axis=0).T\n",
    "\n",
    "# X = X[np.where(X.sum(axis=1) > 0)[0], :]\n",
    "X = (X.T / X.max()).T\n",
    "sse = []\n",
    "for k in range(1, 15):\n",
    "    kmeans = KMeans(k, algorithm=\"full\", n_init=20, random_state=0)\n",
    "    kmeans.fit_predict(X)\n",
    "    sse.append(kmeans.inertia_)\n",
    "plt.plot(sse, \".\")\n",
    "plt.show()\n",
    "plt.close()\n",
    "n_clusters = 2\n",
    "km = KMeans(n_clusters, algorithm=\"full\", n_init=20, random_state=0)\n",
    "y_km = km.fit_predict(X)\n",
    "for i in range(n_clusters):\n",
    "    plt.scatter(\n",
    "        X[y_km == i, 0],\n",
    "        X[y_km == i, 1],\n",
    "        s=50,\n",
    "        marker=\"s\",\n",
    "        edgecolor=\"black\",\n",
    "        label=f\"cluster {i}\",\n",
    "        alpha=0.8,\n",
    "    )\n",
    "# plt.xlim([0, 0.00005])\n",
    "# plot the centroids\n",
    "plt.scatter(\n",
    "    km.cluster_centers_[:, 0],\n",
    "    km.cluster_centers_[:, 1],\n",
    "    s=350,\n",
    "    marker=\"*\",\n",
    "    c=\"green\",\n",
    "    edgecolor=\"black\",\n",
    "    label=\"centroids\",\n",
    ")\n",
    "plt.legend(scatterpoints=1)\n",
    "plt.grid()\n",
    "plt.show()"
   ]
  },
  {
   "cell_type": "code",
   "execution_count": 17,
   "metadata": {
    "pycharm": {
     "name": "#%%\n"
    }
   },
   "outputs": [
    {
     "data": {
      "image/png": "[encoded data removed]",
      "text/plain": [
       "<Figure size 432x288 with 1 Axes>"
      ]
     },
     "metadata": {
      "needs_background": "light"
     },
     "output_type": "display_data"
    },
    {
     "name": "stderr",
     "output_type": "stream",
     "text": [
      "UsageError: Line magic function `%` not found.\n"
     ]
    }
   ],
   "source": [
    "X = np.concatenate(answers + fixations, axis=0).T / 2\n",
    "\n",
    "# X = X[np.where(X.sum(axis=1) > 0)[0], :]\n",
    "X = (X.T / X.max()).T\n",
    "sse = []\n",
    "for k in range(1, 15):\n",
    "    kmeans = KMeans(k, algorithm=\"full\", n_init=20, random_state=0)\n",
    "    kmeans.fit_predict(X)\n",
    "    sse.append(kmeans.inertia_)\n",
    "plt.plot(sse, \".\")\n",
    "plt.show()\n",
    "plt.close()\n",
    "n_clusters = 2\n",
    "km = KMeans(n_clusters, algorithm=\"full\", n_init=20, random_state=0)\n",
    "y_km = km.fit_predict(X)\n",
    "% matplotlib inline\n",
    "for i in range(n_clusters):\n",
    "    plt.scatter(\n",
    "        X[y_km == i, 0],\n",
    "        X[y_km == i, 1],\n",
    "        s=50,\n",
    "        marker=\"s\",\n",
    "        edgecolor=\"black\",\n",
    "        label=f\"cluster {i}\",\n",
    "        alpha=0.8,\n",
    "    )\n",
    "# plt.xlim([0, 0.00005])\n",
    "# plot the centroids\n",
    "plt.scatter(\n",
    "    km.cluster_centers_[:, 0],\n",
    "    km.cluster_centers_[:, 1],\n",
    "    s=350,\n",
    "    marker=\"*\",\n",
    "    c=\"green\",\n",
    "    edgecolor=\"black\",\n",
    "    label=\"centroids\",\n",
    ")\n",
    "plt.legend(scatterpoints=1)\n",
    "plt.grid()\n",
    "plt.show()"
   ]
  },
  {
   "cell_type": "code",
   "execution_count": null,
   "metadata": {
    "pycharm": {
     "name": "#%%\n"
    }
   },
   "outputs": [],
   "source": [
    "np_variance = np.zeros((np_answers.shape[1], np_answers.shape[2]))\n",
    "for i in range(np_answers.shape[-1]):\n",
    "    np_variance[:, i] = np.sum(np_answers[:, :, i], axis=0) / 100"
   ]
  },
  {
   "cell_type": "code",
   "execution_count": null,
   "metadata": {
    "pycharm": {
     "name": "#%%\n"
    }
   },
   "outputs": [],
   "source": [
    "np_variance.shape"
   ]
  },
  {
   "cell_type": "code",
   "execution_count": null,
   "metadata": {
    "pycharm": {
     "name": "#%%\n"
    }
   },
   "outputs": [],
   "source": [
    "plt.imshow(np_variance / np_variance.max(), aspect=\"auto\", cmap=\"jet\", origin=\"lower\")\n",
    "plt.colorbar()"
   ]
  },
  {
   "cell_type": "code",
   "execution_count": null,
   "metadata": {
    "pycharm": {
     "name": "#%%\n"
    }
   },
   "outputs": [],
   "source": [
    "from scipy.cluster import hierarchy\n",
    "from scipy.spatial.distance import pdist\n",
    "\n",
    "distance_mat = pdist(\n",
    "    X\n",
    ")  # pdist посчитает нам верхний треугольник матрицы попарных расстояний\n",
    "\n",
    "Z = hierarchy.linkage(\n",
    "    distance_mat, \"single\"\n",
    ")  # linkage — реализация агломеративного алгоритма\n",
    "plt.figure(figsize=(10, 5))\n",
    "dn = hierarchy.dendrogram(Z, color_threshold=000)\n",
    "plt.show()\n",
    "plt.close()"
   ]
  },
  {
   "cell_type": "code",
   "execution_count": null,
   "metadata": {
    "pycharm": {
     "name": "#%%\n"
    }
   },
   "outputs": [],
   "source": [
    "X = np.concatenate(answers, axis=0).T\n",
    "X = X[np.where(X.sum(axis=1) > 950)[0], :]\n",
    "X.shape"
   ]
  },
  {
   "cell_type": "code",
   "execution_count": null,
   "metadata": {
    "pycharm": {
     "name": "#%%\n"
    }
   },
   "outputs": [],
   "source": [
    "zero_neurons = set(\n",
    "    (\n",
    "        3,\n",
    "        5,\n",
    "        9,\n",
    "        11,\n",
    "        14,\n",
    "        17,\n",
    "        18,\n",
    "        21,\n",
    "        22,\n",
    "        23,\n",
    "        29,\n",
    "        30,\n",
    "        32,\n",
    "        35,\n",
    "        39,\n",
    "        41,\n",
    "        46,\n",
    "        48,\n",
    "        56,\n",
    "        58,\n",
    "        60,\n",
    "        62,\n",
    "        63,\n",
    "        71,\n",
    "        75,\n",
    "        78,\n",
    "        79,\n",
    "        81,\n",
    "        86,\n",
    "        87,\n",
    "        90,\n",
    "        94,\n",
    "        95,\n",
    "        98,\n",
    "        99,\n",
    "        100,\n",
    "        102,\n",
    "        106,\n",
    "        108,\n",
    "        110,\n",
    "        111,\n",
    "        115,\n",
    "        116,\n",
    "        120,\n",
    "        125,\n",
    "        127,\n",
    "        134,\n",
    "        135,\n",
    "        136,\n",
    "        142,\n",
    "        145,\n",
    "        147,\n",
    "        151,\n",
    "        154,\n",
    "        157,\n",
    "        163,\n",
    "        165,\n",
    "        168,\n",
    "        176,\n",
    "        178,\n",
    "        182,\n",
    "        184,\n",
    "        190,\n",
    "        192,\n",
    "        193,\n",
    "        194,\n",
    "        197,\n",
    "        204,\n",
    "        207,\n",
    "        209,\n",
    "        211,\n",
    "        214,\n",
    "        216,\n",
    "        224,\n",
    "        233,\n",
    "        236,\n",
    "        237,\n",
    "        240,\n",
    "        251,\n",
    "        254,\n",
    "        255,\n",
    "        263,\n",
    "        264,\n",
    "        271,\n",
    "        272,\n",
    "        275,\n",
    "        276,\n",
    "        279,\n",
    "        288,\n",
    "        289,\n",
    "        291,\n",
    "        294,\n",
    "        297,\n",
    "        298,\n",
    "        299,\n",
    "        301,\n",
    "        303,\n",
    "        305,\n",
    "        307,\n",
    "        313,\n",
    "        315,\n",
    "        317,\n",
    "        322,\n",
    "        323,\n",
    "        325,\n",
    "        326,\n",
    "        327,\n",
    "        329,\n",
    "        331,\n",
    "        334,\n",
    "        335,\n",
    "        338,\n",
    "        340,\n",
    "        342,\n",
    "        345,\n",
    "        348,\n",
    "        349,\n",
    "        360,\n",
    "        366,\n",
    "        372,\n",
    "        382,\n",
    "        383,\n",
    "        385,\n",
    "        390,\n",
    "        391,\n",
    "        392,\n",
    "        393,\n",
    "        394,\n",
    "    )\n",
    ")\n",
    "non_zeros_neurons = set([*range(hidden_size)]) - zero_neurons\n",
    "non_zeros_neurons = sorted(list(non_zeros_neurons))\n",
    "X = np.concatenate(answers, axis=0).T[non_zeros_neurons, ...]\n",
    "\n",
    "# X = X[np.where(X.sum(axis=1) > 0)[0], :]\n",
    "X = (X.T / X.max()).T\n",
    "sse = []\n",
    "for k in range(1, 15):\n",
    "    kmeans = KMeans(k, algorithm=\"full\", n_init=20, random_state=0)\n",
    "    kmeans.fit_predict(X)\n",
    "    sse.append(kmeans.inertia_)\n",
    "plt.plot(sse, \".\")\n",
    "plt.show()\n",
    "plt.close()\n",
    "n_clusters = 3\n",
    "km = KMeans(n_clusters, algorithm=\"full\", n_init=20, random_state=0)\n",
    "y_km = km.fit_predict(X)\n",
    "for i in range(n_clusters):\n",
    "    plt.scatter(\n",
    "        X[y_km == i, 0],\n",
    "        X[y_km == i, 1],\n",
    "        s=50,\n",
    "        marker=\"s\",\n",
    "        edgecolor=\"black\",\n",
    "        label=f\"cluster {i}\",\n",
    "        alpha=0.8,\n",
    "    )\n",
    "# plt.xlim([0, 0.00005])\n",
    "# plot the centroids\n",
    "plt.scatter(\n",
    "    km.cluster_centers_[:, 0],\n",
    "    km.cluster_centers_[:, 1],\n",
    "    s=350,\n",
    "    marker=\"*\",\n",
    "    c=\"green\",\n",
    "    edgecolor=\"black\",\n",
    "    label=\"centroids\",\n",
    ")\n",
    "plt.legend(scatterpoints=1)\n",
    "plt.ylabel(\"$J(C)$\")\n",
    "plt.grid()\n",
    "plt.show()"
   ]
  },
  {
   "cell_type": "code",
   "execution_count": null,
   "metadata": {
    "pycharm": {
     "name": "#%%\n"
    }
   },
   "outputs": [],
   "source": [
    "plt.plot(sse, \".\")\n",
    "plt.ylabel(\"$J(C)$\")\n",
    "plt.xlabel(\"Number of clusters\")\n",
    "plt.show()\n",
    "plt.close()"
   ]
  },
  {
   "cell_type": "code",
   "execution_count": null,
   "metadata": {
    "pycharm": {
     "name": "#%%\n"
    }
   },
   "outputs": [],
   "source": [
    "plt.figure(figsize=(5, 3))\n",
    "plt.plot(sse, \".\")\n",
    "plt.ylabel(\"$J(C)$\")\n",
    "plt.xlabel(\"Number of clusters\")\n",
    "plt.savefig(\"J_answer.eps\")\n",
    "plt.show()"
   ]
  },
  {
   "cell_type": "code",
   "execution_count": 190,
   "metadata": {
    "pycharm": {
     "name": "#%%\n"
    }
   },
   "outputs": [
    {
     "name": "stdout",
     "output_type": "stream",
     "text": [
      "(600,)\n"
     ]
    },
    {
     "ename": "ValueError",
     "evalue": "Expected 2D array, got 1D array instead:\narray=[0.         0.         0.         0.00282486 0.         0.\n 0.         0.41525424 0.         0.01412429 0.         0.\n 0.         0.         0.         0.         0.47175142 0.\n 0.         0.         0.         0.         0.0338983  0.\n 0.         0.         0.         0.93502825 0.         0.00847458\n 0.         0.         0.         0.00282486 0.         0.01129944\n 0.00282486 0.00282486 0.00282486 0.         0.         0.\n 0.         0.         0.         0.         0.         0.\n 0.01412429 0.         0.         0.         0.         0.\n 0.         0.         0.         0.         0.         0.01977401\n 0.         0.         0.         0.00282486 0.00282486 0.\n 0.         0.01694915 0.39265534 0.         0.         0.\n 0.10169491 0.         0.01694915 0.         0.         0.\n 0.         0.         0.         0.09039548 0.         0.\n 0.         0.         0.09322033 0.         0.         0.\n 0.         0.         0.         0.         0.         0.\n 0.         0.         0.00282486 0.         0.00282486 0.\n 0.00564972 0.         0.         0.         0.         0.\n 0.         0.         0.16101696 0.00282486 0.         0.\n 0.2881356  0.         0.         0.         0.         0.\n 0.         0.         0.         0.         0.         0.\n 0.01129944 0.         0.         0.08474576 0.         0.\n 0.11016949 0.         0.         0.         0.         0.\n 0.         0.         0.         0.         0.         0.\n 0.01977401 0.         0.01129944 0.         0.         0.\n 0.02259887 0.         0.         0.00282486 0.         0.\n 0.07062147 0.         0.         0.         0.00282486 0.\n 0.         0.         0.         0.         0.         0.00282486\n 0.         0.         0.         0.5084746  0.         0.\n 0.         0.         0.         0.         0.         0.9322034\n 0.         0.         0.         0.         0.         0.\n 0.01694915 0.         0.         0.         0.         0.\n 0.         0.         0.         0.         0.00564972 0.1299435\n 0.         0.         0.         0.         0.         0.00564972\n 0.11864407 0.         0.         0.         0.         0.\n 0.         0.03107345 0.5423728  0.         0.         0.\n 0.         0.06214689 0.         0.         0.         0.01694915\n 0.00282486 0.         0.         0.3022599  0.         0.\n 0.         0.         0.         0.         0.01129944 0.\n 0.         0.         0.         0.         0.         0.\n 0.         0.         0.00282486 0.         0.         0.\n 0.         0.24858758 0.29661018 0.         0.         0.\n 0.         0.         0.00847458 0.00282486 0.         0.\n 0.         0.         0.         0.         0.         0.\n 0.         0.         0.33898303 0.         0.         0.\n 0.         0.         0.         0.         0.         0.\n 0.         0.         0.         0.03107345 0.03954802 0.\n 0.         0.         0.         0.01129944 0.         0.02824859\n 0.         0.00282486 0.         0.         0.         0.01412429\n 0.         0.         0.         0.         0.22316383 0.\n 0.         0.         0.         0.00564972 0.         0.\n 0.04237288 0.         0.         0.00564972 0.         0.\n 0.         0.         0.         0.         0.00282486 0.01694915\n 0.         0.01129944 0.         1.         0.         0.0480226\n 0.         0.         0.         0.         0.         0.05084746\n 0.         0.         0.02259887 0.00282486 0.         0.\n 0.         0.         0.         0.         0.         0.\n 0.         0.         0.         0.         0.14124294 0.\n 0.         0.00282486 0.00847458 0.         0.         0.\n 0.         0.         0.         0.00282486 0.05932203 0.00282486\n 0.         0.         0.         0.         0.         0.\n 0.         0.         0.         0.39265534 0.00282486 0.\n 0.         0.         0.         0.         0.01412429 0.\n 0.         0.         0.         0.02542373 0.         0.\n 0.         0.         0.10451977 0.         0.         0.3418079\n 0.         0.         0.         0.         0.         0.13841808\n 0.         0.01694915 0.06497175 0.         0.         0.\n 0.         0.         0.         0.         0.         0.\n 0.         0.00564972 0.00282486 0.00847458 0.         0.\n 0.         0.00282486 0.         0.         0.02542373 0.00847458\n 0.         0.         0.         0.         0.         0.\n 0.         0.         0.         0.         0.         0.\n 0.         0.00564972 0.         0.         0.         0.\n 0.         0.         0.         0.         0.         0.\n 0.         0.         0.00564972 0.         0.         0.\n 0.         0.00282486 0.00282486 0.04237288 0.         0.\n 0.00564972 0.48305085 0.00564972 0.01977401 0.         0.\n 0.00282486 0.5451977  0.         0.         0.         0.\n 0.07344633 0.         0.         0.         0.         0.\n 0.         0.         0.         0.16949151 0.         0.\n 0.09322033 0.         0.         0.         0.01129944 0.4774011\n 0.         0.         0.40677965 0.43220338 0.         0.00282486\n 0.         0.         0.         0.         0.         0.\n 0.         0.         0.         0.         0.         0.\n 0.         0.         0.         0.         0.         0.\n 0.01129944 0.         0.         0.         0.         0.39830503\n 0.         0.         0.         0.         0.01977401 0.\n 0.07062147 0.39265534 0.         0.         0.         0.\n 0.         0.         0.         0.         0.06214689 0.\n 0.         0.         0.01412429 0.         0.         0.00282486\n 0.         0.         0.         0.         0.         0.\n 0.         0.         0.         0.         0.         0.05084746\n 0.         0.03954802 0.35310733 0.         0.00282486 0.\n 0.7288136  0.         0.45762712 0.         0.         0.\n 0.00282486 0.         0.         0.         0.12429379 0.\n 0.         0.         0.         0.         0.00282486 0.\n 0.         0.         0.02824859 0.         0.         0.\n 0.         0.00564972 0.         0.         0.         0.\n 0.         0.08474576 0.         0.0338983  0.         0.\n 0.         0.         0.00282486 0.         0.09322033 0.00282486].\nReshape your data either using array.reshape(-1, 1) if your data has a single feature or array.reshape(1, -1) if it contains a single sample.",
     "output_type": "error",
     "traceback": [
      "\u001b[1;31m---------------------------------------------------------------------------\u001b[0m",
      "\u001b[1;31mValueError\u001b[0m                                Traceback (most recent call last)",
      "Input \u001b[1;32mIn [190]\u001b[0m, in \u001b[0;36m<module>\u001b[1;34m\u001b[0m\n\u001b[0;32m     16\u001b[0m n_clusters \u001b[38;5;241m=\u001b[39m \u001b[38;5;241m3\u001b[39m\n\u001b[0;32m     17\u001b[0m km \u001b[38;5;241m=\u001b[39m KMeans(n_clusters, algorithm\u001b[38;5;241m=\u001b[39m\u001b[38;5;124m'\u001b[39m\u001b[38;5;124mfull\u001b[39m\u001b[38;5;124m'\u001b[39m, n_init\u001b[38;5;241m=\u001b[39m\u001b[38;5;241m20\u001b[39m, random_state\u001b[38;5;241m=\u001b[39m\u001b[38;5;241m0\u001b[39m)\n\u001b[1;32m---> 18\u001b[0m y_km \u001b[38;5;241m=\u001b[39m \u001b[43mkm\u001b[49m\u001b[38;5;241;43m.\u001b[39;49m\u001b[43mfit_predict\u001b[49m\u001b[43m(\u001b[49m\u001b[43mX\u001b[49m\u001b[43m)\u001b[49m\n\u001b[0;32m     19\u001b[0m plt\u001b[38;5;241m.\u001b[39mfigure(figsize\u001b[38;5;241m=\u001b[39m(\u001b[38;5;241m5\u001b[39m, \u001b[38;5;241m3\u001b[39m))\n\u001b[0;32m     20\u001b[0m \u001b[38;5;28;01mfor\u001b[39;00m i \u001b[38;5;129;01min\u001b[39;00m \u001b[38;5;28mrange\u001b[39m(n_clusters):\n",
      "File \u001b[1;32ma:\\src\\multy_task\\env\\lib\\site-packages\\scikit_learn-1.0.2-py3.8-win-amd64.egg\\sklearn\\cluster\\_kmeans.py:1255\u001b[0m, in \u001b[0;36mKMeans.fit_predict\u001b[1;34m(self, X, y, sample_weight)\u001b[0m\n\u001b[0;32m   1232\u001b[0m \u001b[38;5;28;01mdef\u001b[39;00m \u001b[38;5;21mfit_predict\u001b[39m(\u001b[38;5;28mself\u001b[39m, X, y\u001b[38;5;241m=\u001b[39m\u001b[38;5;28;01mNone\u001b[39;00m, sample_weight\u001b[38;5;241m=\u001b[39m\u001b[38;5;28;01mNone\u001b[39;00m):\n\u001b[0;32m   1233\u001b[0m     \u001b[38;5;124;03m\"\"\"Compute cluster centers and predict cluster index for each sample.\u001b[39;00m\n\u001b[0;32m   1234\u001b[0m \n\u001b[0;32m   1235\u001b[0m \u001b[38;5;124;03m    Convenience method; equivalent to calling fit(X) followed by\u001b[39;00m\n\u001b[1;32m   (...)\u001b[0m\n\u001b[0;32m   1253\u001b[0m \u001b[38;5;124;03m        Index of the cluster each sample belongs to.\u001b[39;00m\n\u001b[0;32m   1254\u001b[0m \u001b[38;5;124;03m    \"\"\"\u001b[39;00m\n\u001b[1;32m-> 1255\u001b[0m     \u001b[38;5;28;01mreturn\u001b[39;00m \u001b[38;5;28;43mself\u001b[39;49m\u001b[38;5;241;43m.\u001b[39;49m\u001b[43mfit\u001b[49m\u001b[43m(\u001b[49m\u001b[43mX\u001b[49m\u001b[43m,\u001b[49m\u001b[43m \u001b[49m\u001b[43msample_weight\u001b[49m\u001b[38;5;241;43m=\u001b[39;49m\u001b[43msample_weight\u001b[49m\u001b[43m)\u001b[49m\u001b[38;5;241m.\u001b[39mlabels_\n",
      "File \u001b[1;32ma:\\src\\multy_task\\env\\lib\\site-packages\\scikit_learn-1.0.2-py3.8-win-amd64.egg\\sklearn\\cluster\\_kmeans.py:1137\u001b[0m, in \u001b[0;36mKMeans.fit\u001b[1;34m(self, X, y, sample_weight)\u001b[0m\n\u001b[0;32m   1111\u001b[0m \u001b[38;5;28;01mdef\u001b[39;00m \u001b[38;5;21mfit\u001b[39m(\u001b[38;5;28mself\u001b[39m, X, y\u001b[38;5;241m=\u001b[39m\u001b[38;5;28;01mNone\u001b[39;00m, sample_weight\u001b[38;5;241m=\u001b[39m\u001b[38;5;28;01mNone\u001b[39;00m):\n\u001b[0;32m   1112\u001b[0m     \u001b[38;5;124;03m\"\"\"Compute k-means clustering.\u001b[39;00m\n\u001b[0;32m   1113\u001b[0m \n\u001b[0;32m   1114\u001b[0m \u001b[38;5;124;03m    Parameters\u001b[39;00m\n\u001b[1;32m   (...)\u001b[0m\n\u001b[0;32m   1135\u001b[0m \u001b[38;5;124;03m        Fitted estimator.\u001b[39;00m\n\u001b[0;32m   1136\u001b[0m \u001b[38;5;124;03m    \"\"\"\u001b[39;00m\n\u001b[1;32m-> 1137\u001b[0m     X \u001b[38;5;241m=\u001b[39m \u001b[38;5;28;43mself\u001b[39;49m\u001b[38;5;241;43m.\u001b[39;49m\u001b[43m_validate_data\u001b[49m\u001b[43m(\u001b[49m\n\u001b[0;32m   1138\u001b[0m \u001b[43m        \u001b[49m\u001b[43mX\u001b[49m\u001b[43m,\u001b[49m\n\u001b[0;32m   1139\u001b[0m \u001b[43m        \u001b[49m\u001b[43maccept_sparse\u001b[49m\u001b[38;5;241;43m=\u001b[39;49m\u001b[38;5;124;43m\"\u001b[39;49m\u001b[38;5;124;43mcsr\u001b[39;49m\u001b[38;5;124;43m\"\u001b[39;49m\u001b[43m,\u001b[49m\n\u001b[0;32m   1140\u001b[0m \u001b[43m        \u001b[49m\u001b[43mdtype\u001b[49m\u001b[38;5;241;43m=\u001b[39;49m\u001b[43m[\u001b[49m\u001b[43mnp\u001b[49m\u001b[38;5;241;43m.\u001b[39;49m\u001b[43mfloat64\u001b[49m\u001b[43m,\u001b[49m\u001b[43m \u001b[49m\u001b[43mnp\u001b[49m\u001b[38;5;241;43m.\u001b[39;49m\u001b[43mfloat32\u001b[49m\u001b[43m]\u001b[49m\u001b[43m,\u001b[49m\n\u001b[0;32m   1141\u001b[0m \u001b[43m        \u001b[49m\u001b[43morder\u001b[49m\u001b[38;5;241;43m=\u001b[39;49m\u001b[38;5;124;43m\"\u001b[39;49m\u001b[38;5;124;43mC\u001b[39;49m\u001b[38;5;124;43m\"\u001b[39;49m\u001b[43m,\u001b[49m\n\u001b[0;32m   1142\u001b[0m \u001b[43m        \u001b[49m\u001b[43mcopy\u001b[49m\u001b[38;5;241;43m=\u001b[39;49m\u001b[38;5;28;43mself\u001b[39;49m\u001b[38;5;241;43m.\u001b[39;49m\u001b[43mcopy_x\u001b[49m\u001b[43m,\u001b[49m\n\u001b[0;32m   1143\u001b[0m \u001b[43m        \u001b[49m\u001b[43maccept_large_sparse\u001b[49m\u001b[38;5;241;43m=\u001b[39;49m\u001b[38;5;28;43;01mFalse\u001b[39;49;00m\u001b[43m,\u001b[49m\n\u001b[0;32m   1144\u001b[0m \u001b[43m    \u001b[49m\u001b[43m)\u001b[49m\n\u001b[0;32m   1146\u001b[0m     \u001b[38;5;28mself\u001b[39m\u001b[38;5;241m.\u001b[39m_check_params(X)\n\u001b[0;32m   1147\u001b[0m     random_state \u001b[38;5;241m=\u001b[39m check_random_state(\u001b[38;5;28mself\u001b[39m\u001b[38;5;241m.\u001b[39mrandom_state)\n",
      "File \u001b[1;32ma:\\src\\multy_task\\env\\lib\\site-packages\\scikit_learn-1.0.2-py3.8-win-amd64.egg\\sklearn\\base.py:566\u001b[0m, in \u001b[0;36mBaseEstimator._validate_data\u001b[1;34m(self, X, y, reset, validate_separately, **check_params)\u001b[0m\n\u001b[0;32m    564\u001b[0m     \u001b[38;5;28;01mraise\u001b[39;00m \u001b[38;5;167;01mValueError\u001b[39;00m(\u001b[38;5;124m\"\u001b[39m\u001b[38;5;124mValidation should be done on X, y or both.\u001b[39m\u001b[38;5;124m\"\u001b[39m)\n\u001b[0;32m    565\u001b[0m \u001b[38;5;28;01melif\u001b[39;00m \u001b[38;5;129;01mnot\u001b[39;00m no_val_X \u001b[38;5;129;01mand\u001b[39;00m no_val_y:\n\u001b[1;32m--> 566\u001b[0m     X \u001b[38;5;241m=\u001b[39m \u001b[43mcheck_array\u001b[49m\u001b[43m(\u001b[49m\u001b[43mX\u001b[49m\u001b[43m,\u001b[49m\u001b[43m \u001b[49m\u001b[38;5;241;43m*\u001b[39;49m\u001b[38;5;241;43m*\u001b[39;49m\u001b[43mcheck_params\u001b[49m\u001b[43m)\u001b[49m\n\u001b[0;32m    567\u001b[0m     out \u001b[38;5;241m=\u001b[39m X\n\u001b[0;32m    568\u001b[0m \u001b[38;5;28;01melif\u001b[39;00m no_val_X \u001b[38;5;129;01mand\u001b[39;00m \u001b[38;5;129;01mnot\u001b[39;00m no_val_y:\n",
      "File \u001b[1;32ma:\\src\\multy_task\\env\\lib\\site-packages\\scikit_learn-1.0.2-py3.8-win-amd64.egg\\sklearn\\utils\\validation.py:769\u001b[0m, in \u001b[0;36mcheck_array\u001b[1;34m(array, accept_sparse, accept_large_sparse, dtype, order, copy, force_all_finite, ensure_2d, allow_nd, ensure_min_samples, ensure_min_features, estimator)\u001b[0m\n\u001b[0;32m    767\u001b[0m     \u001b[38;5;66;03m# If input is 1D raise error\u001b[39;00m\n\u001b[0;32m    768\u001b[0m     \u001b[38;5;28;01mif\u001b[39;00m array\u001b[38;5;241m.\u001b[39mndim \u001b[38;5;241m==\u001b[39m \u001b[38;5;241m1\u001b[39m:\n\u001b[1;32m--> 769\u001b[0m         \u001b[38;5;28;01mraise\u001b[39;00m \u001b[38;5;167;01mValueError\u001b[39;00m(\n\u001b[0;32m    770\u001b[0m             \u001b[38;5;124m\"\u001b[39m\u001b[38;5;124mExpected 2D array, got 1D array instead:\u001b[39m\u001b[38;5;130;01m\\n\u001b[39;00m\u001b[38;5;124marray=\u001b[39m\u001b[38;5;132;01m{}\u001b[39;00m\u001b[38;5;124m.\u001b[39m\u001b[38;5;130;01m\\n\u001b[39;00m\u001b[38;5;124m\"\u001b[39m\n\u001b[0;32m    771\u001b[0m             \u001b[38;5;124m\"\u001b[39m\u001b[38;5;124mReshape your data either using array.reshape(-1, 1) if \u001b[39m\u001b[38;5;124m\"\u001b[39m\n\u001b[0;32m    772\u001b[0m             \u001b[38;5;124m\"\u001b[39m\u001b[38;5;124myour data has a single feature or array.reshape(1, -1) \u001b[39m\u001b[38;5;124m\"\u001b[39m\n\u001b[0;32m    773\u001b[0m             \u001b[38;5;124m\"\u001b[39m\u001b[38;5;124mif it contains a single sample.\u001b[39m\u001b[38;5;124m\"\u001b[39m\u001b[38;5;241m.\u001b[39mformat(array)\n\u001b[0;32m    774\u001b[0m         )\n\u001b[0;32m    776\u001b[0m \u001b[38;5;66;03m# make sure we actually converted to numeric:\u001b[39;00m\n\u001b[0;32m    777\u001b[0m \u001b[38;5;28;01mif\u001b[39;00m dtype_numeric \u001b[38;5;129;01mand\u001b[39;00m array\u001b[38;5;241m.\u001b[39mdtype\u001b[38;5;241m.\u001b[39mkind \u001b[38;5;129;01min\u001b[39;00m \u001b[38;5;124m\"\u001b[39m\u001b[38;5;124mOUSV\u001b[39m\u001b[38;5;124m\"\u001b[39m:\n",
      "\u001b[1;31mValueError\u001b[0m: Expected 2D array, got 1D array instead:\narray=[0.         0.         0.         0.00282486 0.         0.\n 0.         0.41525424 0.         0.01412429 0.         0.\n 0.         0.         0.         0.         0.47175142 0.\n 0.         0.         0.         0.         0.0338983  0.\n 0.         0.         0.         0.93502825 0.         0.00847458\n 0.         0.         0.         0.00282486 0.         0.01129944\n 0.00282486 0.00282486 0.00282486 0.         0.         0.\n 0.         0.         0.         0.         0.         0.\n 0.01412429 0.         0.         0.         0.         0.\n 0.         0.         0.         0.         0.         0.01977401\n 0.         0.         0.         0.00282486 0.00282486 0.\n 0.         0.01694915 0.39265534 0.         0.         0.\n 0.10169491 0.         0.01694915 0.         0.         0.\n 0.         0.         0.         0.09039548 0.         0.\n 0.         0.         0.09322033 0.         0.         0.\n 0.         0.         0.         0.         0.         0.\n 0.         0.         0.00282486 0.         0.00282486 0.\n 0.00564972 0.         0.         0.         0.         0.\n 0.         0.         0.16101696 0.00282486 0.         0.\n 0.2881356  0.         0.         0.         0.         0.\n 0.         0.         0.         0.         0.         0.\n 0.01129944 0.         0.         0.08474576 0.         0.\n 0.11016949 0.         0.         0.         0.         0.\n 0.         0.         0.         0.         0.         0.\n 0.01977401 0.         0.01129944 0.         0.         0.\n 0.02259887 0.         0.         0.00282486 0.         0.\n 0.07062147 0.         0.         0.         0.00282486 0.\n 0.         0.         0.         0.         0.         0.00282486\n 0.         0.         0.         0.5084746  0.         0.\n 0.         0.         0.         0.         0.         0.9322034\n 0.         0.         0.         0.         0.         0.\n 0.01694915 0.         0.         0.         0.         0.\n 0.         0.         0.         0.         0.00564972 0.1299435\n 0.         0.         0.         0.         0.         0.00564972\n 0.11864407 0.         0.         0.         0.         0.\n 0.         0.03107345 0.5423728  0.         0.         0.\n 0.         0.06214689 0.         0.         0.         0.01694915\n 0.00282486 0.         0.         0.3022599  0.         0.\n 0.         0.         0.         0.         0.01129944 0.\n 0.         0.         0.         0.         0.         0.\n 0.         0.         0.00282486 0.         0.         0.\n 0.         0.24858758 0.29661018 0.         0.         0.\n 0.         0.         0.00847458 0.00282486 0.         0.\n 0.         0.         0.         0.         0.         0.\n 0.         0.         0.33898303 0.         0.         0.\n 0.         0.         0.         0.         0.         0.\n 0.         0.         0.         0.03107345 0.03954802 0.\n 0.         0.         0.         0.01129944 0.         0.02824859\n 0.         0.00282486 0.         0.         0.         0.01412429\n 0.         0.         0.         0.         0.22316383 0.\n 0.         0.         0.         0.00564972 0.         0.\n 0.04237288 0.         0.         0.00564972 0.         0.\n 0.         0.         0.         0.         0.00282486 0.01694915\n 0.         0.01129944 0.         1.         0.         0.0480226\n 0.         0.         0.         0.         0.         0.05084746\n 0.         0.         0.02259887 0.00282486 0.         0.\n 0.         0.         0.         0.         0.         0.\n 0.         0.         0.         0.         0.14124294 0.\n 0.         0.00282486 0.00847458 0.         0.         0.\n 0.         0.         0.         0.00282486 0.05932203 0.00282486\n 0.         0.         0.         0.         0.         0.\n 0.         0.         0.         0.39265534 0.00282486 0.\n 0.         0.         0.         0.         0.01412429 0.\n 0.         0.         0.         0.02542373 0.         0.\n 0.         0.         0.10451977 0.         0.         0.3418079\n 0.         0.         0.         0.         0.         0.13841808\n 0.         0.01694915 0.06497175 0.         0.         0.\n 0.         0.         0.         0.         0.         0.\n 0.         0.00564972 0.00282486 0.00847458 0.         0.\n 0.         0.00282486 0.         0.         0.02542373 0.00847458\n 0.         0.         0.         0.         0.         0.\n 0.         0.         0.         0.         0.         0.\n 0.         0.00564972 0.         0.         0.         0.\n 0.         0.         0.         0.         0.         0.\n 0.         0.         0.00564972 0.         0.         0.\n 0.         0.00282486 0.00282486 0.04237288 0.         0.\n 0.00564972 0.48305085 0.00564972 0.01977401 0.         0.\n 0.00282486 0.5451977  0.         0.         0.         0.\n 0.07344633 0.         0.         0.         0.         0.\n 0.         0.         0.         0.16949151 0.         0.\n 0.09322033 0.         0.         0.         0.01129944 0.4774011\n 0.         0.         0.40677965 0.43220338 0.         0.00282486\n 0.         0.         0.         0.         0.         0.\n 0.         0.         0.         0.         0.         0.\n 0.         0.         0.         0.         0.         0.\n 0.01129944 0.         0.         0.         0.         0.39830503\n 0.         0.         0.         0.         0.01977401 0.\n 0.07062147 0.39265534 0.         0.         0.         0.\n 0.         0.         0.         0.         0.06214689 0.\n 0.         0.         0.01412429 0.         0.         0.00282486\n 0.         0.         0.         0.         0.         0.\n 0.         0.         0.         0.         0.         0.05084746\n 0.         0.03954802 0.35310733 0.         0.00282486 0.\n 0.7288136  0.         0.45762712 0.         0.         0.\n 0.00282486 0.         0.         0.         0.12429379 0.\n 0.         0.         0.         0.         0.00282486 0.\n 0.         0.         0.02824859 0.         0.         0.\n 0.         0.00564972 0.         0.         0.         0.\n 0.         0.08474576 0.         0.0338983  0.         0.\n 0.         0.         0.00282486 0.         0.09322033 0.00282486].\nReshape your data either using array.reshape(-1, 1) if your data has a single feature or array.reshape(1, -1) if it contains a single sample."
     ]
    }
   ],
   "source": [
    "zero_neurons = set(\n",
    "    (\n",
    "        3,\n",
    "        5,\n",
    "        9,\n",
    "        11,\n",
    "        14,\n",
    "        17,\n",
    "        18,\n",
    "        21,\n",
    "        22,\n",
    "        23,\n",
    "        29,\n",
    "        30,\n",
    "        32,\n",
    "        35,\n",
    "        39,\n",
    "        41,\n",
    "        46,\n",
    "        48,\n",
    "        56,\n",
    "        58,\n",
    "        60,\n",
    "        62,\n",
    "        63,\n",
    "        71,\n",
    "        75,\n",
    "        78,\n",
    "        79,\n",
    "        81,\n",
    "        86,\n",
    "        87,\n",
    "        90,\n",
    "        94,\n",
    "        95,\n",
    "        98,\n",
    "        99,\n",
    "        100,\n",
    "        102,\n",
    "        106,\n",
    "        108,\n",
    "        110,\n",
    "        111,\n",
    "        115,\n",
    "        116,\n",
    "        120,\n",
    "        125,\n",
    "        127,\n",
    "        134,\n",
    "        135,\n",
    "        136,\n",
    "        142,\n",
    "        145,\n",
    "        147,\n",
    "        151,\n",
    "        154,\n",
    "        157,\n",
    "        163,\n",
    "        165,\n",
    "        168,\n",
    "        176,\n",
    "        178,\n",
    "        182,\n",
    "        184,\n",
    "        190,\n",
    "        192,\n",
    "        193,\n",
    "        194,\n",
    "        197,\n",
    "        204,\n",
    "        207,\n",
    "        209,\n",
    "        211,\n",
    "        214,\n",
    "        216,\n",
    "        224,\n",
    "        233,\n",
    "        236,\n",
    "        237,\n",
    "        240,\n",
    "        251,\n",
    "        254,\n",
    "        255,\n",
    "        263,\n",
    "        264,\n",
    "        271,\n",
    "        272,\n",
    "        275,\n",
    "        276,\n",
    "        279,\n",
    "        288,\n",
    "        289,\n",
    "        291,\n",
    "        294,\n",
    "        297,\n",
    "        298,\n",
    "        299,\n",
    "        301,\n",
    "        303,\n",
    "        305,\n",
    "        307,\n",
    "        313,\n",
    "        315,\n",
    "        317,\n",
    "        322,\n",
    "        323,\n",
    "        325,\n",
    "        326,\n",
    "        327,\n",
    "        329,\n",
    "        331,\n",
    "        334,\n",
    "        335,\n",
    "        338,\n",
    "        340,\n",
    "        342,\n",
    "        345,\n",
    "        348,\n",
    "        349,\n",
    "        360,\n",
    "        366,\n",
    "        372,\n",
    "        382,\n",
    "        383,\n",
    "        385,\n",
    "        390,\n",
    "        391,\n",
    "        392,\n",
    "        393,\n",
    "        394,\n",
    "    )\n",
    ")\n",
    "zero_neurons = set()\n",
    "non_zeros_neurons = set([*range(hidden_size)]) - zero_neurons\n",
    "non_zeros_neurons = sorted(list(non_zeros_neurons))\n",
    "X = np.concatenate(answers, axis=0).T[non_zeros_neurons, ...]\n",
    "# X = np.concatenate(answers, axis=0).T\n",
    "print(X.shape)\n",
    "# X = X[np.where(X.sum(axis=1) > 0)[0], :]\n",
    "X = (X.T / X.max()).T\n",
    "n_clusters = 3\n",
    "km = KMeans(n_clusters, algorithm=\"full\", n_init=20, random_state=0)\n",
    "y_km = km.fit_predict(X)\n",
    "plt.figure(figsize=(5, 3))\n",
    "for i in range(n_clusters):\n",
    "    plt.scatter(\n",
    "        X[y_km == i, 0],\n",
    "        X[y_km == i, 1],\n",
    "        s=50,\n",
    "        marker=\"s\",\n",
    "        edgecolor=\"black\",\n",
    "        label=f\"cluster {i + 1}\",\n",
    "        alpha=0.8,\n",
    "    )\n",
    "# plt.xlim([0, 0.00005])\n",
    "# plot the centroids\n",
    "plt.scatter(\n",
    "    km.cluster_centers_[:, 0],\n",
    "    km.cluster_centers_[:, 1],\n",
    "    s=150,\n",
    "    marker=\"*\",\n",
    "    c=\"green\",\n",
    "    edgecolor=\"black\",\n",
    "    label=\"centroids\",\n",
    ")\n",
    "plt.legend(scatterpoints=1)\n",
    "plt.grid()\n",
    "plt.savefig(\"NumberOfClusters.eps\")\n",
    "plt.show()"
   ]
  },
  {
   "cell_type": "code",
   "execution_count": 13,
   "metadata": {
    "pycharm": {
     "name": "#%%\n"
    }
   },
   "outputs": [
    {
     "name": "stderr",
     "output_type": "stream",
     "text": [
      "The PostScript backend does not support transparency; partially transparent artists will be rendered opaque.\n"
     ]
    },
    {
     "data": {
      "image/png": "[encoded data removed]",
      "text/plain": [
       "<Figure size 360x216 with 2 Axes>"
      ]
     },
     "metadata": {
      "needs_background": "light"
     },
     "output_type": "display_data"
    }
   ],
   "source": [
    "plt.rcParams[\"font.size\"] = 8\n",
    "answers_np = np.array(answers)\n",
    "tv = [answers_np[:, i, :].sum(axis=0) for i in range(answers_np.shape[1])]\n",
    "tv = np.array(tv)[:, non_zeros_neurons]\n",
    "# tv = tv[np.where(tv.sum(axis=1) > 0)[0], :]\n",
    "tv /= tv.max()\n",
    "tv.shape\n",
    "\n",
    "sort_indexes = [*range(tv.shape[-1])]\n",
    "sort_indexes = sort_elemnts_by_another(tv[1], sort_indexes)\n",
    "tv_sort = np.zeros_like(tv)\n",
    "clusters = []\n",
    "for i in range(n_clusters):\n",
    "    if i == 1:\n",
    "        clusters.extend(\n",
    "            sort_elemnts_by_another(\n",
    "                np.mean(tv[8:14, [*np.where(y_km == i)[0]]], axis=0),\n",
    "                [*np.where(y_km == i)[0]],\n",
    "            )\n",
    "        )\n",
    "    else:\n",
    "        clusters.extend(\n",
    "            sort_elemnts_by_another(\n",
    "                np.mean(tv[:, [*np.where(y_km == i)[0]]], axis=0),\n",
    "                [*np.where(y_km == i)[0]],\n",
    "            )\n",
    "        )\n",
    "        # sort_elemnts_by_another(tv[9, [*np.where(y_km == i)[0]]], [*np.where(y_km == i)[0]]))\n",
    "clusters = clusters[::1]\n",
    "for task in range(len(tv)):\n",
    "    for i in range(tv.shape[-1]):\n",
    "        tv_sort[task, i] = tv[task, clusters[i]]\n",
    "\n",
    "# plt.imshow(np.concatenate((tv_sort[:, 0: 50], tv_sort[:, 440:]), axis=1), aspect='auto', origin='lower', cmap='rainbow',\n",
    "#           interpolation='nearest')\n",
    "plt.figure(figsize=(5, 3))\n",
    "plt.imshow(\n",
    "    tv_sort, aspect=\"auto\", origin=\"lower\", cmap=\"inferno_r\", interpolation=\"nearest\"\n",
    ")\n",
    "cluster_sizes = []\n",
    "for i in range(n_clusters):\n",
    "    cluster_i = [*np.where(y_km == i)[0]]\n",
    "    cluster_sizes.append(len(cluster_i))\n",
    "# for el in (cluster_sizes[::1]):\n",
    "#    plt.plot([el] * 2, [0, len(tasks)], c='black', alpha=.5)\n",
    "plt.yticks(np.arange(0, len(tasks_couples)), sorted(tasks_couples), rotation=0)\n",
    "plt.ylim(-0.6, len(tasks_couples) - 0.4)\n",
    "# plt.xlim(0, 50)\n",
    "plt.xlabel(\"Neuron number\")\n",
    "cb = plt.colorbar()\n",
    "cb.ax.set_ylabel(\"Normalized average frequency\\nper trial for a task\")\n",
    "plt.tight_layout()\n",
    "plt.grid(axis=\"y\", linestyle=\"--\", linewidth=0.5)\n",
    "cluster_size = 0\n",
    "colors = [\"#EF3B3B\", \"#233DFB\", \"#49FF00\", \"#F333FF\", \"#BF035B\", \"#23305F\"]\n",
    "for i in range(0, len(cluster_sizes)):\n",
    "    plt.plot(\n",
    "        [cluster_size, cluster_size + cluster_sizes[i]],\n",
    "        [-0.5, -0.5],\n",
    "        label=f\"Cluster # {i + 1}\",\n",
    "        # c=colors[i]))\n",
    "    )\n",
    "    # plt.plot([cluster_size ] * 2, [-1, len(tasks_couples)], c='black', linestyle='--', linewidth=.5)\n",
    "    cluster_size += cluster_sizes[i]\n",
    "\n",
    "plt.xlim([0, tv.shape[-1]])\n",
    "plt.legend(bbox_to_anchor=(0.1, 1.02, 1, 0.2), ncol=3)\n",
    "plt.xlim([500, 600])\n",
    "plt.tight_layout()\n",
    "plt.savefig(\"TaskClusters_answers.eps\", format=\"eps\")\n",
    "plt.savefig(\"TaskClusters.png\", dpi=1000)\n",
    "\n",
    "plt.show()\n",
    "plt.close()"
   ]
  },
  {
   "cell_type": "code",
   "execution_count": 15,
   "metadata": {
    "pycharm": {
     "name": "#%%\n"
    }
   },
   "outputs": [
    {
     "name": "stdout",
     "output_type": "stream",
     "text": [
      "(600, 1800)\n"
     ]
    },
    {
     "name": "stderr",
     "output_type": "stream",
     "text": [
      "The PostScript backend does not support transparency; partially transparent artists will be rendered opaque.\n"
     ]
    },
    {
     "data": {
      "image/png": "[encoded data removed]",
      "text/plain": [
       "<Figure size 360x216 with 1 Axes>"
      ]
     },
     "metadata": {
      "needs_background": "light"
     },
     "output_type": "display_data"
    },
    {
     "name": "stderr",
     "output_type": "stream",
     "text": [
      "The PostScript backend does not support transparency; partially transparent artists will be rendered opaque.\n"
     ]
    },
    {
     "data": {
      "image/png": "[encoded data removed]",
      "text/plain": [
       "<Figure size 360x216 with 2 Axes>"
      ]
     },
     "metadata": {
      "needs_background": "light"
     },
     "output_type": "display_data"
    }
   ],
   "source": [
    "plt.rcParams[\"font.size\"] = 8\n",
    "zero_neurons = set(\n",
    "    (\n",
    "        4,\n",
    "        5,\n",
    "        6,\n",
    "        10,\n",
    "        11,\n",
    "        14,\n",
    "        15,\n",
    "        16,\n",
    "        17,\n",
    "        18,\n",
    "        19,\n",
    "        20,\n",
    "        21,\n",
    "        22,\n",
    "        23,\n",
    "        25,\n",
    "        26,\n",
    "        27,\n",
    "        28,\n",
    "        31,\n",
    "        32,\n",
    "        33,\n",
    "        34,\n",
    "        36,\n",
    "        37,\n",
    "        38,\n",
    "        39,\n",
    "        40,\n",
    "        41,\n",
    "        43,\n",
    "        44,\n",
    "        48,\n",
    "        49,\n",
    "        50,\n",
    "        51,\n",
    "        52,\n",
    "        53,\n",
    "        54,\n",
    "        55,\n",
    "        56,\n",
    "        57,\n",
    "        59,\n",
    "        62,\n",
    "        63,\n",
    "        65,\n",
    "        66,\n",
    "        68,\n",
    "        70,\n",
    "        71,\n",
    "        72,\n",
    "        73,\n",
    "        74,\n",
    "        75,\n",
    "        76,\n",
    "        78,\n",
    "        79,\n",
    "        80,\n",
    "        81,\n",
    "        83,\n",
    "        84,\n",
    "        85,\n",
    "        86,\n",
    "        87,\n",
    "        88,\n",
    "        90,\n",
    "        91,\n",
    "        92,\n",
    "        93,\n",
    "        94,\n",
    "        96,\n",
    "        97,\n",
    "        98,\n",
    "        99,\n",
    "        100,\n",
    "        101,\n",
    "        102,\n",
    "        103,\n",
    "        104,\n",
    "        105,\n",
    "        106,\n",
    "        107,\n",
    "        109,\n",
    "        110,\n",
    "        113,\n",
    "        114,\n",
    "        115,\n",
    "        116,\n",
    "        117,\n",
    "        118,\n",
    "        119,\n",
    "        120,\n",
    "        121,\n",
    "        122,\n",
    "        123,\n",
    "        124,\n",
    "        125,\n",
    "        126,\n",
    "        127,\n",
    "        128,\n",
    "        129,\n",
    "        131,\n",
    "        133,\n",
    "        134,\n",
    "        135,\n",
    "        136,\n",
    "        137,\n",
    "        138,\n",
    "        139,\n",
    "        142,\n",
    "        143,\n",
    "        145,\n",
    "        146,\n",
    "        147,\n",
    "        149,\n",
    "        150,\n",
    "        153,\n",
    "        155,\n",
    "        157,\n",
    "        158,\n",
    "        159,\n",
    "        160,\n",
    "        161,\n",
    "        162,\n",
    "        163,\n",
    "        164,\n",
    "        165,\n",
    "        166,\n",
    "        167,\n",
    "        168,\n",
    "        169,\n",
    "        170,\n",
    "        171,\n",
    "        173,\n",
    "        176,\n",
    "        177,\n",
    "        178,\n",
    "        179,\n",
    "        180,\n",
    "        181,\n",
    "        182,\n",
    "        183,\n",
    "        184,\n",
    "        185,\n",
    "        186,\n",
    "        187,\n",
    "        189,\n",
    "        190,\n",
    "        191,\n",
    "        192,\n",
    "        193,\n",
    "        195,\n",
    "        197,\n",
    "        198,\n",
    "        199,\n",
    "        200,\n",
    "        201,\n",
    "        202,\n",
    "        203,\n",
    "        204,\n",
    "        205,\n",
    "        206,\n",
    "        208,\n",
    "        209,\n",
    "        210,\n",
    "        211,\n",
    "        212,\n",
    "        216,\n",
    "        218,\n",
    "        219,\n",
    "        220,\n",
    "        221,\n",
    "        222,\n",
    "        223,\n",
    "        224,\n",
    "        226,\n",
    "        227,\n",
    "        229,\n",
    "        233,\n",
    "        234,\n",
    "        235,\n",
    "        236,\n",
    "        237,\n",
    "        238,\n",
    "        239,\n",
    "        241,\n",
    "        242,\n",
    "        243,\n",
    "        244,\n",
    "        245,\n",
    "        246,\n",
    "        247,\n",
    "        248,\n",
    "        249,\n",
    "        250,\n",
    "        251,\n",
    "        252,\n",
    "        253,\n",
    "        257,\n",
    "        258,\n",
    "        259,\n",
    "        260,\n",
    "        262,\n",
    "        263,\n",
    "        266,\n",
    "        267,\n",
    "        269,\n",
    "        271,\n",
    "        272,\n",
    "        274,\n",
    "        276,\n",
    "        277,\n",
    "        278,\n",
    "        279,\n",
    "        280,\n",
    "        281,\n",
    "        283,\n",
    "        284,\n",
    "        286,\n",
    "        287,\n",
    "        291,\n",
    "        292,\n",
    "        293,\n",
    "        295,\n",
    "        296,\n",
    "        297,\n",
    "        299,\n",
    "        300,\n",
    "        301,\n",
    "        302,\n",
    "        304,\n",
    "        306,\n",
    "        307,\n",
    "        309,\n",
    "        310,\n",
    "        311,\n",
    "        313,\n",
    "        314,\n",
    "        315,\n",
    "        316,\n",
    "        317,\n",
    "        318,\n",
    "        319,\n",
    "        320,\n",
    "        321,\n",
    "        322,\n",
    "        323,\n",
    "        324,\n",
    "        325,\n",
    "        327,\n",
    "        328,\n",
    "        329,\n",
    "        330,\n",
    "        331,\n",
    "        332,\n",
    "        334,\n",
    "        335,\n",
    "        336,\n",
    "        337,\n",
    "        339,\n",
    "        341,\n",
    "        342,\n",
    "        343,\n",
    "        346,\n",
    "        348,\n",
    "        349,\n",
    "        350,\n",
    "        352,\n",
    "        353,\n",
    "        355,\n",
    "        357,\n",
    "        358,\n",
    "        360,\n",
    "        362,\n",
    "        363,\n",
    "        366,\n",
    "        367,\n",
    "        368,\n",
    "        370,\n",
    "        371,\n",
    "        372,\n",
    "        373,\n",
    "        374,\n",
    "        375,\n",
    "        376,\n",
    "        378,\n",
    "        379,\n",
    "        381,\n",
    "        382,\n",
    "        383,\n",
    "        384,\n",
    "        385,\n",
    "        386,\n",
    "        387,\n",
    "        389,\n",
    "        391,\n",
    "        392,\n",
    "        393,\n",
    "        395,\n",
    "        396,\n",
    "        397,\n",
    "        398,\n",
    "        399,\n",
    "    )\n",
    ")\n",
    "zero_neurons = set()\n",
    "non_zeros_neurons = set([*range(hidden_size)]) - zero_neurons\n",
    "non_zeros_neurons = sorted(list(non_zeros_neurons))\n",
    "X = np.concatenate(fixations, axis=0).T[non_zeros_neurons, ...]\n",
    "# X = np.concatenate(answers, axis=0).T\n",
    "print(X.shape)\n",
    "# X = X[np.where(X.sum(axis=1) > 0)[0], :]\n",
    "X = (X.T / X.max()).T\n",
    "n_clusters = 2\n",
    "km = KMeans(n_clusters, algorithm=\"full\", n_init=20, random_state=0)\n",
    "y_km = km.fit_predict(X)\n",
    "plt.figure(figsize=(5, 3))\n",
    "for i in range(n_clusters):\n",
    "    plt.scatter(\n",
    "        X[y_km == i, 0],\n",
    "        X[y_km == i, 1],\n",
    "        s=50,\n",
    "        marker=\"s\",\n",
    "        edgecolor=\"black\",\n",
    "        label=f\"cluster {i + 1}\",\n",
    "        alpha=0.8,\n",
    "    )\n",
    "# plt.xlim([0, 0.00005])\n",
    "# plot the centroids\n",
    "plt.scatter(\n",
    "    km.cluster_centers_[:, 0],\n",
    "    km.cluster_centers_[:, 1],\n",
    "    s=150,\n",
    "    marker=\"*\",\n",
    "    c=\"green\",\n",
    "    edgecolor=\"black\",\n",
    "    label=\"centroids\",\n",
    ")\n",
    "plt.legend(scatterpoints=1)\n",
    "plt.grid()\n",
    "plt.savefig(\"NumberOfClusters.eps\")\n",
    "plt.show()\n",
    "answers_np = np.array(fixations)\n",
    "tv = [answers_np[:, i, :].sum(axis=0) for i in range(answers_np.shape[1])]\n",
    "tv = np.array(tv)[:, non_zeros_neurons]\n",
    "# tv = tv[np.where(tv.sum(axis=1) > 0)[0], :]\n",
    "tv /= tv.max()\n",
    "tv.shape\n",
    "\n",
    "sort_indexes = [*range(tv.shape[-1])]\n",
    "sort_indexes = sort_elemnts_by_another(tv[1], sort_indexes)\n",
    "tv_sort = np.zeros_like(tv)\n",
    "clusters = []\n",
    "for i in range(n_clusters):\n",
    "    # if i == 0:\n",
    "    #    clusters.extend(\n",
    "    #        sort_elemnts_by_another(np.mean(tv[8:14, [*np.where(y_km == i)[0]]], axis=0), [*np.where(y_km == i)[0]]))\n",
    "    # else:\n",
    "    clusters.extend(\n",
    "        sort_elemnts_by_another(\n",
    "            np.mean(tv[:, [*np.where(y_km == i)[0]]], axis=0), [*np.where(y_km == i)[0]]\n",
    "        )\n",
    "    )\n",
    "    # sort_elemnts_by_another(tv[9, [*np.where(y_km == i)[0]]], [*np.where(y_km == i)[0]]))\n",
    "clusters = clusters[::1]\n",
    "for task in range(len(tv)):\n",
    "    for i in range(tv.shape[-1]):\n",
    "        tv_sort[task, i] = tv[task, clusters[i]]\n",
    "\n",
    "# plt.imshow(np.concatenate((tv_sort[:, 0: 50], tv_sort[:, 440:]), axis=1), aspect='auto', origin='lower', cmap='rainbow',\n",
    "#           interpolation='nearest')\n",
    "plt.figure(figsize=(5, 3))\n",
    "plt.imshow(\n",
    "    tv_sort, aspect=\"auto\", origin=\"lower\", cmap=\"inferno_r\", interpolation=\"nearest\"\n",
    ")\n",
    "cluster_sizes = []\n",
    "for i in range(n_clusters):\n",
    "    cluster_i = [*np.where(y_km == i)[0]]\n",
    "    cluster_sizes.append(len(cluster_i))\n",
    "# for el in (cluster_sizes[::1]):\n",
    "#    plt.plot([el] * 2, [0, len(tasks)], c='black', alpha=.5)\n",
    "plt.yticks(np.arange(0, len(tasks_couples)), sorted(tasks_couples), rotation=0)\n",
    "plt.ylim(-0.6, len(tasks_couples) - 0.4)\n",
    "# plt.xlim(0, 50)\n",
    "plt.xlabel(\"Neuron number\")\n",
    "cb = plt.colorbar()\n",
    "cb.ax.set_ylabel(\"Normalized average frequency\\nper trial for a task\")\n",
    "plt.tight_layout()\n",
    "plt.grid(axis=\"y\", linestyle=\"--\", linewidth=0.5)\n",
    "cluster_size = 0\n",
    "colors = [\"#EF3B3B\", \"#233DFB\", \"#49FF00\"]\n",
    "for i in range(0, len(cluster_sizes)):\n",
    "    plt.plot(\n",
    "        [cluster_size, cluster_size + cluster_sizes[i]],\n",
    "        [-0.5, -0.5],\n",
    "        label=f\"Cluster # {i + 1}\",\n",
    "        c=colors[i],\n",
    "    )\n",
    "    cluster_size += cluster_sizes[i]\n",
    "plt.xlim([0, tv.shape[-1] - 0.4])\n",
    "plt.legend(bbox_to_anchor=(0.1, 1.02, 1, 0.2), ncol=3)\n",
    "plt.xlim(500, 600)\n",
    "plt.tight_layout()\n",
    "plt.savefig(\"TaskClusters_fixations.eps\")\n",
    "plt.savefig(\"TaskClusters.png\", dpi=1000)\n",
    "plt.show()\n",
    "plt.close()"
   ]
  },
  {
   "cell_type": "code",
   "execution_count": null,
   "metadata": {
    "pycharm": {
     "name": "#%%\n"
    }
   },
   "outputs": [],
   "source": [
    "cluster_sizes = []\n",
    "for i in range(n_clusters):\n",
    "    cluster_i = [*np.where(y_km == i)[0]]\n",
    "    cluster_sizes.append(len(cluster_i))\n",
    "cluster_sizes"
   ]
  },
  {
   "cell_type": "code",
   "execution_count": null,
   "metadata": {
    "pycharm": {
     "name": "#%%\n"
    }
   },
   "outputs": [],
   "source": [
    "plt.imshow(\n",
    "    tv_sort, aspect=\"auto\", origin=\"lower\", cmap=\"rainbow\", interpolation=\"nearest\"\n",
    ")\n",
    "plt.yticks(np.arange(0, len(tasks)), sorted(tasks), rotation=0)\n",
    "# plt.xlim(0, 100)\n",
    "plt.colorbar()\n",
    "plt.show()\n",
    "plt.close()"
   ]
  },
  {
   "cell_type": "code",
   "execution_count": null,
   "metadata": {
    "pycharm": {
     "name": "#%%\n"
    }
   },
   "outputs": [],
   "source": [
    "clusters = X = np.concatenate(fixations, axis=0).T\n",
    "\n",
    "# X = X[np.where(X.sum(axis=1) > 0)[0], :]\n",
    "X = (X.T / X.max()).T\n",
    "n_clusters = 4\n",
    "km = KMeans(n_clusters, algorithm=\"full\", n_init=20, random_state=0)\n",
    "y_km = km.fit_predict(X)\n",
    "for i in range(n_clusters):\n",
    "    plt.scatter(\n",
    "        X[y_km == i, 0],\n",
    "        X[y_km == i, 1],\n",
    "        s=50,\n",
    "        marker=\"s\",\n",
    "        edgecolor=\"black\",\n",
    "        label=f\"cluster {i}\",\n",
    "        alpha=0.8,\n",
    "    )\n",
    "# plt.xlim([0, 0.00005])\n",
    "# plot the centroids\n",
    "plt.scatter(\n",
    "    km.cluster_centers_[:, 0],\n",
    "    km.cluster_centers_[:, 1],\n",
    "    s=350,\n",
    "    marker=\"*\",\n",
    "    c=\"green\",\n",
    "    edgecolor=\"black\",\n",
    "    label=\"centroids\",\n",
    ")\n",
    "plt.legend(scatterpoints=1)\n",
    "plt.grid()\n",
    "plt.show()\n",
    "answers_np = np.array(answers)\n",
    "tv = [answers_np[:, i, :].sum(axis=0) for i in range(answers_np.shape[1])]\n",
    "tv = np.array(tv)\n",
    "# tv = tv[np.where(tv.sum(axis=1) > 0)[0], :]\n",
    "tv /= tv.max()\n",
    "tv.shape\n",
    "from cgtasknet.instruments.instrument_subgroups import sort_elemnts_by_another\n",
    "\n",
    "sort_indexes = [*range(hidden_size)]\n",
    "sort_indexes = sort_elemnts_by_another(tv[1], sort_indexes)\n",
    "tv_sort = np.zeros_like(tv)\n",
    "clusters = []\n",
    "for i in range(n_clusters):\n",
    "    clusters.extend([*np.where(y_km == i)[0]])\n",
    "clusters = clusters[::-1]\n",
    "for task in range(len(tv)):\n",
    "    for i in range(hidden_size):\n",
    "        tv_sort[task, i] = tv[task, clusters[i]]\n",
    "plt.imshow(\n",
    "    tv_sort, aspect=\"auto\", origin=\"lower\", cmap=\"rainbow\", interpolation=\"nearest\"\n",
    ")\n",
    "plt.yticks(np.arange(0, len(tasks)), sorted(tasks), rotation=0)\n",
    "plt.xlim(0, 50)\n",
    "plt.colorbar()\n",
    "plt.show()\n",
    "plt.close()\n",
    "plt.imshow(\n",
    "    tv_sort, aspect=\"auto\", origin=\"lower\", cmap=\"rainbow\", interpolation=\"nearest\"\n",
    ")\n",
    "plt.yticks(np.arange(0, len(tasks)), sorted(tasks), rotation=0)\n",
    "# plt.xlim(0, 100)\n",
    "plt.colorbar()\n",
    "plt.show()\n",
    "plt.close()"
   ]
  },
  {
   "cell_type": "code",
   "execution_count": null,
   "metadata": {
    "pycharm": {
     "name": "#%%\n"
    }
   },
   "outputs": [],
   "source": [
    "fixations[9][2]"
   ]
  },
  {
   "cell_type": "code",
   "execution_count": null,
   "metadata": {
    "pycharm": {
     "name": "#%%"
    }
   },
   "outputs": [],
   "source": []
  }
 ],
 "metadata": {
  "kernelspec": {
   "display_name": "Python 3 (ipykernel)",
   "language": "python",
   "name": "python3"
  },
  "language_info": {
   "codemirror_mode": {
    "name": "ipython",
    "version": 3
   },
   "file_extension": ".py",
   "mimetype": "text/x-python",
   "name": "python",
   "nbconvert_exporter": "python",
   "pygments_lexer": "ipython3",
   "version": "3.8.10"
  }
 },
 "nbformat": 4,
 "nbformat_minor": 1
}
