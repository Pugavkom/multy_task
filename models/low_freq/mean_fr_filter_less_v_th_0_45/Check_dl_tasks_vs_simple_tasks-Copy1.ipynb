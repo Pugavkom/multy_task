{
 "cells": [
  {
   "cell_type": "code",
   "execution_count": 4,
   "id": "dc889a11",
   "metadata": {},
   "outputs": [
    {
     "name": "stdout",
     "output_type": "stream",
     "text": [
      "device=cuda:0\n"
     ]
    }
   ],
   "source": [
    "import matplotlib.pyplot as plt\n",
    "import numpy as np\n",
    "import torch\n",
    "import torch.nn as nn\n",
    "from cgtasknet.instruments.instrument_accuracy_network import CorrectAnswerNetwork\n",
    "from cgtasknet.tasks.reduce import (\n",
    "    CtxDMTaskParameters,\n",
    "    DMTaskParameters,\n",
    "    DMTaskRandomModParameters,\n",
    "    GoDlTaskParameters,\n",
    "    GoDlTaskRandomModParameters,\n",
    "    GoRtTaskParameters,\n",
    "    GoRtTaskRandomModParameters,\n",
    "    GoTaskParameters,\n",
    "    GoTaskRandomModParameters,\n",
    "    MultyReduceTasks,\n",
    "    RomoTaskParameters,\n",
    "    RomoTaskRandomModParameters,\n",
    ")\n",
    "from tqdm import tqdm\n",
    "go_task_list_values = np.linspace(0, 1, 8)\n",
    "device = torch.device(\"cuda:0\" if torch.cuda.is_available() else \"cpu\")\n",
    "#device=torch.device('cpu')\n",
    "print(f\"device={device}\")"
   ]
  },
  {
   "cell_type": "code",
   "execution_count": 5,
   "id": "b4873366",
   "metadata": {},
   "outputs": [
    {
     "name": "stdout",
     "output_type": "stream",
     "text": [
      "Task parameters:\n",
      "RomoTask1:\n",
      "RomoTaskRandomModParameters(romo=RomoTaskParameters(dt=0.001, trial_time=0.2, answer_time=0.25, value=(None, None), delay=0.2, negative_shift_trial_time=0, positive_shift_trial_time=0.4, negative_shift_delay_time=0, positive_shift_delay_time=0.8), n_mods=2)\n",
      "\n",
      "RomoTask2:\n",
      "RomoTaskRandomModParameters(romo=RomoTaskParameters(dt=0.001, trial_time=0.2, answer_time=0.25, value=(None, None), delay=0.2, negative_shift_trial_time=0, positive_shift_trial_time=0.4, negative_shift_delay_time=0, positive_shift_delay_time=0.8), n_mods=2)\n",
      "\n",
      "DMTask1:\n",
      "DMTaskRandomModParameters(dm=DMTaskParameters(dt=0.001, trial_time=0.3, answer_time=0.25, value=None, negative_shift_trial_time=0, positive_shift_trial_time=1.5), n_mods=2)\n",
      "\n",
      "DMTask2:\n",
      "DMTaskRandomModParameters(dm=DMTaskParameters(dt=0.001, trial_time=0.3, answer_time=0.25, value=None, negative_shift_trial_time=0, positive_shift_trial_time=1.5), n_mods=2)\n",
      "\n",
      "CtxDMTask1:\n",
      "CtxDMTaskParameters(dm=DMTaskParameters(dt=0.001, trial_time=0.3, answer_time=0.25, value=None, negative_shift_trial_time=0, positive_shift_trial_time=1.5), context=None, value=(None, None))\n",
      "\n",
      "CtxDMTask2:\n",
      "CtxDMTaskParameters(dm=DMTaskParameters(dt=0.001, trial_time=0.3, answer_time=0.25, value=None, negative_shift_trial_time=0, positive_shift_trial_time=1.5), context=None, value=(None, None))\n",
      "\n",
      "GoTask1:\n",
      "GoTaskRandomModParameters(go=GoTaskParameters(dt=0.001, trial_time=0.3, answer_time=0.25, value=array([0.        , 0.14285714, 0.28571429, 0.42857143, 0.57142857,\n",
      "       0.71428571, 0.85714286, 1.        ]), negative_shift_trial_time=0, positive_shift_trial_time=1.5), n_mods=2)\n",
      "\n",
      "GoTask2:\n",
      "GoTaskRandomModParameters(go=GoTaskParameters(dt=0.001, trial_time=0.3, answer_time=0.25, value=array([0.        , 0.14285714, 0.28571429, 0.42857143, 0.57142857,\n",
      "       0.71428571, 0.85714286, 1.        ]), negative_shift_trial_time=0, positive_shift_trial_time=1.5), n_mods=2)\n",
      "\n",
      "GoRtTask1:\n",
      "GoRtTaskRandomModParameters(go_rt=GoRtTaskParameters(dt=0.001, trial_time=0.3, answer_time=1, negative_shift_answer_time=0.0, positive_shift_answer_time=0.0, value=array([0.        , 0.14285714, 0.28571429, 0.42857143, 0.57142857,\n",
      "       0.71428571, 0.85714286, 1.        ]), negative_shift_trial_time=0, positive_shift_trial_time=1.5), n_mods=2)\n",
      "\n",
      "GoRtTask2:\n",
      "GoRtTaskRandomModParameters(go_rt=GoRtTaskParameters(dt=0.001, trial_time=0.3, answer_time=1, negative_shift_answer_time=0.0, positive_shift_answer_time=0.0, value=array([0.        , 0.14285714, 0.28571429, 0.42857143, 0.57142857,\n",
      "       0.71428571, 0.85714286, 1.        ]), negative_shift_trial_time=0, positive_shift_trial_time=1.5), n_mods=2)\n",
      "\n",
      "GoDlTask1:\n",
      "GoDlTaskRandomModParameters(go_dl=GoDlTaskParameters(go=GoTaskParameters(dt=0.001, trial_time=0.2, answer_time=0.25, value=array([0.        , 0.14285714, 0.28571429, 0.42857143, 0.57142857,\n",
      "       0.71428571, 0.85714286, 1.        ]), negative_shift_trial_time=0, positive_shift_trial_time=0.4), delay=0.2, negative_shift_delay_time=0.0, positive_shift_delay_time=0.8), n_mods=2)\n",
      "\n",
      "GoDlTask2:\n",
      "GoDlTaskRandomModParameters(go_dl=GoDlTaskParameters(go=GoTaskParameters(dt=0.001, trial_time=0.2, answer_time=0.25, value=array([0.        , 0.14285714, 0.28571429, 0.42857143, 0.57142857,\n",
      "       0.71428571, 0.85714286, 1.        ]), negative_shift_trial_time=0, positive_shift_trial_time=0.4), delay=0.2, negative_shift_delay_time=0.0, positive_shift_delay_time=0.8), n_mods=2)\n",
      "\n",
      "inputs/outputs: 15/3\n"
     ]
    }
   ],
   "source": [
    "batch_size = 100\n",
    "number_of_epochs = 3000\n",
    "number_of_tasks = 1\n",
    "romo_parameters = RomoTaskRandomModParameters(\n",
    "    romo=RomoTaskParameters(\n",
    "        delay=0.2,\n",
    "        positive_shift_delay_time=.8,\n",
    "        trial_time=0.2,\n",
    "        positive_shift_trial_time=0.4,\n",
    "        answer_time=.25\n",
    "    ),\n",
    ")\n",
    "dm_parameters = DMTaskRandomModParameters(\n",
    "    dm=DMTaskParameters(trial_time=0.3, positive_shift_trial_time=1.5, answer_time=.25)\n",
    ")\n",
    "ctx_parameters = CtxDMTaskParameters(dm=dm_parameters.dm)\n",
    "go_parameters = GoTaskRandomModParameters(\n",
    "    go=GoTaskParameters(\n",
    "        trial_time=0.3,\n",
    "        positive_shift_trial_time=1.5,\n",
    "        value=go_task_list_values,\n",
    "        answer_time=.25\n",
    "    )\n",
    ")\n",
    "gort_parameters = GoRtTaskRandomModParameters(\n",
    "    go_rt=GoRtTaskParameters(\n",
    "        trial_time=0.3,\n",
    "        positive_shift_trial_time=1.5,\n",
    "        answer_time=1,\n",
    "        value=go_task_list_values,\n",
    "    )\n",
    ")\n",
    "godl_parameters = GoDlTaskRandomModParameters(\n",
    "    go_dl=GoDlTaskParameters(\n",
    "        go=GoTaskParameters(trial_time=0.2, positive_shift_trial_time=0.4, answer_time=.25, value=go_task_list_values),\n",
    "        delay=0.2,\n",
    "        positive_shift_delay_time=.8,\n",
    "\n",
    "    )\n",
    ")\n",
    "\n",
    "tasks = [\n",
    "    \"RomoTask1\",\n",
    "    \"RomoTask2\",\n",
    "    \"DMTask1\",\n",
    "    \"DMTask2\",\n",
    "    \"CtxDMTask1\",\n",
    "    \"CtxDMTask2\",\n",
    "    \"GoTask1\",\n",
    "    \"GoTask2\",\n",
    "    \"GoRtTask1\",\n",
    "    \"GoRtTask2\",\n",
    "    \"GoDlTask1\",\n",
    "    \"GoDlTask2\",\n",
    "]\n",
    "task_dict = {\n",
    "    tasks[0]: romo_parameters,\n",
    "    tasks[1]: romo_parameters,\n",
    "    tasks[2]: dm_parameters,\n",
    "    tasks[3]: dm_parameters,\n",
    "    tasks[4]: ctx_parameters,\n",
    "    tasks[5]: ctx_parameters,\n",
    "    tasks[6]: go_parameters,\n",
    "    tasks[7]: go_parameters,\n",
    "    tasks[8]: gort_parameters,\n",
    "    tasks[9]: gort_parameters,\n",
    "    tasks[10]: godl_parameters,\n",
    "    tasks[11]: godl_parameters,\n",
    "}\n",
    "Task = MultyReduceTasks(\n",
    "    tasks=task_dict,\n",
    "    batch_size=batch_size,\n",
    "    delay_between=0,\n",
    "    enable_fixation_delay=True,\n",
    "    mode=\"random\",\n",
    ")\n",
    "print(\"Task parameters:\")\n",
    "for key in task_dict:\n",
    "    print(f\"{key}:\\n{task_dict[key]}\\n\")\n",
    "\n",
    "print(f\"inputs/outputs: {Task.feature_and_act_size[0]}/{Task.feature_and_act_size[1]}\")"
   ]
  },
  {
   "cell_type": "code",
   "execution_count": 6,
   "id": "66076971",
   "metadata": {},
   "outputs": [],
   "source": [
    "sorted_tasks = sorted(tasks)\n",
    "re_word = 'Go'\n",
    "choices_tasks = []\n",
    "values_tasks = []\n",
    "for i in range(len(sorted_tasks)):\n",
    "    if re_word in sorted_tasks[i]:\n",
    "        values_tasks.append(i)\n",
    "    else:\n",
    "        choices_tasks.append(i)\n",
    "can = CorrectAnswerNetwork(choices_tasks, values_tasks, 0.15)"
   ]
  },
  {
   "cell_type": "code",
   "execution_count": 6,
   "id": "3fb058c2",
   "metadata": {},
   "outputs": [],
   "source": []
  },
  {
   "cell_type": "code",
   "execution_count": 7,
   "id": "d6eb1f11",
   "metadata": {},
   "outputs": [],
   "source": [
    "from cgtasknet.net import SNNlifadex\n",
    "from norse.torch import LIFAdExParameters\n",
    "\n",
    "feature_size, output_size = Task.feature_and_act_size\n",
    "hidden_size = 256\n",
    "def model_load(tau_a, model_path):\n",
    "    neuron_parameters = LIFAdExParameters(\n",
    "        v_th=torch.as_tensor(0.45),\n",
    "        tau_ada_inv=torch.as_tensor(tau_a),\n",
    "        alpha=100,\n",
    "        method=\"super\",\n",
    "        # rho_reset = torch.as_tensor(5)\n",
    "    )\n",
    "    model = SNNlifadex(\n",
    "        feature_size,\n",
    "        hidden_size,\n",
    "        output_size,\n",
    "        neuron_parameters=neuron_parameters,\n",
    "        tau_filter_inv=20,\n",
    "        save_states=True,\n",
    "    )\n",
    "    model.load_state_dict(torch.load(model_path))\n",
    "    model = model.to(device)\n",
    "    return model"
   ]
  },
  {
   "cell_type": "code",
   "execution_count": 8,
   "id": "d46baff0",
   "metadata": {},
   "outputs": [
    {
     "name": "stdout",
     "output_type": "stream",
     "text": [
      "dl_tasks_indexes = [10, 11]\n",
      "other = [2, 3]\n"
     ]
    }
   ],
   "source": [
    "sorted_name_of_tasks = sorted(tasks)\n",
    "dl_tasks_indexes = []\n",
    "#dl_tasks_indexes.append(sorted_name_of_tasks.index('RomoTask1'))\n",
    "#dl_tasks_indexes.append(sorted_name_of_tasks.index('RomoTask2'))\n",
    "dl_tasks_indexes.append(sorted_name_of_tasks.index('RomoTask1'))\n",
    "dl_tasks_indexes.append(sorted_name_of_tasks.index('RomoTask2'))\n",
    "#without_dl_tasks_indexes = list(set([*range(len(tasks))])\n",
    "#                                - set(dl_tasks_indexes))\n",
    "without_dl_tasks_indexes = []\n",
    "without_dl_tasks_indexes.append(sorted_name_of_tasks.index('DMTask1'))\n",
    "without_dl_tasks_indexes.append(sorted_name_of_tasks.index('DMTask2'))\n",
    "print(\n",
    "    f'dl_tasks_indexes = {dl_tasks_indexes}')\n",
    "print(\n",
    "    f'other = {without_dl_tasks_indexes}'\n",
    ")"
   ]
  },
  {
   "cell_type": "code",
   "execution_count": 9,
   "id": "9b78ea35",
   "metadata": {},
   "outputs": [],
   "source": [
    "dl_tasks = []\n",
    "without_dl_tasks = []\n",
    "for i in range(len(tasks)):\n",
    "    temp_task = MultyReduceTasks(\n",
    "    tasks=task_dict,\n",
    "    batch_size=batch_size,\n",
    "    delay_between=0,\n",
    "    enable_fixation_delay=True,\n",
    "    mode=\"random\",\n",
    "    task_number=i,\n",
    "    )\n",
    "    if i in dl_tasks_indexes:\n",
    "        dl_tasks.append(temp_task)\n",
    "    elif i in without_dl_tasks_indexes:\n",
    "        without_dl_tasks.append(temp_task)"
   ]
  },
  {
   "cell_type": "code",
   "execution_count": 10,
   "id": "10a0bd4c",
   "metadata": {},
   "outputs": [],
   "source": [
    "name_weights = 'weights_100_N_256_without_square_2999_'\n",
    "dirs=[\n",
    "    'weights'\n",
    "]\n",
    "tau_a_values = [\n",
    "    1/2\n",
    "]"
   ]
  },
  {
   "cell_type": "code",
   "execution_count": 10,
   "id": "c37e58d5",
   "metadata": {},
   "outputs": [],
   "source": [
    "\n"
   ]
  },
  {
   "cell_type": "code",
   "execution_count": 11,
   "id": "40acf8d8",
   "metadata": {},
   "outputs": [],
   "source": [
    "repeat = 10"
   ]
  },
  {
   "cell_type": "code",
   "execution_count": 12,
   "id": "a283698d",
   "metadata": {},
   "outputs": [
    {
     "name": "stdout",
     "output_type": "stream",
     "text": [
      "weights 87.05000000000001\n"
     ]
    }
   ],
   "source": [
    "from norse.torch import LIFAdExState\n",
    "import os\n",
    "for i in range(len(dirs)):\n",
    "    results = 0\n",
    "    model = model_load(tau_a_values[i], os.path.join(dirs[i], name_weights))\n",
    "    for _ in range(repeat):\n",
    "        for j in range(len(dl_tasks)):\n",
    "            inputs, target_outputs = dl_tasks[j].dataset(1, delay_between=0)\n",
    "            inputs[:, :, 1:3] #+= np.random.normal(0, test_sigma, size=inputs[:, :, 1:3].shape)\n",
    "            inputs = torch.from_numpy(inputs).type(torch.float).to(device)\n",
    "            target_outputs = torch.from_numpy(target_outputs).type(torch.float).to(device)\n",
    "            init_state = LIFAdExState(\n",
    "                    torch.zeros(batch_size, hidden_size).to(device),\n",
    "                    torch.rand(batch_size, hidden_size).to(device),\n",
    "                    torch.zeros(batch_size, hidden_size).to(device),\n",
    "                    torch.zeros(batch_size, hidden_size).to(device),\n",
    "                    )\n",
    "            outputs = model(inputs, init_state)[0]\n",
    "            type_tasks = list(np.where(inputs[-1, :, 3:].detach().cpu().numpy() == 1)[1])\n",
    "            answers = can.run(target_outputs[50:, :, 0].cpu(), outputs[50:, :, 0].cpu(), target_outputs[50:, :, 1:].cpu(),\n",
    "                          outputs[50:, :, 1:].cpu(), type_tasks)\n",
    "            answers /= batch_size \n",
    "            results += answers\n",
    "    results /= 2 * repeat\n",
    "    with open(f'accuracy_dl_{0.15}', 'a') as f:\n",
    "        f.write(f'{tau_a_values[i]}:{results}\\n')\n",
    "    print(dirs[i], results * 100)"
   ]
  },
  {
   "cell_type": "code",
   "execution_count": 15,
   "id": "d3e7a399",
   "metadata": {
    "pycharm": {
     "name": "#%%\n"
    }
   },
   "outputs": [
    {
     "name": "stdout",
     "output_type": "stream",
     "text": [
      "weights 96.44999999999999\n"
     ]
    }
   ],
   "source": [
    "for i in range(len(dirs)):\n",
    "    results = 0\n",
    "    model = model_load(tau_a_values[i], os.path.join(dirs[i], name_weights))\n",
    "    for _ in range(repeat):\n",
    "        for j in range(len(without_dl_tasks)):\n",
    "            inputs, target_outputs = without_dl_tasks[j].dataset(1, delay_between=0)\n",
    "            inputs[:, :, 1:3] #+= np.random.normal(0, test_sigma, size=inputs[:, :, 1:3].shape)\n",
    "            inputs = torch.from_numpy(inputs).type(torch.float).to(device)\n",
    "            target_outputs = torch.from_numpy(target_outputs).type(torch.float).to(device)\n",
    "            init_state = LIFAdExState(\n",
    "                    torch.zeros(batch_size, hidden_size).to(device),\n",
    "                    torch.rand(batch_size, hidden_size).to(device),\n",
    "                    torch.zeros(batch_size, hidden_size).to(device),\n",
    "                    torch.zeros(batch_size, hidden_size).to(device),\n",
    "                    )\n",
    "            outputs = model(inputs, init_state)[0]\n",
    "            type_tasks = list(np.where(inputs[-1, :, 3:].detach().cpu().numpy() == 1)[1])\n",
    "            answers = can.run(target_outputs[50:, :, 0].cpu(), outputs[50:, :, 0].cpu(), target_outputs[50:, :, 1:].cpu(),\n",
    "                          outputs[50:, :, 1:].cpu(), type_tasks)\n",
    "            answers /= batch_size \n",
    "            results += answers\n",
    "    results /= 2 * repeat\n",
    "    with open(f'accuracy_without_dl_{0.15}', 'a') as f:\n",
    "        f.write(f'{tau_a_values[i]}:{results}\\n')\n",
    "    print(dirs[i], results * 100)"
   ]
  },
  {
   "cell_type": "code",
   "execution_count": 14,
   "outputs": [
    {
     "data": {
      "text/plain": "[<cgtasknet.tasks.reduce.multy.MultyReduceTasks at 0x22a46c3c790>,\n <cgtasknet.tasks.reduce.multy.MultyReduceTasks at 0x22a46c3ceb0>]"
     },
     "execution_count": 14,
     "metadata": {},
     "output_type": "execute_result"
    }
   ],
   "source": [
    "without_dl_tasks"
   ],
   "metadata": {
    "collapsed": false,
    "pycharm": {
     "name": "#%%\n"
    }
   }
  },
  {
   "cell_type": "code",
   "execution_count": 14,
   "outputs": [],
   "source": [],
   "metadata": {
    "collapsed": false,
    "pycharm": {
     "name": "#%%\n"
    }
   }
  }
 ],
 "metadata": {
  "kernelspec": {
   "display_name": "Python 3",
   "language": "python",
   "name": "python3"
  },
  "language_info": {
   "codemirror_mode": {
    "name": "ipython",
    "version": 3
   },
   "file_extension": ".py",
   "mimetype": "text/x-python",
   "name": "python",
   "nbconvert_exporter": "python",
   "pygments_lexer": "ipython3",
   "version": "3.7.11"
  }
 },
 "nbformat": 4,
 "nbformat_minor": 5
}