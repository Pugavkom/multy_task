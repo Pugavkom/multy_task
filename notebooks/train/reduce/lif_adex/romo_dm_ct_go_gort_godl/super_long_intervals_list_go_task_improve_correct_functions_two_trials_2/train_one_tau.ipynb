{
 "cells": [
  {
   "cell_type": "markdown",
   "source": [
    "# Описание\n",
    "\n",
    "## Задачи\n",
    "_Испольуется три задачи:_\n",
    "- DM -- двухальтернативный выбор\n",
    "- Romo -- сравнение двух сигнало через задержку\n",
    "- CtxDM -- DM с контекстом\n",
    "Вход состоит из одного контекстного входа, одного стимула, 6 входов, кодирующих задачи. Выход как и раньше состоит из трех частей: контекстный выход, выходы принятия решения.\n",
    "\n",
    "## Сеть\n",
    " Сеть состоит из lif AdEx нейронов"
   ],
   "metadata": {
    "collapsed": false
   }
  },
  {
   "cell_type": "markdown",
   "source": [
    "# Импорт всех необходимых библиотек"
   ],
   "metadata": {
    "collapsed": false
   }
  },
  {
   "cell_type": "code",
   "execution_count": 15,
   "metadata": {
    "collapsed": true
   },
   "outputs": [],
   "source": [
    "import matplotlib.pyplot as plt\n",
    "import numpy as np\n",
    "import torch\n",
    "import torch.nn as nn\n",
    "from cgtasknet.instruments.instrument_accuracy_network import CorrectAnswerNetwork\n",
    "from cgtasknet.tasks.reduce import (\n",
    "    CtxDMTaskParameters,\n",
    "    DMTaskParameters,\n",
    "    DMTaskRandomModParameters,\n",
    "    GoDlTaskParameters,\n",
    "    GoDlTaskRandomModParameters,\n",
    "    GoRtTaskParameters,\n",
    "    GoRtTaskRandomModParameters,\n",
    "    GoTaskParameters,\n",
    "    GoTaskRandomModParameters,\n",
    "    MultyReduceTasks,\n",
    "    RomoTaskParameters,\n",
    "    RomoTaskRandomModParameters,\n",
    ")\n",
    "from tqdm import tqdm"
   ]
  },
  {
   "cell_type": "code",
   "execution_count": 16,
   "outputs": [],
   "source": [
    "go_task_list_values = np.linspace(0, 1, 8)"
   ],
   "metadata": {
    "collapsed": false,
    "pycharm": {
     "name": "#%%\n"
    }
   }
  },
  {
   "cell_type": "markdown",
   "source": [
    "# Определяем устройство"
   ],
   "metadata": {
    "collapsed": false
   }
  },
  {
   "cell_type": "code",
   "execution_count": 17,
   "outputs": [
    {
     "name": "stdout",
     "output_type": "stream",
     "text": [
      "device=device(type='cuda', index=0)\n"
     ]
    }
   ],
   "source": [
    "device = torch.device(\"cuda:0\" if torch.cuda.is_available() else \"cpu\")\n",
    "print(f\"{device=}\")"
   ],
   "metadata": {
    "collapsed": false,
    "pycharm": {
     "name": "#%%\n"
    }
   }
  },
  {
   "cell_type": "markdown",
   "source": [
    "# Функция построения входов и выходов"
   ],
   "metadata": {
    "collapsed": false
   }
  },
  {
   "cell_type": "code",
   "execution_count": 18,
   "outputs": [],
   "source": [
    "import os\n",
    "\n",
    "\n",
    "def plot_results(inputs, target_outputs, outputs):\n",
    "    if isinstance(inputs, torch.Tensor) and isinstance(target_outputs, torch.Tensor):\n",
    "        inputs, t_outputs = (\n",
    "            inputs.detach().cpu().numpy(),\n",
    "            target_outputs.detach().cpu().numpy(),\n",
    "        )\n",
    "    for bath in range(min(batch_size, 20)):\n",
    "        fig = plt.figure(figsize=(15, 3))\n",
    "        ax1 = fig.add_subplot(141)\n",
    "        plt.title(\"Inputs\")\n",
    "        plt.xlabel(\"$time, ms$\")\n",
    "        plt.ylabel(\"$Magnitude$\")\n",
    "        for i in range(3):\n",
    "            plt.plot(inputs[:, bath, i].T, label=rf\"$in_{i + 1}$\")\n",
    "        plt.legend()\n",
    "        plt.tight_layout()\n",
    "\n",
    "        ax2 = fig.add_subplot(142)\n",
    "        plt.title(\"Task code (context)\")\n",
    "        plt.xticks(np.arange(1, len(tasks) + 1), sorted(tasks), rotation=90)\n",
    "        plt.yticks([])\n",
    "        for i in range(3, inputs.shape[-1]):\n",
    "            plt.plot([i - 2] * 2, [0, inputs[0, bath, i]])\n",
    "        plt.tight_layout()\n",
    "\n",
    "        ax3 = fig.add_subplot(143)\n",
    "        plt.title(\"Target output\")\n",
    "        plt.xlabel(\"$time, ms$\")\n",
    "        for i in range(t_outputs.shape[-1]):\n",
    "            plt.plot(t_outputs[:, bath, i], label=rf\"$out_{i + 1}$\")\n",
    "        plt.legend()\n",
    "        plt.tight_layout()\n",
    "\n",
    "        ax4 = fig.add_subplot(144)\n",
    "        plt.title(\"Real output\")\n",
    "        plt.xlabel(\"$time, ms$\")\n",
    "        for i in range(outputs.shape[-1]):\n",
    "            plt.plot(\n",
    "                outputs.detach().cpu().numpy()[:, bath, i], label=rf\"$out_{i + 1}$\"\n",
    "            )\n",
    "        plt.legend()\n",
    "        plt.tight_layout()\n",
    "        if not os.path.exists(\"figures\"):\n",
    "            os.mkdir(\"figures\")\n",
    "        plt.savefig(f\"figures{os.sep}network_outputs_{name}_batch_{bath}.pdf\")\n",
    "        plt.show()\n",
    "        plt.close()"
   ],
   "metadata": {
    "collapsed": false,
    "pycharm": {
     "name": "#%%\n"
    }
   }
  },
  {
   "cell_type": "markdown",
   "source": [
    "# Определяем датасет\n",
    "Датасет будет состоять из трех типов задач:\n",
    "- DM задача;\n",
    "- Romo задача;\n",
    "- CtxDM задача.\n",
    "_Параметры для последней задачи аналогичны DM задаче_\n",
    "***\n",
    "## Параметры датасета:"
   ],
   "metadata": {
    "collapsed": false,
    "pycharm": {
     "name": "#%% md\n"
    }
   }
  },
  {
   "cell_type": "code",
   "execution_count": 19,
   "outputs": [],
   "source": [
    "batch_size = 64\n",
    "number_of_epochs = 3000\n",
    "number_of_tasks = 2\n",
    "romo_parameters = RomoTaskRandomModParameters(\n",
    "    romo=RomoTaskParameters(\n",
    "        delay=0.2,\n",
    "        positive_shift_delay_time=1.5,\n",
    "        trial_time=0.2,\n",
    "        positive_shift_trial_time=0.4,\n",
    "        answer_time=0.5,\n",
    "    ),\n",
    ")\n",
    "dm_parameters = DMTaskRandomModParameters(\n",
    "    dm=DMTaskParameters(trial_time=0.3, positive_shift_trial_time=1.5, answer_time=0.5)\n",
    ")\n",
    "ctx_parameters = CtxDMTaskParameters(dm=dm_parameters.dm)\n",
    "go_parameters = GoTaskRandomModParameters(\n",
    "    go=GoTaskParameters(\n",
    "        trial_time=0.3,\n",
    "        positive_shift_trial_time=1.5,\n",
    "        value=go_task_list_values,\n",
    "        answer_time=0.5,\n",
    "    )\n",
    ")\n",
    "gort_parameters = GoRtTaskRandomModParameters(\n",
    "    go=GoRtTaskParameters(\n",
    "        trial_time=0.3,\n",
    "        positive_shift_trial_time=1.5,\n",
    "        answer_time=1.5,\n",
    "        value=go_task_list_values,\n",
    "    )\n",
    ")\n",
    "godl_parameters = GoDlTaskRandomModParameters(\n",
    "    go_dl=GoDlTaskParameters(\n",
    "        go=GoTaskParameters(\n",
    "            trial_time=0.2,\n",
    "            positive_shift_trial_time=0.4,\n",
    "            answer_time=0.5,\n",
    "            value=go_task_list_values,\n",
    "        ),\n",
    "        delay=0.2,\n",
    "        positive_shift_delay_time=1.5,\n",
    "    )\n",
    ")"
   ],
   "metadata": {
    "collapsed": false,
    "pycharm": {
     "name": "#%%\n"
    }
   }
  },
  {
   "cell_type": "markdown",
   "source": [
    "## Датасет"
   ],
   "metadata": {
    "collapsed": false
   }
  },
  {
   "cell_type": "code",
   "execution_count": 20,
   "outputs": [
    {
     "name": "stdout",
     "output_type": "stream",
     "text": [
      "Task parameters:\n",
      "RomoTask1:\n",
      "RomoTaskRandomModParameters(romo=RomoTaskParameters(dt=0.001, trial_time=0.2, answer_time=0.5, value=(None, None), delay=0.2, negative_shift_trial_time=0, positive_shift_trial_time=0.4, negative_shift_delay_time=0, positive_shift_delay_time=1.5), n_mods=2)\n",
      "\n",
      "RomoTask2:\n",
      "RomoTaskRandomModParameters(romo=RomoTaskParameters(dt=0.001, trial_time=0.2, answer_time=0.5, value=(None, None), delay=0.2, negative_shift_trial_time=0, positive_shift_trial_time=0.4, negative_shift_delay_time=0, positive_shift_delay_time=1.5), n_mods=2)\n",
      "\n",
      "DMTask1:\n",
      "DMTaskRandomModParameters(dm=DMTaskParameters(dt=0.001, trial_time=0.3, answer_time=0.5, value=None, negative_shift_trial_time=0, positive_shift_trial_time=1.5), n_mods=2)\n",
      "\n",
      "DMTask2:\n",
      "DMTaskRandomModParameters(dm=DMTaskParameters(dt=0.001, trial_time=0.3, answer_time=0.5, value=None, negative_shift_trial_time=0, positive_shift_trial_time=1.5), n_mods=2)\n",
      "\n",
      "CtxDMTask1:\n",
      "CtxDMTaskParameters(dm=DMTaskParameters(dt=0.001, trial_time=0.3, answer_time=0.5, value=None, negative_shift_trial_time=0, positive_shift_trial_time=1.5), context=None, value=(None, None))\n",
      "\n",
      "CtxDMTask2:\n",
      "CtxDMTaskParameters(dm=DMTaskParameters(dt=0.001, trial_time=0.3, answer_time=0.5, value=None, negative_shift_trial_time=0, positive_shift_trial_time=1.5), context=None, value=(None, None))\n",
      "\n",
      "GoTask1:\n",
      "GoTaskRandomModParameters(go=GoTaskParameters(dt=0.001, trial_time=0.3, answer_time=0.5, value=array([0.        , 0.14285714, 0.28571429, 0.42857143, 0.57142857,\n",
      "       0.71428571, 0.85714286, 1.        ]), negative_shift_trial_time=0, positive_shift_trial_time=1.5), n_mods=2)\n",
      "\n",
      "GoTask2:\n",
      "GoTaskRandomModParameters(go=GoTaskParameters(dt=0.001, trial_time=0.3, answer_time=0.5, value=array([0.        , 0.14285714, 0.28571429, 0.42857143, 0.57142857,\n",
      "       0.71428571, 0.85714286, 1.        ]), negative_shift_trial_time=0, positive_shift_trial_time=1.5), n_mods=2)\n",
      "\n",
      "GoRtTask1:\n",
      "GoTaskRandomModParameters(go=GoTaskParameters(dt=0.001, trial_time=0.3, answer_time=1.5, value=array([0.        , 0.14285714, 0.28571429, 0.42857143, 0.57142857,\n",
      "       0.71428571, 0.85714286, 1.        ]), negative_shift_trial_time=0, positive_shift_trial_time=1.5), n_mods=2)\n",
      "\n",
      "GoRtTask2:\n",
      "GoTaskRandomModParameters(go=GoTaskParameters(dt=0.001, trial_time=0.3, answer_time=1.5, value=array([0.        , 0.14285714, 0.28571429, 0.42857143, 0.57142857,\n",
      "       0.71428571, 0.85714286, 1.        ]), negative_shift_trial_time=0, positive_shift_trial_time=1.5), n_mods=2)\n",
      "\n",
      "GoDlTask1:\n",
      "GoDlTaskRandomModParameters(go_dl=GoDlTaskParameters(go=GoTaskParameters(dt=0.001, trial_time=0.2, answer_time=0.5, value=array([0.        , 0.14285714, 0.28571429, 0.42857143, 0.57142857,\n",
      "       0.71428571, 0.85714286, 1.        ]), negative_shift_trial_time=0, positive_shift_trial_time=0.4), delay=0.2, negative_shift_delay_time=0.0, positive_shift_delay_time=1.5), n_mods=2)\n",
      "\n",
      "GoDlTask2:\n",
      "GoDlTaskRandomModParameters(go_dl=GoDlTaskParameters(go=GoTaskParameters(dt=0.001, trial_time=0.2, answer_time=0.5, value=array([0.        , 0.14285714, 0.28571429, 0.42857143, 0.57142857,\n",
      "       0.71428571, 0.85714286, 1.        ]), negative_shift_trial_time=0, positive_shift_trial_time=0.4), delay=0.2, negative_shift_delay_time=0.0, positive_shift_delay_time=1.5), n_mods=2)\n",
      "\n",
      "inputs/outputs: 15/3\n"
     ]
    }
   ],
   "source": [
    "sigma = 0.5\n",
    "tasks = [\n",
    "    \"RomoTask1\",\n",
    "    \"RomoTask2\",\n",
    "    \"DMTask1\",\n",
    "    \"DMTask2\",\n",
    "    \"CtxDMTask1\",\n",
    "    \"CtxDMTask2\",\n",
    "    \"GoTask1\",\n",
    "    \"GoTask2\",\n",
    "    \"GoRtTask1\",\n",
    "    \"GoRtTask2\",\n",
    "    \"GoDlTask1\",\n",
    "    \"GoDlTask2\",\n",
    "]\n",
    "task_dict = {\n",
    "    tasks[0]: romo_parameters,\n",
    "    tasks[1]: romo_parameters,\n",
    "    tasks[2]: dm_parameters,\n",
    "    tasks[3]: dm_parameters,\n",
    "    tasks[4]: ctx_parameters,\n",
    "    tasks[5]: ctx_parameters,\n",
    "    tasks[6]: go_parameters,\n",
    "    tasks[7]: go_parameters,\n",
    "    tasks[8]: gort_parameters,\n",
    "    tasks[9]: gort_parameters,\n",
    "    tasks[10]: godl_parameters,\n",
    "    tasks[11]: godl_parameters,\n",
    "}\n",
    "Task = MultyReduceTasks(\n",
    "    tasks=task_dict,\n",
    "    batch_size=batch_size,\n",
    "    delay_between=0,\n",
    "    enable_fixation_delay=True,\n",
    "    mode=\"random\",\n",
    ")\n",
    "\n",
    "print(\"Task parameters:\")\n",
    "for key in task_dict:\n",
    "    print(f\"{key}:\\n{task_dict[key]}\\n\")\n",
    "\n",
    "print(f\"inputs/outputs: {Task.feature_and_act_size[0]}/{Task.feature_and_act_size[1]}\")"
   ],
   "metadata": {
    "collapsed": false,
    "pycharm": {
     "name": "#%%\n"
    }
   }
  },
  {
   "cell_type": "markdown",
   "source": [
    "## Пример генерации датасета"
   ],
   "metadata": {
    "collapsed": false
   }
  },
  {
   "cell_type": "code",
   "execution_count": 21,
   "outputs": [
    {
     "data": {
      "text/plain": "<Figure size 1080x216 with 3 Axes>",
      "image/png": "[encoded data removed]"
     },
     "metadata": {
      "needs_background": "light"
     },
     "output_type": "display_data"
    },
    {
     "data": {
      "text/plain": "<Figure size 1080x216 with 3 Axes>",
      "image/png": "[encoded data removed]"
     },
     "metadata": {
      "needs_background": "light"
     },
     "output_type": "display_data"
    },
    {
     "data": {
      "text/plain": "<Figure size 1080x216 with 3 Axes>",
      "image/png": "[encoded data removed]"
     },
     "metadata": {
      "needs_background": "light"
     },
     "output_type": "display_data"
    },
    {
     "data": {
      "text/plain": "<Figure size 1080x216 with 3 Axes>",
      "image/png": "[encoded data removed]"
     },
     "metadata": {
      "needs_background": "light"
     },
     "output_type": "display_data"
    },
    {
     "data": {
      "text/plain": "<Figure size 1080x216 with 3 Axes>",
      "image/png": "[encoded data removed]"
     },
     "metadata": {
      "needs_background": "light"
     },
     "output_type": "display_data"
    },
    {
     "data": {
      "text/plain": "<Figure size 1080x216 with 3 Axes>",
      "image/png": "[encoded data removed]"
     },
     "metadata": {
      "needs_background": "light"
     },
     "output_type": "display_data"
    },
    {
     "data": {
      "text/plain": "<Figure size 1080x216 with 3 Axes>",
      "image/png": "[encoded data removed]"
     },
     "metadata": {
      "needs_background": "light"
     },
     "output_type": "display_data"
    },
    {
     "data": {
      "text/plain": "<Figure size 1080x216 with 3 Axes>",
      "image/png": "[encoded data removed]"
     },
     "metadata": {
      "needs_background": "light"
     },
     "output_type": "display_data"
    },
    {
     "data": {
      "text/plain": "<Figure size 1080x216 with 3 Axes>",
      "image/png": "[encoded data removed]"
     },
     "metadata": {
      "needs_background": "light"
     },
     "output_type": "display_data"
    },
    {
     "data": {
      "text/plain": "<Figure size 1080x216 with 3 Axes>",
      "image/png": "[encoded data removed]"
     },
     "metadata": {
      "needs_background": "light"
     },
     "output_type": "display_data"
    }
   ],
   "source": [
    "inputs, t_outputs = Task.dataset(n_trials=1, delay_between=0)\n",
    "for bath in range(min(batch_size, 10)):\n",
    "    fig = plt.figure(figsize=(15, 3))\n",
    "    ax1 = fig.add_subplot(131)\n",
    "    plt.title(\"Inputs\")\n",
    "    plt.xlabel(\"$time, ms$\")\n",
    "    plt.ylabel(\"$Magnitude$\")\n",
    "    for i in range(3):\n",
    "        plt.plot(inputs[:, bath, i], label=rf\"$in_{i + 1}$\")\n",
    "    plt.legend()\n",
    "    plt.tight_layout()\n",
    "\n",
    "    ax2 = fig.add_subplot(132)\n",
    "    plt.title(\"Task code (context)\")\n",
    "    plt.xticks(np.arange(1, len(tasks) + 1), sorted(tasks), rotation=90)\n",
    "    plt.yticks([])\n",
    "    for i in range(3, inputs.shape[-1]):\n",
    "        plt.plot([i - 2] * 2, [0, inputs[0, bath, i]], c=\"b\")\n",
    "    # plt.legend()\n",
    "    plt.tight_layout()\n",
    "\n",
    "    ax3 = fig.add_subplot(133)\n",
    "    plt.title(\"Target output\")\n",
    "    plt.xlabel(\"$time, ms$\")\n",
    "    for i in range(t_outputs.shape[-1]):\n",
    "        plt.plot(t_outputs[:, bath, i], label=rf\"$out_{i + 1}$\")\n",
    "    plt.legend()\n",
    "    plt.tight_layout()\n",
    "    plt.show()\n",
    "    plt.close()\n",
    "del inputs\n",
    "del t_outputs"
   ],
   "metadata": {
    "collapsed": false,
    "pycharm": {
     "name": "#%%\n"
    }
   }
  },
  {
   "cell_type": "code",
   "execution_count": 22,
   "outputs": [],
   "source": [
    "sorted_tasks = sorted(tasks)\n",
    "re_word = \"Go\"\n",
    "choices_tasks = []\n",
    "values_tasks = []\n",
    "for i in range(len(sorted_tasks)):\n",
    "    if re_word in sorted_tasks[i]:\n",
    "        values_tasks.append(i)\n",
    "    else:\n",
    "        choices_tasks.append(i)\n",
    "can = CorrectAnswerNetwork(choices_tasks, values_tasks, 0.15)"
   ],
   "metadata": {
    "collapsed": false,
    "pycharm": {
     "name": "#%%\n"
    }
   }
  },
  {
   "cell_type": "code",
   "execution_count": 23,
   "outputs": [
    {
     "data": {
      "text/plain": "[4, 5, 6, 7, 8, 9]"
     },
     "execution_count": 23,
     "metadata": {},
     "output_type": "execute_result"
    }
   ],
   "source": [
    "values_tasks"
   ],
   "metadata": {
    "collapsed": false,
    "pycharm": {
     "name": "#%%\n"
    }
   }
  },
  {
   "cell_type": "markdown",
   "source": [
    "# Инициализация сети и выгрузка на device"
   ],
   "metadata": {
    "collapsed": false
   }
  },
  {
   "cell_type": "code",
   "execution_count": 24,
   "outputs": [],
   "source": [
    "from cgtasknet.net import SNNlifadex\n",
    "from norse.torch import LIFAdExParameters\n",
    "\n",
    "feature_size, output_size = Task.feature_and_act_size\n",
    "hidden_size = 450\n",
    "\n",
    "neuron_parameters = LIFAdExParameters(\n",
    "    v_th=torch.as_tensor(0.65),\n",
    "    tau_ada_inv=torch.as_tensor(1 / 3.0),\n",
    "    alpha=100,\n",
    "    method=\"super\",\n",
    "    # rho_reset = torch.as_tensor(5)\n",
    ")\n",
    "model = SNNlifadex(\n",
    "    feature_size,\n",
    "    hidden_size,\n",
    "    output_size,\n",
    "    neuron_parameters=neuron_parameters,\n",
    "    tau_filter_inv=500,\n",
    ").to(device)"
   ],
   "metadata": {
    "collapsed": false,
    "pycharm": {
     "name": "#%%\n"
    }
   }
  },
  {
   "cell_type": "markdown",
   "source": [
    "# Критерий и функция ошибки"
   ],
   "metadata": {
    "collapsed": false
   }
  },
  {
   "cell_type": "code",
   "execution_count": 25,
   "outputs": [],
   "source": [
    "learning_rate = 5e-3\n",
    "\n",
    "\n",
    "class RMSELoss(nn.Module):\n",
    "    def __init__(self):\n",
    "        super().__init__()\n",
    "        self.mse = nn.MSELoss()\n",
    "\n",
    "    def forward(self, yhat, y):\n",
    "        return torch.sqrt(self.mse(yhat, y))\n",
    "\n",
    "\n",
    "class MaskedMSELoss(torch.nn.Module):\n",
    "    def __init__(self):\n",
    "        super(MaskedMSELoss, self).__init__()\n",
    "\n",
    "    def forward(self, input, target, mask):\n",
    "        diff2 = (torch.flatten(input) - torch.flatten(target)) ** 2.0 * torch.flatten(\n",
    "            mask\n",
    "        )\n",
    "        result = torch.sum(diff2) / torch.sum(mask)\n",
    "        return result\n",
    "\n",
    "\n",
    "criterion = MaskedMSELoss()\n",
    "optimizer = torch.optim.Adam(model.parameters(), lr=learning_rate)"
   ],
   "metadata": {
    "collapsed": false,
    "pycharm": {
     "name": "#%%\n"
    }
   }
  },
  {
   "cell_type": "markdown",
   "source": [
    "## Генерация всех эпох\n",
    "> Если память не позволяет, то необходимо генерировать каждую эпоху в основном цикле обучения"
   ],
   "metadata": {
    "collapsed": false
   }
  },
  {
   "cell_type": "code",
   "execution_count": 26,
   "outputs": [],
   "source": [
    "if False:\n",
    "    list_inputs = []\n",
    "    list_t_outputs = []\n",
    "    for i in tqdm(range(number_of_epochs)):\n",
    "        temp_input, temp_t_output = Task.dataset()\n",
    "        temp_input.astype(dtype=np.float16)\n",
    "        temp_t_output.astype(dtype=np.float16)\n",
    "        temp_input[:, :, :] += np.random.normal(0, sigma, size=temp_input.shape)\n",
    "        list_inputs.append(temp_input)\n",
    "        list_t_outputs.append(temp_t_output)"
   ],
   "metadata": {
    "collapsed": false,
    "pycharm": {
     "name": "#%%\n"
    }
   }
  },
  {
   "cell_type": "markdown",
   "source": [
    "# JIT numba generator (test)\n",
    "TODO: Необходимо добавить в cgtasknet и вызывать оттуда"
   ],
   "metadata": {
    "collapsed": false
   }
  },
  {
   "cell_type": "code",
   "execution_count": 27,
   "outputs": [],
   "source": [
    "from numba import njit, prange\n",
    "\n",
    "\n",
    "@njit(cache=True, parallel=True)\n",
    "def every_bath_generator(\n",
    "    start_sigma: float,\n",
    "    stop_sigma: float,\n",
    "    times: int = 1,\n",
    "    batches: int = 1,\n",
    "    actions: int = 1,\n",
    "):\n",
    "    data = np.zeros((times, batches, actions))\n",
    "    for i in prange(batches):\n",
    "        data[:, i, :] = np.random.normal(\n",
    "            0, np.random.uniform(start_sigma, stop_sigma), size=(times, actions)\n",
    "        )\n",
    "    return data"
   ],
   "metadata": {
    "collapsed": false,
    "pycharm": {
     "name": "#%%\n"
    }
   }
  },
  {
   "cell_type": "markdown",
   "source": [
    "# Основной цикл обучения"
   ],
   "metadata": {
    "collapsed": false
   }
  },
  {
   "cell_type": "code",
   "execution_count": 28,
   "outputs": [
    {
     "name": "stderr",
     "output_type": "stream",
     "text": [
      "  1%|          | 16/3000 [03:30<10:54:33, 13.16s/it]\n"
     ]
    },
    {
     "ename": "KeyboardInterrupt",
     "evalue": "",
     "output_type": "error",
     "traceback": [
      "\u001b[1;31m---------------------------------------------------------------------------\u001b[0m",
      "\u001b[1;31mKeyboardInterrupt\u001b[0m                         Traceback (most recent call last)",
      "Input \u001b[1;32mIn [28]\u001b[0m, in \u001b[0;36m<module>\u001b[1;34m\u001b[0m\n\u001b[0;32m     27\u001b[0m init_state \u001b[38;5;241m=\u001b[39m LIFAdExState(\n\u001b[0;32m     28\u001b[0m     torch\u001b[38;5;241m.\u001b[39mzeros(batch_size, hidden_size)\u001b[38;5;241m.\u001b[39mto(device),\n\u001b[0;32m     29\u001b[0m     torch\u001b[38;5;241m.\u001b[39mrand(batch_size, hidden_size)\u001b[38;5;241m.\u001b[39mto(device),\n\u001b[0;32m     30\u001b[0m     torch\u001b[38;5;241m.\u001b[39mzeros(batch_size, hidden_size)\u001b[38;5;241m.\u001b[39mto(device),\n\u001b[0;32m     31\u001b[0m     torch\u001b[38;5;241m.\u001b[39mrand(batch_size, hidden_size)\u001b[38;5;241m.\u001b[39mto(device),\n\u001b[0;32m     32\u001b[0m )\n\u001b[0;32m     33\u001b[0m \u001b[38;5;66;03m# forward + backward + optimize\u001b[39;00m\n\u001b[1;32m---> 34\u001b[0m outputs, _ \u001b[38;5;241m=\u001b[39m \u001b[43mmodel\u001b[49m\u001b[43m(\u001b[49m\u001b[43minputs\u001b[49m\u001b[43m,\u001b[49m\u001b[43m \u001b[49m\u001b[43minit_state\u001b[49m\u001b[43m)\u001b[49m\n\u001b[0;32m     36\u001b[0m loss \u001b[38;5;241m=\u001b[39m criterion(outputs, target_outputs, loss_mask)\n\u001b[0;32m     37\u001b[0m loss\u001b[38;5;241m.\u001b[39mbackward()\n",
      "File \u001b[1;32ma:\\src\\multy_task\\env\\lib\\site-packages\\torch\\nn\\modules\\module.py:1102\u001b[0m, in \u001b[0;36mModule._call_impl\u001b[1;34m(self, *input, **kwargs)\u001b[0m\n\u001b[0;32m   1098\u001b[0m \u001b[38;5;66;03m# If we don't have any hooks, we want to skip the rest of the logic in\u001b[39;00m\n\u001b[0;32m   1099\u001b[0m \u001b[38;5;66;03m# this function, and just call forward.\u001b[39;00m\n\u001b[0;32m   1100\u001b[0m \u001b[38;5;28;01mif\u001b[39;00m \u001b[38;5;129;01mnot\u001b[39;00m (\u001b[38;5;28mself\u001b[39m\u001b[38;5;241m.\u001b[39m_backward_hooks \u001b[38;5;129;01mor\u001b[39;00m \u001b[38;5;28mself\u001b[39m\u001b[38;5;241m.\u001b[39m_forward_hooks \u001b[38;5;129;01mor\u001b[39;00m \u001b[38;5;28mself\u001b[39m\u001b[38;5;241m.\u001b[39m_forward_pre_hooks \u001b[38;5;129;01mor\u001b[39;00m _global_backward_hooks\n\u001b[0;32m   1101\u001b[0m         \u001b[38;5;129;01mor\u001b[39;00m _global_forward_hooks \u001b[38;5;129;01mor\u001b[39;00m _global_forward_pre_hooks):\n\u001b[1;32m-> 1102\u001b[0m     \u001b[38;5;28;01mreturn\u001b[39;00m \u001b[43mforward_call\u001b[49m\u001b[43m(\u001b[49m\u001b[38;5;241;43m*\u001b[39;49m\u001b[38;5;28;43minput\u001b[39;49m\u001b[43m,\u001b[49m\u001b[43m \u001b[49m\u001b[38;5;241;43m*\u001b[39;49m\u001b[38;5;241;43m*\u001b[39;49m\u001b[43mkwargs\u001b[49m\u001b[43m)\u001b[49m\n\u001b[0;32m   1103\u001b[0m \u001b[38;5;66;03m# Do not call functions when jit is used\u001b[39;00m\n\u001b[0;32m   1104\u001b[0m full_backward_hooks, non_full_backward_hooks \u001b[38;5;241m=\u001b[39m [], []\n",
      "File \u001b[1;32ma:\\src\\cgtasknet\\cgtasknet\\net\\lifadex.py:45\u001b[0m, in \u001b[0;36mSNNlifadex.forward\u001b[1;34m(self, x, state)\u001b[0m\n\u001b[0;32m     39\u001b[0m \u001b[38;5;28;01mdef\u001b[39;00m \u001b[38;5;21mforward\u001b[39m(\n\u001b[0;32m     40\u001b[0m     \u001b[38;5;28mself\u001b[39m, x: torch\u001b[38;5;241m.\u001b[39mtensor, state: Optional[LIFAdExState] \u001b[38;5;241m=\u001b[39m \u001b[38;5;28;01mNone\u001b[39;00m\n\u001b[0;32m     41\u001b[0m ) \u001b[38;5;241m-\u001b[39m\u001b[38;5;241m>\u001b[39m Union[\n\u001b[0;32m     42\u001b[0m     Tuple[torch\u001b[38;5;241m.\u001b[39mtensor, torch\u001b[38;5;241m.\u001b[39mtensor, List[torch\u001b[38;5;241m.\u001b[39mtensor]],\n\u001b[0;32m     43\u001b[0m     Tuple[torch\u001b[38;5;241m.\u001b[39mtensor, torch\u001b[38;5;241m.\u001b[39mtensor],\n\u001b[0;32m     44\u001b[0m ]:\n\u001b[1;32m---> 45\u001b[0m     outputs, states \u001b[38;5;241m=\u001b[39m \u001b[43msave_states\u001b[49m\u001b[43m(\u001b[49m\u001b[43mx\u001b[49m\u001b[43m,\u001b[49m\u001b[43m \u001b[49m\u001b[38;5;28;43mself\u001b[39;49m\u001b[38;5;241;43m.\u001b[39;49m\u001b[43msave_states\u001b[49m\u001b[43m,\u001b[49m\u001b[43m \u001b[49m\u001b[38;5;28;43mself\u001b[39;49m\u001b[38;5;241;43m.\u001b[39;49m\u001b[43malif\u001b[49m\u001b[43m,\u001b[49m\u001b[43m \u001b[49m\u001b[43mstate\u001b[49m\u001b[43m)\u001b[49m\n\u001b[0;32m     47\u001b[0m     outputs \u001b[38;5;241m=\u001b[39m \u001b[38;5;28mself\u001b[39m\u001b[38;5;241m.\u001b[39mexp_f(outputs)\n\u001b[0;32m     49\u001b[0m     \u001b[38;5;28;01mif\u001b[39;00m \u001b[38;5;28mself\u001b[39m\u001b[38;5;241m.\u001b[39mreturn_spiking \u001b[38;5;129;01mand\u001b[39;00m \u001b[38;5;28mself\u001b[39m\u001b[38;5;241m.\u001b[39msave_states:\n",
      "File \u001b[1;32ma:\\src\\cgtasknet\\cgtasknet\\net\\save_states.py:16\u001b[0m, in \u001b[0;36msave_states\u001b[1;34m(x, save_states, layer, state)\u001b[0m\n\u001b[0;32m     14\u001b[0m     outputs \u001b[38;5;241m=\u001b[39m torch\u001b[38;5;241m.\u001b[39mconcat(outputs, axis\u001b[38;5;241m=\u001b[39m\u001b[38;5;241m0\u001b[39m)\n\u001b[0;32m     15\u001b[0m \u001b[38;5;28;01melse\u001b[39;00m:\n\u001b[1;32m---> 16\u001b[0m     outputs, states \u001b[38;5;241m=\u001b[39m \u001b[43mlayer\u001b[49m\u001b[43m(\u001b[49m\u001b[43mx\u001b[49m\u001b[43m,\u001b[49m\u001b[43m \u001b[49m\u001b[43mstate\u001b[49m\u001b[43m)\u001b[49m\n\u001b[0;32m     17\u001b[0m \u001b[38;5;28;01mreturn\u001b[39;00m outputs, states\n",
      "File \u001b[1;32ma:\\src\\multy_task\\env\\lib\\site-packages\\torch\\nn\\modules\\module.py:1102\u001b[0m, in \u001b[0;36mModule._call_impl\u001b[1;34m(self, *input, **kwargs)\u001b[0m\n\u001b[0;32m   1098\u001b[0m \u001b[38;5;66;03m# If we don't have any hooks, we want to skip the rest of the logic in\u001b[39;00m\n\u001b[0;32m   1099\u001b[0m \u001b[38;5;66;03m# this function, and just call forward.\u001b[39;00m\n\u001b[0;32m   1100\u001b[0m \u001b[38;5;28;01mif\u001b[39;00m \u001b[38;5;129;01mnot\u001b[39;00m (\u001b[38;5;28mself\u001b[39m\u001b[38;5;241m.\u001b[39m_backward_hooks \u001b[38;5;129;01mor\u001b[39;00m \u001b[38;5;28mself\u001b[39m\u001b[38;5;241m.\u001b[39m_forward_hooks \u001b[38;5;129;01mor\u001b[39;00m \u001b[38;5;28mself\u001b[39m\u001b[38;5;241m.\u001b[39m_forward_pre_hooks \u001b[38;5;129;01mor\u001b[39;00m _global_backward_hooks\n\u001b[0;32m   1101\u001b[0m         \u001b[38;5;129;01mor\u001b[39;00m _global_forward_hooks \u001b[38;5;129;01mor\u001b[39;00m _global_forward_pre_hooks):\n\u001b[1;32m-> 1102\u001b[0m     \u001b[38;5;28;01mreturn\u001b[39;00m \u001b[43mforward_call\u001b[49m\u001b[43m(\u001b[49m\u001b[38;5;241;43m*\u001b[39;49m\u001b[38;5;28;43minput\u001b[39;49m\u001b[43m,\u001b[49m\u001b[43m \u001b[49m\u001b[38;5;241;43m*\u001b[39;49m\u001b[38;5;241;43m*\u001b[39;49m\u001b[43mkwargs\u001b[49m\u001b[43m)\u001b[49m\n\u001b[0;32m   1103\u001b[0m \u001b[38;5;66;03m# Do not call functions when jit is used\u001b[39;00m\n\u001b[0;32m   1104\u001b[0m full_backward_hooks, non_full_backward_hooks \u001b[38;5;241m=\u001b[39m [], []\n",
      "File \u001b[1;32ma:\\src\\multy_task\\env\\lib\\site-packages\\norse-0.0.7.post1-py3.8-win-amd64.egg\\norse\\torch\\module\\snn.py:317\u001b[0m, in \u001b[0;36mSNNRecurrent.forward\u001b[1;34m(self, input_tensor, state)\u001b[0m\n\u001b[0;32m    310\u001b[0m activation \u001b[38;5;241m=\u001b[39m (\n\u001b[0;32m    311\u001b[0m     \u001b[38;5;28mself\u001b[39m\u001b[38;5;241m.\u001b[39mactivation_sparse\n\u001b[0;32m    312\u001b[0m     \u001b[38;5;28;01mif\u001b[39;00m \u001b[38;5;28mself\u001b[39m\u001b[38;5;241m.\u001b[39mactivation_sparse \u001b[38;5;129;01mis\u001b[39;00m \u001b[38;5;129;01mnot\u001b[39;00m \u001b[38;5;28;01mNone\u001b[39;00m \u001b[38;5;129;01mand\u001b[39;00m input_tensor\u001b[38;5;241m.\u001b[39mis_sparse\n\u001b[0;32m    313\u001b[0m     \u001b[38;5;28;01melse\u001b[39;00m \u001b[38;5;28mself\u001b[39m\u001b[38;5;241m.\u001b[39mactivation\n\u001b[0;32m    314\u001b[0m )\n\u001b[0;32m    316\u001b[0m \u001b[38;5;28;01mfor\u001b[39;00m ts \u001b[38;5;129;01min\u001b[39;00m \u001b[38;5;28mrange\u001b[39m(T):\n\u001b[1;32m--> 317\u001b[0m     out, state \u001b[38;5;241m=\u001b[39m \u001b[43mactivation\u001b[49m\u001b[43m(\u001b[49m\n\u001b[0;32m    318\u001b[0m \u001b[43m        \u001b[49m\u001b[43minput_tensor\u001b[49m\u001b[43m[\u001b[49m\u001b[43mts\u001b[49m\u001b[43m]\u001b[49m\u001b[43m,\u001b[49m\n\u001b[0;32m    319\u001b[0m \u001b[43m        \u001b[49m\u001b[43mstate\u001b[49m\u001b[43m,\u001b[49m\n\u001b[0;32m    320\u001b[0m \u001b[43m        \u001b[49m\u001b[38;5;28;43mself\u001b[39;49m\u001b[38;5;241;43m.\u001b[39;49m\u001b[43minput_weights\u001b[49m\u001b[43m,\u001b[49m\n\u001b[0;32m    321\u001b[0m \u001b[43m        \u001b[49m\u001b[38;5;28;43mself\u001b[39;49m\u001b[38;5;241;43m.\u001b[39;49m\u001b[43mrecurrent_weights\u001b[49m\u001b[43m,\u001b[49m\n\u001b[0;32m    322\u001b[0m \u001b[43m        \u001b[49m\u001b[38;5;28;43mself\u001b[39;49m\u001b[38;5;241;43m.\u001b[39;49m\u001b[43mp\u001b[49m\u001b[43m,\u001b[49m\n\u001b[0;32m    323\u001b[0m \u001b[43m        \u001b[49m\u001b[38;5;28;43mself\u001b[39;49m\u001b[38;5;241;43m.\u001b[39;49m\u001b[43mdt\u001b[49m\u001b[43m,\u001b[49m\n\u001b[0;32m    324\u001b[0m \u001b[43m    \u001b[49m\u001b[43m)\u001b[49m\n\u001b[0;32m    325\u001b[0m     outputs\u001b[38;5;241m.\u001b[39mappend(out)\n\u001b[0;32m    327\u001b[0m \u001b[38;5;28;01mreturn\u001b[39;00m torch\u001b[38;5;241m.\u001b[39mstack(outputs), state\n",
      "File \u001b[1;32ma:\\src\\multy_task\\env\\lib\\site-packages\\norse-0.0.7.post1-py3.8-win-amd64.egg\\norse\\torch\\functional\\lif_adex.py:123\u001b[0m, in \u001b[0;36mlif_adex_step\u001b[1;34m(input_tensor, state, input_weights, recurrent_weights, p, dt)\u001b[0m\n\u001b[0;32m    121\u001b[0m dv_leak \u001b[38;5;241m=\u001b[39m p\u001b[38;5;241m.\u001b[39mv_leak \u001b[38;5;241m-\u001b[39m state\u001b[38;5;241m.\u001b[39mv\n\u001b[0;32m    122\u001b[0m dv_exp \u001b[38;5;241m=\u001b[39m p\u001b[38;5;241m.\u001b[39mdelta_T \u001b[38;5;241m*\u001b[39m torch\u001b[38;5;241m.\u001b[39mexp((state\u001b[38;5;241m.\u001b[39mv \u001b[38;5;241m-\u001b[39m p\u001b[38;5;241m.\u001b[39mv_th) \u001b[38;5;241m/\u001b[39m p\u001b[38;5;241m.\u001b[39mdelta_T)\n\u001b[1;32m--> 123\u001b[0m dv \u001b[38;5;241m=\u001b[39m dt \u001b[38;5;241m*\u001b[39m p\u001b[38;5;241m.\u001b[39mtau_mem_inv \u001b[38;5;241m*\u001b[39m (\u001b[43mdv_leak\u001b[49m\u001b[43m \u001b[49m\u001b[38;5;241;43m+\u001b[39;49m\u001b[43m \u001b[49m\u001b[43mdv_exp\u001b[49m\u001b[43m \u001b[49m\u001b[38;5;241;43m+\u001b[39;49m\u001b[43m \u001b[49m\u001b[43mstate\u001b[49m\u001b[38;5;241;43m.\u001b[39;49m\u001b[43mi\u001b[49m\u001b[43m \u001b[49m\u001b[38;5;241;43m-\u001b[39;49m\u001b[43m \u001b[49m\u001b[43mstate\u001b[49m\u001b[38;5;241;43m.\u001b[39;49m\u001b[43ma\u001b[49m)\n\u001b[0;32m    124\u001b[0m v_decayed \u001b[38;5;241m=\u001b[39m state\u001b[38;5;241m.\u001b[39mv \u001b[38;5;241m+\u001b[39m dv\n\u001b[0;32m    126\u001b[0m \u001b[38;5;66;03m# compute current updates\u001b[39;00m\n",
      "\u001b[1;31mKeyboardInterrupt\u001b[0m: "
     ]
    }
   ],
   "source": [
    "from cgtasknet.instruments.instrument_accuracy_network import correct_answer\n",
    "from cgtasknet.net.states import LIFAdExInitState\n",
    "from norse.torch import LIFAdExState\n",
    "\n",
    "name = f\"Train_dm_and_romo_task_reduce_lif_adex_without_refrac_random_delay_long_a_alpha_{neuron_parameters.alpha}_N_{hidden_size}\"\n",
    "init_state = LIFAdExInitState(batch_size, hidden_size, device=device)\n",
    "running_loss = 0\n",
    "sigma = 0\n",
    "for i in tqdm(range(number_of_epochs)):\n",
    "    if i == 500:\n",
    "        sigma = 0.2\n",
    "    if i == 1000:\n",
    "        sigma = 0.5\n",
    "    inputs, target_outputs = Task.dataset(number_of_tasks)\n",
    "\n",
    "    inputs[:, :, 1:3] += every_bath_generator(\n",
    "        0, sigma, inputs.shape[0], inputs.shape[1], 2\n",
    "    )\n",
    "    inputs = torch.from_numpy(inputs).type(torch.float).to(device)\n",
    "    target_outputs = torch.from_numpy(target_outputs).type(torch.float).to(device)\n",
    "    loss_mask = torch.zeros_like(target_outputs)\n",
    "    mask_indexes_signes = torch.where(target_outputs[:, :, 0] == 1)\n",
    "    mask_indexes_zeros = torch.where(target_outputs[:, :, 0] == 0)\n",
    "    loss_mask[mask_indexes_signes[0], mask_indexes_signes[1], :] = 1\n",
    "    loss_mask[mask_indexes_zeros[0], mask_indexes_zeros[1], :] = 5\n",
    "    optimizer.zero_grad()\n",
    "    init_state = LIFAdExState(\n",
    "        torch.zeros(batch_size, hidden_size).to(device),\n",
    "        torch.rand(batch_size, hidden_size).to(device),\n",
    "        torch.zeros(batch_size, hidden_size).to(device),\n",
    "        torch.rand(batch_size, hidden_size).to(device),\n",
    "    )\n",
    "    # forward + backward + optimize\n",
    "    outputs, _ = model(inputs, init_state)\n",
    "\n",
    "    loss = criterion(outputs, target_outputs, loss_mask)\n",
    "    loss.backward()\n",
    "    optimizer.step()\n",
    "\n",
    "    # print statistics\n",
    "    running_loss += loss.item()\n",
    "    if i % 50 == 49:\n",
    "        with open(\"log_multy.txt\", \"a\") as f:\n",
    "            f.write(\"epoch: {:d} loss: {:0.5f}\\n\".format(i + 1, running_loss / 10))\n",
    "        running_loss = 0.0\n",
    "        with torch.no_grad():\n",
    "            torch.save(\n",
    "                model.state_dict(),\n",
    "                name,\n",
    "            )\n",
    "    if i % 50 == 49:\n",
    "\n",
    "        result = 0\n",
    "        for j in range(10):\n",
    "            try:\n",
    "                del inputs\n",
    "            except:\n",
    "                pass\n",
    "            try:\n",
    "                del target_outputs\n",
    "            except:\n",
    "                pass\n",
    "            try:\n",
    "                del outputs\n",
    "            except:\n",
    "                pass\n",
    "            torch.cuda.empty_cache()\n",
    "            inputs, target_outputs = Task.dataset(1, delay_between=0)\n",
    "            inputs[:, :, 1:3] += every_bath_generator(\n",
    "                0, 0.01, inputs.shape[0], inputs.shape[1], 2\n",
    "            )\n",
    "            inputs = torch.from_numpy(inputs).type(torch.float).to(device)\n",
    "            target_outputs = (\n",
    "                torch.from_numpy(target_outputs).type(torch.float).to(device)\n",
    "            )\n",
    "            outputs = model(inputs)[0]\n",
    "            type_tasks = list(\n",
    "                np.where(inputs[-1, :, 3:].detach().cpu().numpy() == 1)[1]\n",
    "            )\n",
    "            answers = can.run(\n",
    "                target_outputs[50:, :, 0].cpu(),\n",
    "                outputs[50:, :, 0].cpu(),\n",
    "                target_outputs[50:, :, 1:].cpu(),\n",
    "                outputs[50:, :, 1:].cpu(),\n",
    "                type_tasks,\n",
    "            )\n",
    "            result += answers\n",
    "\n",
    "        accuracy = result / batch_size / 10 * 100\n",
    "        with open(\"accuracy_multy.txt\", \"a\") as f:\n",
    "            f.write(f\"ecpoch = {i}; correct/all = {accuracy}\\n\")\n",
    "    try:\n",
    "        del inputs\n",
    "    except:\n",
    "        pass\n",
    "    try:\n",
    "        del target_outputs\n",
    "    except:\n",
    "        pass\n",
    "    try:\n",
    "        del outputs\n",
    "    except:\n",
    "        pass\n",
    "    torch.cuda.empty_cache()\n",
    "print(\"Finished Training\")"
   ],
   "metadata": {
    "collapsed": false,
    "pycharm": {
     "name": "#%%\n"
    }
   }
  },
  {
   "cell_type": "code",
   "execution_count": null,
   "outputs": [],
   "source": [
    "sorted_tasks = sorted(tasks)\n",
    "re_word = \"Go\"\n",
    "choices_tasks = []\n",
    "values_tasks = []\n",
    "for i in range(len(sorted_tasks)):\n",
    "    if re_word in sorted_tasks[i]:\n",
    "        values_tasks.append(i)\n",
    "    else:\n",
    "        choices_tasks.append(i)\n",
    "can = CorrectAnswerNetwork(choices_tasks, values_tasks, 0.15)\n",
    "inputs, target_outputs = Task.dataset(1, delay_between=0)\n",
    "inputs[:, :, 1:3] += every_bath_generator(0, 0.01, inputs.shape[0], inputs.shape[1], 2)\n",
    "inputs = torch.from_numpy(inputs).type(torch.float).to(device)\n",
    "target_outputs = torch.from_numpy(target_outputs).type(torch.float).to(device)\n",
    "outputs = model(inputs)[0]\n",
    "type_tasks = list(np.where(inputs[-1, :, 3:].detach().cpu().numpy() == 1)[1])\n",
    "answers = can.run(\n",
    "    target_outputs[:, :, 0].cpu(),\n",
    "    outputs[:, :, 0].cpu(),\n",
    "    target_outputs[:, :, 1:].cpu(),\n",
    "    outputs[:, :, 1:].cpu(),\n",
    "    type_tasks,\n",
    ")\n",
    "result += answers"
   ],
   "metadata": {
    "collapsed": false,
    "pycharm": {
     "name": "#%%\n"
    }
   }
  },
  {
   "cell_type": "code",
   "execution_count": null,
   "outputs": [],
   "source": [
    "values_tasks"
   ],
   "metadata": {
    "collapsed": false,
    "pycharm": {
     "name": "#%%\n"
    }
   }
  },
  {
   "cell_type": "code",
   "execution_count": null,
   "outputs": [],
   "source": [
    "result"
   ],
   "metadata": {
    "collapsed": false,
    "pycharm": {
     "name": "#%%\n"
    }
   }
  },
  {
   "cell_type": "code",
   "execution_count": null,
   "outputs": [],
   "source": [
    "list(np.where(inputs[-1, :, 3:].detach().cpu().numpy() == 1)[1])"
   ],
   "metadata": {
    "collapsed": false,
    "pycharm": {
     "name": "#%%\n"
    }
   }
  },
  {
   "cell_type": "markdown",
   "source": [
    "# Тестовая функция"
   ],
   "metadata": {
    "collapsed": false
   }
  },
  {
   "cell_type": "code",
   "execution_count": null,
   "outputs": [],
   "source": [
    "def test_network(\n",
    "    test_sigma: float, number_of_trials: int = 100, plot_data: bool = True\n",
    "):\n",
    "    result = 0\n",
    "    for j in tqdm(range(number_of_trials)):\n",
    "        try:\n",
    "            del inputs\n",
    "        except:\n",
    "            pass\n",
    "        try:\n",
    "            del target_outputs\n",
    "        except:\n",
    "            pass\n",
    "        try:\n",
    "            del outputs\n",
    "        except:\n",
    "            pass\n",
    "        torch.cuda.empty_cache()\n",
    "        inputs, target_outputs = Task.dataset(1, delay_between=0)\n",
    "        inputs[:, :, :3] += every_bath_generator(\n",
    "            0, test_sigma, inputs.shape[0], inputs.shape[1], 3\n",
    "        )\n",
    "        inputs = torch.from_numpy(inputs).type(torch.float).to(device)\n",
    "        target_outputs = torch.from_numpy(target_outputs).type(torch.float).to(device)\n",
    "        outputs = model(inputs)[0]\n",
    "        answers = correct_answer(\n",
    "            outputs[:, :, 1:], target_outputs[:, :, 1:], target_outputs[:, :, 0]\n",
    "        )\n",
    "        result += torch.sum(answers).item()\n",
    "\n",
    "    accuracy = result / batch_size / number_of_trials * 100\n",
    "    if plot_data:\n",
    "        plot_results(inputs, target_outputs, outputs)\n",
    "    try:\n",
    "        del inputs\n",
    "    except:\n",
    "        pass\n",
    "    try:\n",
    "        del target_outputs\n",
    "    except:\n",
    "        pass\n",
    "    try:\n",
    "        del outputs\n",
    "    except:\n",
    "        pass\n",
    "    torch.cuda.empty_cache()\n",
    "    return accuracy"
   ],
   "metadata": {
    "collapsed": false,
    "pycharm": {
     "name": "#%%\n"
    }
   }
  },
  {
   "cell_type": "markdown",
   "source": [
    "# Тестирование\n",
    "```  np.random.normal(0, 0.01, size=(inputs.shape)) ```"
   ],
   "metadata": {
    "collapsed": false
   }
  },
  {
   "cell_type": "code",
   "execution_count": null,
   "outputs": [],
   "source": [
    "accuracy = test_network(0.01, 1)\n",
    "print(accuracy)"
   ],
   "metadata": {
    "collapsed": false,
    "pycharm": {
     "name": "#%%\n"
    }
   }
  },
  {
   "cell_type": "markdown",
   "source": [
    "# Тестирование\n",
    "```  np.random.normal(0, 0.05, size=(inputs.shape)) ```"
   ],
   "metadata": {
    "collapsed": false
   }
  },
  {
   "cell_type": "code",
   "execution_count": null,
   "outputs": [],
   "source": [
    "accuracy = test_network(0.05, 10)\n",
    "print(accuracy)"
   ],
   "metadata": {
    "collapsed": false,
    "pycharm": {
     "name": "#%%\n"
    }
   }
  },
  {
   "cell_type": "code",
   "execution_count": null,
   "outputs": [],
   "source": [],
   "metadata": {
    "collapsed": false,
    "pycharm": {
     "name": "#%%\n"
    }
   }
  },
  {
   "cell_type": "markdown",
   "source": [
    "# Тестирование\n",
    "```  np.random.normal(0, 0.1, size=(inputs.shape)) ```"
   ],
   "metadata": {
    "collapsed": false
   }
  },
  {
   "cell_type": "code",
   "execution_count": null,
   "outputs": [],
   "source": [
    "accuracy = test_network(0.1)\n",
    "print(accuracy)"
   ],
   "metadata": {
    "collapsed": false,
    "pycharm": {
     "name": "#%%\n"
    }
   }
  },
  {
   "cell_type": "markdown",
   "source": [
    "# Тестирование\n",
    "```  np.random.normal(0, 0.5, size=(inputs.shape)) ```"
   ],
   "metadata": {
    "collapsed": false
   }
  },
  {
   "cell_type": "code",
   "execution_count": null,
   "outputs": [],
   "source": [
    "accuracy = test_network(0.5)\n",
    "print(accuracy)"
   ],
   "metadata": {
    "collapsed": false,
    "pycharm": {
     "name": "#%%\n"
    }
   }
  },
  {
   "cell_type": "code",
   "execution_count": null,
   "outputs": [],
   "source": [
    "result = 0\n",
    "for j in tqdm(range(1)):\n",
    "    try:\n",
    "        del inputs\n",
    "    except:\n",
    "        pass\n",
    "    try:\n",
    "        del target_outputs\n",
    "    except:\n",
    "        pass\n",
    "    try:\n",
    "        del outputs\n",
    "    except:\n",
    "        pass\n",
    "    torch.cuda.empty_cache()\n",
    "    inputs, target_outputs = Task.dataset(1, delay_between=0)\n",
    "    inputs[:, :, :3] += np.random.normal(0, 0.5, size=inputs[:, :, :3].shape)\n",
    "    inputs = torch.from_numpy(inputs).type(torch.float).to(device)\n",
    "    target_outputs = torch.from_numpy(target_outputs).type(torch.float).to(device)\n",
    "    outputs = model(inputs)[0]\n",
    "    answers = correct_answer(\n",
    "        outputs[:, :, 1:], target_outputs[:, :, 1:], target_outputs[:, :, 0]\n",
    "    )\n",
    "    result += torch.sum(answers).item()\n",
    "\n",
    "accuracy = result / batch_size / 100 * 100\n",
    "print(accuracy)\n",
    "plot_results(inputs, target_outputs, outputs)\n",
    "try:\n",
    "    del inputs\n",
    "except:\n",
    "    pass\n",
    "try:\n",
    "    del target_outputs\n",
    "except:\n",
    "    pass\n",
    "try:\n",
    "    del outputs\n",
    "except:\n",
    "    pass\n",
    "torch.cuda.empty_cache()"
   ],
   "metadata": {
    "collapsed": false,
    "pycharm": {
     "name": "#%%\n"
    }
   }
  },
  {
   "cell_type": "code",
   "execution_count": null,
   "outputs": [],
   "source": [
    "result = 0\n",
    "for j in tqdm(range(1)):\n",
    "    try:\n",
    "        del inputs\n",
    "    except:\n",
    "        pass\n",
    "    try:\n",
    "        del target_outputs\n",
    "    except:\n",
    "        pass\n",
    "    try:\n",
    "        del outputs\n",
    "    except:\n",
    "        pass\n",
    "    torch.cuda.empty_cache()\n",
    "    inputs, target_outputs = Task.dataset(1, delay_between=0)\n",
    "    inputs[:, :, :3] += np.random.normal(0, 0.7, size=inputs[:, :, :3].shape)\n",
    "    inputs = torch.from_numpy(inputs).type(torch.float).to(device)\n",
    "    target_outputs = torch.from_numpy(target_outputs).type(torch.float).to(device)\n",
    "    outputs = model(inputs)[0]\n",
    "    answers = correct_answer(\n",
    "        outputs[:, :, 1:], target_outputs[:, :, 1:], target_outputs[:, :, 0]\n",
    "    )\n",
    "    result += torch.sum(answers).item()\n",
    "\n",
    "accuracy = result / batch_size / 100 * 100\n",
    "print(accuracy)\n",
    "plot_results(inputs, target_outputs, outputs)\n",
    "try:\n",
    "    del inputs\n",
    "except:\n",
    "    pass\n",
    "try:\n",
    "    del target_outputs\n",
    "except:\n",
    "    pass\n",
    "try:\n",
    "    del outputs\n",
    "except:\n",
    "    pass\n",
    "torch.cuda.empty_cache()"
   ],
   "metadata": {
    "collapsed": false,
    "pycharm": {
     "name": "#%%\n"
    }
   }
  },
  {
   "cell_type": "code",
   "execution_count": null,
   "outputs": [],
   "source": [
    "inputs = 0\n",
    "outputs = 0"
   ],
   "metadata": {
    "collapsed": false,
    "pycharm": {
     "name": "#%%\n"
    }
   }
  },
  {
   "cell_type": "code",
   "execution_count": null,
   "outputs": [],
   "source": [
    "lines = []\n",
    "with open(\"accuracy_multy.txt\", \"r\") as f:\n",
    "    while line := f.readline():\n",
    "        lines.append(float(line.split(\"=\")[2]))"
   ],
   "metadata": {
    "collapsed": false,
    "pycharm": {
     "name": "#%%\n"
    }
   }
  },
  {
   "cell_type": "code",
   "execution_count": null,
   "outputs": [],
   "source": [
    "import matplotlib.pyplot as plt\n",
    "\n",
    "plt.figure(figsize=(8, 5))\n",
    "plt.plot([*range(9, 3000, 50)], lines, \".\", linestyle=\"--\", markersize=5)\n",
    "plt.ylabel(r\"Accuracy%\")\n",
    "plt.xlabel(r\"Epochs\")"
   ],
   "metadata": {
    "collapsed": false,
    "pycharm": {
     "name": "#%%\n"
    }
   }
  },
  {
   "cell_type": "code",
   "execution_count": null,
   "outputs": [],
   "source": [
    "start_sigma = 0\n",
    "stop_sigma = 2\n",
    "step_sigma = 0.05\n",
    "sigma_array = np.arange(start_sigma, stop_sigma, step_sigma)\n",
    "for test_sigma in tqdm(sigma_array):\n",
    "    result = 0\n",
    "    for j in range(20):\n",
    "        try:\n",
    "            del inputs\n",
    "        except:\n",
    "            pass\n",
    "        try:\n",
    "            del target_outputs\n",
    "        except:\n",
    "            pass\n",
    "        try:\n",
    "            del outputs\n",
    "        except:\n",
    "            pass\n",
    "        torch.cuda.empty_cache()\n",
    "        inputs, target_outputs = Task.dataset(1, delay_between=0)\n",
    "        inputs[:, :, 1:3] += np.random.normal(\n",
    "            0, test_sigma, size=inputs[:, :, 1:3].shape\n",
    "        )\n",
    "        inputs = torch.from_numpy(inputs).type(torch.float).to(device)\n",
    "        target_outputs = torch.from_numpy(target_outputs).type(torch.float).to(device)\n",
    "        outputs = model(inputs)[0]\n",
    "        type_tasks = list(np.where(inputs[-1, :, 3:].detach().cpu().numpy() == 1)[1])\n",
    "        answers = can.run(\n",
    "            target_outputs[50:, :, 0].cpu(),\n",
    "            outputs[50:, :, 0].cpu(),\n",
    "            target_outputs[50:, :, 1:].cpu(),\n",
    "            outputs[50:, :, 1:].cpu(),\n",
    "            type_tasks,\n",
    "        )\n",
    "        result += answers\n",
    "    accuracy = result / batch_size / 20 * 100\n",
    "    with open(\"accuracy_vs_noise.txt\", \"a\") as f:\n",
    "        f.write(f\"noise={test_sigma}:accuracy={accuracy}\\n\")"
   ],
   "metadata": {
    "collapsed": false,
    "pycharm": {
     "name": "#%%\n"
    }
   }
  },
  {
   "cell_type": "code",
   "execution_count": null,
   "outputs": [],
   "source": [
    "import matplotlib.patches as patches\n",
    "\n",
    "plt.style.use(\"ggplot\")\n",
    "\n",
    "\n",
    "def parser(line_text: str) -> tuple:\n",
    "    \"\"\"\n",
    "    Function parses text in form:\n",
    "    ```v_name_1=v1:v_name_2:v2```\n",
    "    and return (v1, v2)\n",
    "    :param line_text:\n",
    "    :return: (v1, v2)\n",
    "    \"\"\"\n",
    "    line_text = line_text.split(\":\")\n",
    "    print(line_text)\n",
    "    v1 = line_text[0].split(\"=\")[1]\n",
    "    v2 = line_text[1].split(\"=\")[1]\n",
    "    return float(v1), float(v2)\n",
    "\n",
    "\n",
    "x, y = [], []\n",
    "# with open('accuracy_vs_noise.txt', 'r') as f:\n",
    "with open(\n",
    "    r\"accuracy_vs_noise.txt\",\n",
    "    \"r\",\n",
    ") as f:\n",
    "    while line := f.readline():\n",
    "        t_x, t_y = parser(line)\n",
    "        x.append(t_x)\n",
    "        y.append(t_y)\n",
    "\n",
    "fig, ax = plt.subplots()\n",
    "ax.plot(x, y, \".\", linestyle=\"--\")\n",
    "# ax.plot([.5]*2, [50, 100])\n",
    "ax.set_ylabel(\"Accuracy,%\")\n",
    "ax.set_xlabel(r\"$\\sigma$\")\n",
    "ax.add_patch(\n",
    "    patches.Rectangle(\n",
    "        (0, 50), 0.5, 50, edgecolor=\"grey\", facecolor=\"grey\", alpha=0.5, fill=True\n",
    "    )\n",
    ")\n",
    "\n",
    "plt.show()\n",
    "plt.close()"
   ],
   "metadata": {
    "collapsed": false,
    "pycharm": {
     "name": "#%%\n"
    }
   }
  },
  {
   "cell_type": "code",
   "execution_count": null,
   "outputs": [],
   "source": [
    "batch_size = 1\n",
    "number_of_tasks = 1\n",
    "romo_parameters = RomoTaskRandomModParameters(\n",
    "    romo=RomoTaskParameters(\n",
    "        delay=0.6,\n",
    "        positive_shift_delay_time=0.0,\n",
    "        trial_time=0.1,\n",
    "        positive_shift_trial_time=0.2,\n",
    "    ),\n",
    ")\n",
    "dm_parameters = DMTaskRandomModParameters(\n",
    "    dm=DMTaskParameters(trial_time=0.6, positive_shift_trial_time=0.0)\n",
    ")\n",
    "ctx_parameters = CtxDMTaskParameters(dm=dm_parameters.dm)\n",
    "go_parameters = GoTaskRandomModParameters(\n",
    "    go=GoTaskParameters(\n",
    "        trial_time=0.1,\n",
    "        positive_shift_trial_time=0.8,\n",
    "    )\n",
    ")\n",
    "gort_parameters = GoRtTaskRandomModParameters(\n",
    "    go=GoRtTaskParameters(\n",
    "        trial_time=0.1,\n",
    "        positive_shift_trial_time=0.8,\n",
    "    )\n",
    ")\n",
    "godl_parameters = GoDlTaskRandomModParameters(\n",
    "    go_dl=GoDlTaskParameters(\n",
    "        go=GoTaskParameters(trial_time=0.1, positive_shift_trial_time=0.2),\n",
    "        delay=0.1,\n",
    "        positive_shift_delay_time=1.4,\n",
    "    )\n",
    ")\n",
    "sigma = 0.5\n",
    "tasks = [\n",
    "    \"RomoTask1\",\n",
    "    \"RomoTask2\",\n",
    "    \"DMTask1\",\n",
    "    \"DMTask2\",\n",
    "    \"CtxDMTask1\",\n",
    "    \"CtxDMTask2\",\n",
    "    \"GoTask1\",\n",
    "    \"GoTask2\",\n",
    "    \"GoRtTask1\",\n",
    "    \"GoRtTask2\",\n",
    "    \"GoDlTask1\",\n",
    "    \"GoDlTask2\",\n",
    "]\n",
    "task_dict = {\n",
    "    tasks[0]: romo_parameters,\n",
    "    tasks[1]: romo_parameters,\n",
    "    tasks[2]: dm_parameters,\n",
    "    tasks[3]: dm_parameters,\n",
    "    tasks[4]: ctx_parameters,\n",
    "    tasks[5]: ctx_parameters,\n",
    "    tasks[6]: go_parameters,\n",
    "    tasks[7]: go_parameters,\n",
    "    tasks[8]: gort_parameters,\n",
    "    tasks[9]: gort_parameters,\n",
    "    tasks[10]: godl_parameters,\n",
    "    tasks[11]: godl_parameters,\n",
    "}\n",
    "\n",
    "tasks_sequence = [\n",
    "    MultyReduceTasks(\n",
    "        tasks=task_dict,\n",
    "        batch_size=batch_size,\n",
    "        delay_between=0,\n",
    "        enable_fixation_delay=True,\n",
    "        task_number=i,\n",
    "    )\n",
    "    for i in range(len(tasks))\n",
    "]"
   ],
   "metadata": {
    "collapsed": false,
    "pycharm": {
     "name": "#%%\n"
    }
   }
  },
  {
   "cell_type": "code",
   "execution_count": null,
   "outputs": [],
   "source": [
    "tasks_and_names = dict([*zip(sorted(tasks), tasks_sequence)])\n",
    "chosed_tasks = [\"CtxDMTask1\", \"GoTask1\", \"GoRtTask1\", \"GoDlTask1\", \"RomoTask1\"]\n",
    "chosed_tasks_dict = {}\n",
    "for key, item in tasks_and_names.items():\n",
    "    if key in chosed_tasks:\n",
    "        chosed_tasks_dict[key] = item\n",
    "print(\"Tasks for PCA\")\n",
    "print(chosed_tasks_dict)"
   ],
   "metadata": {
    "collapsed": false,
    "pycharm": {
     "name": "#%%\n"
    }
   }
  },
  {
   "cell_type": "code",
   "execution_count": null,
   "outputs": [],
   "source": [
    "import matplotlib.pyplot as plt\n",
    "from cgtasknet.instruments.instrument_accuracy_network import correct_answer\n",
    "from cgtasknet.net.states import LIFAdExInitState\n",
    "\n",
    "name = f\"Train_dm_and_romo_task_reduce_lif_adex_without_refrac_random_delay_long_a_alpha_{neuron_parameters.alpha}_N_{hidden_size}\"\n",
    "init_state = LIFAdExInitState(batch_size, hidden_size, device=device)\n",
    "data, t_outputs = tasks_and_names[\"DMTask1\"].dataset(2, delay_between=0)\n",
    "data[:, :, 1:3] += every_bath_generator(0, sigma, data.shape[0], data.shape[1], 2)\n",
    "data = torch.from_numpy(data).type(torch.float).to(device)\n",
    "out, states = model(data, init_state.random_state())\n",
    "out = out.detach().cpu().numpy()\n",
    "plt.figure()\n",
    "plt.plot(t_outputs[:, 0, 0])\n",
    "plt.plot(t_outputs[:, 0, 1])\n",
    "plt.plot(t_outputs[:, 0, 2])\n",
    "\n",
    "plt.figure()\n",
    "plt.plot(out[:, 0, 0])\n",
    "plt.plot(out[:, 0, 1])\n",
    "plt.plot(out[:, 0, 2])"
   ],
   "metadata": {
    "collapsed": false,
    "pycharm": {
     "name": "#%%\n"
    }
   }
  },
  {
   "cell_type": "code",
   "execution_count": null,
   "outputs": [],
   "source": [],
   "metadata": {
    "collapsed": false,
    "pycharm": {
     "name": "#%%\n"
    }
   }
  }
 ],
 "metadata": {
  "kernelspec": {
   "display_name": "Python 3",
   "language": "python",
   "name": "python3"
  },
  "language_info": {
   "codemirror_mode": {
    "name": "ipython",
    "version": 2
   },
   "file_extension": ".py",
   "mimetype": "text/x-python",
   "name": "python",
   "nbconvert_exporter": "python",
   "pygments_lexer": "ipython2",
   "version": "2.7.6"
  }
 },
 "nbformat": 4,
 "nbformat_minor": 0
}