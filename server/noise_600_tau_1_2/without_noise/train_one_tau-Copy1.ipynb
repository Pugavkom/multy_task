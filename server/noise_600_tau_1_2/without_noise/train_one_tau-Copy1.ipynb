{
 "cells": [
  {
   "cell_type": "markdown",
   "metadata": {},
   "source": [
    "# Описание\n",
    "\n",
    "## Задачи\n",
    "_Испольуется три задачи:_\n",
    "- DM -- двухальтернативный выбор\n",
    "- Romo -- сравнение двух сигнало через задержку\n",
    "- CtxDM -- DM с контекстом\n",
    "Вход состоит из одного контекстного входа, одного стимула, 6 входов, кодирующих задачи. Выход как и раньше состоит из трех частей: контекстный выход, выходы принятия решения.\n",
    "\n",
    "## Сеть\n",
    " Сеть состоит из lif AdEx нейронов"
   ]
  },
  {
   "cell_type": "markdown",
   "metadata": {},
   "source": [
    "# Импорт всех необходимых библиотек"
   ]
  },
  {
   "cell_type": "code",
   "execution_count": 1,
   "metadata": {
    "pycharm": {
     "is_executing": true
    }
   },
   "outputs": [],
   "source": [
    "import matplotlib.pyplot as plt\n",
    "import numpy as np\n",
    "import torch\n",
    "import torch.nn as nn\n",
    "from cgtasknet.instruments.instrument_accuracy_network import CorrectAnswerNetwork\n",
    "from cgtasknet.tasks.reduce import (\n",
    "    CtxDMTaskParameters,\n",
    "    DMTaskParameters,\n",
    "    DMTaskRandomModParameters,\n",
    "    GoDlTaskParameters,\n",
    "    GoDlTaskRandomModParameters,\n",
    "    GoRtTaskParameters,\n",
    "    GoRtTaskRandomModParameters,\n",
    "    GoTaskParameters,\n",
    "    GoTaskRandomModParameters,\n",
    "    MultyReduceTasks,\n",
    "    RomoTaskParameters,\n",
    "    RomoTaskRandomModParameters,\n",
    ")\n",
    "from tqdm import tqdm\n"
   ]
  },
  {
   "cell_type": "code",
   "execution_count": 2,
   "metadata": {
    "pycharm": {
     "name": "#%%\n"
    }
   },
   "outputs": [],
   "source": [
    "go_task_list_values = np.linspace(0, 1, 8)"
   ]
  },
  {
   "cell_type": "markdown",
   "metadata": {},
   "source": [
    "# Определяем устройство"
   ]
  },
  {
   "cell_type": "code",
   "execution_count": 3,
   "metadata": {
    "pycharm": {
     "name": "#%%\n"
    }
   },
   "outputs": [
    {
     "name": "stdout",
     "output_type": "stream",
     "text": [
      "cuda:1\n"
     ]
    }
   ],
   "source": [
    "device = torch.device(\"cuda:1\" if torch.cuda.is_available() else \"cpu\")\n",
    "print(f\"{device}\")"
   ]
  },
  {
   "cell_type": "markdown",
   "metadata": {},
   "source": [
    "# Функция построения входов и выходов"
   ]
  },
  {
   "cell_type": "markdown",
   "metadata": {
    "pycharm": {
     "name": "#%% md\n"
    }
   },
   "source": [
    "# Определяем датасет\n",
    "Датасет будет состоять из трех типов задач:\n",
    "- DM задача;\n",
    "- Romo задача;\n",
    "- CtxDM задача.\n",
    "_Параметры для последней задачи аналогичны DM задаче_\n",
    "***\n",
    "## Параметры датасета:"
   ]
  },
  {
   "cell_type": "code",
   "execution_count": 4,
   "metadata": {
    "pycharm": {
     "name": "#%%\n"
    }
   },
   "outputs": [],
   "source": [
    "batch_size = 50\n",
    "number_of_epochs = 3000\n",
    "number_of_tasks = 2\n",
    "romo_parameters = RomoTaskRandomModParameters(\n",
    "    romo=RomoTaskParameters(\n",
    "        delay=0.2,\n",
    "        positive_shift_delay_time=1.5,\n",
    "        trial_time=0.2,\n",
    "        positive_shift_trial_time=0.4,\n",
    "        answer_time=.25\n",
    "    ),\n",
    ")\n",
    "dm_parameters = DMTaskRandomModParameters(\n",
    "    dm=DMTaskParameters(trial_time=0.3, positive_shift_trial_time=1.5, answer_time=.25)\n",
    ")\n",
    "ctx_parameters = CtxDMTaskParameters(dm=dm_parameters.dm)\n",
    "go_parameters = GoTaskRandomModParameters(\n",
    "    go=GoTaskParameters(\n",
    "        trial_time=0.3,\n",
    "        positive_shift_trial_time=1.5,\n",
    "        value=go_task_list_values,\n",
    "        answer_time=.25\n",
    "    )\n",
    ")\n",
    "gort_parameters = GoRtTaskRandomModParameters(\n",
    "    go_rt=GoRtTaskParameters(\n",
    "        trial_time=0.3,\n",
    "        positive_shift_trial_time=1.5,\n",
    "        answer_time=1,\n",
    "        value=go_task_list_values,\n",
    "    )\n",
    ")\n",
    "godl_parameters = GoDlTaskRandomModParameters(\n",
    "    go_dl=GoDlTaskParameters(\n",
    "        go=GoTaskParameters(trial_time=0.2, positive_shift_trial_time=0.4, answer_time=.25, value=go_task_list_values),\n",
    "        delay=0.2,\n",
    "        positive_shift_delay_time=1.5,\n",
    "\n",
    "    )\n",
    ")"
   ]
  },
  {
   "cell_type": "markdown",
   "metadata": {},
   "source": [
    "## Датасет"
   ]
  },
  {
   "cell_type": "code",
   "execution_count": 5,
   "metadata": {
    "pycharm": {
     "name": "#%%\n"
    }
   },
   "outputs": [
    {
     "name": "stdout",
     "output_type": "stream",
     "text": [
      "Task parameters:\n",
      "RomoTask1:\n",
      "RomoTaskRandomModParameters(romo=RomoTaskParameters(dt=0.001, trial_time=0.2, answer_time=0.25, value=(None, None), delay=0.2, negative_shift_trial_time=0, positive_shift_trial_time=0.4, negative_shift_delay_time=0, positive_shift_delay_time=1.5), n_mods=2)\n",
      "\n",
      "RomoTask2:\n",
      "RomoTaskRandomModParameters(romo=RomoTaskParameters(dt=0.001, trial_time=0.2, answer_time=0.25, value=(None, None), delay=0.2, negative_shift_trial_time=0, positive_shift_trial_time=0.4, negative_shift_delay_time=0, positive_shift_delay_time=1.5), n_mods=2)\n",
      "\n",
      "DMTask1:\n",
      "DMTaskRandomModParameters(dm=DMTaskParameters(dt=0.001, trial_time=0.3, answer_time=0.25, value=None, negative_shift_trial_time=0, positive_shift_trial_time=1.5), n_mods=2)\n",
      "\n",
      "DMTask2:\n",
      "DMTaskRandomModParameters(dm=DMTaskParameters(dt=0.001, trial_time=0.3, answer_time=0.25, value=None, negative_shift_trial_time=0, positive_shift_trial_time=1.5), n_mods=2)\n",
      "\n",
      "CtxDMTask1:\n",
      "CtxDMTaskParameters(dm=DMTaskParameters(dt=0.001, trial_time=0.3, answer_time=0.25, value=None, negative_shift_trial_time=0, positive_shift_trial_time=1.5), context=None, value=(None, None))\n",
      "\n",
      "CtxDMTask2:\n",
      "CtxDMTaskParameters(dm=DMTaskParameters(dt=0.001, trial_time=0.3, answer_time=0.25, value=None, negative_shift_trial_time=0, positive_shift_trial_time=1.5), context=None, value=(None, None))\n",
      "\n",
      "GoTask1:\n",
      "GoTaskRandomModParameters(go=GoTaskParameters(dt=0.001, trial_time=0.3, answer_time=0.25, value=array([0.        , 0.14285714, 0.28571429, 0.42857143, 0.57142857,\n",
      "       0.71428571, 0.85714286, 1.        ]), negative_shift_trial_time=0, positive_shift_trial_time=1.5), n_mods=2)\n",
      "\n",
      "GoTask2:\n",
      "GoTaskRandomModParameters(go=GoTaskParameters(dt=0.001, trial_time=0.3, answer_time=0.25, value=array([0.        , 0.14285714, 0.28571429, 0.42857143, 0.57142857,\n",
      "       0.71428571, 0.85714286, 1.        ]), negative_shift_trial_time=0, positive_shift_trial_time=1.5), n_mods=2)\n",
      "\n",
      "GoRtTask1:\n",
      "GoRtTaskRandomModParameters(go_rt=GoRtTaskParameters(dt=0.001, trial_time=0.3, answer_time=1, negative_shift_answer_time=0.0, positive_shift_answer_time=0.0, value=array([0.        , 0.14285714, 0.28571429, 0.42857143, 0.57142857,\n",
      "       0.71428571, 0.85714286, 1.        ]), negative_shift_trial_time=0, positive_shift_trial_time=1.5), n_mods=2)\n",
      "\n",
      "GoRtTask2:\n",
      "GoRtTaskRandomModParameters(go_rt=GoRtTaskParameters(dt=0.001, trial_time=0.3, answer_time=1, negative_shift_answer_time=0.0, positive_shift_answer_time=0.0, value=array([0.        , 0.14285714, 0.28571429, 0.42857143, 0.57142857,\n",
      "       0.71428571, 0.85714286, 1.        ]), negative_shift_trial_time=0, positive_shift_trial_time=1.5), n_mods=2)\n",
      "\n",
      "GoDlTask1:\n",
      "GoDlTaskRandomModParameters(go_dl=GoDlTaskParameters(go=GoTaskParameters(dt=0.001, trial_time=0.2, answer_time=0.25, value=array([0.        , 0.14285714, 0.28571429, 0.42857143, 0.57142857,\n",
      "       0.71428571, 0.85714286, 1.        ]), negative_shift_trial_time=0, positive_shift_trial_time=0.4), delay=0.2, negative_shift_delay_time=0.0, positive_shift_delay_time=1.5), n_mods=2)\n",
      "\n",
      "GoDlTask2:\n",
      "GoDlTaskRandomModParameters(go_dl=GoDlTaskParameters(go=GoTaskParameters(dt=0.001, trial_time=0.2, answer_time=0.25, value=array([0.        , 0.14285714, 0.28571429, 0.42857143, 0.57142857,\n",
      "       0.71428571, 0.85714286, 1.        ]), negative_shift_trial_time=0, positive_shift_trial_time=0.4), delay=0.2, negative_shift_delay_time=0.0, positive_shift_delay_time=1.5), n_mods=2)\n",
      "\n",
      "inputs/outputs: 15/3\n"
     ]
    }
   ],
   "source": [
    "sigma = 0.5\n",
    "tasks = [\n",
    "    \"RomoTask1\",\n",
    "    \"RomoTask2\",\n",
    "    \"DMTask1\",\n",
    "    \"DMTask2\",\n",
    "    \"CtxDMTask1\",\n",
    "    \"CtxDMTask2\",\n",
    "    \"GoTask1\",\n",
    "    \"GoTask2\",\n",
    "    \"GoRtTask1\",\n",
    "    \"GoRtTask2\",\n",
    "    \"GoDlTask1\",\n",
    "    \"GoDlTask2\",\n",
    "]\n",
    "task_dict = {\n",
    "    tasks[0]: romo_parameters,\n",
    "    tasks[1]: romo_parameters,\n",
    "    tasks[2]: dm_parameters,\n",
    "    tasks[3]: dm_parameters,\n",
    "    tasks[4]: ctx_parameters,\n",
    "    tasks[5]: ctx_parameters,\n",
    "    tasks[6]: go_parameters,\n",
    "    tasks[7]: go_parameters,\n",
    "    tasks[8]: gort_parameters,\n",
    "    tasks[9]: gort_parameters,\n",
    "    tasks[10]: godl_parameters,\n",
    "    tasks[11]: godl_parameters,\n",
    "}\n",
    "Task = MultyReduceTasks(\n",
    "    tasks=task_dict,\n",
    "    batch_size=batch_size,\n",
    "    delay_between=0,\n",
    "    enable_fixation_delay=True,\n",
    "    mode=\"random\",\n",
    ")\n",
    "\n",
    "print(\"Task parameters:\")\n",
    "for key in task_dict:\n",
    "    print(f\"{key}:\\n{task_dict[key]}\\n\")\n",
    "\n",
    "print(f\"inputs/outputs: {Task.feature_and_act_size[0]}/{Task.feature_and_act_size[1]}\")"
   ]
  },
  {
   "cell_type": "markdown",
   "metadata": {},
   "source": [
    "## Пример генерации датасета"
   ]
  },
  {
   "cell_type": "code",
   "execution_count": 6,
   "metadata": {
    "pycharm": {
     "name": "#%%\n"
    }
   },
   "outputs": [],
   "source": [
    "sorted_tasks = sorted(tasks)\n",
    "re_word = 'Go'\n",
    "choices_tasks = []\n",
    "values_tasks = []\n",
    "for i in range(len(sorted_tasks)):\n",
    "    if re_word in sorted_tasks[i]:\n",
    "        values_tasks.append(i)\n",
    "    else:\n",
    "        choices_tasks.append(i)\n",
    "can = CorrectAnswerNetwork(choices_tasks, values_tasks, 0.15)"
   ]
  },
  {
   "cell_type": "markdown",
   "metadata": {},
   "source": [
    "# Инициализация сети и выгрузка на device"
   ]
  },
  {
   "cell_type": "code",
   "execution_count": 7,
   "metadata": {
    "pycharm": {
     "name": "#%%\n"
    }
   },
   "outputs": [],
   "source": [
    "from cgtasknet.net import SNNlifadex\n",
    "from norse.torch import LIFAdExParameters\n",
    "\n",
    "feature_size, output_size = Task.feature_and_act_size\n",
    "hidden_size = 600\n",
    "\n",
    "neuron_parameters = LIFAdExParameters(\n",
    "    v_th=torch.as_tensor(0.65),\n",
    "    tau_ada_inv=torch.as_tensor(1 / 2.),\n",
    "    alpha=100,\n",
    "    method=\"super\",\n",
    "    # rho_reset = torch.as_tensor(5)\n",
    ")\n",
    "model = SNNlifadex(\n",
    "    feature_size,\n",
    "    hidden_size,\n",
    "    output_size,\n",
    "    neuron_parameters=neuron_parameters,\n",
    "    tau_filter_inv=500,\n",
    ").to(device)\n"
   ]
  },
  {
   "cell_type": "markdown",
   "metadata": {},
   "source": [
    "# Критерий и функция ошибки"
   ]
  },
  {
   "cell_type": "code",
   "execution_count": 8,
   "metadata": {
    "pycharm": {
     "name": "#%%\n"
    }
   },
   "outputs": [],
   "source": [
    "learning_rate = 5e-3\n",
    "\n",
    "\n",
    "class RMSELoss(nn.Module):\n",
    "    def __init__(self):\n",
    "        super().__init__()\n",
    "        self.mse = nn.MSELoss()\n",
    "\n",
    "    def forward(self, yhat, y):\n",
    "        return torch.sqrt(self.mse(yhat, y))\n",
    "\n",
    "\n",
    "class MaskedMSELoss(torch.nn.Module):\n",
    "    def __init__(self):\n",
    "        super(MaskedMSELoss, self).__init__()\n",
    "\n",
    "    def forward(self, input, target, mask):\n",
    "        diff2 = (torch.flatten(input) - torch.flatten(target)) ** 2.0 * torch.flatten(mask)\n",
    "        result = torch.sum(diff2) / torch.sum(mask)\n",
    "        return result\n",
    "\n",
    "\n",
    "criterion = MaskedMSELoss()\n",
    "optimizer = torch.optim.Adam(model.parameters(), lr=learning_rate)"
   ]
  },
  {
   "cell_type": "markdown",
   "metadata": {},
   "source": [
    "## Генерация всех эпох\n",
    "> Если память не позволяет, то необходимо генерировать каждую эпоху в основном цикле обучения"
   ]
  },
  {
   "cell_type": "code",
   "execution_count": 9,
   "metadata": {
    "pycharm": {
     "name": "#%%\n"
    }
   },
   "outputs": [],
   "source": [
    "if False:\n",
    "    list_inputs = []\n",
    "    list_t_outputs = []\n",
    "    for i in tqdm(range(number_of_epochs)):\n",
    "        temp_input, temp_t_output = Task.dataset()\n",
    "        temp_input.astype(dtype=np.float16)\n",
    "        temp_t_output.astype(dtype=np.float16)\n",
    "        temp_input[:, :, :] += np.random.normal(0, sigma, size=temp_input.shape)\n",
    "        list_inputs.append(temp_input)\n",
    "        list_t_outputs.append(temp_t_output)"
   ]
  },
  {
   "cell_type": "markdown",
   "metadata": {},
   "source": [
    "# JIT numba generator (test)\n",
    "TODO: Необходимо добавить в cgtasknet и вызывать оттуда"
   ]
  },
  {
   "cell_type": "code",
   "execution_count": 10,
   "metadata": {
    "pycharm": {
     "name": "#%%\n"
    }
   },
   "outputs": [],
   "source": [
    "#from numba import njit, prange\n",
    "\n",
    "\n",
    "#@njit(cache=True, parallel=True)\n",
    "def every_bath_generator(\n",
    "        start_sigma: float,\n",
    "        stop_sigma: float,\n",
    "        times: int = 1,\n",
    "        batches: int = 1,\n",
    "        actions: int = 1,\n",
    "):\n",
    "    data = np.zeros((times, batches, actions))\n",
    "    for i in range(batches):\n",
    "        data[:, i, :] = np.random.normal(\n",
    "            0, np.random.uniform(start_sigma, stop_sigma), size=(times, actions)\n",
    "        )\n",
    "    return data"
   ]
  },
  {
   "cell_type": "code",
   "execution_count": 11,
   "metadata": {},
   "outputs": [
    {
     "name": "stdout",
     "output_type": "stream",
     "text": [
      "alif.input_weights\n",
      "alif.recurrent_weights\n",
      "exp_f.linear.weight\n",
      "exp_f.linear.bias\n"
     ]
    }
   ],
   "source": [
    "w_old_weights = []\n",
    "for name, param in model.named_parameters():\n",
    "    w_old_weights.append(torch.clone( param))\n",
    "    print(name)"
   ]
  },
  {
   "cell_type": "code",
   "execution_count": 15,
   "metadata": {},
   "outputs": [
    {
     "name": "stdout",
     "output_type": "stream",
     "text": [
      "alif.input_weights\n",
      "alif.recurrent_weights\n",
      "exp_f.linear.weight\n",
      "exp_f.linear.bias\n"
     ]
    }
   ],
   "source": [
    "w_new_weights = []\n",
    "for name, param in model.named_parameters():\n",
    "    w_new_weights.append(torch.clone( param))\n",
    "    print(name)"
   ]
  },
  {
   "cell_type": "code",
   "execution_count": 18,
   "metadata": {},
   "outputs": [
    {
     "data": {
      "text/plain": [
       "(tensor([  0,   0,   0,  ..., 599, 599, 599], device='cuda:1'),\n",
       " tensor([ 0,  1,  2,  ..., 12, 13, 14], device='cuda:1'))"
      ]
     },
     "execution_count": 18,
     "metadata": {},
     "output_type": "execute_result"
    }
   ],
   "source": [
    "index = 0\n",
    "torch.where((w_old_weights[index] - w_new_weights[index]) !=0)"
   ]
  },
  {
   "cell_type": "markdown",
   "metadata": {},
   "source": [
    "# Основной цикл обучения"
   ]
  },
  {
   "cell_type": "code",
   "execution_count": 14,
   "metadata": {
    "pycharm": {
     "name": "#%%\n"
    }
   },
   "outputs": [
    {
     "name": "stderr",
     "output_type": "stream",
     "text": [
      "  0%|▏                                                                                                                                                                                                                                                                                                                                                                                          | 1/3000 [00:25<21:31:25, 25.84s/it]\n"
     ]
    },
    {
     "ename": "KeyboardInterrupt",
     "evalue": "",
     "output_type": "error",
     "traceback": [
      "\u001b[0;31m---------------------------------------------------------------------------\u001b[0m",
      "\u001b[0;31mKeyboardInterrupt\u001b[0m                         Traceback (most recent call last)",
      "\u001b[0;32m/tmp/ipykernel_6536/2885009734.py\u001b[0m in \u001b[0;36m<module>\u001b[0;34m\u001b[0m\n\u001b[1;32m     24\u001b[0m     )\n\u001b[1;32m     25\u001b[0m     \u001b[0;31m# forward + backward + optimize\u001b[0m\u001b[0;34m\u001b[0m\u001b[0;34m\u001b[0m\u001b[0;34m\u001b[0m\u001b[0m\n\u001b[0;32m---> 26\u001b[0;31m     \u001b[0moutputs\u001b[0m\u001b[0;34m,\u001b[0m \u001b[0m_\u001b[0m \u001b[0;34m=\u001b[0m \u001b[0mmodel\u001b[0m\u001b[0;34m(\u001b[0m\u001b[0minputs\u001b[0m\u001b[0;34m,\u001b[0m \u001b[0minit_state\u001b[0m\u001b[0;34m)\u001b[0m\u001b[0;34m\u001b[0m\u001b[0;34m\u001b[0m\u001b[0m\n\u001b[0m\u001b[1;32m     27\u001b[0m \u001b[0;34m\u001b[0m\u001b[0m\n\u001b[1;32m     28\u001b[0m     \u001b[0mloss\u001b[0m \u001b[0;34m=\u001b[0m \u001b[0mcriterion\u001b[0m\u001b[0;34m(\u001b[0m\u001b[0moutputs\u001b[0m\u001b[0;34m,\u001b[0m \u001b[0mtarget_outputs\u001b[0m\u001b[0;34m,\u001b[0m \u001b[0mloss_mask\u001b[0m\u001b[0;34m)\u001b[0m\u001b[0;34m\u001b[0m\u001b[0;34m\u001b[0m\u001b[0m\n",
      "\u001b[0;32m~/neuralnetworks/cgtasknet_train_adex/multy_task/env/lib/python3.7/site-packages/torch/nn/modules/module.py\u001b[0m in \u001b[0;36m_call_impl\u001b[0;34m(self, *input, **kwargs)\u001b[0m\n\u001b[1;32m   1108\u001b[0m         if not (self._backward_hooks or self._forward_hooks or self._forward_pre_hooks or _global_backward_hooks\n\u001b[1;32m   1109\u001b[0m                 or _global_forward_hooks or _global_forward_pre_hooks):\n\u001b[0;32m-> 1110\u001b[0;31m             \u001b[0;32mreturn\u001b[0m \u001b[0mforward_call\u001b[0m\u001b[0;34m(\u001b[0m\u001b[0;34m*\u001b[0m\u001b[0minput\u001b[0m\u001b[0;34m,\u001b[0m \u001b[0;34m**\u001b[0m\u001b[0mkwargs\u001b[0m\u001b[0;34m)\u001b[0m\u001b[0;34m\u001b[0m\u001b[0;34m\u001b[0m\u001b[0m\n\u001b[0m\u001b[1;32m   1111\u001b[0m         \u001b[0;31m# Do not call functions when jit is used\u001b[0m\u001b[0;34m\u001b[0m\u001b[0;34m\u001b[0m\u001b[0;34m\u001b[0m\u001b[0m\n\u001b[1;32m   1112\u001b[0m         \u001b[0mfull_backward_hooks\u001b[0m\u001b[0;34m,\u001b[0m \u001b[0mnon_full_backward_hooks\u001b[0m \u001b[0;34m=\u001b[0m \u001b[0;34m[\u001b[0m\u001b[0;34m]\u001b[0m\u001b[0;34m,\u001b[0m \u001b[0;34m[\u001b[0m\u001b[0;34m]\u001b[0m\u001b[0;34m\u001b[0m\u001b[0;34m\u001b[0m\u001b[0m\n",
      "\u001b[0;32m~/neuralnetworks/cgtasknet_train_adex/multy_task/env/lib/python3.7/site-packages/cgtasknet-0.0.1-py3.7.egg/cgtasknet/net/lifadex.py\u001b[0m in \u001b[0;36mforward\u001b[0;34m(self, x, state)\u001b[0m\n\u001b[1;32m     43\u001b[0m         \u001b[0mTuple\u001b[0m\u001b[0;34m[\u001b[0m\u001b[0mtorch\u001b[0m\u001b[0;34m.\u001b[0m\u001b[0mtensor\u001b[0m\u001b[0;34m,\u001b[0m \u001b[0mtorch\u001b[0m\u001b[0;34m.\u001b[0m\u001b[0mtensor\u001b[0m\u001b[0;34m]\u001b[0m\u001b[0;34m,\u001b[0m\u001b[0;34m\u001b[0m\u001b[0;34m\u001b[0m\u001b[0m\n\u001b[1;32m     44\u001b[0m     ]:\n\u001b[0;32m---> 45\u001b[0;31m         \u001b[0moutputs\u001b[0m\u001b[0;34m,\u001b[0m \u001b[0mstates\u001b[0m \u001b[0;34m=\u001b[0m \u001b[0msave_states\u001b[0m\u001b[0;34m(\u001b[0m\u001b[0mx\u001b[0m\u001b[0;34m,\u001b[0m \u001b[0mself\u001b[0m\u001b[0;34m.\u001b[0m\u001b[0msave_states\u001b[0m\u001b[0;34m,\u001b[0m \u001b[0mself\u001b[0m\u001b[0;34m.\u001b[0m\u001b[0malif\u001b[0m\u001b[0;34m,\u001b[0m \u001b[0mstate\u001b[0m\u001b[0;34m)\u001b[0m\u001b[0;34m\u001b[0m\u001b[0;34m\u001b[0m\u001b[0m\n\u001b[0m\u001b[1;32m     46\u001b[0m \u001b[0;34m\u001b[0m\u001b[0m\n\u001b[1;32m     47\u001b[0m         \u001b[0moutputs\u001b[0m \u001b[0;34m=\u001b[0m \u001b[0mself\u001b[0m\u001b[0;34m.\u001b[0m\u001b[0mexp_f\u001b[0m\u001b[0;34m(\u001b[0m\u001b[0moutputs\u001b[0m\u001b[0;34m)\u001b[0m\u001b[0;34m\u001b[0m\u001b[0;34m\u001b[0m\u001b[0m\n",
      "\u001b[0;32m~/neuralnetworks/cgtasknet_train_adex/multy_task/env/lib/python3.7/site-packages/cgtasknet-0.0.1-py3.7.egg/cgtasknet/net/save_states.py\u001b[0m in \u001b[0;36msave_states\u001b[0;34m(x, save_states, layer, state)\u001b[0m\n\u001b[1;32m     14\u001b[0m         \u001b[0moutputs\u001b[0m \u001b[0;34m=\u001b[0m \u001b[0mtorch\u001b[0m\u001b[0;34m.\u001b[0m\u001b[0mconcat\u001b[0m\u001b[0;34m(\u001b[0m\u001b[0moutputs\u001b[0m\u001b[0;34m,\u001b[0m \u001b[0maxis\u001b[0m\u001b[0;34m=\u001b[0m\u001b[0;36m0\u001b[0m\u001b[0;34m)\u001b[0m\u001b[0;34m\u001b[0m\u001b[0;34m\u001b[0m\u001b[0m\n\u001b[1;32m     15\u001b[0m     \u001b[0;32melse\u001b[0m\u001b[0;34m:\u001b[0m\u001b[0;34m\u001b[0m\u001b[0;34m\u001b[0m\u001b[0m\n\u001b[0;32m---> 16\u001b[0;31m         \u001b[0moutputs\u001b[0m\u001b[0;34m,\u001b[0m \u001b[0mstates\u001b[0m \u001b[0;34m=\u001b[0m \u001b[0mlayer\u001b[0m\u001b[0;34m(\u001b[0m\u001b[0mx\u001b[0m\u001b[0;34m,\u001b[0m \u001b[0mstate\u001b[0m\u001b[0;34m)\u001b[0m\u001b[0;34m\u001b[0m\u001b[0;34m\u001b[0m\u001b[0m\n\u001b[0m\u001b[1;32m     17\u001b[0m     \u001b[0;32mreturn\u001b[0m \u001b[0moutputs\u001b[0m\u001b[0;34m,\u001b[0m \u001b[0mstates\u001b[0m\u001b[0;34m\u001b[0m\u001b[0;34m\u001b[0m\u001b[0m\n",
      "\u001b[0;32m~/neuralnetworks/cgtasknet_train_adex/multy_task/env/lib/python3.7/site-packages/torch/nn/modules/module.py\u001b[0m in \u001b[0;36m_call_impl\u001b[0;34m(self, *input, **kwargs)\u001b[0m\n\u001b[1;32m   1108\u001b[0m         if not (self._backward_hooks or self._forward_hooks or self._forward_pre_hooks or _global_backward_hooks\n\u001b[1;32m   1109\u001b[0m                 or _global_forward_hooks or _global_forward_pre_hooks):\n\u001b[0;32m-> 1110\u001b[0;31m             \u001b[0;32mreturn\u001b[0m \u001b[0mforward_call\u001b[0m\u001b[0;34m(\u001b[0m\u001b[0;34m*\u001b[0m\u001b[0minput\u001b[0m\u001b[0;34m,\u001b[0m \u001b[0;34m**\u001b[0m\u001b[0mkwargs\u001b[0m\u001b[0;34m)\u001b[0m\u001b[0;34m\u001b[0m\u001b[0;34m\u001b[0m\u001b[0m\n\u001b[0m\u001b[1;32m   1111\u001b[0m         \u001b[0;31m# Do not call functions when jit is used\u001b[0m\u001b[0;34m\u001b[0m\u001b[0;34m\u001b[0m\u001b[0;34m\u001b[0m\u001b[0m\n\u001b[1;32m   1112\u001b[0m         \u001b[0mfull_backward_hooks\u001b[0m\u001b[0;34m,\u001b[0m \u001b[0mnon_full_backward_hooks\u001b[0m \u001b[0;34m=\u001b[0m \u001b[0;34m[\u001b[0m\u001b[0;34m]\u001b[0m\u001b[0;34m,\u001b[0m \u001b[0;34m[\u001b[0m\u001b[0;34m]\u001b[0m\u001b[0;34m\u001b[0m\u001b[0;34m\u001b[0m\u001b[0m\n",
      "\u001b[0;32m~/neuralnetworks/cgtasknet_train_adex/multy_task/env/lib/python3.7/site-packages/norse-0.0.7.post1-py3.7-linux-x86_64.egg/norse/torch/module/snn.py\u001b[0m in \u001b[0;36mforward\u001b[0;34m(self, input_tensor, state)\u001b[0m\n\u001b[1;32m    321\u001b[0m                 \u001b[0mself\u001b[0m\u001b[0;34m.\u001b[0m\u001b[0mrecurrent_weights\u001b[0m\u001b[0;34m,\u001b[0m\u001b[0;34m\u001b[0m\u001b[0;34m\u001b[0m\u001b[0m\n\u001b[1;32m    322\u001b[0m                 \u001b[0mself\u001b[0m\u001b[0;34m.\u001b[0m\u001b[0mp\u001b[0m\u001b[0;34m,\u001b[0m\u001b[0;34m\u001b[0m\u001b[0;34m\u001b[0m\u001b[0m\n\u001b[0;32m--> 323\u001b[0;31m                 \u001b[0mself\u001b[0m\u001b[0;34m.\u001b[0m\u001b[0mdt\u001b[0m\u001b[0;34m,\u001b[0m\u001b[0;34m\u001b[0m\u001b[0;34m\u001b[0m\u001b[0m\n\u001b[0m\u001b[1;32m    324\u001b[0m             )\n\u001b[1;32m    325\u001b[0m             \u001b[0moutputs\u001b[0m\u001b[0;34m.\u001b[0m\u001b[0mappend\u001b[0m\u001b[0;34m(\u001b[0m\u001b[0mout\u001b[0m\u001b[0;34m)\u001b[0m\u001b[0;34m\u001b[0m\u001b[0;34m\u001b[0m\u001b[0m\n",
      "\u001b[0;32m~/neuralnetworks/cgtasknet_train_adex/multy_task/env/lib/python3.7/site-packages/norse-0.0.7.post1-py3.7-linux-x86_64.egg/norse/torch/functional/lif_adex.py\u001b[0m in \u001b[0;36mlif_adex_step\u001b[0;34m(input_tensor, state, input_weights, recurrent_weights, p, dt)\u001b[0m\n\u001b[1;32m    140\u001b[0m         \u001b[0mi_decayed\u001b[0m\u001b[0;34m\u001b[0m\u001b[0;34m\u001b[0m\u001b[0m\n\u001b[1;32m    141\u001b[0m         \u001b[0;34m+\u001b[0m \u001b[0mtorch\u001b[0m\u001b[0;34m.\u001b[0m\u001b[0mnn\u001b[0m\u001b[0;34m.\u001b[0m\u001b[0mfunctional\u001b[0m\u001b[0;34m.\u001b[0m\u001b[0mlinear\u001b[0m\u001b[0;34m(\u001b[0m\u001b[0minput_tensor\u001b[0m\u001b[0;34m,\u001b[0m \u001b[0minput_weights\u001b[0m\u001b[0;34m)\u001b[0m\u001b[0;34m\u001b[0m\u001b[0;34m\u001b[0m\u001b[0m\n\u001b[0;32m--> 142\u001b[0;31m         \u001b[0;34m+\u001b[0m \u001b[0mtorch\u001b[0m\u001b[0;34m.\u001b[0m\u001b[0mnn\u001b[0m\u001b[0;34m.\u001b[0m\u001b[0mfunctional\u001b[0m\u001b[0;34m.\u001b[0m\u001b[0mlinear\u001b[0m\u001b[0;34m(\u001b[0m\u001b[0mstate\u001b[0m\u001b[0;34m.\u001b[0m\u001b[0mz\u001b[0m\u001b[0;34m,\u001b[0m \u001b[0mrecurrent_weights\u001b[0m\u001b[0;34m)\u001b[0m\u001b[0;34m\u001b[0m\u001b[0;34m\u001b[0m\u001b[0m\n\u001b[0m\u001b[1;32m    143\u001b[0m     )\n\u001b[1;32m    144\u001b[0m     \u001b[0;31m# Compute spike adaptation\u001b[0m\u001b[0;34m\u001b[0m\u001b[0;34m\u001b[0m\u001b[0;34m\u001b[0m\u001b[0m\n",
      "\u001b[0;31mKeyboardInterrupt\u001b[0m: "
     ]
    }
   ],
   "source": [
    "from cgtasknet.instruments.instrument_accuracy_network import correct_answer\n",
    "from cgtasknet.net.states import LIFAdExInitState\n",
    "from norse.torch import LIFAdExState\n",
    "\n",
    "name = f\"Train_dm_and_romo_task_reduce_lif_adex_without_refrac_random_delay_long_a_alpha_{neuron_parameters.alpha}_N_{hidden_size}\"\n",
    "init_state = LIFAdExInitState(batch_size, hidden_size, device=device)\n",
    "running_loss = 0\n",
    "sigma = 0\n",
    "for i in tqdm(range(number_of_epochs)):\n",
    "    inputs, target_outputs = Task.dataset(number_of_tasks)\n",
    "    inputs = torch.from_numpy(inputs).type(torch.float).to(device)\n",
    "    target_outputs = torch.from_numpy(target_outputs).type(torch.float).to(device)\n",
    "    loss_mask = torch.zeros_like(target_outputs)\n",
    "    mask_indexes_signes = torch.where(target_outputs[:, :, 0] == 1)\n",
    "    mask_indexes_zeros = torch.where(target_outputs[:, :, 0] == 0)\n",
    "    loss_mask[mask_indexes_signes[0], mask_indexes_signes[1], :] = 1\n",
    "    loss_mask[mask_indexes_zeros[0], mask_indexes_zeros[1], :] = 5\n",
    "    optimizer.zero_grad()\n",
    "    init_state = LIFAdExState(\n",
    "        torch.zeros(batch_size, hidden_size).to(device),\n",
    "        torch.rand(batch_size, hidden_size).to(device),\n",
    "        torch.zeros(batch_size, hidden_size).to(device),\n",
    "        torch.zeros(batch_size, hidden_size).to(device),\n",
    "    )\n",
    "    # forward + backward + optimize\n",
    "    outputs, _ = model(inputs, init_state)\n",
    "\n",
    "    loss = criterion(outputs, target_outputs, loss_mask)\n",
    "    loss.backward()\n",
    "    optimizer.step()\n",
    "\n",
    "    # print statistics\n",
    "    running_loss += loss.item()\n",
    "    if i % 50 == 49:\n",
    "        with open(\"log_multy.txt\", \"a\") as f:\n",
    "            f.write(\"epoch: {:d} loss: {:0.5f}\\n\".format(i + 1, running_loss / 10))\n",
    "        running_loss = 0.0\n",
    "        \n",
    "    if i % 50 == 49:\n",
    "\n",
    "        result = 0\n",
    "        for j in range(10):\n",
    "            try:\n",
    "                del inputs\n",
    "            except:\n",
    "                pass\n",
    "            try:\n",
    "                del target_outputs\n",
    "            except:\n",
    "                pass\n",
    "            try:\n",
    "                del outputs\n",
    "            except:\n",
    "                pass\n",
    "            torch.cuda.empty_cache()\n",
    "            inputs, target_outputs = Task.dataset(1, delay_between=0)\n",
    "            inputs[:, :, 1:3] += every_bath_generator(\n",
    "                0, 0.01, inputs.shape[0], inputs.shape[1], 2\n",
    "            )\n",
    "            inputs = torch.from_numpy(inputs).type(torch.float).to(device)\n",
    "            target_outputs = (\n",
    "                torch.from_numpy(target_outputs).type(torch.float).to(device)\n",
    "            )\n",
    "            outputs = model(inputs)[0]\n",
    "            type_tasks = list(np.where(inputs[-1, :, 3:].detach().cpu().numpy() == 1)[1])\n",
    "            answers = can.run(target_outputs[50:, :, 0].cpu(), outputs[50:, :, 0].cpu(),\n",
    "                              target_outputs[50:, :, 1:].cpu(), outputs[50:, :, 1:].cpu(), type_tasks)\n",
    "            result += answers\n",
    "\n",
    "        accuracy = result / batch_size / 10 * 100\n",
    "        with open(\"accuracy_multy.txt\", \"a\") as f:\n",
    "            f.write(f\"ecpoch = {i}; correct/all = {accuracy}\\n\")\n",
    "    try:\n",
    "        del inputs\n",
    "    except:\n",
    "        pass\n",
    "    try:\n",
    "        del target_outputs\n",
    "    except:\n",
    "        pass\n",
    "    try:\n",
    "        del outputs\n",
    "    except:\n",
    "        pass\n",
    "    torch.cuda.empty_cache()\n",
    "print(\"Finished Training\")"
   ]
  },
  {
   "cell_type": "code",
   "execution_count": null,
   "metadata": {
    "pycharm": {
     "name": "#%%\n"
    }
   },
   "outputs": [],
   "source": [
    "sorted_tasks = sorted(tasks)\n",
    "re_word = 'Go'\n",
    "choices_tasks = []\n",
    "values_tasks = []\n",
    "for i in range(len(sorted_tasks)):\n",
    "    if re_word in sorted_tasks[i]:\n",
    "        values_tasks.append(i)\n",
    "    else:\n",
    "        choices_tasks.append(i)\n",
    "can = CorrectAnswerNetwork(choices_tasks, values_tasks, 0.15)\n",
    "inputs, target_outputs = Task.dataset(1, delay_between=0)\n",
    "inputs[:, :, 1:3] += every_bath_generator(\n",
    "    0, 0.01, inputs.shape[0], inputs.shape[1], 2\n",
    ")\n",
    "inputs = torch.from_numpy(inputs).type(torch.float).to(device)\n",
    "target_outputs = (\n",
    "    torch.from_numpy(target_outputs).type(torch.float).to(device)\n",
    ")\n",
    "outputs = model(inputs)[0]\n",
    "type_tasks = list(np.where(inputs[-1, :, 3:].detach().cpu().numpy() == 1)[1])\n",
    "answers = can.run(target_outputs[:, :, 0].cpu(), outputs[:, :, 0].cpu(), target_outputs[:, :, 1:].cpu(),\n",
    "                  outputs[:, :, 1:].cpu(), type_tasks)\n",
    "result += answers"
   ]
  },
  {
   "cell_type": "code",
   "execution_count": null,
   "metadata": {
    "pycharm": {
     "name": "#%%\n"
    }
   },
   "outputs": [],
   "source": [
    "from norse.torch import LIFAdExState\n",
    "go_accuracy = 0.15\n",
    "can = CorrectAnswerNetwork(choices_tasks, values_tasks, go_accuracy)\n",
    "start_sigma = 0\n",
    "stop_sigma = 2\n",
    "step_sigma = 0.05\n",
    "sigma_array = np.arange(start_sigma, stop_sigma, step_sigma)\n",
    "for test_sigma in tqdm(sigma_array):\n",
    "    result = 0\n",
    "    for j in range(20):\n",
    "        try:\n",
    "            del inputs\n",
    "        except:\n",
    "            pass\n",
    "        try:\n",
    "            del target_outputs\n",
    "        except:\n",
    "            pass\n",
    "        try:\n",
    "            del outputs\n",
    "        except:\n",
    "            pass\n",
    "        torch.cuda.empty_cache()\n",
    "        inputs, target_outputs = Task.dataset(1, delay_between=0)\n",
    "        inputs[:, :, 1:3] += np.random.normal(0, test_sigma, size=inputs[:, :, 1:3].shape)\n",
    "        inputs = torch.from_numpy(inputs).type(torch.float).to(device)\n",
    "        target_outputs = torch.from_numpy(target_outputs).type(torch.float).to(device)\n",
    "        init_state = LIFAdExState(\n",
    "        torch.zeros(batch_size, hidden_size).to(device),\n",
    "        torch.rand(batch_size, hidden_size).to(device),\n",
    "        torch.zeros(batch_size, hidden_size).to(device),\n",
    "        torch.zeros(batch_size, hidden_size).to(device),\n",
    "    )\n",
    "        outputs = model(inputs, init_state)[0]\n",
    "        type_tasks = list(np.where(inputs[-1, :, 3:].detach().cpu().numpy() == 1)[1])\n",
    "        answers = can.run(target_outputs[50:, :, 0].cpu(), outputs[50:, :, 0].cpu(), target_outputs[50:, :, 1:].cpu(),\n",
    "                          outputs[50:, :, 1:].cpu(), type_tasks)\n",
    "        result += answers\n",
    "    accuracy = result / batch_size / 20 * 100\n",
    "    with open(f\"accuracy_vs_noise_{go_accuracy}_init_state.txt\", \"a\") as f:\n",
    "        f.write(f\"noise={test_sigma}:accuracy={accuracy}\\n\")"
   ]
  },
  {
   "cell_type": "code",
   "execution_count": null,
   "metadata": {},
   "outputs": [],
   "source": [
    "go_accuracy = 0.07\n",
    "can = CorrectAnswerNetwork(choices_tasks, values_tasks, go_accuracy)\n",
    "start_sigma = 0\n",
    "stop_sigma = 2\n",
    "step_sigma = 0.05\n",
    "sigma_array = np.arange(start_sigma, stop_sigma, step_sigma)\n",
    "for test_sigma in tqdm(sigma_array):\n",
    "    result = 0\n",
    "    for j in range(20):\n",
    "        try:\n",
    "            del inputs\n",
    "        except:\n",
    "            pass\n",
    "        try:\n",
    "            del target_outputs\n",
    "        except:\n",
    "            pass\n",
    "        try:\n",
    "            del outputs\n",
    "        except:\n",
    "            pass\n",
    "        torch.cuda.empty_cache()\n",
    "        inputs, target_outputs = Task.dataset(1, delay_between=0)\n",
    "        inputs[:, :, 1:3] += np.random.normal(0, test_sigma, size=inputs[:, :, 1:3].shape)\n",
    "        inputs = torch.from_numpy(inputs).type(torch.float).to(device)\n",
    "        target_outputs = torch.from_numpy(target_outputs).type(torch.float).to(device)\n",
    "        outputs = model(inputs)[0]\n",
    "        type_tasks = list(np.where(inputs[-1, :, 3:].detach().cpu().numpy() == 1)[1])\n",
    "        answers = can.run(target_outputs[50:, :, 0].cpu(), outputs[50:, :, 0].cpu(), target_outputs[50:, :, 1:].cpu(),\n",
    "                          outputs[50:, :, 1:].cpu(), type_tasks)\n",
    "        result += answers\n",
    "    accuracy = result / batch_size / 20 * 100\n",
    "    with open(f\"accuracy_vs_noise_{go_accuracy}.txt\", \"a\") as f:\n",
    "        f.write(f\"noise={test_sigma}:accuracy={accuracy}\\n\")"
   ]
  }
 ],
 "metadata": {
  "kernelspec": {
   "display_name": "Python 3",
   "language": "python",
   "name": "python3"
  },
  "language_info": {
   "codemirror_mode": {
    "name": "ipython",
    "version": 3
   },
   "file_extension": ".py",
   "mimetype": "text/x-python",
   "name": "python",
   "nbconvert_exporter": "python",
   "pygments_lexer": "ipython3",
   "version": "3.7.11"
  }
 },
 "nbformat": 4,
 "nbformat_minor": 1
}
