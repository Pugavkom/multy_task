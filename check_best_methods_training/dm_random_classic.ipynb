{
 "cells": [
  {
   "cell_type": "markdown",
   "metadata": {
    "collapsed": false
   },
   "source": [
    "# Описание\n",
    "\n",
    "## Задачи\n",
    "_Испольуется три задачи:_\n",
    "- DM -- двухальтернативный выбор\n",
    "- CtxDM -- DM с контекстом\n",
    "\n",
    "\n",
    "## Сеть\n",
    " Сеть состоит из lif AdEx нейронов\n",
    "\n",
    "## Проверяемый элемент\n",
    "В данном файле тестируется обучение без случайного реконекта."
   ]
  },
  {
   "cell_type": "code",
   "execution_count": 1,
   "metadata": {
    "collapsed": true
   },
   "outputs": [],
   "source": [
    "import numpy as np\n",
    "import torch\n",
    "import torch.nn as nn\n",
    "from cgtasknet.instruments.instrument_accuracy_network import CorrectAnswerNetwork\n",
    "from cgtasknet.tasks.reduce import (\n",
    "    CtxDMTaskParameters,\n",
    "    DMTaskParameters,\n",
    "    DMTaskRandomModParameters,\n",
    "    MultyReduceTasks,\n",
    ")\n",
    "import matplotlib.pyplot as plt"
   ]
  },
  {
   "cell_type": "code",
   "execution_count": 2,
   "metadata": {
    "collapsed": false,
    "pycharm": {
     "name": "#%%\n"
    }
   },
   "outputs": [
    {
     "name": "stdout",
     "output_type": "stream",
     "text": [
      "cuda:0\n"
     ]
    }
   ],
   "source": [
    "device = torch.device(\"cuda:0\" if torch.cuda.is_available() else \"cpu\")\n",
    "print(f\"{device}\")"
   ]
  },
  {
   "cell_type": "markdown",
   "metadata": {
    "collapsed": false
   },
   "source": [
    "# Определяем датасет\n",
    "Датасет будет состоять из трех типов задач:\n",
    "- DM задача;\n",
    "- CtxDM задача.\n",
    "_Параметры для последней задачи аналогичны DM задаче_\n",
    "***\n",
    "## Параметры датасета:"
   ]
  },
  {
   "cell_type": "code",
   "execution_count": 3,
   "metadata": {
    "collapsed": false,
    "pycharm": {
     "name": "#%%\n"
    }
   },
   "outputs": [],
   "source": [
    "batch_size = 32\n",
    "number_of_epochs = 50\n",
    "number_of_tasks = 1\n",
    "\n",
    "go_task_list_values = np.linspace(0, 1, 8)\n",
    "\n",
    "dm_parameters = DMTaskRandomModParameters(\n",
    "    dm=DMTaskParameters(trial_time=0.3, positive_shift_trial_time=1.0, answer_time=0.25)\n",
    ")\n",
    "ctx_parameters = CtxDMTaskParameters(dm=dm_parameters.dm)"
   ]
  },
  {
   "cell_type": "markdown",
   "metadata": {
    "collapsed": false
   },
   "source": [
    "## Датасет"
   ]
  },
  {
   "cell_type": "code",
   "execution_count": 4,
   "metadata": {
    "collapsed": false,
    "pycharm": {
     "name": "#%%\n"
    }
   },
   "outputs": [
    {
     "name": "stdout",
     "output_type": "stream",
     "text": [
      "Task parameters:\n",
      "DMTask1:\n",
      "DMTaskRandomModParameters(dm=DMTaskParameters(dt=0.001, trial_time=0.3, answer_time=0.25, value=None, negative_shift_trial_time=0, positive_shift_trial_time=1.0), n_mods=2)\n",
      "\n",
      "inputs/outputs: 4/3\n"
     ]
    }
   ],
   "source": [
    "sigma = 0.5\n",
    "tasks = [\n",
    "    \"DMTask1\",\n",
    "]\n",
    "task_dict = {\n",
    "    tasks[0]: dm_parameters,\n",
    "}\n",
    "Task = MultyReduceTasks(\n",
    "    tasks=task_dict,\n",
    "    batch_size=batch_size,\n",
    "    delay_between=0,\n",
    "    enable_fixation_delay=True,\n",
    "    mode=\"random\",\n",
    ")\n",
    "\n",
    "print(\"Task parameters:\")\n",
    "for key in task_dict:\n",
    "    print(f\"{key}:\\n{task_dict[key]}\\n\")\n",
    "\n",
    "print(f\"inputs/outputs: {Task.feature_and_act_size[0]}/{Task.feature_and_act_size[1]}\")"
   ]
  },
  {
   "cell_type": "code",
   "execution_count": 5,
   "metadata": {
    "collapsed": false,
    "pycharm": {
     "name": "#%%\n"
    }
   },
   "outputs": [],
   "source": [
    "sorted_tasks = sorted(tasks)\n",
    "re_word = \"Go\"\n",
    "choices_tasks = []\n",
    "values_tasks = []\n",
    "for i in range(len(sorted_tasks)):\n",
    "    if re_word in sorted_tasks[i]:\n",
    "        values_tasks.append(i)\n",
    "    else:\n",
    "        choices_tasks.append(i)\n",
    "can = CorrectAnswerNetwork(choices_tasks, values_tasks, 0.15)"
   ]
  },
  {
   "cell_type": "code",
   "execution_count": 6,
   "metadata": {
    "collapsed": false,
    "pycharm": {
     "name": "#%%\n"
    }
   },
   "outputs": [],
   "source": [
    "from cgtasknet.net import SNNLif\n",
    "from norse.torch import LIFParameters\n",
    "\n",
    "feature_size, output_size = Task.feature_and_act_size\n",
    "hidden_size = 256\n",
    "\n",
    "neuron_parameters = LIFParameters(\n",
    "    v_th=torch.as_tensor(0.45),\n",
    "    #tau_ada_inv=torch.as_tensor(1 / 2.0),\n",
    "    alpha=100,\n",
    "    method=\"super\",\n",
    "    # rho_reset = torch.as_tensor(5)\n",
    ")\n",
    "model = SNNLif(\n",
    "    feature_size,\n",
    "    hidden_size,\n",
    "    output_size,\n",
    "    neuron_parameters=neuron_parameters,\n",
    "    tau_filter_inv=20,\n",
    "    save_states=True,\n",
    "    return_spiking=True,\n",
    ").to(device)\n",
    "for name, param in model.named_parameters():\n",
    "    if name == \"alif.recurrent_weights\":\n",
    "        initial_parameters = torch.clone(param.detach().cpu())"
   ]
  },
  {
   "cell_type": "code",
   "execution_count": 8,
   "outputs": [
    {
     "data": {
      "text/plain": "(1518, 32, 4)"
     },
     "execution_count": 8,
     "metadata": {},
     "output_type": "execute_result"
    }
   ],
   "source": [
    "Task.dataset(1)[0].shape"
   ],
   "metadata": {
    "collapsed": false,
    "pycharm": {
     "name": "#%%\n"
    }
   }
  },
  {
   "cell_type": "markdown",
   "metadata": {
    "collapsed": false
   },
   "source": [
    "## Критерий и функции ошибк"
   ]
  },
  {
   "cell_type": "code",
   "execution_count": 43,
   "metadata": {
    "collapsed": false,
    "pycharm": {
     "name": "#%%\n"
    }
   },
   "outputs": [],
   "source": [
    "learning_rate = 5e-3\n",
    "reg_freq = 1e4  # 1e3 for square #for 600 1e5\n",
    "\n",
    "\n",
    "class RMSELoss(nn.Module):\n",
    "    def __init__(self):\n",
    "        super().__init__()\n",
    "        self.mse = nn.MSELoss()\n",
    "\n",
    "    def forward(self, yhat, y):\n",
    "        return torch.sqrt(self.mse(yhat, y))\n",
    "\n",
    "\n",
    "class MaskedMSELoss(torch.nn.Module):\n",
    "    def __init__(self):\n",
    "        super(MaskedMSELoss, self).__init__()\n",
    "\n",
    "    def forward(self, input, target, mask):\n",
    "        diff2 = (torch.flatten(input) - torch.flatten(target)) ** 2.0 * torch.flatten(\n",
    "            mask\n",
    "        )\n",
    "        result = torch.sum(diff2) / torch.sum(mask)\n",
    "        return result\n",
    "\n",
    "\n",
    "class MaskedAndFrRegMSELoss(torch.nn.Module):\n",
    "    def __init__(self):\n",
    "        super(MaskedAndFrRegMSELoss, self).__init__()\n",
    "\n",
    "    def forward(self, input, target, mask, state):\n",
    "        diff2 = (torch.flatten(input) - torch.flatten(target)) ** 2.0 * torch.flatten(\n",
    "            mask\n",
    "        )\n",
    "        result = torch.sum(diff2) / torch.sum(mask)\n",
    "        s = []\n",
    "        for i in range(len(state)):\n",
    "            s.append(state[i])\n",
    "        s = torch.stack(s)\n",
    "        fr_neurons_mean = torch.mean(torch.mean(s, axis=0), axis=0)\n",
    "        coefs = ((fr_neurons_mean > 0.03)).detach()\n",
    "        fr_neurons_mean *= coefs\n",
    "        fr_neurons_mean = torch.mean(fr_neurons_mean)\n",
    "        result += fr_neurons_mean * reg_freq\n",
    "        return result\n",
    "\n",
    "\n",
    "criterion = MaskedAndFrRegMSELoss()\n",
    "optimizer = torch.optim.Adam(model.parameters(), lr=learning_rate)"
   ]
  },
  {
   "cell_type": "code",
   "execution_count": 44,
   "metadata": {
    "collapsed": false,
    "pycharm": {
     "name": "#%%\n"
    }
   },
   "outputs": [],
   "source": [
    "from numba import njit\n",
    "\n",
    "\n",
    "@njit(cache=True, parallel=True)\n",
    "def every_bath_generator(\n",
    "    start_sigma: float,\n",
    "    stop_sigma: float,\n",
    "    times: int = 1,\n",
    "    batches: int = 1,\n",
    "    actions: int = 1,\n",
    "):\n",
    "    data = np.zeros((times, batches, actions))\n",
    "    for i in range(batches):\n",
    "        data[:, i, :] = np.random.normal(\n",
    "            0, np.random.uniform(start_sigma, stop_sigma), size=(times, actions)\n",
    "        )\n",
    "    return data"
   ]
  },
  {
   "cell_type": "code",
   "execution_count": 45,
   "metadata": {
    "collapsed": false,
    "pycharm": {
     "name": "#%%\n"
    }
   },
   "outputs": [],
   "source": [
    "torch.cuda.empty_cache()"
   ]
  },
  {
   "cell_type": "code",
   "execution_count": 46,
   "metadata": {
    "collapsed": false,
    "pycharm": {
     "name": "#%%\n"
    }
   },
   "outputs": [],
   "source": [
    "from norse.torch import LIFState\n",
    "\n",
    "Task_test = MultyReduceTasks(\n",
    "    tasks=task_dict,\n",
    "    batch_size=batch_size,\n",
    "    delay_between=0,\n",
    "    enable_fixation_delay=True,\n",
    "    mode=\"random\",\n",
    "    task_number=0,\n",
    ")\n",
    "\n",
    "\n",
    "def check_mean_fr(task=Task):\n",
    "    init_state = LIFState(\n",
    "        torch.zeros(batch_size, hidden_size).to(device),\n",
    "        torch.rand(batch_size, hidden_size).to(device),\n",
    "        torch.zeros(batch_size, hidden_size).to(device),\n",
    "    )\n",
    "    inputs, target_outputs = task.dataset(1)\n",
    "\n",
    "    inputs = torch.from_numpy(inputs).type(torch.float).to(device)\n",
    "    target_outputs = torch.from_numpy(target_outputs).type(torch.float).to(device)\n",
    "    result = model(\n",
    "        inputs,\n",
    "        init_state,\n",
    "    )\n",
    "    # del inputs, init_state\n",
    "    torch.cuda.empty_cache()\n",
    "    states = result[-1]\n",
    "    spikes = []\n",
    "    for state in states:\n",
    "        spikes.append(state.detach().cpu())\n",
    "\n",
    "    last_fix = torch.where(inputs[:, :, 0] == 1)[0][-1].item()\n",
    "    # s = torch.stack(spikes)[:last_fix, ...]\n",
    "    s = torch.stack(spikes)[:, ...]\n",
    "    freq_sequence_new = torch.sort(\n",
    "        torch.mean(torch.mean(s, axis=0), axis=0), dim=0\n",
    "    ).values\n",
    "    for i in range(len(freq_sequence_new)):\n",
    "        plt.plot([i + 1] * 2, [0, freq_sequence_new[i] * 1e3], c=\"b\")\n",
    "    plt.show()\n",
    "    plt.close()\n",
    "    index = 0\n",
    "    plt.plot(target_outputs[:, index, 0].detach().cpu(), c=\"r\")\n",
    "    plt.plot(target_outputs[:, index, 1].detach().cpu(), c=\"b\")\n",
    "    plt.plot(target_outputs[:, index, 2].detach().cpu(), c=\"g\")\n",
    "\n",
    "    plt.plot(result[0][:, index, 0].detach().cpu(), c=\"r\", alpha=0.6)\n",
    "    plt.plot(result[0][:, index, 1].detach().cpu(), c=\"b\", alpha=0.6)\n",
    "    plt.plot(result[0][:, index, 2].detach().cpu(), c=\"g\", alpha=0.6)\n",
    "    plt.show()\n",
    "    plt.close()"
   ]
  },
  {
   "cell_type": "code",
   "execution_count": 47,
   "metadata": {
    "collapsed": false,
    "pycharm": {
     "name": "#%%\n"
    }
   },
   "outputs": [
    {
     "data": {
      "image/png": "[encoded data removed]",
      "text/plain": [
       "<Figure size 432x288 with 1 Axes>"
      ]
     },
     "metadata": {
      "needs_background": "light"
     },
     "output_type": "display_data"
    },
    {
     "data": {
      "image/png": "[encoded data removed]",
      "text/plain": [
       "<Figure size 432x288 with 1 Axes>"
      ]
     },
     "metadata": {
      "needs_background": "light"
     },
     "output_type": "display_data"
    }
   ],
   "source": [
    "test = MultyReduceTasks(\n",
    "    tasks=task_dict,\n",
    "    batch_size=batch_size,\n",
    "    delay_between=0,\n",
    "    enable_fixation_delay=True,\n",
    "    mode=\"random\",\n",
    "    task_number=0,\n",
    ")\n",
    "check_mean_fr(Task)"
   ]
  },
  {
   "cell_type": "code",
   "execution_count": 48,
   "metadata": {
    "collapsed": false,
    "pycharm": {
     "is_executing": true,
     "name": "#%%\n"
    }
   },
   "outputs": [
    {
     "name": "stderr",
     "output_type": "stream",
     "text": [
      "100%|██████████| 50/50 [15:01<00:00, 18.03s/it]"
     ]
    },
    {
     "name": "stdout",
     "output_type": "stream",
     "text": [
      "Finished Training\n"
     ]
    },
    {
     "name": "stderr",
     "output_type": "stream",
     "text": [
      "\n"
     ]
    }
   ],
   "source": [
    "from tqdm import tqdm\n",
    "from norse.torch import LIFState\n",
    "\n",
    "path = \"classic\"\n",
    "name = f\"{path}/weights/weights_{neuron_parameters.alpha}_N_{hidden_size}_without_square_classic\"\n",
    "running_loss = 0\n",
    "sigma = 0\n",
    "for i in tqdm(range(number_of_epochs)):\n",
    "    if i == 500:\n",
    "        sigma = 0.2\n",
    "    if i == 1000:\n",
    "        sigma = 0.5\n",
    "    inputs, target_outputs = Task.dataset(number_of_tasks)\n",
    "\n",
    "    inputs[:, :, 1:3] += every_bath_generator(\n",
    "        0, sigma, inputs.shape[0], inputs.shape[1], 2\n",
    "    )\n",
    "    inputs = torch.from_numpy(inputs).type(torch.float).to(device)\n",
    "    target_outputs = torch.from_numpy(target_outputs).type(torch.float).to(device)\n",
    "    loss_mask = torch.zeros_like(target_outputs)\n",
    "    mask_indexes_signes = torch.where(target_outputs[:, :, 0] == 1)\n",
    "    mask_indexes_zeros = torch.where(target_outputs[:, :, 0] == 0)\n",
    "    loss_mask[mask_indexes_signes[0], mask_indexes_signes[1], :] = 0.1\n",
    "    loss_mask[mask_indexes_zeros[0], mask_indexes_zeros[1], :] = 1\n",
    "    optimizer.zero_grad()\n",
    "    init_state = LIFState(\n",
    "        torch.zeros(batch_size, hidden_size).to(device),\n",
    "        torch.rand(batch_size, hidden_size).to(device),\n",
    "        torch.zeros(batch_size, hidden_size).to(device),\n",
    "    )\n",
    "    # forward + backward + optimize\n",
    "    outputs, _, state = model(\n",
    "        inputs,\n",
    "        init_state,\n",
    "    )\n",
    "\n",
    "    loss = criterion(outputs, target_outputs, loss_mask, state)\n",
    "    loss.backward()\n",
    "    optimizer.step()\n",
    "\n",
    "    # print statistics\n",
    "    running_loss = loss.item()\n",
    "    if True:\n",
    "        with open(f\"{path}/log_multy.txt\", \"a\") as f:\n",
    "            f.write(\"epoch: {:d} loss: {:0.5f}\\n\".format(i + 1, running_loss / 10))\n",
    "        running_loss = 0.0\n",
    "        with torch.no_grad():\n",
    "            torch.save(\n",
    "                model.state_dict(),\n",
    "                name + f\"_{i}_\",\n",
    "            )\n",
    "    if True:\n",
    "\n",
    "        result = 0\n",
    "        for j in range(20):\n",
    "            try:\n",
    "                del inputs\n",
    "            except:\n",
    "                pass\n",
    "            try:\n",
    "                del target_outputs\n",
    "            except:\n",
    "                pass\n",
    "            try:\n",
    "                del outputs\n",
    "            except:\n",
    "                pass\n",
    "            torch.cuda.empty_cache()\n",
    "            inputs, target_outputs = Task.dataset(1, delay_between=0)\n",
    "            inputs[:, :, 1:3] += every_bath_generator(\n",
    "                0, 0.01, inputs.shape[0], inputs.shape[1], 2\n",
    "            )\n",
    "            inputs = torch.from_numpy(inputs).type(torch.float).to(device)\n",
    "            target_outputs = (\n",
    "                torch.from_numpy(target_outputs).type(torch.float).to(device)\n",
    "            )\n",
    "            outputs = model(\n",
    "                inputs,\n",
    "                init_state,\n",
    "            )[0]\n",
    "            type_tasks = list(\n",
    "                np.where(inputs[-1, :, 3:].detach().cpu().numpy() == 1)[1]\n",
    "            )\n",
    "            answers = can.run(\n",
    "                target_outputs[50:, :, 0].cpu(),\n",
    "                outputs[50:, :, 0].cpu(),\n",
    "                target_outputs[50:, :, 1:].cpu(),\n",
    "                outputs[50:, :, 1:].cpu(),\n",
    "                type_tasks,\n",
    "            )\n",
    "            result += answers\n",
    "\n",
    "        accuracy = result / batch_size / 20 * 100\n",
    "        with open(f\"{path}/accuracy_multy_classic.txt\", \"a\") as f:\n",
    "            f.write(f\"ecpoch = {i}; correct/all = {accuracy}\\n\")\n",
    "    try:\n",
    "        del inputs\n",
    "    except:\n",
    "        pass\n",
    "    try:\n",
    "        del target_outputs\n",
    "    except:\n",
    "        pass\n",
    "    try:\n",
    "        del outputs\n",
    "        # del states\n",
    "    except:\n",
    "        pass\n",
    "    # if i % 5 == 4:\n",
    "    # check_mean_fr()\n",
    "    torch.cuda.empty_cache()\n",
    "print(\"Finished Training\")"
   ]
  },
  {
   "cell_type": "code",
   "execution_count": null,
   "metadata": {
    "collapsed": false,
    "pycharm": {
     "is_executing": true,
     "name": "#%%\n"
    }
   },
   "outputs": [],
   "source": []
  }
 ],
 "metadata": {
  "kernelspec": {
   "display_name": "Python 3.8.10 ('env': venv)",
   "language": "python",
   "name": "python3"
  },
  "language_info": {
   "codemirror_mode": {
    "name": "ipython",
    "version": 3
   },
   "file_extension": ".py",
   "mimetype": "text/x-python",
   "name": "python",
   "nbconvert_exporter": "python",
   "pygments_lexer": "ipython3",
   "version": "3.8.10"
  },
  "vscode": {
   "interpreter": {
    "hash": "ecb723b2524a9f3887ccca3217e62c365b52cf088a2f4a5b1789489b154b0ecb"
   }
  }
 },
 "nbformat": 4,
 "nbformat_minor": 0
}