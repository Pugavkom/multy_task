{
 "cells": [
  {
   "cell_type": "markdown",
   "source": [
    "# Two task network \n",
    "\n",
    "## Network has some inputs\n",
    "\n",
    "1. The fixation. \n",
    "1. The first context mod. \n",
    "1. The second ontext mod. \n",
    "\n",
    "## Network has five outputs\n",
    "1. The fixation. \n",
    "1. The first output.\n",
    "1. The second output\n",
    "\n",
    "\n",
    "\n",
    "\n",
    "<div>\n",
    "<img src=\"./images/Sheme.png\" width=\"300\"/>\n",
    "</div>\n",
    "\n",
    "> Learning rule: superspike\n",
    "\n",
    "> Neuron type: LifAdex + refrac\n",
    "\n",
    "> Task: romo\n"
   ],
   "metadata": {}
  },
  {
   "cell_type": "code",
   "execution_count": 6,
   "source": [
    "import torch\n",
    "import numpy as np\n",
    "import torch.nn as nn\n",
    "import matplotlib.pyplot as plt  # for analys\n",
    "from cgtasknet.net.lifadexrefrac import SNNlifadexrefrac\n",
    "from cgtasknet.tasks.reduce import RomoTask, RomoTaskParameters\n",
    "from norse.torch.functional.lif_adex_refrac import LIFAdExRefracParameters\n",
    "from norse.torch.functional.lif_adex import LIFAdExParameters\n",
    "\n",
    "# from norse.torch import LIF"
   ],
   "outputs": [],
   "metadata": {}
  },
  {
   "cell_type": "markdown",
   "source": [
    "## Step -1: Create dataset"
   ],
   "metadata": {}
  },
  {
   "cell_type": "code",
   "execution_count": 7,
   "source": [
    "device = torch.device(\"cuda:0\" if torch.cuda.is_available() else \"cpu\")\n",
    "# device = torch.device('cpu')\n",
    "print(f'Device: {(\"gpu (cuda)\" if device.type==\"cuda\" else \"cpu\")}')"
   ],
   "outputs": [
    {
     "name": "stdout",
     "output_type": "stream",
     "text": [
      "Device: gpu (cuda)\n"
     ]
    }
   ],
   "metadata": {}
  },
  {
   "cell_type": "code",
   "execution_count": 8,
   "source": [
    "%matplotlib widget\n",
    "batch_size = 50\n",
    "number_of_tasks = 1\n",
    "task_parameters = RomoTaskParameters(\n",
    "    delay=0.1,\n",
    "    positive_shift_delay_time=1.0,\n",
    "    trial_time=0.1,\n",
    "    positive_shift_trial_time=0.2,\n",
    ")\n",
    "# task_parameters = RomoTaskParameters(delay=0.1, positive_shift_delay_time=.0, trial_time = 0.2, positive_shift_trial_time=.0)\n",
    "Task = RomoTask(\n",
    "    params=task_parameters,\n",
    "    batch_size=batch_size,\n",
    "    uniq_batch=False,\n",
    "    enable_fixation_delay=False,\n",
    ")\n",
    "Task_test = RomoTask(params=task_parameters, batch_size=1)\n",
    "print(\"Task params:\")\n",
    "\n",
    "demonstrate_in, demonstrate_out = Task.dataset(1, delay_between=0)\n",
    "plt.figure()\n",
    "plt.plot(demonstrate_in[:, 0, 0])\n",
    "plt.plot(demonstrate_in[:, 0, 1])\n",
    "\n",
    "plt.show()"
   ],
   "outputs": [
    {
     "name": "stdout",
     "output_type": "stream",
     "text": [
      "Task params:\n"
     ]
    },
    {
     "data": {
      "text/plain": "Canvas(toolbar=Toolbar(toolitems=[('Home', 'Reset original view', 'home', 'home'), ('Back', 'Back to previous …",
      "image/png": "[encoded data removed]",
      "text/html": "\n            <div style=\"display: inline-block;\">\n                <div class=\"jupyter-widgets widget-label\" style=\"text-align: center;\">\n                    Figure\n                </div>\n                <img src='data:image/png;base64,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' width=640.0/>\n            </div>\n        ",
      "application/vnd.jupyter.widget-view+json": {
       "version_major": 2,
       "version_minor": 0,
       "model_id": "b32453c4b9d140aa8026925eed656e64"
      }
     },
     "metadata": {},
     "output_type": "display_data"
    }
   ],
   "metadata": {}
  },
  {
   "cell_type": "markdown",
   "source": [
    "## Step 1.1: Create model"
   ],
   "metadata": {}
  },
  {
   "cell_type": "code",
   "execution_count": 9,
   "source": [
    "feature_size, output_size = Task.feature_and_act_size\n",
    "hidden_size = 400\n",
    "\n",
    "neuron_parameters = LIFAdExRefracParameters(\n",
    "    LIFAdExParameters(v_th=torch.as_tensor(0.65), tau_ada_inv=torch.as_tensor(1)),\n",
    "    rho_reset=torch.as_tensor(0.1),\n",
    "    # rho_reset = torch.as_tensor(5)\n",
    ")\n",
    "model = SNNlifadexrefrac(\n",
    "    feature_size,\n",
    "    hidden_size,\n",
    "    output_size,\n",
    "    neuron_parameters=neuron_parameters,\n",
    "    tau_filter_inv=500,\n",
    ").to(device)\n",
    "# model = torch.nn.DataParallel(model, device_ids=[0]).to(device)"
   ],
   "outputs": [],
   "metadata": {}
  },
  {
   "cell_type": "markdown",
   "source": [
    "## Step 1.2: Save pre-learning weights"
   ],
   "metadata": {}
  },
  {
   "cell_type": "code",
   "execution_count": 10,
   "source": [
    "weights_pre_l = []\n",
    "with torch.no_grad():\n",
    "    for name, param in model.named_parameters():\n",
    "        print(f\"name = {name}\")\n",
    "        if param.requires_grad:\n",
    "            weights_pre_l.append((param).cpu().numpy())"
   ],
   "outputs": [
    {
     "name": "stdout",
     "output_type": "stream",
     "text": [
      "name = adexrefrac.input_weights\n",
      "name = adexrefrac.recurrent_weights\n",
      "name = exp_f.linear.weight\n",
      "name = exp_f.linear.bias\n"
     ]
    }
   ],
   "metadata": {}
  },
  {
   "cell_type": "markdown",
   "source": [
    "## Step 2: loss and creterion "
   ],
   "metadata": {}
  },
  {
   "cell_type": "code",
   "execution_count": 11,
   "source": [
    "learning_rate = 1e-3\n",
    "\n",
    "\n",
    "class RMSELoss(nn.Module):\n",
    "    def __init__(self):\n",
    "        super().__init__()\n",
    "        self.mse = nn.MSELoss()\n",
    "\n",
    "    def forward(self, yhat, y):\n",
    "        return torch.sqrt(self.mse(yhat, y))\n",
    "\n",
    "\n",
    "criterion = nn.MSELoss()\n",
    "optimizer = torch.optim.Adam(model.parameters(), lr=learning_rate)\n",
    "# optimizer = torch.optim.SGD(model.parameters(), lr=learning_rate)"
   ],
   "outputs": [],
   "metadata": {}
  },
  {
   "cell_type": "code",
   "execution_count": 12,
   "source": [
    "name = f\"Train_only_romo_task_reduce_lif_adex_random_delay_long_a{hidden_size}\""
   ],
   "outputs": [],
   "metadata": {}
  },
  {
   "cell_type": "markdown",
   "source": [
    "#Precreate data"
   ],
   "metadata": {}
  },
  {
   "cell_type": "code",
   "execution_count": 13,
   "source": [
    "l_inputs = []\n",
    "l_outputs = []\n",
    "from tqdm import tqdm\n",
    "\n",
    "for i in tqdm(range(1000)):\n",
    "    tmp_inputs, tmp_target_outputs = Task.dataset(number_of_tasks, delay_between=0)\n",
    "    tmp_inputs += np.random.normal(0, 0.01, size=tmp_inputs.shape)\n",
    "    l_inputs.append(tmp_inputs)\n",
    "    l_outputs.append(tmp_target_outputs)"
   ],
   "outputs": [
    {
     "name": "stderr",
     "output_type": "stream",
     "text": [
      "100%|██████████| 1000/1000 [00:09<00:00, 105.80it/s]\n"
     ]
    }
   ],
   "metadata": {}
  },
  {
   "cell_type": "markdown",
   "source": [
    "## Step 3: Train loop"
   ],
   "metadata": {}
  },
  {
   "cell_type": "code",
   "execution_count": 14,
   "source": [
    "from cgtasknet.net.states import LIFAdExRefracInitState\n",
    "from cgtasknet.instruments.instrument_accuracy_network import correct_answer\n",
    "\n",
    "init_state = LIFAdExRefracInitState(batch_size, hidden_size, device=device)\n",
    "\n",
    "#\n",
    "\n",
    "running_loss = 0\n",
    "from tqdm import tqdm\n",
    "\n",
    "for i in tqdm(range(1000)):\n",
    "    inputs = torch.from_numpy(l_inputs[i]).type(torch.float).to(device)\n",
    "    target_outputs = torch.from_numpy(l_outputs[i]).type(torch.float).to(device)\n",
    "    optimizer.zero_grad()\n",
    "\n",
    "    # forward + backward + optimize\n",
    "    outputs, _ = model(inputs)\n",
    "\n",
    "    loss = criterion(outputs, target_outputs)\n",
    "    loss.backward()\n",
    "    optimizer.step()\n",
    "\n",
    "    # print statistics\n",
    "    running_loss += loss.item()\n",
    "    if i % 10 == 9:\n",
    "        with open(\"log.txt\", \"a\") as f:\n",
    "            f.write(\"epoch: {:d} loss: {:0.5f}\\n\".format(i + 1, running_loss / 10))\n",
    "        running_loss = 0.0\n",
    "        with torch.no_grad():\n",
    "            torch.save(\n",
    "                model.state_dict(),\n",
    "                name,\n",
    "            )\n",
    "    if i % 20 == 19:\n",
    "        Task_test = RomoTask(\n",
    "            params=task_parameters,\n",
    "            batch_size=batch_size,\n",
    "            uniq_batch=False,\n",
    "            enable_fixation_delay=False,\n",
    "        )\n",
    "        result = 0\n",
    "        for j in range(10):\n",
    "            inputs, target_outputs = Task_test.dataset(1, delay_between=0)\n",
    "            inputs += np.random.normal(0, 0.01, size=(inputs.shape))\n",
    "            inputs = torch.from_numpy(inputs).type(torch.float).to(device)\n",
    "            target_outputs = (\n",
    "                torch.from_numpy(target_outputs).type(torch.float).to(device)\n",
    "            )\n",
    "            outputs = model(inputs)[0]\n",
    "            answers = correct_answer(\n",
    "                outputs[:, :, 1:], target_outputs[:, :, 1:], target_outputs[:, :, 0]\n",
    "            )\n",
    "            result += torch.sum(answers).item()\n",
    "        accuracy = result / batch_size / 10 * 100\n",
    "        with open(\"accuracy.txt\", \"a\") as f:\n",
    "            f.write(f\"ecpoch = {i}; correct/all = {accuracy}\\n\")\n",
    "print(\"Finished Training\")"
   ],
   "outputs": [
    {
     "name": "stderr",
     "output_type": "stream",
     "text": [
      "  5%|▍         | 46/1000 [05:27<1:53:10,  7.12s/it]\n"
     ]
    },
    {
     "ename": "KeyboardInterrupt",
     "evalue": "",
     "output_type": "error",
     "traceback": [
      "\u001B[1;31m---------------------------------------------------------------------------\u001B[0m",
      "\u001B[1;31mKeyboardInterrupt\u001B[0m                         Traceback (most recent call last)",
      "\u001B[1;32m~\\AppData\\Local\\Temp/ipykernel_37652/3060984030.py\u001B[0m in \u001B[0;36m<module>\u001B[1;34m\u001B[0m\n\u001B[0;32m     15\u001B[0m \u001B[1;33m\u001B[0m\u001B[0m\n\u001B[0;32m     16\u001B[0m     \u001B[1;31m# forward + backward + optimize\u001B[0m\u001B[1;33m\u001B[0m\u001B[1;33m\u001B[0m\u001B[1;33m\u001B[0m\u001B[0m\n\u001B[1;32m---> 17\u001B[1;33m     \u001B[0moutputs\u001B[0m\u001B[1;33m,\u001B[0m \u001B[0m_\u001B[0m \u001B[1;33m=\u001B[0m \u001B[0mmodel\u001B[0m\u001B[1;33m(\u001B[0m\u001B[0minputs\u001B[0m\u001B[1;33m)\u001B[0m\u001B[1;33m\u001B[0m\u001B[1;33m\u001B[0m\u001B[0m\n\u001B[0m\u001B[0;32m     18\u001B[0m \u001B[1;33m\u001B[0m\u001B[0m\n\u001B[0;32m     19\u001B[0m     \u001B[0mloss\u001B[0m \u001B[1;33m=\u001B[0m \u001B[0mcriterion\u001B[0m\u001B[1;33m(\u001B[0m\u001B[0moutputs\u001B[0m\u001B[1;33m,\u001B[0m \u001B[0mtarget_outputs\u001B[0m\u001B[1;33m)\u001B[0m\u001B[1;33m\u001B[0m\u001B[1;33m\u001B[0m\u001B[0m\n",
      "\u001B[1;32ma:\\src\\multy_task\\env\\lib\\site-packages\\torch\\nn\\modules\\module.py\u001B[0m in \u001B[0;36m_call_impl\u001B[1;34m(self, *input, **kwargs)\u001B[0m\n\u001B[0;32m   1100\u001B[0m         if not (self._backward_hooks or self._forward_hooks or self._forward_pre_hooks or _global_backward_hooks\n\u001B[0;32m   1101\u001B[0m                 or _global_forward_hooks or _global_forward_pre_hooks):\n\u001B[1;32m-> 1102\u001B[1;33m             \u001B[1;32mreturn\u001B[0m \u001B[0mforward_call\u001B[0m\u001B[1;33m(\u001B[0m\u001B[1;33m*\u001B[0m\u001B[0minput\u001B[0m\u001B[1;33m,\u001B[0m \u001B[1;33m**\u001B[0m\u001B[0mkwargs\u001B[0m\u001B[1;33m)\u001B[0m\u001B[1;33m\u001B[0m\u001B[1;33m\u001B[0m\u001B[0m\n\u001B[0m\u001B[0;32m   1103\u001B[0m         \u001B[1;31m# Do not call functions when jit is used\u001B[0m\u001B[1;33m\u001B[0m\u001B[1;33m\u001B[0m\u001B[1;33m\u001B[0m\u001B[0m\n\u001B[0;32m   1104\u001B[0m         \u001B[0mfull_backward_hooks\u001B[0m\u001B[1;33m,\u001B[0m \u001B[0mnon_full_backward_hooks\u001B[0m \u001B[1;33m=\u001B[0m \u001B[1;33m[\u001B[0m\u001B[1;33m]\u001B[0m\u001B[1;33m,\u001B[0m \u001B[1;33m[\u001B[0m\u001B[1;33m]\u001B[0m\u001B[1;33m\u001B[0m\u001B[1;33m\u001B[0m\u001B[0m\n",
      "\u001B[1;32ma:\\src\\multy_task\\env\\lib\\site-packages\\cgtasknet-0.0.1-py3.8.egg\\cgtasknet\\net\\lifadexrefrac.py\u001B[0m in \u001B[0;36mforward\u001B[1;34m(self, x, state)\u001B[0m\n\u001B[0;32m     36\u001B[0m     ) -> Tuple[torch.tensor, LIFAdExRefracState]:\n\u001B[0;32m     37\u001B[0m \u001B[1;33m\u001B[0m\u001B[0m\n\u001B[1;32m---> 38\u001B[1;33m         \u001B[0moutputs\u001B[0m\u001B[1;33m,\u001B[0m \u001B[0mstates\u001B[0m \u001B[1;33m=\u001B[0m \u001B[0msave_states\u001B[0m\u001B[1;33m(\u001B[0m\u001B[0mx\u001B[0m\u001B[1;33m,\u001B[0m \u001B[0mself\u001B[0m\u001B[1;33m.\u001B[0m\u001B[0msave_states\u001B[0m\u001B[1;33m,\u001B[0m \u001B[0mself\u001B[0m\u001B[1;33m.\u001B[0m\u001B[0madexrefrac\u001B[0m\u001B[1;33m,\u001B[0m \u001B[0mstate\u001B[0m\u001B[1;33m)\u001B[0m\u001B[1;33m\u001B[0m\u001B[1;33m\u001B[0m\u001B[0m\n\u001B[0m\u001B[0;32m     39\u001B[0m \u001B[1;33m\u001B[0m\u001B[0m\n\u001B[0;32m     40\u001B[0m         \u001B[0moutputs\u001B[0m \u001B[1;33m=\u001B[0m \u001B[0mself\u001B[0m\u001B[1;33m.\u001B[0m\u001B[0mexp_f\u001B[0m\u001B[1;33m(\u001B[0m\u001B[0moutputs\u001B[0m\u001B[1;33m)\u001B[0m\u001B[1;33m\u001B[0m\u001B[1;33m\u001B[0m\u001B[0m\n",
      "\u001B[1;32ma:\\src\\multy_task\\env\\lib\\site-packages\\cgtasknet-0.0.1-py3.8.egg\\cgtasknet\\net\\save_states.py\u001B[0m in \u001B[0;36msave_states\u001B[1;34m(x, save_states, layer, state)\u001B[0m\n\u001B[0;32m     14\u001B[0m         \u001B[0moutputs\u001B[0m \u001B[1;33m=\u001B[0m \u001B[0mtorch\u001B[0m\u001B[1;33m.\u001B[0m\u001B[0mstack\u001B[0m\u001B[1;33m(\u001B[0m\u001B[0moutputs\u001B[0m\u001B[1;33m)\u001B[0m\u001B[1;33m\u001B[0m\u001B[1;33m\u001B[0m\u001B[0m\n\u001B[0;32m     15\u001B[0m     \u001B[1;32melse\u001B[0m\u001B[1;33m:\u001B[0m\u001B[1;33m\u001B[0m\u001B[1;33m\u001B[0m\u001B[0m\n\u001B[1;32m---> 16\u001B[1;33m         \u001B[0moutputs\u001B[0m\u001B[1;33m,\u001B[0m \u001B[0mstates\u001B[0m \u001B[1;33m=\u001B[0m \u001B[0mlayer\u001B[0m\u001B[1;33m(\u001B[0m\u001B[0mx\u001B[0m\u001B[1;33m,\u001B[0m \u001B[0mstate\u001B[0m\u001B[1;33m)\u001B[0m\u001B[1;33m\u001B[0m\u001B[1;33m\u001B[0m\u001B[0m\n\u001B[0m\u001B[0;32m     17\u001B[0m     \u001B[1;32mreturn\u001B[0m \u001B[0moutputs\u001B[0m\u001B[1;33m,\u001B[0m \u001B[0mstates\u001B[0m\u001B[1;33m\u001B[0m\u001B[1;33m\u001B[0m\u001B[0m\n",
      "\u001B[1;32ma:\\src\\multy_task\\env\\lib\\site-packages\\torch\\nn\\modules\\module.py\u001B[0m in \u001B[0;36m_call_impl\u001B[1;34m(self, *input, **kwargs)\u001B[0m\n\u001B[0;32m   1100\u001B[0m         if not (self._backward_hooks or self._forward_hooks or self._forward_pre_hooks or _global_backward_hooks\n\u001B[0;32m   1101\u001B[0m                 or _global_forward_hooks or _global_forward_pre_hooks):\n\u001B[1;32m-> 1102\u001B[1;33m             \u001B[1;32mreturn\u001B[0m \u001B[0mforward_call\u001B[0m\u001B[1;33m(\u001B[0m\u001B[1;33m*\u001B[0m\u001B[0minput\u001B[0m\u001B[1;33m,\u001B[0m \u001B[1;33m**\u001B[0m\u001B[0mkwargs\u001B[0m\u001B[1;33m)\u001B[0m\u001B[1;33m\u001B[0m\u001B[1;33m\u001B[0m\u001B[0m\n\u001B[0m\u001B[0;32m   1103\u001B[0m         \u001B[1;31m# Do not call functions when jit is used\u001B[0m\u001B[1;33m\u001B[0m\u001B[1;33m\u001B[0m\u001B[1;33m\u001B[0m\u001B[0m\n\u001B[0;32m   1104\u001B[0m         \u001B[0mfull_backward_hooks\u001B[0m\u001B[1;33m,\u001B[0m \u001B[0mnon_full_backward_hooks\u001B[0m \u001B[1;33m=\u001B[0m \u001B[1;33m[\u001B[0m\u001B[1;33m]\u001B[0m\u001B[1;33m,\u001B[0m \u001B[1;33m[\u001B[0m\u001B[1;33m]\u001B[0m\u001B[1;33m\u001B[0m\u001B[1;33m\u001B[0m\u001B[0m\n",
      "\u001B[1;32ma:\\src\\multy_task\\env\\lib\\site-packages\\norse-0.0.7.post1-py3.8-win-amd64.egg\\norse\\torch\\module\\snn.py\u001B[0m in \u001B[0;36mforward\u001B[1;34m(self, input_tensor, state)\u001B[0m\n\u001B[0;32m    315\u001B[0m \u001B[1;33m\u001B[0m\u001B[0m\n\u001B[0;32m    316\u001B[0m         \u001B[1;32mfor\u001B[0m \u001B[0mts\u001B[0m \u001B[1;32min\u001B[0m \u001B[0mrange\u001B[0m\u001B[1;33m(\u001B[0m\u001B[0mT\u001B[0m\u001B[1;33m)\u001B[0m\u001B[1;33m:\u001B[0m\u001B[1;33m\u001B[0m\u001B[1;33m\u001B[0m\u001B[0m\n\u001B[1;32m--> 317\u001B[1;33m             out, state = activation(\n\u001B[0m\u001B[0;32m    318\u001B[0m                 \u001B[0minput_tensor\u001B[0m\u001B[1;33m[\u001B[0m\u001B[0mts\u001B[0m\u001B[1;33m]\u001B[0m\u001B[1;33m,\u001B[0m\u001B[1;33m\u001B[0m\u001B[1;33m\u001B[0m\u001B[0m\n\u001B[0;32m    319\u001B[0m                 \u001B[0mstate\u001B[0m\u001B[1;33m,\u001B[0m\u001B[1;33m\u001B[0m\u001B[1;33m\u001B[0m\u001B[0m\n",
      "\u001B[1;32ma:\\src\\multy_task\\env\\lib\\site-packages\\norse-0.0.7.post1-py3.8-win-amd64.egg\\norse\\torch\\functional\\lif_adex_refrac.py\u001B[0m in \u001B[0;36mlif_adex_refrac_step\u001B[1;34m(input_tensor, state, input_weights, recurrent_weights, p, dt)\u001B[0m\n\u001B[0;32m    104\u001B[0m         \u001B[0mdt\u001B[0m \u001B[1;33m(\u001B[0m\u001B[0mfloat\u001B[0m\u001B[1;33m)\u001B[0m\u001B[1;33m:\u001B[0m \u001B[0mIntegration\u001B[0m \u001B[0mtimestep\u001B[0m \u001B[0mto\u001B[0m \u001B[0muse\u001B[0m\u001B[1;33m\u001B[0m\u001B[1;33m\u001B[0m\u001B[0m\n\u001B[0;32m    105\u001B[0m     \"\"\"\n\u001B[1;32m--> 106\u001B[1;33m     z_new, s_new = lif_adex_step(\n\u001B[0m\u001B[0;32m    107\u001B[0m         \u001B[0minput_tensor\u001B[0m\u001B[1;33m,\u001B[0m \u001B[0mstate\u001B[0m\u001B[1;33m.\u001B[0m\u001B[0mlif_adex\u001B[0m\u001B[1;33m,\u001B[0m \u001B[0minput_weights\u001B[0m\u001B[1;33m,\u001B[0m \u001B[0mrecurrent_weights\u001B[0m\u001B[1;33m,\u001B[0m \u001B[0mp\u001B[0m\u001B[1;33m.\u001B[0m\u001B[0mlif_adex\u001B[0m\u001B[1;33m,\u001B[0m \u001B[0mdt\u001B[0m\u001B[1;33m\u001B[0m\u001B[1;33m\u001B[0m\u001B[0m\n\u001B[0;32m    108\u001B[0m     )\n",
      "\u001B[1;32ma:\\src\\multy_task\\env\\lib\\site-packages\\norse-0.0.7.post1-py3.8-win-amd64.egg\\norse\\torch\\functional\\lif_adex.py\u001B[0m in \u001B[0;36mlif_adex_step\u001B[1;34m(input_tensor, state, input_weights, recurrent_weights, p, dt)\u001B[0m\n\u001B[0;32m    135\u001B[0m     \u001B[0mz_new\u001B[0m \u001B[1;33m=\u001B[0m \u001B[0mthreshold\u001B[0m\u001B[1;33m(\u001B[0m\u001B[0mv_decayed\u001B[0m \u001B[1;33m-\u001B[0m \u001B[0mp\u001B[0m\u001B[1;33m.\u001B[0m\u001B[0mv_th\u001B[0m\u001B[1;33m,\u001B[0m \u001B[0mp\u001B[0m\u001B[1;33m.\u001B[0m\u001B[0mmethod\u001B[0m\u001B[1;33m,\u001B[0m \u001B[0mp\u001B[0m\u001B[1;33m.\u001B[0m\u001B[0malpha\u001B[0m\u001B[1;33m)\u001B[0m\u001B[1;33m\u001B[0m\u001B[1;33m\u001B[0m\u001B[0m\n\u001B[0;32m    136\u001B[0m     \u001B[1;31m# compute reset\u001B[0m\u001B[1;33m\u001B[0m\u001B[1;33m\u001B[0m\u001B[1;33m\u001B[0m\u001B[0m\n\u001B[1;32m--> 137\u001B[1;33m     \u001B[0mv_new\u001B[0m \u001B[1;33m=\u001B[0m \u001B[1;33m(\u001B[0m\u001B[1;36m1\u001B[0m \u001B[1;33m-\u001B[0m \u001B[0mz_new\u001B[0m\u001B[1;33m)\u001B[0m \u001B[1;33m*\u001B[0m \u001B[0mv_decayed\u001B[0m \u001B[1;33m+\u001B[0m \u001B[0mz_new\u001B[0m \u001B[1;33m*\u001B[0m \u001B[0mp\u001B[0m\u001B[1;33m.\u001B[0m\u001B[0mv_reset\u001B[0m\u001B[1;33m\u001B[0m\u001B[1;33m\u001B[0m\u001B[0m\n\u001B[0m\u001B[0;32m    138\u001B[0m     \u001B[1;31m# compute current jumps\u001B[0m\u001B[1;33m\u001B[0m\u001B[1;33m\u001B[0m\u001B[1;33m\u001B[0m\u001B[0m\n\u001B[0;32m    139\u001B[0m     i_new = (\n",
      "\u001B[1;31mKeyboardInterrupt\u001B[0m: "
     ]
    }
   ],
   "metadata": {}
  },
  {
   "cell_type": "code",
   "execution_count": null,
   "outputs": [],
   "source": [
    "from tqdm import tqdm\n",
    "\n",
    "task_parameters_test = RomoTaskParameters(\n",
    "    delay=0.1,\n",
    "    positive_shift_delay_time=0.2,\n",
    "    trial_time=0.1,\n",
    "    positive_shift_trial_time=0.2,\n",
    ")\n",
    "Task_test = RomoTask(params=task_parameters_test, batch_size=batch_size)\n",
    "result = 0\n",
    "for i in tqdm(range(10)):\n",
    "    inputs, target_outputs = Task_test.dataset(1, delay_between=0)\n",
    "    inputs += np.random.normal(0, 0.01, size=inputs.shape)\n",
    "    inputs = torch.from_numpy(inputs).type(torch.float).to(device)\n",
    "    target_outputs = torch.from_numpy(target_outputs).type(torch.float).to(device)\n",
    "    outputs = model(inputs)[0]\n",
    "    answers = correct_answer(\n",
    "        outputs[:, :, 1:], target_outputs[:, :, 1:], target_outputs[:, :, 0]\n",
    "    )\n",
    "    result += torch.sum(answers).item()\n",
    "result / batch_size / 10 * 100"
   ],
   "metadata": {
    "collapsed": false,
    "pycharm": {
     "name": "#%%\n"
    }
   }
  },
  {
   "cell_type": "code",
   "execution_count": null,
   "source": [
    "plt.figure()\n",
    "plt.plot(outputs[:, 0, 1].detach().cpu())\n",
    "plt.plot(outputs[:, 0, 2].detach().cpu())\n",
    "plt.show()\n",
    "plt.figure()\n",
    "# plt.plot(inputs[:, 0, 0].detach().cpu())\n",
    "plt.plot(inputs[:, 0, 1].detach().cpu())"
   ],
   "outputs": [],
   "metadata": {}
  },
  {
   "cell_type": "code",
   "execution_count": null,
   "source": [],
   "outputs": [],
   "metadata": {}
  },
  {
   "cell_type": "code",
   "execution_count": null,
   "source": [
    "torch.save(model.state_dict(), name)"
   ],
   "outputs": [],
   "metadata": {}
  },
  {
   "cell_type": "code",
   "execution_count": null,
   "source": [
    "if False:\n",
    "    model.load_state_dict(torch.load(\"Only_dm_lif_net\"))"
   ],
   "outputs": [],
   "metadata": {}
  },
  {
   "cell_type": "code",
   "execution_count": null,
   "source": [
    "dmparamsv = dmparams1\n",
    "Taskplot = RomoTask(params=dmparamsv, batch_size=1, delay_beetween=100)\n",
    "inputs, target_outputs = Taskplot.dataset(10)\n",
    "inputs += np.random.normal(0, 0.01, size=(inputs.shape))\n",
    "inputs = torch.from_numpy(inputs).type(torch.float).to(device)\n",
    "target_outputs = torch.from_numpy(target_outputs).type(torch.float).to(device)\n",
    "outputs, states = model(inputs)"
   ],
   "outputs": [],
   "metadata": {}
  },
  {
   "cell_type": "code",
   "execution_count": null,
   "source": [
    "%matplotlib inline\n",
    "for i in range(inputs.shape[2]):\n",
    "    plt.plot(inputs[:, 0, i].detach().cpu().numpy(), label=fr\"$u_{i + 1}$\")\n",
    "    plt.legend()\n",
    "    plt.show()\n",
    "    plt.close()\n",
    "for i in range(outputs.shape[2]):\n",
    "    plt.plot(outputs[:, 0, i].detach().cpu().numpy(), label=fr\"$u_{i + 1}$\")\n",
    "    plt.plot(\n",
    "        target_outputs[:, 0, i].detach().cpu().numpy(), label=fr\"$u^{{target}}_{i + 1}$\"\n",
    "    )\n",
    "    plt.legend()\n",
    "    plt.show()\n",
    "    plt.close()\n",
    "\n",
    "plt.plot(\n",
    "    outputs[:, 0, -2].detach().cpu().numpy() - outputs[:, 0, -1].detach().cpu().numpy(),\n",
    "    label=fr\"$u_2 - u_3$\",\n",
    ")\n",
    "plt.plot(target_outputs[:, 0, -2].detach().cpu().numpy(), label=fr\"$u^{{target}}_{2}$\")\n",
    "plt.plot(target_outputs[:, 0, -1].detach().cpu().numpy(), label=fr\"$u^{{target}}_{3}$\")\n",
    "plt.legend()\n",
    "plt.show()\n",
    "plt.close()"
   ],
   "outputs": [],
   "metadata": {}
  },
  {
   "cell_type": "code",
   "execution_count": null,
   "source": [
    "%matplotlib inline\n",
    "for i in range(inputs.shape[2]):\n",
    "    plt.plot(inputs[:, 0, i].detach().cpu().numpy(), label=fr\"$u_{i + 1}$\")\n",
    "\n",
    "plt.legend()\n",
    "plt.show()\n",
    "plt.close()\n",
    "plt.plot(target_outputs[:, 0, 1].detach().cpu().numpy(), label=fr\"$y_{2}$\")\n",
    "plt.plot(target_outputs[:, 0, 2].detach().cpu().numpy(), label=fr\"$y_{3}$\")"
   ],
   "outputs": [],
   "metadata": {}
  },
  {
   "cell_type": "code",
   "execution_count": null,
   "source": [
    "weights_post_l = []\n",
    "with torch.no_grad():\n",
    "    for name, param in model.named_parameters():\n",
    "        if param.requires_grad:\n",
    "            weights_post_l.append((param).cpu().numpy())"
   ],
   "outputs": [],
   "metadata": {}
  },
  {
   "cell_type": "code",
   "execution_count": null,
   "source": [
    "%matplotlib inline\n",
    "for i in range(len(weights_pre_l) - 1):\n",
    "    plt.imshow((weights_pre_l[i]), aspect=\"auto\", cmap=\"jet\")\n",
    "    plt.colorbar()\n",
    "    plt.show()"
   ],
   "outputs": [],
   "metadata": {}
  },
  {
   "cell_type": "code",
   "execution_count": null,
   "source": [
    "%matplotlib inline\n",
    "for i in range(len(weights_pre_l) - 1):\n",
    "    plt.imshow(\n",
    "        (weights_post_l[i]),\n",
    "        aspect=\"auto\",\n",
    "        cmap=\"jet\",\n",
    "    )\n",
    "    plt.colorbar()\n",
    "    plt.show()"
   ],
   "outputs": [],
   "metadata": {}
  },
  {
   "cell_type": "code",
   "execution_count": null,
   "source": [
    "%matplotlib inline\n",
    "for i in range(len(weights_pre_l) - 1):\n",
    "    plt.imshow(\n",
    "        (weights_post_l[i] - weights_pre_l[i]),\n",
    "        aspect=\"auto\",\n",
    "        cmap=\"jet\",\n",
    "        vmin=-0.2,\n",
    "        vmax=0.4,\n",
    "    )\n",
    "    plt.colorbar()\n",
    "    plt.show()"
   ],
   "outputs": [],
   "metadata": {}
  },
  {
   "cell_type": "code",
   "execution_count": null,
   "source": [],
   "outputs": [],
   "metadata": {}
  }
 ],
 "metadata": {
  "interpreter": {
   "hash": "305609147ade9861f62c37f84739a2a79a1a74536f27d129a7c8364bcef8fb28"
  },
  "kernelspec": {
   "name": "python3",
   "display_name": "Python 3.7.9 64-bit ('env': venv)"
  },
  "language_info": {
   "name": "python",
   "version": "3.7.11",
   "mimetype": "text/x-python",
   "codemirror_mode": {
    "name": "ipython",
    "version": 3
   },
   "pygments_lexer": "ipython3",
   "nbconvert_exporter": "python",
   "file_extension": ".py"
  },
  "orig_nbformat": 4
 },
 "nbformat": 4,
 "nbformat_minor": 2
}