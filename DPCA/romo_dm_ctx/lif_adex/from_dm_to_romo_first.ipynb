{
 "cells": [
  {
   "cell_type": "code",
   "execution_count": null,
   "metadata": {},
   "outputs": [],
   "source": []
  },
  {
   "cell_type": "markdown",
   "metadata": {},
   "source": []
  },
  {
   "cell_type": "markdown",
   "source": [
    "```\n",
    "from dPCA import dPCA\n",
    "По обученной сети создается тензор\n",
    "actR = размером(num_trial, hidden_size, S, T)\n",
    "num_trial - число испытаний для каждого значения стимула\n",
    "hidden_size - число нейронов сети\n",
    "S - число стимулов (берем 10)\n",
    "T - число временных отсчетов в одном испытании\n",
    "\n",
    "from dPCA import dPCA\n",
    "\n",
    "R = mean(actR,0)\n",
    "R -= mean(R.reshape((hidden_size,-1)),1)[:,None,None]\n",
    "dpca = dPCA.dPCA(labels='st',regularizer='auto')\n",
    "dpca.protect = ['t']\n",
    "Z = dpca.fit_transform(R, actR)\n",
    "\n",
    "time = arange(T)\n",
    "fig, (ax1, ax2, ax3) = plt.subplots(1, 3)\n",
    "for s in range(S) :\n",
    "    ax1.plot(time, Z['t'][0,s])\n",
    "for s in range(S) :\n",
    "    ax2.plot(time, Z['s'][0,s])\n",
    "for s in range(S) :\n",
    "    ax3.plot(time, Z['st'][0,s])\n",
    "    ```"
   ],
   "metadata": {
    "collapsed": false,
    "pycharm": {
     "name": "#%% md\n"
    }
   },
   "outputs": [],
   "execution_count": null
  },
  {
   "cell_type": "code",
   "source": [
    "import matplotlib.pyplot as plt\n",
    "import numpy as np\n",
    "import torch\n",
    "import torch.nn as nn\n",
    "from cgtasknet.net.lifadex import SNNlifadex\n",
    "from cgtasknet.tasks.reduce import (\n",
    "    CtxDMTaskParameters,\n",
    "    DMTaskParameters,\n",
    "    DMTaskRandomModParameters,\n",
    "    MultyReduceTasks,\n",
    "    RomoTaskParameters,\n",
    "    RomoTaskRandomModParameters,\n",
    ")\n",
    "from norse.torch.functional.lif_adex import LIFAdExParameters\n",
    "from tqdm import tqdm\n",
    "import matplotlib.pyplot as plt\n",
    "import numpy as np\n",
    "import torch\n",
    "from tqdm import tqdm\n",
    "\n",
    "from dPCA import dPCA\n",
    "from cgtasknet.net.states import LIFAdExRefracInitState\n",
    "from cgtasknet.net.lifadex import SNNlifadex\n",
    "\n",
    "from norse.torch.functional.lif_adex import LIFAdExParameters\n",
    "\n",
    "from cgtasknet.tasks.reduce import (\n",
    "    DMTaskParameters,\n",
    "    DMTask,\n",
    "    RomoTaskParameters,\n",
    "    RomoTask,\n",
    ")"
   ],
   "metadata": {
    "collapsed": false,
    "pycharm": {
     "name": "#%%\n"
    }
   },
   "execution_count": 1,
   "outputs": []
  },
  {
   "cell_type": "code",
   "execution_count": 45,
   "outputs": [
    {
     "name": "stdout",
     "output_type": "stream",
     "text": [
      "device=device(type='cpu')\n"
     ]
    }
   ],
   "source": [
    "device = torch.device(\"cuda:0\" if torch.cuda.is_available() else \"cpu\")\n",
    "device = torch.device(\"cpu\")\n",
    "print(f\"{device=}\")"
   ],
   "metadata": {
    "collapsed": false,
    "pycharm": {
     "name": "#%%\n"
    }
   }
  },
  {
   "cell_type": "code",
   "execution_count": 46,
   "outputs": [],
   "source": [
    "import os\n",
    "\n",
    "\n",
    "def plot_results(inputs, target_outputs, outputs):\n",
    "    if isinstance(inputs, torch.Tensor) and isinstance(target_outputs, torch.Tensor):\n",
    "        inputs, t_outputs = (\n",
    "            inputs.detach().cpu().numpy(),\n",
    "            target_outputs.detach().cpu().numpy(),\n",
    "        )\n",
    "    for bath in range(min(batch_size, 20)):\n",
    "        fig = plt.figure(figsize=(15, 3))\n",
    "        ax1 = fig.add_subplot(141)\n",
    "        plt.title(\"Inputs\")\n",
    "        plt.xlabel(\"$time, ms$\")\n",
    "        plt.ylabel(\"$Magnitude$\")\n",
    "        for i in range(3):\n",
    "            plt.plot(inputs[:, bath, i].T, label=rf\"$in_{i + 1}$\")\n",
    "        plt.legend()\n",
    "        plt.tight_layout()\n",
    "\n",
    "        ax2 = fig.add_subplot(142)\n",
    "        plt.title(\"Task code (context)\")\n",
    "        plt.xticks(np.arange(1, len(tasks) + 1), sorted(tasks), rotation=90)\n",
    "        plt.yticks([])\n",
    "        for i in range(3, inputs.shape[-1]):\n",
    "            plt.plot([i - 2] * 2, [0, inputs[0, bath, i]])\n",
    "        plt.tight_layout()\n",
    "\n",
    "        ax3 = fig.add_subplot(143)\n",
    "        plt.title(\"Target output\")\n",
    "        plt.xlabel(\"$time, ms$\")\n",
    "        for i in range(t_outputs.shape[-1]):\n",
    "            plt.plot(t_outputs[:, bath, i], label=rf\"$out_{i + 1}$\")\n",
    "        plt.legend()\n",
    "        plt.tight_layout()\n",
    "\n",
    "        ax4 = fig.add_subplot(144)\n",
    "        plt.title(\"Real output\")\n",
    "        plt.xlabel(\"$time, ms$\")\n",
    "        for i in range(outputs.shape[-1]):\n",
    "            plt.plot(\n",
    "                outputs.detach().cpu().numpy()[:, bath, i], label=rf\"$out_{i + 1}$\"\n",
    "            )\n",
    "        plt.legend()\n",
    "        plt.tight_layout()\n",
    "        if not os.path.exists(\"figures\"):\n",
    "            os.mkdir(\"figures\")\n",
    "        # plt.savefig(f\"figures{os.sep}network_outputs_{name}_batch_{bath}.pdf\")\n",
    "        plt.show()\n",
    "        plt.close()"
   ],
   "metadata": {
    "collapsed": false,
    "pycharm": {
     "name": "#%%\n"
    }
   }
  },
  {
   "cell_type": "code",
   "execution_count": 47,
   "outputs": [],
   "source": [
    "batch_size = 100\n",
    "number_of_epochs = 2000\n",
    "number_of_tasks = 1\n",
    "romo_parameters = RomoTaskRandomModParameters(\n",
    "    romo=RomoTaskParameters(\n",
    "        delay=0.1,\n",
    "        positive_shift_delay_time=1.4,\n",
    "        trial_time=0.1,\n",
    "        positive_shift_trial_time=0.2,\n",
    "    ),\n",
    ")\n",
    "dm_parameters = DMTaskRandomModParameters(\n",
    "    dm=DMTaskParameters(trial_time=0.1, positive_shift_trial_time=0.8)\n",
    ")\n",
    "ctx_parameters = CtxDMTaskParameters(dm=dm_parameters.dm)"
   ],
   "metadata": {
    "collapsed": false,
    "pycharm": {
     "name": "#%%\n"
    }
   }
  },
  {
   "cell_type": "markdown",
   "source": [
    "# Определяем датасет\n",
    "Датасет будет состоять из трех типов задач:\n",
    "- DM задача;\n",
    "- Romo задача;\n",
    "- CtxDM задача.\n",
    "_Параметры для последней задачи аналогичны DM задаче_\n",
    "***\n",
    "## Параметры датасета:"
   ],
   "metadata": {
    "collapsed": false
   }
  },
  {
   "cell_type": "code",
   "execution_count": 48,
   "outputs": [],
   "source": [
    "batch_size = 1\n",
    "\n",
    "number_of_tasks = 1\n",
    "romo_parameters = RomoTaskRandomModParameters(\n",
    "    romo=RomoTaskParameters(\n",
    "        delay=0.1,\n",
    "        positive_shift_delay_time=1.4,\n",
    "        trial_time=0.1,\n",
    "        positive_shift_trial_time=0.2,\n",
    "        value=(0, 0),\n",
    "    ),\n",
    ")\n",
    "dm_parameters = DMTaskRandomModParameters(\n",
    "    dm=DMTaskParameters(trial_time=0.1, positive_shift_trial_time=0.8, value=0)\n",
    ")\n",
    "ctx_parameters = CtxDMTaskParameters(dm=dm_parameters.dm, value=(0, 0), context=1)"
   ],
   "metadata": {
    "collapsed": false,
    "pycharm": {
     "name": "#%%\n"
    }
   }
  },
  {
   "cell_type": "markdown",
   "source": [
    "## Датасет"
   ],
   "metadata": {
    "collapsed": false
   }
  },
  {
   "cell_type": "code",
   "execution_count": 58,
   "outputs": [],
   "source": [
    "tasks = [\"RomoTask1\", \"RomoTask2\", \"DMTask1\", \"DMTask2\", \"CtxDMTask1\", \"CtxDMTask2\"]\n",
    "\n",
    "\n",
    "def generate_task(romo_parameters, dm_parameters, ctx_parameters, number_of_tasks):\n",
    "    tasks = [\"RomoTask1\", \"RomoTask2\", \"DMTask1\", \"DMTask2\", \"CtxDMTask1\", \"CtxDMTask2\"]\n",
    "    task_dict = {\n",
    "        tasks[0]: romo_parameters,\n",
    "        tasks[1]: romo_parameters,\n",
    "        tasks[2]: dm_parameters,\n",
    "        tasks[3]: dm_parameters,\n",
    "        tasks[4]: ctx_parameters,\n",
    "        tasks[5]: ctx_parameters,\n",
    "    }\n",
    "    Task = MultyReduceTasks(\n",
    "        tasks=task_dict,\n",
    "        batch_size=batch_size,\n",
    "        delay_between=0,\n",
    "        enable_fixation_delay=True,\n",
    "        mode=\"value\",\n",
    "        number_of_tasks=number_of_tasks,\n",
    "    )\n",
    "    return Task"
   ],
   "metadata": {
    "collapsed": false,
    "pycharm": {
     "name": "#%%\n"
    }
   }
  },
  {
   "cell_type": "code",
   "execution_count": 55,
   "outputs": [
    {
     "data": {
      "text/plain": "<Figure size 1080x216 with 3 Axes>",
      "image/png": "[encoded data removed]"
     },
     "metadata": {
      "needs_background": "light"
     },
     "output_type": "display_data"
    },
    {
     "data": {
      "text/plain": "<Figure size 1080x216 with 3 Axes>",
      "image/png": "[encoded data removed]"
     },
     "metadata": {
      "needs_background": "light"
     },
     "output_type": "display_data"
    },
    {
     "data": {
      "text/plain": "<Figure size 1080x216 with 3 Axes>",
      "image/png": "[encoded data removed]"
     },
     "metadata": {
      "needs_background": "light"
     },
     "output_type": "display_data"
    },
    {
     "data": {
      "text/plain": "<Figure size 1080x216 with 3 Axes>",
      "image/png": "[encoded data removed]"
     },
     "metadata": {
      "needs_background": "light"
     },
     "output_type": "display_data"
    },
    {
     "data": {
      "text/plain": "<Figure size 1080x216 with 3 Axes>",
      "image/png": "[encoded data removed]"
     },
     "metadata": {
      "needs_background": "light"
     },
     "output_type": "display_data"
    },
    {
     "data": {
      "text/plain": "<Figure size 1080x216 with 3 Axes>",
      "image/png": "[encoded data removed]"
     },
     "metadata": {
      "needs_background": "light"
     },
     "output_type": "display_data"
    }
   ],
   "source": [
    "Task = generate_task(romo_parameters, dm_parameters, ctx_parameters)\n",
    "for task_number in range(6):\n",
    "    Task.task_number = task_number\n",
    "    inputs, t_outputs = Task.dataset(n_trials=1)\n",
    "\n",
    "    for bath in range(min(batch_size, 10)):\n",
    "        fig = plt.figure(figsize=(15, 3))\n",
    "        ax1 = fig.add_subplot(131)\n",
    "        plt.title(\"Inputs\")\n",
    "        plt.xlabel(\"$time, ms$\")\n",
    "        plt.ylabel(\"$Magnitude$\")\n",
    "        for i in range(3):\n",
    "            plt.plot(inputs[:, bath, i], label=rf\"$in_{i + 1}$\")\n",
    "        plt.legend()\n",
    "        # plt.tight_layout()\n",
    "\n",
    "        ax2 = fig.add_subplot(132)\n",
    "        plt.title(\"Task code (context)\")\n",
    "        plt.xticks(np.arange(1, len(tasks) + 1), sorted(tasks), rotation=90)\n",
    "        plt.yticks([])\n",
    "        for i in range(3, inputs.shape[-1]):\n",
    "            plt.plot([i - 2] * 2, [0, inputs[0, bath, i]])\n",
    "        # plt.tight_layout()\n",
    "\n",
    "        ax3 = fig.add_subplot(133)\n",
    "        plt.title(\"Target output\")\n",
    "        plt.xlabel(\"$time, ms$\")\n",
    "        for i in range(t_outputs.shape[-1]):\n",
    "            plt.plot(t_outputs[:, bath, i], label=rf\"$out_{i + 1}$\")\n",
    "        plt.legend()\n",
    "        # plt.tight_layout()\n",
    "    plt.show()\n",
    "    plt.close()"
   ],
   "metadata": {
    "collapsed": false,
    "pycharm": {
     "name": "#%%\n"
    }
   }
  },
  {
   "cell_type": "markdown",
   "source": [
    "# Загрузка модели"
   ],
   "metadata": {
    "collapsed": false
   }
  },
  {
   "cell_type": "code",
   "execution_count": 51,
   "outputs": [
    {
     "data": {
      "text/plain": "<All keys matched successfully>"
     },
     "execution_count": 51,
     "metadata": {},
     "output_type": "execute_result"
    }
   ],
   "source": [
    "path = os.path.join(\"..\", \"..\", \"..\", \"models\")\n",
    "model_path = os.path.join(\n",
    "    path, \"romo_dm_ctx\", \"lif_adex\", \"noise_0_5_without_context_noise\"\n",
    ")\n",
    "pmodel = os.path.join(\n",
    "    model_path,\n",
    "    \"Train_dm_and_romo_task_reduce_lif_adex_without_refrac_random_delay_long_a_alpha_100_N_450\",\n",
    ")\n",
    "ptau_ada = os.path.join(model_path, \"tau_ada_inv_alpha=100.npy\")\n",
    "tau_ada = np.load(ptau_ada)\n",
    "feature_size, output_size = Task.feature_and_act_size\n",
    "hidden_size = 450\n",
    "\n",
    "neuron_parameters = LIFAdExParameters(\n",
    "    v_th=torch.as_tensor(0.65),\n",
    "    tau_ada_inv=torch.from_numpy(tau_ada).to(device),\n",
    "    alpha=100,\n",
    "    method=\"super\",\n",
    ")\n",
    "model = SNNlifadex(\n",
    "    feature_size,\n",
    "    hidden_size,\n",
    "    output_size,\n",
    "    neuron_parameters=neuron_parameters,\n",
    "    tau_filter_inv=500,\n",
    ").to(device)\n",
    "model.load_state_dict(torch.load(pmodel))"
   ],
   "metadata": {
    "collapsed": false,
    "pycharm": {
     "name": "#%%\n"
    }
   }
  },
  {
   "cell_type": "markdown",
   "source": [
    "# DPCA ctx1, ctx2"
   ],
   "metadata": {
    "collapsed": false
   }
  },
  {
   "cell_type": "code",
   "execution_count": null,
   "outputs": [],
   "source": [],
   "metadata": {
    "collapsed": false,
    "pycharm": {
     "name": "#%%\n"
    }
   }
  },
  {
   "cell_type": "code",
   "execution_count": 57,
   "metadata": {},
   "outputs": [
    {
     "name": "stderr",
     "output_type": "stream",
     "text": [
      "  0%|          | 0/10 [00:00<?, ?it/s]\n"
     ]
    },
    {
     "ename": "RuntimeError",
     "evalue": "mat1 and mat2 shapes cannot be multiplied (1x4 and 9x450)",
     "output_type": "error",
     "traceback": [
      "\u001b[1;31m---------------------------------------------------------------------------\u001b[0m",
      "\u001b[1;31mRuntimeError\u001b[0m                              Traceback (most recent call last)",
      "Input \u001b[1;32mIn [57]\u001b[0m, in \u001b[0;36m<module>\u001b[1;34m\u001b[0m\n\u001b[0;32m     70\u001b[0m data \u001b[38;5;241m=\u001b[39m np\u001b[38;5;241m.\u001b[39mconcatenate((data_dm, data_romo), axis\u001b[38;5;241m=\u001b[39m\u001b[38;5;241m0\u001b[39m)\n\u001b[0;32m     71\u001b[0m data \u001b[38;5;241m=\u001b[39m torch\u001b[38;5;241m.\u001b[39mfrom_numpy(data)\u001b[38;5;241m.\u001b[39mtype(torch\u001b[38;5;241m.\u001b[39mfloat)\n\u001b[1;32m---> 72\u001b[0m out, states \u001b[38;5;241m=\u001b[39m \u001b[43mmodel\u001b[49m\u001b[43m(\u001b[49m\u001b[43mdata\u001b[49m\u001b[43m)\u001b[49m\n\u001b[0;32m     73\u001b[0m v \u001b[38;5;241m=\u001b[39m []\n\u001b[0;32m     74\u001b[0m s \u001b[38;5;241m=\u001b[39m []\n",
      "File \u001b[1;32ma:\\src\\multy_task\\env\\lib\\site-packages\\torch\\nn\\modules\\module.py:1102\u001b[0m, in \u001b[0;36mModule._call_impl\u001b[1;34m(self, *input, **kwargs)\u001b[0m\n\u001b[0;32m   1098\u001b[0m \u001b[38;5;66;03m# If we don't have any hooks, we want to skip the rest of the logic in\u001b[39;00m\n\u001b[0;32m   1099\u001b[0m \u001b[38;5;66;03m# this function, and just call forward.\u001b[39;00m\n\u001b[0;32m   1100\u001b[0m \u001b[38;5;28;01mif\u001b[39;00m \u001b[38;5;129;01mnot\u001b[39;00m (\u001b[38;5;28mself\u001b[39m\u001b[38;5;241m.\u001b[39m_backward_hooks \u001b[38;5;129;01mor\u001b[39;00m \u001b[38;5;28mself\u001b[39m\u001b[38;5;241m.\u001b[39m_forward_hooks \u001b[38;5;129;01mor\u001b[39;00m \u001b[38;5;28mself\u001b[39m\u001b[38;5;241m.\u001b[39m_forward_pre_hooks \u001b[38;5;129;01mor\u001b[39;00m _global_backward_hooks\n\u001b[0;32m   1101\u001b[0m         \u001b[38;5;129;01mor\u001b[39;00m _global_forward_hooks \u001b[38;5;129;01mor\u001b[39;00m _global_forward_pre_hooks):\n\u001b[1;32m-> 1102\u001b[0m     \u001b[38;5;28;01mreturn\u001b[39;00m \u001b[43mforward_call\u001b[49m\u001b[43m(\u001b[49m\u001b[38;5;241;43m*\u001b[39;49m\u001b[38;5;28;43minput\u001b[39;49m\u001b[43m,\u001b[49m\u001b[43m \u001b[49m\u001b[38;5;241;43m*\u001b[39;49m\u001b[38;5;241;43m*\u001b[39;49m\u001b[43mkwargs\u001b[49m\u001b[43m)\u001b[49m\n\u001b[0;32m   1103\u001b[0m \u001b[38;5;66;03m# Do not call functions when jit is used\u001b[39;00m\n\u001b[0;32m   1104\u001b[0m full_backward_hooks, non_full_backward_hooks \u001b[38;5;241m=\u001b[39m [], []\n",
      "File \u001b[1;32ma:\\src\\cgtasknet\\cgtasknet\\net\\lifadex.py:40\u001b[0m, in \u001b[0;36mSNNlifadex.forward\u001b[1;34m(self, x, state)\u001b[0m\n\u001b[0;32m     37\u001b[0m \u001b[38;5;28;01mdef\u001b[39;00m \u001b[38;5;21mforward\u001b[39m(\n\u001b[0;32m     38\u001b[0m     \u001b[38;5;28mself\u001b[39m, x: torch\u001b[38;5;241m.\u001b[39mtensor, state: Optional[LIFAdExState] \u001b[38;5;241m=\u001b[39m \u001b[38;5;28;01mNone\u001b[39;00m\n\u001b[0;32m     39\u001b[0m ) \u001b[38;5;241m-\u001b[39m\u001b[38;5;241m>\u001b[39m Tuple[torch\u001b[38;5;241m.\u001b[39mtensor, LIFAdExState]:\n\u001b[1;32m---> 40\u001b[0m     outputs, states \u001b[38;5;241m=\u001b[39m \u001b[43msave_states\u001b[49m\u001b[43m(\u001b[49m\u001b[43mx\u001b[49m\u001b[43m,\u001b[49m\u001b[43m \u001b[49m\u001b[38;5;28;43mself\u001b[39;49m\u001b[38;5;241;43m.\u001b[39;49m\u001b[43msave_states\u001b[49m\u001b[43m,\u001b[49m\u001b[43m \u001b[49m\u001b[38;5;28;43mself\u001b[39;49m\u001b[38;5;241;43m.\u001b[39;49m\u001b[43malif\u001b[49m\u001b[43m,\u001b[49m\u001b[43m \u001b[49m\u001b[43mstate\u001b[49m\u001b[43m)\u001b[49m\n\u001b[0;32m     42\u001b[0m     outputs \u001b[38;5;241m=\u001b[39m \u001b[38;5;28mself\u001b[39m\u001b[38;5;241m.\u001b[39mexp_f(outputs)\n\u001b[0;32m     43\u001b[0m     \u001b[38;5;28;01mreturn\u001b[39;00m (outputs, states)\n",
      "File \u001b[1;32ma:\\src\\cgtasknet\\cgtasknet\\net\\save_states.py:16\u001b[0m, in \u001b[0;36msave_states\u001b[1;34m(x, save_states, layer, state)\u001b[0m\n\u001b[0;32m     14\u001b[0m     outputs \u001b[38;5;241m=\u001b[39m torch\u001b[38;5;241m.\u001b[39mconcat(outputs, axis\u001b[38;5;241m=\u001b[39m\u001b[38;5;241m0\u001b[39m)\n\u001b[0;32m     15\u001b[0m \u001b[38;5;28;01melse\u001b[39;00m:\n\u001b[1;32m---> 16\u001b[0m     outputs, states \u001b[38;5;241m=\u001b[39m \u001b[43mlayer\u001b[49m\u001b[43m(\u001b[49m\u001b[43mx\u001b[49m\u001b[43m,\u001b[49m\u001b[43m \u001b[49m\u001b[43mstate\u001b[49m\u001b[43m)\u001b[49m\n\u001b[0;32m     17\u001b[0m \u001b[38;5;28;01mreturn\u001b[39;00m outputs, states\n",
      "File \u001b[1;32ma:\\src\\multy_task\\env\\lib\\site-packages\\torch\\nn\\modules\\module.py:1102\u001b[0m, in \u001b[0;36mModule._call_impl\u001b[1;34m(self, *input, **kwargs)\u001b[0m\n\u001b[0;32m   1098\u001b[0m \u001b[38;5;66;03m# If we don't have any hooks, we want to skip the rest of the logic in\u001b[39;00m\n\u001b[0;32m   1099\u001b[0m \u001b[38;5;66;03m# this function, and just call forward.\u001b[39;00m\n\u001b[0;32m   1100\u001b[0m \u001b[38;5;28;01mif\u001b[39;00m \u001b[38;5;129;01mnot\u001b[39;00m (\u001b[38;5;28mself\u001b[39m\u001b[38;5;241m.\u001b[39m_backward_hooks \u001b[38;5;129;01mor\u001b[39;00m \u001b[38;5;28mself\u001b[39m\u001b[38;5;241m.\u001b[39m_forward_hooks \u001b[38;5;129;01mor\u001b[39;00m \u001b[38;5;28mself\u001b[39m\u001b[38;5;241m.\u001b[39m_forward_pre_hooks \u001b[38;5;129;01mor\u001b[39;00m _global_backward_hooks\n\u001b[0;32m   1101\u001b[0m         \u001b[38;5;129;01mor\u001b[39;00m _global_forward_hooks \u001b[38;5;129;01mor\u001b[39;00m _global_forward_pre_hooks):\n\u001b[1;32m-> 1102\u001b[0m     \u001b[38;5;28;01mreturn\u001b[39;00m \u001b[43mforward_call\u001b[49m\u001b[43m(\u001b[49m\u001b[38;5;241;43m*\u001b[39;49m\u001b[38;5;28;43minput\u001b[39;49m\u001b[43m,\u001b[49m\u001b[43m \u001b[49m\u001b[38;5;241;43m*\u001b[39;49m\u001b[38;5;241;43m*\u001b[39;49m\u001b[43mkwargs\u001b[49m\u001b[43m)\u001b[49m\n\u001b[0;32m   1103\u001b[0m \u001b[38;5;66;03m# Do not call functions when jit is used\u001b[39;00m\n\u001b[0;32m   1104\u001b[0m full_backward_hooks, non_full_backward_hooks \u001b[38;5;241m=\u001b[39m [], []\n",
      "File \u001b[1;32ma:\\src\\multy_task\\env\\lib\\site-packages\\norse-0.0.7.post1-py3.8-win-amd64.egg\\norse\\torch\\module\\snn.py:317\u001b[0m, in \u001b[0;36mSNNRecurrent.forward\u001b[1;34m(self, input_tensor, state)\u001b[0m\n\u001b[0;32m    310\u001b[0m activation \u001b[38;5;241m=\u001b[39m (\n\u001b[0;32m    311\u001b[0m     \u001b[38;5;28mself\u001b[39m\u001b[38;5;241m.\u001b[39mactivation_sparse\n\u001b[0;32m    312\u001b[0m     \u001b[38;5;28;01mif\u001b[39;00m \u001b[38;5;28mself\u001b[39m\u001b[38;5;241m.\u001b[39mactivation_sparse \u001b[38;5;129;01mis\u001b[39;00m \u001b[38;5;129;01mnot\u001b[39;00m \u001b[38;5;28;01mNone\u001b[39;00m \u001b[38;5;129;01mand\u001b[39;00m input_tensor\u001b[38;5;241m.\u001b[39mis_sparse\n\u001b[0;32m    313\u001b[0m     \u001b[38;5;28;01melse\u001b[39;00m \u001b[38;5;28mself\u001b[39m\u001b[38;5;241m.\u001b[39mactivation\n\u001b[0;32m    314\u001b[0m )\n\u001b[0;32m    316\u001b[0m \u001b[38;5;28;01mfor\u001b[39;00m ts \u001b[38;5;129;01min\u001b[39;00m \u001b[38;5;28mrange\u001b[39m(T):\n\u001b[1;32m--> 317\u001b[0m     out, state \u001b[38;5;241m=\u001b[39m \u001b[43mactivation\u001b[49m\u001b[43m(\u001b[49m\n\u001b[0;32m    318\u001b[0m \u001b[43m        \u001b[49m\u001b[43minput_tensor\u001b[49m\u001b[43m[\u001b[49m\u001b[43mts\u001b[49m\u001b[43m]\u001b[49m\u001b[43m,\u001b[49m\n\u001b[0;32m    319\u001b[0m \u001b[43m        \u001b[49m\u001b[43mstate\u001b[49m\u001b[43m,\u001b[49m\n\u001b[0;32m    320\u001b[0m \u001b[43m        \u001b[49m\u001b[38;5;28;43mself\u001b[39;49m\u001b[38;5;241;43m.\u001b[39;49m\u001b[43minput_weights\u001b[49m\u001b[43m,\u001b[49m\n\u001b[0;32m    321\u001b[0m \u001b[43m        \u001b[49m\u001b[38;5;28;43mself\u001b[39;49m\u001b[38;5;241;43m.\u001b[39;49m\u001b[43mrecurrent_weights\u001b[49m\u001b[43m,\u001b[49m\n\u001b[0;32m    322\u001b[0m \u001b[43m        \u001b[49m\u001b[38;5;28;43mself\u001b[39;49m\u001b[38;5;241;43m.\u001b[39;49m\u001b[43mp\u001b[49m\u001b[43m,\u001b[49m\n\u001b[0;32m    323\u001b[0m \u001b[43m        \u001b[49m\u001b[38;5;28;43mself\u001b[39;49m\u001b[38;5;241;43m.\u001b[39;49m\u001b[43mdt\u001b[49m\u001b[43m,\u001b[49m\n\u001b[0;32m    324\u001b[0m \u001b[43m    \u001b[49m\u001b[43m)\u001b[49m\n\u001b[0;32m    325\u001b[0m     outputs\u001b[38;5;241m.\u001b[39mappend(out)\n\u001b[0;32m    327\u001b[0m \u001b[38;5;28;01mreturn\u001b[39;00m torch\u001b[38;5;241m.\u001b[39mstack(outputs), state\n",
      "File \u001b[1;32ma:\\src\\multy_task\\env\\lib\\site-packages\\norse-0.0.7.post1-py3.8-win-amd64.egg\\norse\\torch\\functional\\lif_adex.py:141\u001b[0m, in \u001b[0;36mlif_adex_step\u001b[1;34m(input_tensor, state, input_weights, recurrent_weights, p, dt)\u001b[0m\n\u001b[0;32m    137\u001b[0m v_new \u001b[38;5;241m=\u001b[39m (\u001b[38;5;241m1\u001b[39m \u001b[38;5;241m-\u001b[39m z_new) \u001b[38;5;241m*\u001b[39m v_decayed \u001b[38;5;241m+\u001b[39m z_new \u001b[38;5;241m*\u001b[39m p\u001b[38;5;241m.\u001b[39mv_reset\n\u001b[0;32m    138\u001b[0m \u001b[38;5;66;03m# compute current jumps\u001b[39;00m\n\u001b[0;32m    139\u001b[0m i_new \u001b[38;5;241m=\u001b[39m (\n\u001b[0;32m    140\u001b[0m     i_decayed\n\u001b[1;32m--> 141\u001b[0m     \u001b[38;5;241m+\u001b[39m \u001b[43mtorch\u001b[49m\u001b[38;5;241;43m.\u001b[39;49m\u001b[43mnn\u001b[49m\u001b[38;5;241;43m.\u001b[39;49m\u001b[43mfunctional\u001b[49m\u001b[38;5;241;43m.\u001b[39;49m\u001b[43mlinear\u001b[49m\u001b[43m(\u001b[49m\u001b[43minput_tensor\u001b[49m\u001b[43m,\u001b[49m\u001b[43m \u001b[49m\u001b[43minput_weights\u001b[49m\u001b[43m)\u001b[49m\n\u001b[0;32m    142\u001b[0m     \u001b[38;5;241m+\u001b[39m torch\u001b[38;5;241m.\u001b[39mnn\u001b[38;5;241m.\u001b[39mfunctional\u001b[38;5;241m.\u001b[39mlinear(state\u001b[38;5;241m.\u001b[39mz, recurrent_weights)\n\u001b[0;32m    143\u001b[0m )\n\u001b[0;32m    144\u001b[0m \u001b[38;5;66;03m# Compute spike adaptation\u001b[39;00m\n\u001b[0;32m    145\u001b[0m a_new \u001b[38;5;241m=\u001b[39m a_decayed \u001b[38;5;241m+\u001b[39m z_new \u001b[38;5;241m*\u001b[39m p\u001b[38;5;241m.\u001b[39madaptation_spike\n",
      "File \u001b[1;32ma:\\src\\multy_task\\env\\lib\\site-packages\\torch\\nn\\functional.py:1848\u001b[0m, in \u001b[0;36mlinear\u001b[1;34m(input, weight, bias)\u001b[0m\n\u001b[0;32m   1846\u001b[0m \u001b[38;5;28;01mif\u001b[39;00m has_torch_function_variadic(\u001b[38;5;28minput\u001b[39m, weight, bias):\n\u001b[0;32m   1847\u001b[0m     \u001b[38;5;28;01mreturn\u001b[39;00m handle_torch_function(linear, (\u001b[38;5;28minput\u001b[39m, weight, bias), \u001b[38;5;28minput\u001b[39m, weight, bias\u001b[38;5;241m=\u001b[39mbias)\n\u001b[1;32m-> 1848\u001b[0m \u001b[38;5;28;01mreturn\u001b[39;00m \u001b[43mtorch\u001b[49m\u001b[38;5;241;43m.\u001b[39;49m\u001b[43m_C\u001b[49m\u001b[38;5;241;43m.\u001b[39;49m\u001b[43m_nn\u001b[49m\u001b[38;5;241;43m.\u001b[39;49m\u001b[43mlinear\u001b[49m\u001b[43m(\u001b[49m\u001b[38;5;28;43minput\u001b[39;49m\u001b[43m,\u001b[49m\u001b[43m \u001b[49m\u001b[43mweight\u001b[49m\u001b[43m,\u001b[49m\u001b[43m \u001b[49m\u001b[43mbias\u001b[49m\u001b[43m)\u001b[49m\n",
      "\u001b[1;31mRuntimeError\u001b[0m: mat1 and mat2 shapes cannot be multiplied (1x4 and 9x450)"
     ]
    }
   ],
   "source": [
    "input_values = [0, 0.1, 0.2, 0.3, 0.4, 0.49, 0.51, 0.6, 0.7, 0.8, 0.9, 1]\n",
    "feature_size = 9\n",
    "output_size = 3\n",
    "hidden_size = 450\n",
    "batch_size = 1\n",
    "init_state = LIFAdExRefracInitState(batch_size, hidden_size)\n",
    "first_state = init_state.zero_state()\n",
    "second_state = init_state.random_state()\n",
    "v_mean = None\n",
    "a_mean = None\n",
    "answer_time = 0.3\n",
    "number_of_trials = 10\n",
    "data_save = torch.zeros((0, 1, 4))\n",
    "romo_parameters = RomoTaskRandomModParameters(\n",
    "    romo=RomoTaskParameters(\n",
    "        delay=1.2,\n",
    "        positive_shift_delay_time=1.4,\n",
    "        trial_time=0.1,\n",
    "        positive_shift_trial_time=0.2,\n",
    "        value=(0, 0),\n",
    "    ),\n",
    ")\n",
    "dm_parameters = DMTaskRandomModParameters(dm=DMTaskParameters(trial_time=0.5, value=0))\n",
    "ctx_parameters = CtxDMTaskParameters(dm=dm_parameters.dm, value=(0, 0))\n",
    "\n",
    "\n",
    "dm_interval = round(\n",
    "    (dm_parameters.dm.answer_time + dm_parameters.dm.trial_time) / dm_parameters.dm.dt\n",
    ")\n",
    "romo_interval = round(\n",
    "    (\n",
    "        romo_parameters.romo.answer_time\n",
    "        + 2 * romo_parameters.romo.trial_time\n",
    "        + romo_parameters.romo.delay\n",
    "    )\n",
    "    / romo_parameters.romo.dt\n",
    ")\n",
    "actR = np.zeros(\n",
    "    (\n",
    "        number_of_trials,\n",
    "        hidden_size,\n",
    "        len(input_values),\n",
    "        romo_interval + dm_interval,\n",
    "    )\n",
    ")\n",
    "actR_a = np.zeros_like(actR)\n",
    "for trial in tqdm(range(number_of_trials)):\n",
    "    v_save = torch.zeros((0, 1, hidden_size))\n",
    "    a_save = torch.zeros((0, 1, hidden_size))\n",
    "    for value in range(len(input_values)):\n",
    "        dmparams = DMTaskParameters(\n",
    "            trial_time=0.4,\n",
    "            value=1 - input_values[value],\n",
    "            answer_time=answer_time,\n",
    "        )\n",
    "        romoparams = RomoTaskParameters(\n",
    "            delay=0.4,\n",
    "            trial_time=0.15,\n",
    "            value=(0.5, input_values[value]),\n",
    "            answer_time=answer_time,\n",
    "        )\n",
    "        Task_dm = DMTask(dmparams, mode=\"value\")\n",
    "        data_dm, _ = Task_dm.dataset(1)\n",
    "        rule_matrix = np.zeros((data_dm.shape[0], 1, 2))\n",
    "        rule_matrix[:, :, 0] = 1\n",
    "        data_dm = np.concatenate((data_dm, rule_matrix), axis=2)\n",
    "\n",
    "        Task_romo = RomoTask(romoparams, mode=\"value\")\n",
    "        data_romo, _ = Task_romo.dataset(1)\n",
    "        rule_matrix = np.zeros((data_romo.shape[0], 1, 2))\n",
    "        rule_matrix[:, :, 1] = 1\n",
    "        data_romo = np.concatenate((data_romo, rule_matrix), axis=2)\n",
    "\n",
    "        data = np.concatenate((data_dm, data_romo), axis=0)\n",
    "        data = torch.from_numpy(data).type(torch.float)\n",
    "        out, states = model(data)\n",
    "        v = []\n",
    "        s = []\n",
    "        a = []\n",
    "        for j in range(len(states)):\n",
    "            v.append(states[j].lif_adex.v)\n",
    "            s.append(states[j].lif_adex.z)\n",
    "            a.append(states[j].lif_adex.a)\n",
    "        a = torch.stack(a).detach()\n",
    "        v = torch.stack(v).detach()\n",
    "        actR[trial, :, value, :] = v[:, 0, :].T.numpy()\n",
    "        actR_a[trial, :, value, :] = a[:, 0, :].T.numpy()\n",
    "        v_save = torch.concat((v_save, v), axis=0)\n",
    "        a_save = torch.concat((a_save, a), axis=0)\n",
    "        if trial == 0:\n",
    "            data_save = torch.concat((data_save, data), axis=0)\n",
    "s = torch.stack(s).detach()\n",
    "s = s.cpu().numpy()"
   ]
  },
  {
   "cell_type": "markdown",
   "source": [
    "# Пример последнего выхода"
   ],
   "metadata": {
    "collapsed": false
   }
  },
  {
   "cell_type": "code",
   "execution_count": null,
   "outputs": [],
   "source": [
    "plt.figure()\n",
    "plt.plot(out.cpu().detach().numpy()[:, 0, :])\n",
    "plt.show()\n",
    "plt.close()"
   ],
   "metadata": {
    "collapsed": false,
    "pycharm": {
     "name": "#%%\n"
    }
   }
  },
  {
   "cell_type": "markdown",
   "source": [
    "# Пример последнего входа"
   ],
   "metadata": {
    "collapsed": false
   }
  },
  {
   "cell_type": "code",
   "execution_count": null,
   "outputs": [],
   "source": [
    "plt.figure()\n",
    "plt.plot(data.cpu().detach().numpy()[:, 0, 1])\n",
    "plt.show()\n",
    "plt.close()"
   ],
   "metadata": {
    "collapsed": false,
    "pycharm": {
     "name": "#%%\n"
    }
   }
  },
  {
   "cell_type": "markdown",
   "source": [
    "# DPCA по мембранному потенциалу"
   ],
   "metadata": {
    "collapsed": false
   }
  },
  {
   "cell_type": "code",
   "execution_count": null,
   "metadata": {},
   "outputs": [],
   "source": [
    "R = np.mean(actR, 0)\n",
    "R -= np.mean(R.reshape((hidden_size, -1)), 1)[:, None, None]\n",
    "dpca = dPCA.dPCA(labels=\"st\", regularizer=\"auto\")\n",
    "dpca.protect = [\"t\"]\n",
    "Z = dpca.fit_transform(R, actR)\n",
    "\n",
    "time = np.arange(actR.shape[-1])\n",
    "fig, (ax1, ax2, ax3) = plt.subplots(1, 3)\n",
    "for s in range(actR.shape[0]):\n",
    "    ax1.plot(time, Z[\"t\"][0, s])\n",
    "for s in range(actR.shape[0]):\n",
    "    ax2.plot(time, Z[\"s\"][0, s])\n",
    "for s in range(actR.shape[0]):\n",
    "    ax3.plot(time, Z[\"st\"][0, s])"
   ]
  },
  {
   "cell_type": "code",
   "execution_count": null,
   "metadata": {},
   "outputs": [],
   "source": [
    "% matplotlib widget\n",
    "from matplotlib.pyplot import cm\n",
    "\n",
    "plt.figure(figsize=(16, 7))\n",
    "plt.subplot(131)\n",
    "S = actR.shape[2]\n",
    "color = iter(cm.rainbow(np.linspace(0, 1, S)))\n",
    "for s in range(S):\n",
    "    c = next(color)\n",
    "    plt.plot(time, Z[\"t\"][0, s], c=c)\n",
    "\n",
    "plt.title(\"1st time component\")\n",
    "\n",
    "plt.subplot(132)\n",
    "color = iter(cm.rainbow(np.linspace(0, 1, S)))\n",
    "\n",
    "for s in range(S):\n",
    "    c = next(color)\n",
    "    plt.plot(time, Z[\"s\"][0, s], label=f\"x={input_values[s]}\", c=c)\n",
    "plt.legend()\n",
    "plt.title(\"1st stimulus component\")\n",
    "\n",
    "plt.subplot(133)\n",
    "color = iter(cm.rainbow(np.linspace(0, 1, S)))\n",
    "\n",
    "for s in range(S):\n",
    "    c = next(color)\n",
    "\n",
    "    plt.plot(time, Z[\"st\"][0, s], label=f\"x={input_values[s]}\", c=c)\n",
    "plt.legend()\n",
    "plt.title(\"1st mixing component\")\n",
    "# plt.savefig('во время отклика dpca.pdf')\n",
    "plt.show()"
   ]
  },
  {
   "cell_type": "markdown",
   "source": [
    "# DPCA по адаптивному потенциалу\n"
   ],
   "metadata": {
    "collapsed": false
   }
  },
  {
   "cell_type": "code",
   "execution_count": null,
   "metadata": {},
   "outputs": [],
   "source": [
    "R = np.mean(actR_a, 0)\n",
    "R -= np.mean(R.reshape((hidden_size, -1)), 1)[:, None, None]\n",
    "dpca = dPCA.dPCA(labels=\"st\", regularizer=\"auto\")\n",
    "dpca.protect = [\"t\"]\n",
    "Z = dpca.fit_transform(R, actR_a)\n",
    "\n",
    "time = np.arange(actR_a.shape[-1])\n",
    "fig, (ax1, ax2, ax3) = plt.subplots(1, 3)\n",
    "for s in range(actR_a.shape[0]):\n",
    "    ax1.plot(time, Z[\"t\"][0, s])\n",
    "for s in range(actR_a.shape[0]):\n",
    "    ax2.plot(time, Z[\"s\"][0, s])\n",
    "for s in range(actR_a.shape[0]):\n",
    "    ax3.plot(time, Z[\"st\"][0, s])"
   ]
  },
  {
   "cell_type": "code",
   "execution_count": null,
   "metadata": {},
   "outputs": [],
   "source": [
    "% matplotlib widget\n",
    "from matplotlib.pyplot import cm\n",
    "\n",
    "plt.figure(figsize=(16, 7))\n",
    "plt.subplot(131)\n",
    "S = actR.shape[2]\n",
    "color = iter(cm.rainbow(np.linspace(0, 1, S)))\n",
    "for s in range(S):\n",
    "    c = next(color)\n",
    "    plt.plot(time, Z[\"t\"][0, s], c=c)\n",
    "\n",
    "plt.title(\"1st time component\")\n",
    "\n",
    "plt.subplot(132)\n",
    "color = iter(cm.rainbow(np.linspace(0, 1, S)))\n",
    "\n",
    "for s in range(S):\n",
    "    c = next(color)\n",
    "    plt.plot(time, Z[\"s\"][0, s], label=f\"x={input_values[s]}\", c=c)\n",
    "plt.legend()\n",
    "plt.title(\"1st stimulus component\")\n",
    "\n",
    "plt.subplot(133)\n",
    "color = iter(cm.rainbow(np.linspace(0, 1, S)))\n",
    "\n",
    "for s in range(S):\n",
    "    c = next(color)\n",
    "\n",
    "    plt.plot(time, Z[\"st\"][0, s], label=f\"x={input_values[s]}\", c=c)\n",
    "plt.legend()\n",
    "plt.title(\"1st mixing component\")\n",
    "# plt.savefig('во время отклика dpca.pdf')\n",
    "plt.show()"
   ]
  },
  {
   "cell_type": "code",
   "execution_count": null,
   "metadata": {},
   "outputs": [],
   "source": []
  },
  {
   "cell_type": "code",
   "execution_count": null,
   "outputs": [],
   "source": [],
   "metadata": {
    "collapsed": false,
    "pycharm": {
     "name": "#%%\n"
    }
   }
  }
 ],
 "metadata": {
  "interpreter": {
   "hash": "2f83ba25b4055e6850166001f95ed136092a6ce41bf7679ca537d862fe029930"
  },
  "kernelspec": {
   "display_name": "Python 3.9.9 64-bit ('env': venv)",
   "language": "python",
   "name": "python3"
  },
  "language_info": {
   "codemirror_mode": {
    "name": "ipython",
    "version": 3
   },
   "file_extension": ".py",
   "mimetype": "text/x-python",
   "name": "python",
   "nbconvert_exporter": "python",
   "pygments_lexer": "ipython3",
   "version": "3.8.10"
  },
  "orig_nbformat": 4
 },
 "nbformat": 4,
 "nbformat_minor": 2
}