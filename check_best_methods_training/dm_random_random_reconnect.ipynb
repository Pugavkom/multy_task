{
 "cells": [
  {
   "cell_type": "markdown",
   "metadata": {
    "collapsed": false
   },
   "source": [
    "# Описание\n",
    "\n",
    "## Задачи\n",
    "_Испольуется три задачи:_\n",
    "- DM -- двухальтернативный выбор\n",
    "- CtxDM -- DM с контекстом\n",
    "\n",
    "\n",
    "## Сеть\n",
    " Сеть состоит из lif AdEx нейронов\n",
    "\n",
    "## Проверяемый элемент\n",
    "В данном файле тестируется обучение без случайного реконекта."
   ]
  },
  {
   "cell_type": "code",
   "execution_count": 15,
   "metadata": {
    "collapsed": true
   },
   "outputs": [],
   "source": [
    "import numpy as np\n",
    "import torch\n",
    "import torch.nn as nn\n",
    "from cgtasknet.instruments.instrument_accuracy_network import CorrectAnswerNetwork\n",
    "from cgtasknet.tasks.reduce import (\n",
    "    CtxDMTaskParameters,\n",
    "    DMTaskParameters,\n",
    "    DMTaskRandomModParameters,\n",
    "    MultyReduceTasks,\n",
    ")\n",
    "import matplotlib.pyplot as plt"
   ]
  },
  {
   "cell_type": "code",
   "execution_count": 16,
   "metadata": {
    "collapsed": false,
    "pycharm": {
     "name": "#%%\n"
    }
   },
   "outputs": [
    {
     "name": "stdout",
     "output_type": "stream",
     "text": [
      "cuda:0\n"
     ]
    }
   ],
   "source": [
    "device = torch.device(\"cuda:0\" if torch.cuda.is_available() else \"cpu\")\n",
    "print(f\"{device}\")"
   ]
  },
  {
   "cell_type": "markdown",
   "metadata": {
    "collapsed": false
   },
   "source": [
    "# Определяем датасет\n",
    "Датасет будет состоять из трех типов задач:\n",
    "- DM задача;\n",
    "- CtxDM задача.\n",
    "_Параметры для последней задачи аналогичны DM задаче_\n",
    "***\n",
    "## Параметры датасета:"
   ]
  },
  {
   "cell_type": "code",
   "execution_count": 17,
   "metadata": {
    "collapsed": false,
    "pycharm": {
     "name": "#%%\n"
    }
   },
   "outputs": [],
   "source": [
    "batch_size = 32\n",
    "number_of_epochs = 50\n",
    "number_of_tasks = 1\n",
    "\n",
    "go_task_list_values = np.linspace(0, 1, 8)\n",
    "\n",
    "dm_parameters = DMTaskRandomModParameters(\n",
    "    dm=DMTaskParameters(trial_time=0.3, positive_shift_trial_time=1.0, answer_time=0.25)\n",
    ")\n",
    "ctx_parameters = CtxDMTaskParameters(dm=dm_parameters.dm)"
   ]
  },
  {
   "cell_type": "markdown",
   "metadata": {
    "collapsed": false
   },
   "source": [
    "## Датасет"
   ]
  },
  {
   "cell_type": "code",
   "execution_count": 18,
   "metadata": {
    "collapsed": false,
    "pycharm": {
     "name": "#%%\n"
    }
   },
   "outputs": [
    {
     "name": "stdout",
     "output_type": "stream",
     "text": [
      "Task parameters:\n",
      "DMTask1:\n",
      "DMTaskRandomModParameters(dm=DMTaskParameters(dt=0.001, trial_time=0.3, answer_time=0.25, value=None, negative_shift_trial_time=0, positive_shift_trial_time=1.0), n_mods=2)\n",
      "\n",
      "inputs/outputs: 4/3\n"
     ]
    }
   ],
   "source": [
    "sigma = 0.5\n",
    "tasks = [\n",
    "    \"DMTask1\",\n",
    "\n",
    "]\n",
    "task_dict = {\n",
    "    tasks[0]: dm_parameters,\n",
    "\n",
    "}\n",
    "Task = MultyReduceTasks(\n",
    "    tasks=task_dict,\n",
    "    batch_size=batch_size,\n",
    "    delay_between=0,\n",
    "    enable_fixation_delay=True,\n",
    "    mode=\"random\",\n",
    ")\n",
    "\n",
    "print(\"Task parameters:\")\n",
    "for key in task_dict:\n",
    "    print(f\"{key}:\\n{task_dict[key]}\\n\")\n",
    "\n",
    "print(f\"inputs/outputs: {Task.feature_and_act_size[0]}/{Task.feature_and_act_size[1]}\")"
   ]
  },
  {
   "cell_type": "code",
   "execution_count": 19,
   "metadata": {
    "collapsed": false,
    "pycharm": {
     "name": "#%%\n"
    }
   },
   "outputs": [],
   "source": [
    "sorted_tasks = sorted(tasks)\n",
    "re_word = \"Go\"\n",
    "choices_tasks = []\n",
    "values_tasks = []\n",
    "for i in range(len(sorted_tasks)):\n",
    "    if re_word in sorted_tasks[i]:\n",
    "        values_tasks.append(i)\n",
    "    else:\n",
    "        choices_tasks.append(i)\n",
    "can = CorrectAnswerNetwork(choices_tasks, values_tasks, 0.15)"
   ]
  },
  {
   "cell_type": "code",
   "execution_count": 20,
   "metadata": {
    "collapsed": false,
    "pycharm": {
     "name": "#%%\n"
    }
   },
   "outputs": [
    {
     "name": "stdout",
     "output_type": "stream",
     "text": [
      "lif.input_weights\n",
      "lif.recurrent_weights\n",
      "exp_f.linear.weight\n",
      "exp_f.linear.bias\n"
     ]
    }
   ],
   "source": [
    "from cgtasknet.net import SNNLif\n",
    "from norse.torch import LIFParameters\n",
    "\n",
    "feature_size, output_size = Task.feature_and_act_size\n",
    "hidden_size = 256\n",
    "\n",
    "neuron_parameters = LIFParameters(\n",
    "    v_th=torch.as_tensor(0.45),\n",
    "    #tau_ada_inv=torch.as_tensor(1 / 2.0),\n",
    "    alpha=100,\n",
    "    method=\"super\",\n",
    "    # rho_reset = torch.as_tensor(5)\n",
    ")\n",
    "model = SNNLif(\n",
    "    feature_size,\n",
    "    hidden_size,\n",
    "    output_size,\n",
    "    neuron_parameters=neuron_parameters,\n",
    "    tau_filter_inv=20,\n",
    "    save_states=True,\n",
    "    return_spiking=True,\n",
    "    dropout=.5\n",
    ").to(device)\n",
    "\n",
    "for name, param in model.named_parameters():\n",
    "    print(name)\n",
    "    if name == \"lif.recurrent_weights\":\n",
    "        initial_parameters_reccurent = param\n",
    "    if name == \"exp_f.linear.weight\":\n",
    "        initial_parameters_output = param\n",
    "\n",
    "    if name == \"lif.input_weights\":\n",
    "        initial_parameters_input = param"
   ]
  },
  {
   "cell_type": "code",
   "execution_count": 21,
   "metadata": {},
   "outputs": [
    {
     "data": {
      "text/plain": [
       "torch.Size([256, 4])"
      ]
     },
     "execution_count": 21,
     "metadata": {},
     "output_type": "execute_result"
    }
   ],
   "source": [
    "initial_parameters_input.shape"
   ]
  },
  {
   "cell_type": "code",
   "execution_count": 22,
   "metadata": {
    "collapsed": false,
    "pycharm": {
     "name": "#%%\n"
    }
   },
   "outputs": [],
   "source": [
    "threshold_reconnection = 0.0005  # 5%\n",
    "\n",
    "\n",
    "def reconnect_low_weights():\n",
    "    with torch.no_grad():\n",
    "        max_outputs = torch.mean(initial_parameters_output).abs()\n",
    "        max_reccurrent = torch.mean(initial_parameters_reccurent).abs()\n",
    "\n",
    "        a_outputs = -1 / np.sqrt(hidden_size)\n",
    "        b_outputs = 1 / np.sqrt(hidden_size)\n",
    "        a_reccurent = 1 / np.sqrt(hidden_size) / 2 \n",
    "        bias = 0.1\n",
    "        b_reccurent = 1 / np.sqrt(hidden_size)\n",
    "\n",
    "        mean_reccurent_percents = torch.where(\n",
    "            initial_parameters_reccurent.mean(axis=0).abs() < threshold_reconnection\n",
    "        )[0]\n",
    "        mean_outputs_percents = torch.where(\n",
    "            initial_parameters_output.mean(axis=0).abs() / max_outputs\n",
    "            < threshold_reconnection\n",
    "        )[0]\n",
    "\n",
    "        if len(mean_outputs_percents):\n",
    "            initial_parameters_output[\n",
    "                :, mean_reccurent_percents\n",
    "            ] = a_reccurent * torch.rand((3, len(mean_reccurent_percents))).to(device)\n",
    "\n",
    "        if len(mean_reccurent_percents):\n",
    "            initial_parameters_reccurent[\n",
    "                :, mean_reccurent_percents\n",
    "            ] = a_reccurent * torch.randn(\n",
    "                (hidden_size, len(mean_reccurent_percents))\n",
    "            ).to(\n",
    "                device\n",
    "            ) - bias\n",
    "            initial_parameters_reccurent[\n",
    "                mean_reccurent_percents, :\n",
    "            ] = a_reccurent * torch.randn(\n",
    "                (len(mean_reccurent_percents), hidden_size)\n",
    "            ).to(\n",
    "                device\n",
    "            ) - bias\n",
    "            initial_parameters_input[\n",
    "                mean_reccurent_percents, :\n",
    "            ] = a_reccurent * torch.randn(\n",
    "                (len(mean_reccurent_percents), initial_parameters_input.shape[1])\n",
    "            ).to(\n",
    "                device\n",
    "            ) - bias\n",
    "            initial_parameters_output[\n",
    "                :, mean_reccurent_percents\n",
    "            ] = a_reccurent * torch.rand((3, len(mean_reccurent_percents))).to(device) - bias\n",
    "\n",
    "        print(mean_reccurent_percents)\n",
    "        print(mean_outputs_percents)\n",
    "\n",
    "\n",
    "#reconnect_low_weights()\n"
   ]
  },
  {
   "cell_type": "code",
   "execution_count": 23,
   "metadata": {
    "collapsed": false,
    "pycharm": {
     "name": "#%%\n"
    }
   },
   "outputs": [],
   "source": [
    "from norse.torch import LIFState\n",
    "\n",
    "Task_test = MultyReduceTasks(\n",
    "    tasks=task_dict,\n",
    "    batch_size=batch_size,\n",
    "    delay_between=0,\n",
    "    enable_fixation_delay=True,\n",
    "    mode=\"random\",\n",
    "    task_number=0,\n",
    ")\n",
    "\n",
    "\n",
    "def check_mean_fr(task=Task):\n",
    "    init_state = LIFState(\n",
    "        torch.zeros(batch_size, hidden_size).to(device),\n",
    "        torch.rand(batch_size, hidden_size).to(device),\n",
    "        torch.zeros(batch_size, hidden_size).to(device),\n",
    "    )\n",
    "    inputs, target_outputs = task.dataset(1)\n",
    "\n",
    "    inputs = torch.from_numpy(inputs).type(torch.float).to(device)\n",
    "    target_outputs = torch.from_numpy(target_outputs).type(torch.float).to(device)\n",
    "    result = model(\n",
    "        inputs,\n",
    "        init_state,\n",
    "    )\n",
    "    # del inputs, init_state\n",
    "    torch.cuda.empty_cache()\n",
    "    states = result[-1]\n",
    "    spikes = []\n",
    "    for state in states:\n",
    "        spikes.append(state.detach().cpu())\n",
    "\n",
    "    last_fix = torch.where(inputs[:, :, 0] == 1)[0][-1].item()\n",
    "    # s = torch.stack(spikes)[:last_fix, ...]\n",
    "    s = torch.stack(spikes)[:, ...]\n",
    "    freq_sequence_new = torch.sort(\n",
    "        torch.mean(torch.mean(s, axis=0), axis=0), dim=0\n",
    "    ).values\n",
    "    for i in range(len(freq_sequence_new)):\n",
    "        plt.plot([i + 1] * 2, [0, freq_sequence_new[i] * 1e3], c=\"b\")\n",
    "    plt.show()\n",
    "    plt.close()\n",
    "    index = 0\n",
    "    plt.plot(target_outputs[:, index, 0].detach().cpu(), c=\"r\")\n",
    "    plt.plot(target_outputs[:, index, 1].detach().cpu(), c=\"b\")\n",
    "    plt.plot(target_outputs[:, index, 2].detach().cpu(), c=\"g\")\n",
    "\n",
    "    plt.plot(result[0][:, index, 0].detach().cpu(), c=\"r\", alpha=0.6)\n",
    "    plt.plot(result[0][:, index, 1].detach().cpu(), c=\"b\", alpha=0.6)\n",
    "    plt.plot(result[0][:, index, 2].detach().cpu(), c=\"g\", alpha=0.6)\n",
    "    plt.show()\n",
    "    plt.close()"
   ]
  },
  {
   "cell_type": "code",
   "execution_count": 24,
   "metadata": {
    "collapsed": false,
    "pycharm": {
     "name": "#%%\n"
    }
   },
   "outputs": [
    {
     "data": {
      "image/png": "[encoded data removed]",
      "text/plain": [
       "<Figure size 432x288 with 1 Axes>"
      ]
     },
     "metadata": {
      "needs_background": "light"
     },
     "output_type": "display_data"
    },
    {
     "data": {
      "image/png": "[encoded data removed]",
      "text/plain": [
       "<Figure size 432x288 with 1 Axes>"
      ]
     },
     "metadata": {
      "needs_background": "light"
     },
     "output_type": "display_data"
    }
   ],
   "source": [
    "test = MultyReduceTasks(\n",
    "    tasks=task_dict,\n",
    "    batch_size=batch_size,\n",
    "    delay_between=0,\n",
    "    enable_fixation_delay=True,\n",
    "    mode=\"random\",\n",
    "    task_number=0,\n",
    ")\n",
    "check_mean_fr(Task)"
   ]
  },
  {
   "cell_type": "code",
   "execution_count": 25,
   "metadata": {
    "collapsed": false,
    "pycharm": {
     "name": "#%%\n"
    }
   },
   "outputs": [],
   "source": [
    "learning_rate = 5e-3\n",
    "reg_freq = 1e4  # 1e3 for square #for 600 1e5\n",
    "\n",
    "\n",
    "class RMSELoss(nn.Module):\n",
    "    def __init__(self):\n",
    "        super().__init__()\n",
    "        self.mse = nn.MSELoss()\n",
    "\n",
    "    def forward(self, yhat, y):\n",
    "        return torch.sqrt(self.mse(yhat, y))\n",
    "\n",
    "\n",
    "class MaskedMSELoss(torch.nn.Module):\n",
    "    def __init__(self):\n",
    "        super(MaskedMSELoss, self).__init__()\n",
    "\n",
    "    def forward(self, input, target, mask):\n",
    "        diff2 = (torch.flatten(input) - torch.flatten(target)) ** 2.0 * torch.flatten(\n",
    "            mask\n",
    "        )\n",
    "        result = torch.sum(diff2) / torch.sum(mask)\n",
    "        return result\n",
    "\n",
    "\n",
    "class MaskedAndFrRegMSELoss(torch.nn.Module):\n",
    "    def __init__(self):\n",
    "        super(MaskedAndFrRegMSELoss, self).__init__()\n",
    "\n",
    "    def forward(self, input, target, mask, state):\n",
    "        diff2 = (torch.flatten(input) - torch.flatten(target)) ** 2.0 * torch.flatten(\n",
    "            mask\n",
    "        )\n",
    "        result = torch.sum(diff2) / torch.sum(mask)\n",
    "        s = []\n",
    "        for i in range(len(state)):\n",
    "            s.append(state[i])\n",
    "        s = torch.stack(s)\n",
    "        fr_neurons_mean = torch.mean(torch.mean(s, axis=0), axis=0)\n",
    "        coefs = ((fr_neurons_mean > 0.03)).detach()\n",
    "        fr_neurons_mean *= coefs\n",
    "        fr_neurons_mean = torch.mean(fr_neurons_mean)\n",
    "        result += fr_neurons_mean * reg_freq\n",
    "        return result\n",
    "\n",
    "\n",
    "criterion = MaskedAndFrRegMSELoss()\n",
    "optimizer = torch.optim.Adam(model.parameters(), lr=learning_rate)"
   ]
  },
  {
   "cell_type": "code",
   "execution_count": null,
   "metadata": {
    "collapsed": false,
    "pycharm": {
     "name": "#%%\n"
    }
   },
   "outputs": [],
   "source": []
  },
  {
   "cell_type": "code",
   "execution_count": 26,
   "metadata": {
    "collapsed": false,
    "pycharm": {
     "name": "#%%\n"
    }
   },
   "outputs": [],
   "source": [
    "from numba import njit\n",
    "\n",
    "\n",
    "@njit(cache=True, parallel=True)\n",
    "def every_bath_generator(\n",
    "    start_sigma: float,\n",
    "    stop_sigma: float,\n",
    "    times: int = 1,\n",
    "    batches: int = 1,\n",
    "    actions: int = 1,\n",
    "):\n",
    "    data = np.zeros((times, batches, actions))\n",
    "    for i in range(batches):\n",
    "        data[:, i, :] = np.random.normal(\n",
    "            0, np.random.uniform(start_sigma, stop_sigma), size=(times, actions)\n",
    "        )\n",
    "    return data"
   ]
  },
  {
   "cell_type": "code",
   "execution_count": 27,
   "metadata": {
    "collapsed": false,
    "pycharm": {
     "name": "#%%\n"
    }
   },
   "outputs": [],
   "source": [
    "torch.cuda.empty_cache()"
   ]
  },
  {
   "cell_type": "code",
   "execution_count": 28,
   "metadata": {
    "collapsed": false,
    "pycharm": {
     "is_executing": true,
     "name": "#%%\n"
    }
   },
   "outputs": [
    {
     "name": "stderr",
     "output_type": "stream",
     "text": [
      "100%|██████████| 50/50 [14:14:51<00:00, 1025.82s/it]     "
     ]
    },
    {
     "name": "stdout",
     "output_type": "stream",
     "text": [
      "Finished Training\n"
     ]
    },
    {
     "name": "stderr",
     "output_type": "stream",
     "text": [
      "\n"
     ]
    }
   ],
   "source": [
    "from tqdm import tqdm\n",
    "from norse.torch import LIFState\n",
    "\n",
    "path = \"random_reconnect\"\n",
    "name = f\"{path}/weights/weights_{neuron_parameters.alpha}_N_{hidden_size}_without_square_classic\"\n",
    "running_loss = 0\n",
    "sigma = 0\n",
    "for i in tqdm(range(number_of_epochs)):\n",
    "    if i == 500:\n",
    "        sigma = 0.2\n",
    "    if i == 1000:\n",
    "        sigma = 0.5\n",
    "    inputs, target_outputs = Task.dataset(number_of_tasks)\n",
    "\n",
    "    inputs[:, :, 1:3] += every_bath_generator(\n",
    "        0, sigma, inputs.shape[0], inputs.shape[1], 2\n",
    "    )\n",
    "    inputs = torch.from_numpy(inputs).type(torch.float).to(device)\n",
    "    target_outputs = torch.from_numpy(target_outputs).type(torch.float).to(device)\n",
    "    loss_mask = torch.zeros_like(target_outputs)\n",
    "    mask_indexes_signes = torch.where(target_outputs[:, :, 0] == 1)\n",
    "    mask_indexes_zeros = torch.where(target_outputs[:, :, 0] == 0)\n",
    "    loss_mask[mask_indexes_signes[0], mask_indexes_signes[1], :] = 0.1\n",
    "    loss_mask[mask_indexes_zeros[0], mask_indexes_zeros[1], :] = 1\n",
    "    optimizer.zero_grad()\n",
    "    init_state = LIFState(\n",
    "        torch.zeros(batch_size, hidden_size).to(device),\n",
    "        torch.rand(batch_size, hidden_size).to(device),\n",
    "        torch.zeros(batch_size, hidden_size).to(device),\n",
    "    )\n",
    "    # forward + backward + optimize\n",
    "    outputs, _, state = model(\n",
    "        inputs,\n",
    "        init_state,\n",
    "    )\n",
    "\n",
    "    loss = criterion(outputs, target_outputs, loss_mask, state)\n",
    "    loss.backward()\n",
    "    optimizer.step()\n",
    "    #if i < 15:\n",
    "    #    reconnect_low_weights()\n",
    "    # print statistics\n",
    "    running_loss = loss.item()\n",
    "    if True:\n",
    "        with open(f\"{path}/log_multy.txt\", \"a\") as f:\n",
    "            f.write(\"epoch: {:d} loss: {:0.5f}\\n\".format(i + 1, running_loss / 10))\n",
    "        running_loss = 0.0\n",
    "        with torch.no_grad():\n",
    "            torch.save(\n",
    "                model.state_dict(),\n",
    "                name + f\"_{i}_\",\n",
    "            )\n",
    "    if True:\n",
    "\n",
    "        result = 0\n",
    "        for j in range(20):\n",
    "            try:\n",
    "                del inputs\n",
    "            except:\n",
    "                pass\n",
    "            try:\n",
    "                del target_outputs\n",
    "            except:\n",
    "                pass\n",
    "            try:\n",
    "                del outputs\n",
    "            except:\n",
    "                pass\n",
    "            torch.cuda.empty_cache()\n",
    "            inputs, target_outputs = Task.dataset(1, delay_between=0)\n",
    "            inputs[:, :, 1:3] += every_bath_generator(\n",
    "                0, 0.01, inputs.shape[0], inputs.shape[1], 2\n",
    "            )\n",
    "            inputs = torch.from_numpy(inputs).type(torch.float).to(device)\n",
    "            target_outputs = (\n",
    "                torch.from_numpy(target_outputs).type(torch.float).to(device)\n",
    "            )\n",
    "            outputs = model(\n",
    "                inputs,\n",
    "                init_state,\n",
    "            )[0]\n",
    "            type_tasks = list(\n",
    "                np.where(inputs[-1, :, 3:].detach().cpu().numpy() == 1)[1]\n",
    "            )\n",
    "            answers = can.run(\n",
    "                target_outputs[50:, :, 0].cpu(),\n",
    "                outputs[50:, :, 0].cpu(),\n",
    "                target_outputs[50:, :, 1:].cpu(),\n",
    "                outputs[50:, :, 1:].cpu(),\n",
    "                type_tasks,\n",
    "            )\n",
    "            result += answers\n",
    "\n",
    "        accuracy = result / batch_size / 20 * 100\n",
    "        with open(f\"{path}/accuracy_multy_classic.txt\", \"a\") as f:\n",
    "            f.write(f\"ecpoch = {i}; correct/all = {accuracy}\\n\")\n",
    "    try:\n",
    "        del inputs\n",
    "    except:\n",
    "        pass\n",
    "    try:\n",
    "        del target_outputs\n",
    "    except:\n",
    "        pass\n",
    "    try:\n",
    "        del outputs\n",
    "        # del states\n",
    "    except:\n",
    "        pass\n",
    "    # if i % 5 == 4:\n",
    "    # check_mean_fr()\n",
    "    torch.cuda.empty_cache()\n",
    "print(\"Finished Training\")"
   ]
  },
  {
   "cell_type": "code",
   "execution_count": 29,
   "metadata": {
    "collapsed": false,
    "pycharm": {
     "is_executing": true,
     "name": "#%%\n"
    }
   },
   "outputs": [],
   "source": [
    "w_rec = torch.clone(initial_parameters_reccurent).detach().cpu()"
   ]
  },
  {
   "cell_type": "code",
   "execution_count": 30,
   "metadata": {
    "collapsed": false,
    "pycharm": {
     "is_executing": true,
     "name": "#%%\n"
    }
   },
   "outputs": [
    {
     "data": {
      "text/plain": [
       "[<matplotlib.lines.Line2D at 0x1a4c2d55df0>]"
      ]
     },
     "execution_count": 30,
     "metadata": {},
     "output_type": "execute_result"
    },
    {
     "data": {
      "image/png": "[encoded data removed]",
      "text/plain": [
       "<Figure size 432x288 with 1 Axes>"
      ]
     },
     "metadata": {
      "needs_background": "light"
     },
     "output_type": "display_data"
    }
   ],
   "source": [
    "plt.plot(torch.sort(w_rec.sum(axis=0)).values)\n",
    "plt.plot(torch.sort(w_rec.sum(axis=1)).values)"
   ]
  },
  {
   "cell_type": "code",
   "execution_count": 31,
   "metadata": {
    "collapsed": false,
    "pycharm": {
     "is_executing": true,
     "name": "#%%\n"
    }
   },
   "outputs": [
    {
     "data": {
      "text/plain": [
       "torch.return_types.sort(\n",
       "values=tensor([-11.2759, -10.9267, -10.8162, -10.4178, -10.2830, -10.2767, -10.0790,\n",
       "         -9.1899,  -8.9822,  -8.8892,  -8.8694,  -8.8569,  -8.8162,  -8.7825,\n",
       "         -8.6612,  -8.5264,  -8.4509,  -8.4196,  -8.3216,  -8.2269,  -8.2166,\n",
       "         -8.2163,  -8.1928,  -8.0366,  -7.8631,  -7.8626,  -7.7634,  -7.7626,\n",
       "         -7.7515,  -7.7479,  -7.7171,  -7.6368,  -7.6093,  -7.6039,  -7.5771,\n",
       "         -7.5712,  -7.5598,  -7.4789,  -7.4080,  -7.3534,  -7.3462,  -7.3360,\n",
       "         -7.3314,  -7.3243,  -7.3098,  -7.2583,  -7.2141,  -7.2006,  -7.1801,\n",
       "         -7.1558,  -7.1388,  -7.1184,  -7.0981,  -7.0865,  -7.0604,  -7.0187,\n",
       "         -7.0088,  -6.9938,  -6.9759,  -6.9679,  -6.8562,  -6.8306,  -6.7991,\n",
       "         -6.7712,  -6.7039,  -6.6967,  -6.6810,  -6.6353,  -6.6092,  -6.5909,\n",
       "         -6.5570,  -6.5319,  -6.5248,  -6.5102,  -6.5089,  -6.5074,  -6.5055,\n",
       "         -6.4815,  -6.4611,  -6.4606,  -6.4566,  -6.4533,  -6.4112,  -6.3920,\n",
       "         -6.3910,  -6.3909,  -6.3796,  -6.3757,  -6.3494,  -6.3479,  -6.2803,\n",
       "         -6.2367,  -6.2274,  -6.2053,  -6.1942,  -6.1884,  -6.1778,  -6.1732,\n",
       "         -6.1709,  -6.1704,  -6.1548,  -6.1222,  -6.1118,  -6.1075,  -6.0291,\n",
       "         -6.0285,  -6.0058,  -6.0027,  -5.9677,  -5.9406,  -5.9352,  -5.8776,\n",
       "         -5.8468,  -5.8300,  -5.8182,  -5.8107,  -5.7773,  -5.7674,  -5.7667,\n",
       "         -5.7655,  -5.7483,  -5.7181,  -5.7089,  -5.7071,  -5.6939,  -5.6881,\n",
       "         -5.6535,  -5.6521,  -5.6354,  -5.6132,  -5.5371,  -5.5264,  -5.5159,\n",
       "         -5.4731,  -5.4653,  -5.4616,  -5.4589,  -5.4197,  -5.3586,  -5.3365,\n",
       "         -5.2924,  -5.2754,  -5.2673,  -5.2211,  -5.2136,  -5.1949,  -5.1905,\n",
       "         -5.1896,  -5.1737,  -5.1518,  -5.1484,  -5.1372,  -5.1268,  -5.1168,\n",
       "         -5.1089,  -5.0326,  -4.9639,  -4.9288,  -4.8879,  -4.8819,  -4.8586,\n",
       "         -4.8568,  -4.8270,  -4.8171,  -4.7660,  -4.6833,  -4.6719,  -4.6718,\n",
       "         -4.6446,  -4.6399,  -4.6110,  -4.6069,  -4.5884,  -4.5712,  -4.5687,\n",
       "         -4.5653,  -4.5541,  -4.5525,  -4.4783,  -4.4695,  -4.4614,  -4.4546,\n",
       "         -4.4187,  -4.4162,  -4.4067,  -4.3977,  -4.3949,  -4.3432,  -4.3095,\n",
       "         -4.2101,  -4.2071,  -4.2019,  -4.0543,  -4.0275,  -4.0223,  -4.0167,\n",
       "         -4.0093,  -3.9424,  -3.9358,  -3.9298,  -3.9179,  -3.8832,  -3.8450,\n",
       "         -3.8059,  -3.8034,  -3.7959,  -3.7698,  -3.7583,  -3.7491,  -3.7467,\n",
       "         -3.7357,  -3.7262,  -3.7111,  -3.6909,  -3.6893,  -3.5920,  -3.5343,\n",
       "         -3.4933,  -3.4860,  -3.4568,  -3.4180,  -3.3385,  -3.2709,  -3.2683,\n",
       "         -3.2207,  -3.2017,  -3.1644,  -3.1341,  -3.1024,  -3.0984,  -3.0368,\n",
       "         -2.9716,  -2.9272,  -2.8717,  -2.8060,  -2.7031,  -2.6966,  -2.6748,\n",
       "         -2.6650,  -2.5621,  -2.4964,  -2.4842,  -2.3054,  -2.2952,  -2.1257,\n",
       "         -2.0447,  -1.9048,  -1.8849,  -1.7526,  -1.5147,  -1.5131,  -1.4584,\n",
       "         -1.4448,  -1.3986,  -0.7900,   0.6274]),\n",
       "indices=tensor([220, 152,  29,  76, 250, 217,  90, 119, 240,  10, 110,  50,  66, 193,\n",
       "         32, 121, 204,  56, 138, 177, 202, 253,  83,  23, 116,  30, 165, 221,\n",
       "         40, 246,  96,   8, 143, 247, 120, 111, 182,  94,  51, 228, 159, 144,\n",
       "        227, 212, 148, 208, 113, 146, 105, 108,  43, 215,  62,  14,  36, 118,\n",
       "        200,  42,  58, 171, 169, 179, 156, 175,  48,  71,   2, 248, 244,  22,\n",
       "         12, 213,  19, 234, 124, 145, 243, 126, 136, 185,  69,  54, 114,   7,\n",
       "         34, 161, 163,  20, 218, 194,   5, 162,  84, 238, 207, 209,  98, 127,\n",
       "        140,  88, 241, 201,   0, 149,   9,  73,  52, 100, 164, 242, 192, 210,\n",
       "        172, 166, 134, 211,  70, 132, 139,  39,  95, 117,   6,  46, 122, 191,\n",
       "        187, 153,  18,  27,  17,  85, 176,  25, 254,  67, 160,  41,  81, 214,\n",
       "         47,  99, 251,  38, 245, 167, 206, 239,  53, 232, 115,  13, 233,  93,\n",
       "        107,  49,  59,  86, 112, 196, 205, 183, 231,  87,  35,   1, 173,  75,\n",
       "         15, 219, 106,  78,  72, 170,  21,  74, 109, 255,  89, 151, 130, 224,\n",
       "        198, 195, 235, 131, 237, 101, 178,  45,  31, 141,  60,  80, 125, 186,\n",
       "          4, 216, 252,  91,  92, 174, 184,  24,  79,  64, 249, 229,  44, 147,\n",
       "         77, 133, 236,  16, 190, 230, 188,  55, 203,  33,  37, 181, 197, 155,\n",
       "        150, 168, 128, 157, 137, 199, 154, 135, 102, 180,  28,  26, 142,  11,\n",
       "         68, 123, 189,  82, 103, 223,  63, 226,   3, 104,  57, 129, 225,  97,\n",
       "         61,  65, 158, 222]))"
      ]
     },
     "execution_count": 31,
     "metadata": {},
     "output_type": "execute_result"
    }
   ],
   "source": [
    "torch.sort(w_rec.sum(axis=0))"
   ]
  },
  {
   "cell_type": "code",
   "execution_count": null,
   "metadata": {
    "collapsed": false,
    "pycharm": {
     "is_executing": true,
     "name": "#%%\n"
    }
   },
   "outputs": [],
   "source": []
  }
 ],
 "metadata": {
  "kernelspec": {
   "display_name": "Python 3",
   "language": "python",
   "name": "python3"
  },
  "language_info": {
   "codemirror_mode": {
    "name": "ipython",
    "version": 2
   },
   "file_extension": ".py",
   "mimetype": "text/x-python",
   "name": "python",
   "nbconvert_exporter": "python",
   "pygments_lexer": "ipython2",
   "version": "2.7.6"
  }
 },
 "nbformat": 4,
 "nbformat_minor": 0
}